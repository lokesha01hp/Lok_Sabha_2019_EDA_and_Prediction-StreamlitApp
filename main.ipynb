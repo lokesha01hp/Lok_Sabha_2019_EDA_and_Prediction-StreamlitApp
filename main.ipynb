{
 "cells": [
  {
   "cell_type": "code",
   "execution_count": 44,
   "id": "aae223ca",
   "metadata": {},
   "outputs": [
    {
     "data": {
      "text/html": [
       "        <script type=\"text/javascript\">\n",
       "        window.PlotlyConfig = {MathJaxConfig: 'local'};\n",
       "        if (window.MathJax && window.MathJax.Hub && window.MathJax.Hub.Config) {window.MathJax.Hub.Config({SVG: {font: \"STIX-Web\"}});}\n",
       "        </script>\n",
       "        <script type=\"module\">import \"https://cdn.plot.ly/plotly-3.0.1.min\"</script>\n",
       "        "
      ]
     },
     "metadata": {},
     "output_type": "display_data"
    },
    {
     "data": {
      "text/html": [
       "        <script type=\"text/javascript\">\n",
       "        window.PlotlyConfig = {MathJaxConfig: 'local'};\n",
       "        if (window.MathJax && window.MathJax.Hub && window.MathJax.Hub.Config) {window.MathJax.Hub.Config({SVG: {font: \"STIX-Web\"}});}\n",
       "        </script>\n",
       "        <script type=\"module\">import \"https://cdn.plot.ly/plotly-3.0.1.min\"</script>\n",
       "        "
      ]
     },
     "metadata": {},
     "output_type": "display_data"
    }
   ],
   "source": [
    "#Importing the dataset\n",
    "import numpy as np \n",
    "import pandas as pd \n",
    "import os, sys\n",
    "from datetime import datetime, timedelta\n",
    "from collections import defaultdict\n",
    "from urllib.request import urlopen\n",
    "import json\n",
    "import plotly.graph_objects as go\n",
    "from plotly.subplots import make_subplots\n",
    "from ipywidgets import widgets\n",
    "import geopandas as gpd\n",
    "import matplotlib.pyplot as plt\n",
    "import seaborn as sns\n",
    "%matplotlib inline\n",
    "import random\n",
    "from plotly.offline import download_plotlyjs, init_notebook_mode, plot, iplot\n",
    "import plotly.express as px\n",
    "import plotly.graph_objects as go\n",
    "import plotly.figure_factory as ff\n",
    "from plotly.colors import n_colors\n",
    "from plotly.subplots import make_subplots\n",
    "init_notebook_mode(connected=True)\n",
    "import cufflinks as cf\n",
    "cf.go_offline()\n",
    "from wordcloud import WordCloud , ImageColorGenerator\n",
    "from PIL import Image\n",
    "from sklearn.utils import resample\n",
    "from sklearn.ensemble import RandomForestClassifier\n",
    "from sklearn.model_selection import cross_val_score\n"
   ]
  },
  {
   "cell_type": "code",
   "execution_count": 3,
   "id": "0aadfe6b",
   "metadata": {},
   "outputs": [
    {
     "name": "stdout",
     "output_type": "stream",
     "text": [
      "/EDA_Assignment/datasets\\India States\\Igismap\\Indian_States.dbf\n",
      "/EDA_Assignment/datasets\\India States\\Igismap\\Indian_States.prj\n",
      "/EDA_Assignment/datasets\\India States\\Igismap\\Indian_States.shp\n",
      "/EDA_Assignment/datasets\\India States\\Igismap\\Indian_States.shx\n",
      "/EDA_Assignment/datasets\\Indian Candidates for General Election 2019\\LS_2.0.csv\n"
     ]
    }
   ],
   "source": [
    "import os\n",
    "for dirname, _, filenames in os.walk('/EDA_Assignment/datasets'):\n",
    "    for filename in filenames:\n",
    "        print(os.path.join(dirname, filename))"
   ]
  },
  {
   "cell_type": "code",
   "execution_count": 4,
   "id": "cde91434",
   "metadata": {},
   "outputs": [
    {
     "data": {
      "text/html": [
       "<div>\n",
       "<style scoped>\n",
       "    .dataframe tbody tr th:only-of-type {\n",
       "        vertical-align: middle;\n",
       "    }\n",
       "\n",
       "    .dataframe tbody tr th {\n",
       "        vertical-align: top;\n",
       "    }\n",
       "\n",
       "    .dataframe thead th {\n",
       "        text-align: right;\n",
       "    }\n",
       "</style>\n",
       "<table border=\"1\" class=\"dataframe\">\n",
       "  <thead>\n",
       "    <tr style=\"text-align: right;\">\n",
       "      <th></th>\n",
       "      <th>STATE</th>\n",
       "      <th>CONSTITUENCY</th>\n",
       "      <th>NAME</th>\n",
       "      <th>WINNER</th>\n",
       "      <th>PARTY</th>\n",
       "      <th>SYMBOL</th>\n",
       "      <th>GENDER</th>\n",
       "      <th>CRIMINAL\\nCASES</th>\n",
       "      <th>AGE</th>\n",
       "      <th>CATEGORY</th>\n",
       "      <th>EDUCATION</th>\n",
       "      <th>ASSETS</th>\n",
       "      <th>LIABILITIES</th>\n",
       "      <th>GENERAL\\nVOTES</th>\n",
       "      <th>POSTAL\\nVOTES</th>\n",
       "      <th>TOTAL\\nVOTES</th>\n",
       "      <th>OVER TOTAL ELECTORS \\nIN CONSTITUENCY</th>\n",
       "      <th>OVER TOTAL VOTES POLLED \\nIN CONSTITUENCY</th>\n",
       "      <th>TOTAL ELECTORS</th>\n",
       "    </tr>\n",
       "  </thead>\n",
       "  <tbody>\n",
       "    <tr>\n",
       "      <th>0</th>\n",
       "      <td>Telangana</td>\n",
       "      <td>ADILABAD</td>\n",
       "      <td>SOYAM BAPU RAO</td>\n",
       "      <td>1</td>\n",
       "      <td>BJP</td>\n",
       "      <td>Lotus</td>\n",
       "      <td>MALE</td>\n",
       "      <td>52</td>\n",
       "      <td>52.0</td>\n",
       "      <td>ST</td>\n",
       "      <td>12th Pass</td>\n",
       "      <td>Rs 30,99,414\\n ~ 30 Lacs+</td>\n",
       "      <td>Rs 2,31,450\\n ~ 2 Lacs+</td>\n",
       "      <td>376892</td>\n",
       "      <td>482</td>\n",
       "      <td>377374</td>\n",
       "      <td>25.330684</td>\n",
       "      <td>35.468248</td>\n",
       "      <td>1489790</td>\n",
       "    </tr>\n",
       "    <tr>\n",
       "      <th>1</th>\n",
       "      <td>Telangana</td>\n",
       "      <td>ADILABAD</td>\n",
       "      <td>Godam Nagesh</td>\n",
       "      <td>0</td>\n",
       "      <td>TRS</td>\n",
       "      <td>Car</td>\n",
       "      <td>MALE</td>\n",
       "      <td>0</td>\n",
       "      <td>54.0</td>\n",
       "      <td>ST</td>\n",
       "      <td>Post Graduate</td>\n",
       "      <td>Rs 1,84,77,888\\n ~ 1 Crore+</td>\n",
       "      <td>Rs 8,47,000\\n ~ 8 Lacs+</td>\n",
       "      <td>318665</td>\n",
       "      <td>149</td>\n",
       "      <td>318814</td>\n",
       "      <td>21.399929</td>\n",
       "      <td>29.964370</td>\n",
       "      <td>1489790</td>\n",
       "    </tr>\n",
       "    <tr>\n",
       "      <th>2</th>\n",
       "      <td>Telangana</td>\n",
       "      <td>ADILABAD</td>\n",
       "      <td>RATHOD RAMESH</td>\n",
       "      <td>0</td>\n",
       "      <td>INC</td>\n",
       "      <td>Hand</td>\n",
       "      <td>MALE</td>\n",
       "      <td>3</td>\n",
       "      <td>52.0</td>\n",
       "      <td>ST</td>\n",
       "      <td>12th Pass</td>\n",
       "      <td>Rs 3,64,91,000\\n ~ 3 Crore+</td>\n",
       "      <td>Rs 1,53,00,000\\n ~ 1 Crore+</td>\n",
       "      <td>314057</td>\n",
       "      <td>181</td>\n",
       "      <td>314238</td>\n",
       "      <td>21.092771</td>\n",
       "      <td>29.534285</td>\n",
       "      <td>1489790</td>\n",
       "    </tr>\n",
       "    <tr>\n",
       "      <th>3</th>\n",
       "      <td>Telangana</td>\n",
       "      <td>ADILABAD</td>\n",
       "      <td>NOTA</td>\n",
       "      <td>0</td>\n",
       "      <td>NOTA</td>\n",
       "      <td>NaN</td>\n",
       "      <td>NaN</td>\n",
       "      <td>NaN</td>\n",
       "      <td>NaN</td>\n",
       "      <td>NaN</td>\n",
       "      <td>NaN</td>\n",
       "      <td>NaN</td>\n",
       "      <td>NaN</td>\n",
       "      <td>13030</td>\n",
       "      <td>6</td>\n",
       "      <td>13036</td>\n",
       "      <td>0.875023</td>\n",
       "      <td>1.225214</td>\n",
       "      <td>1489790</td>\n",
       "    </tr>\n",
       "    <tr>\n",
       "      <th>4</th>\n",
       "      <td>Uttar Pradesh</td>\n",
       "      <td>AGRA</td>\n",
       "      <td>Satyapal Singh Baghel</td>\n",
       "      <td>1</td>\n",
       "      <td>BJP</td>\n",
       "      <td>Lotus</td>\n",
       "      <td>MALE</td>\n",
       "      <td>5</td>\n",
       "      <td>58.0</td>\n",
       "      <td>SC</td>\n",
       "      <td>Doctorate</td>\n",
       "      <td>Rs 7,42,74,036\\n ~ 7 Crore+</td>\n",
       "      <td>Rs 86,06,522\\n ~ 86 Lacs+</td>\n",
       "      <td>644459</td>\n",
       "      <td>2416</td>\n",
       "      <td>646875</td>\n",
       "      <td>33.383823</td>\n",
       "      <td>56.464615</td>\n",
       "      <td>1937690</td>\n",
       "    </tr>\n",
       "  </tbody>\n",
       "</table>\n",
       "</div>"
      ],
      "text/plain": [
       "           STATE CONSTITUENCY                   NAME  WINNER PARTY SYMBOL  \\\n",
       "0      Telangana     ADILABAD         SOYAM BAPU RAO       1   BJP  Lotus   \n",
       "1      Telangana     ADILABAD           Godam Nagesh       0   TRS    Car   \n",
       "2      Telangana     ADILABAD          RATHOD RAMESH       0   INC   Hand   \n",
       "3      Telangana     ADILABAD                   NOTA       0  NOTA    NaN   \n",
       "4  Uttar Pradesh         AGRA  Satyapal Singh Baghel       1   BJP  Lotus   \n",
       "\n",
       "  GENDER CRIMINAL\\nCASES   AGE CATEGORY      EDUCATION  \\\n",
       "0   MALE              52  52.0       ST      12th Pass   \n",
       "1   MALE               0  54.0       ST  Post Graduate   \n",
       "2   MALE               3  52.0       ST      12th Pass   \n",
       "3    NaN             NaN   NaN      NaN            NaN   \n",
       "4   MALE               5  58.0       SC      Doctorate   \n",
       "\n",
       "                        ASSETS                  LIABILITIES  GENERAL\\nVOTES  \\\n",
       "0    Rs 30,99,414\\n ~ 30 Lacs+      Rs 2,31,450\\n ~ 2 Lacs+          376892   \n",
       "1  Rs 1,84,77,888\\n ~ 1 Crore+      Rs 8,47,000\\n ~ 8 Lacs+          318665   \n",
       "2  Rs 3,64,91,000\\n ~ 3 Crore+  Rs 1,53,00,000\\n ~ 1 Crore+          314057   \n",
       "3                          NaN                          NaN           13030   \n",
       "4  Rs 7,42,74,036\\n ~ 7 Crore+    Rs 86,06,522\\n ~ 86 Lacs+          644459   \n",
       "\n",
       "   POSTAL\\nVOTES  TOTAL\\nVOTES  OVER TOTAL ELECTORS \\nIN CONSTITUENCY  \\\n",
       "0            482        377374                              25.330684   \n",
       "1            149        318814                              21.399929   \n",
       "2            181        314238                              21.092771   \n",
       "3              6         13036                               0.875023   \n",
       "4           2416        646875                              33.383823   \n",
       "\n",
       "   OVER TOTAL VOTES POLLED \\nIN CONSTITUENCY  TOTAL ELECTORS  \n",
       "0                                  35.468248         1489790  \n",
       "1                                  29.964370         1489790  \n",
       "2                                  29.534285         1489790  \n",
       "3                                   1.225214         1489790  \n",
       "4                                  56.464615         1937690  "
      ]
     },
     "execution_count": 4,
     "metadata": {},
     "output_type": "execute_result"
    }
   ],
   "source": [
    "#dataset preview\n",
    "vote=pd.read_csv('datasets/Indian Candidates for General Election 2019/LS_2.0.csv')\n",
    "vote.head()"
   ]
  },
  {
   "cell_type": "markdown",
   "id": "9ce2f568",
   "metadata": {},
   "source": [
    "#### Data Preprocessing Methods"
   ]
  },
  {
   "cell_type": "code",
   "execution_count": 5,
   "metadata": {},
   "outputs": [
    {
     "data": {
      "text/plain": [
       "STATE                                          0\n",
       "CONSTITUENCY                                   0\n",
       "NAME                                           0\n",
       "WINNER                                         0\n",
       "PARTY                                          0\n",
       "SYMBOL                                       245\n",
       "GENDER                                       245\n",
       "CRIMINAL\\nCASES                              245\n",
       "AGE                                          245\n",
       "CATEGORY                                     245\n",
       "EDUCATION                                    245\n",
       "ASSETS                                       245\n",
       "LIABILITIES                                  245\n",
       "GENERAL\\nVOTES                                 0\n",
       "POSTAL\\nVOTES                                  0\n",
       "TOTAL\\nVOTES                                   0\n",
       "OVER TOTAL ELECTORS \\nIN CONSTITUENCY          0\n",
       "OVER TOTAL VOTES POLLED \\nIN CONSTITUENCY      0\n",
       "TOTAL ELECTORS                                 0\n",
       "dtype: int64"
      ]
     },
     "execution_count": 5,
     "metadata": {},
     "output_type": "execute_result"
    }
   ],
   "source": [
    "#Identifying the Null values in the columns\n",
    "vote.isnull().sum()"
   ]
  },
  {
   "cell_type": "code",
   "execution_count": 6,
   "id": "ca104581",
   "metadata": {},
   "outputs": [
    {
     "data": {
      "text/plain": [
       "array(['NOTA'], dtype=object)"
      ]
     },
     "execution_count": 6,
     "metadata": {},
     "output_type": "execute_result"
    }
   ],
   "source": [
    "#Identifying the null entries in the data\n",
    "vote[vote.SYMBOL.isnull()==True]['NAME'].unique()"
   ]
  },
  {
   "cell_type": "code",
   "execution_count": 7,
   "id": "baed83a6",
   "metadata": {},
   "outputs": [
    {
     "data": {
      "text/html": [
       "<div>\n",
       "<style scoped>\n",
       "    .dataframe tbody tr th:only-of-type {\n",
       "        vertical-align: middle;\n",
       "    }\n",
       "\n",
       "    .dataframe tbody tr th {\n",
       "        vertical-align: top;\n",
       "    }\n",
       "\n",
       "    .dataframe thead th {\n",
       "        text-align: right;\n",
       "    }\n",
       "</style>\n",
       "<table border=\"1\" class=\"dataframe\">\n",
       "  <thead>\n",
       "    <tr style=\"text-align: right;\">\n",
       "      <th></th>\n",
       "      <th>STATE</th>\n",
       "      <th>CONSTITUENCY</th>\n",
       "      <th>NAME</th>\n",
       "      <th>WINNER</th>\n",
       "      <th>PARTY</th>\n",
       "      <th>SYMBOL</th>\n",
       "      <th>GENDER</th>\n",
       "      <th>CRIMINAL\\nCASES</th>\n",
       "      <th>AGE</th>\n",
       "      <th>CATEGORY</th>\n",
       "      <th>EDUCATION</th>\n",
       "      <th>ASSETS</th>\n",
       "      <th>LIABILITIES</th>\n",
       "      <th>GENERAL\\nVOTES</th>\n",
       "      <th>POSTAL\\nVOTES</th>\n",
       "      <th>TOTAL\\nVOTES</th>\n",
       "      <th>OVER TOTAL ELECTORS \\nIN CONSTITUENCY</th>\n",
       "      <th>OVER TOTAL VOTES POLLED \\nIN CONSTITUENCY</th>\n",
       "      <th>TOTAL ELECTORS</th>\n",
       "    </tr>\n",
       "  </thead>\n",
       "  <tbody>\n",
       "    <tr>\n",
       "      <th>0</th>\n",
       "      <td>Telangana</td>\n",
       "      <td>ADILABAD</td>\n",
       "      <td>SOYAM BAPU RAO</td>\n",
       "      <td>1</td>\n",
       "      <td>BJP</td>\n",
       "      <td>Lotus</td>\n",
       "      <td>MALE</td>\n",
       "      <td>52</td>\n",
       "      <td>52.0</td>\n",
       "      <td>ST</td>\n",
       "      <td>12th Pass</td>\n",
       "      <td>3099414</td>\n",
       "      <td>231450</td>\n",
       "      <td>376892</td>\n",
       "      <td>482</td>\n",
       "      <td>377374</td>\n",
       "      <td>25.330684</td>\n",
       "      <td>35.468248</td>\n",
       "      <td>1489790</td>\n",
       "    </tr>\n",
       "    <tr>\n",
       "      <th>1</th>\n",
       "      <td>Telangana</td>\n",
       "      <td>ADILABAD</td>\n",
       "      <td>Godam Nagesh</td>\n",
       "      <td>0</td>\n",
       "      <td>TRS</td>\n",
       "      <td>Car</td>\n",
       "      <td>MALE</td>\n",
       "      <td>0</td>\n",
       "      <td>54.0</td>\n",
       "      <td>ST</td>\n",
       "      <td>Post Graduate</td>\n",
       "      <td>18477888</td>\n",
       "      <td>847000</td>\n",
       "      <td>318665</td>\n",
       "      <td>149</td>\n",
       "      <td>318814</td>\n",
       "      <td>21.399929</td>\n",
       "      <td>29.964370</td>\n",
       "      <td>1489790</td>\n",
       "    </tr>\n",
       "    <tr>\n",
       "      <th>2</th>\n",
       "      <td>Telangana</td>\n",
       "      <td>ADILABAD</td>\n",
       "      <td>RATHOD RAMESH</td>\n",
       "      <td>0</td>\n",
       "      <td>INC</td>\n",
       "      <td>Hand</td>\n",
       "      <td>MALE</td>\n",
       "      <td>3</td>\n",
       "      <td>52.0</td>\n",
       "      <td>ST</td>\n",
       "      <td>12th Pass</td>\n",
       "      <td>36491000</td>\n",
       "      <td>15300000</td>\n",
       "      <td>314057</td>\n",
       "      <td>181</td>\n",
       "      <td>314238</td>\n",
       "      <td>21.092771</td>\n",
       "      <td>29.534285</td>\n",
       "      <td>1489790</td>\n",
       "    </tr>\n",
       "    <tr>\n",
       "      <th>3</th>\n",
       "      <td>Telangana</td>\n",
       "      <td>ADILABAD</td>\n",
       "      <td>NOTA</td>\n",
       "      <td>0</td>\n",
       "      <td>NOTA</td>\n",
       "      <td>NaN</td>\n",
       "      <td>NaN</td>\n",
       "      <td>NaN</td>\n",
       "      <td>NaN</td>\n",
       "      <td>NaN</td>\n",
       "      <td>NaN</td>\n",
       "      <td>0</td>\n",
       "      <td>0</td>\n",
       "      <td>13030</td>\n",
       "      <td>6</td>\n",
       "      <td>13036</td>\n",
       "      <td>0.875023</td>\n",
       "      <td>1.225214</td>\n",
       "      <td>1489790</td>\n",
       "    </tr>\n",
       "    <tr>\n",
       "      <th>4</th>\n",
       "      <td>Uttar Pradesh</td>\n",
       "      <td>AGRA</td>\n",
       "      <td>Satyapal Singh Baghel</td>\n",
       "      <td>1</td>\n",
       "      <td>BJP</td>\n",
       "      <td>Lotus</td>\n",
       "      <td>MALE</td>\n",
       "      <td>5</td>\n",
       "      <td>58.0</td>\n",
       "      <td>SC</td>\n",
       "      <td>Doctorate</td>\n",
       "      <td>74274036</td>\n",
       "      <td>8606522</td>\n",
       "      <td>644459</td>\n",
       "      <td>2416</td>\n",
       "      <td>646875</td>\n",
       "      <td>33.383823</td>\n",
       "      <td>56.464615</td>\n",
       "      <td>1937690</td>\n",
       "    </tr>\n",
       "  </tbody>\n",
       "</table>\n",
       "</div>"
      ],
      "text/plain": [
       "           STATE CONSTITUENCY                   NAME  WINNER PARTY SYMBOL  \\\n",
       "0      Telangana     ADILABAD         SOYAM BAPU RAO       1   BJP  Lotus   \n",
       "1      Telangana     ADILABAD           Godam Nagesh       0   TRS    Car   \n",
       "2      Telangana     ADILABAD          RATHOD RAMESH       0   INC   Hand   \n",
       "3      Telangana     ADILABAD                   NOTA       0  NOTA    NaN   \n",
       "4  Uttar Pradesh         AGRA  Satyapal Singh Baghel       1   BJP  Lotus   \n",
       "\n",
       "  GENDER CRIMINAL\\nCASES   AGE CATEGORY      EDUCATION    ASSETS LIABILITIES  \\\n",
       "0   MALE              52  52.0       ST      12th Pass   3099414      231450   \n",
       "1   MALE               0  54.0       ST  Post Graduate  18477888      847000   \n",
       "2   MALE               3  52.0       ST      12th Pass  36491000    15300000   \n",
       "3    NaN             NaN   NaN      NaN            NaN         0           0   \n",
       "4   MALE               5  58.0       SC      Doctorate  74274036     8606522   \n",
       "\n",
       "   GENERAL\\nVOTES  POSTAL\\nVOTES  TOTAL\\nVOTES  \\\n",
       "0          376892            482        377374   \n",
       "1          318665            149        318814   \n",
       "2          314057            181        314238   \n",
       "3           13030              6         13036   \n",
       "4          644459           2416        646875   \n",
       "\n",
       "   OVER TOTAL ELECTORS \\nIN CONSTITUENCY  \\\n",
       "0                              25.330684   \n",
       "1                              21.399929   \n",
       "2                              21.092771   \n",
       "3                               0.875023   \n",
       "4                              33.383823   \n",
       "\n",
       "   OVER TOTAL VOTES POLLED \\nIN CONSTITUENCY  TOTAL ELECTORS  \n",
       "0                                  35.468248         1489790  \n",
       "1                                  29.964370         1489790  \n",
       "2                                  29.534285         1489790  \n",
       "3                                   1.225214         1489790  \n",
       "4                                  56.464615         1937690  "
      ]
     },
     "execution_count": 7,
     "metadata": {},
     "output_type": "execute_result"
    }
   ],
   "source": [
    "# Cleaning up the Assets and Liabilities columns\n",
    "def value_cleaner(x):\n",
    "    try:\n",
    "        str_temp = (x.split('Rs')[1].split('\\n')[0].strip())\n",
    "        str_temp_2 = ''\n",
    "        for i in str_temp.split(\",\"):\n",
    "            str_temp_2 = str_temp_2+i\n",
    "        return str_temp_2\n",
    "    except:\n",
    "        x = 0\n",
    "        return x\n",
    "vote['ASSETS'] = vote['ASSETS'].apply((value_cleaner))\n",
    "vote['LIABILITIES'] = vote['LIABILITIES'].apply((value_cleaner))\n",
    "vote.head()"
   ]
  },
  {
   "cell_type": "code",
   "execution_count": 8,
   "metadata": {},
   "outputs": [
    {
     "data": {
      "text/html": [
       "<div>\n",
       "<style scoped>\n",
       "    .dataframe tbody tr th:only-of-type {\n",
       "        vertical-align: middle;\n",
       "    }\n",
       "\n",
       "    .dataframe tbody tr th {\n",
       "        vertical-align: top;\n",
       "    }\n",
       "\n",
       "    .dataframe thead th {\n",
       "        text-align: right;\n",
       "    }\n",
       "</style>\n",
       "<table border=\"1\" class=\"dataframe\">\n",
       "  <thead>\n",
       "    <tr style=\"text-align: right;\">\n",
       "      <th></th>\n",
       "      <th>STATE</th>\n",
       "      <th>CONSTITUENCY</th>\n",
       "      <th>NAME</th>\n",
       "      <th>WINNER</th>\n",
       "      <th>PARTY</th>\n",
       "      <th>SYMBOL</th>\n",
       "      <th>GENDER</th>\n",
       "      <th>CRIMINAL CASES</th>\n",
       "      <th>AGE</th>\n",
       "      <th>CATEGORY</th>\n",
       "      <th>EDUCATION</th>\n",
       "      <th>ASSETS</th>\n",
       "      <th>LIABILITIES</th>\n",
       "      <th>GENERAL VOTES</th>\n",
       "      <th>POSTAL VOTES</th>\n",
       "      <th>TOTAL VOTES</th>\n",
       "      <th>OVER TOTAL ELECTORS IN CONSTITUENCY</th>\n",
       "      <th>OVER TOTAL VOTES POLLED IN CONSTITUENCY</th>\n",
       "      <th>TOTAL ELECTORS</th>\n",
       "    </tr>\n",
       "  </thead>\n",
       "  <tbody>\n",
       "    <tr>\n",
       "      <th>0</th>\n",
       "      <td>Telangana</td>\n",
       "      <td>ADILABAD</td>\n",
       "      <td>SOYAM BAPU RAO</td>\n",
       "      <td>1</td>\n",
       "      <td>BJP</td>\n",
       "      <td>Lotus</td>\n",
       "      <td>MALE</td>\n",
       "      <td>52</td>\n",
       "      <td>52.0</td>\n",
       "      <td>ST</td>\n",
       "      <td>12th Pass</td>\n",
       "      <td>3099414</td>\n",
       "      <td>231450</td>\n",
       "      <td>376892</td>\n",
       "      <td>482</td>\n",
       "      <td>377374</td>\n",
       "      <td>25.330684</td>\n",
       "      <td>35.468248</td>\n",
       "      <td>1489790</td>\n",
       "    </tr>\n",
       "    <tr>\n",
       "      <th>1</th>\n",
       "      <td>Telangana</td>\n",
       "      <td>ADILABAD</td>\n",
       "      <td>Godam Nagesh</td>\n",
       "      <td>0</td>\n",
       "      <td>TRS</td>\n",
       "      <td>Car</td>\n",
       "      <td>MALE</td>\n",
       "      <td>0</td>\n",
       "      <td>54.0</td>\n",
       "      <td>ST</td>\n",
       "      <td>Post Graduate</td>\n",
       "      <td>18477888</td>\n",
       "      <td>847000</td>\n",
       "      <td>318665</td>\n",
       "      <td>149</td>\n",
       "      <td>318814</td>\n",
       "      <td>21.399929</td>\n",
       "      <td>29.964370</td>\n",
       "      <td>1489790</td>\n",
       "    </tr>\n",
       "    <tr>\n",
       "      <th>2</th>\n",
       "      <td>Telangana</td>\n",
       "      <td>ADILABAD</td>\n",
       "      <td>RATHOD RAMESH</td>\n",
       "      <td>0</td>\n",
       "      <td>INC</td>\n",
       "      <td>Hand</td>\n",
       "      <td>MALE</td>\n",
       "      <td>3</td>\n",
       "      <td>52.0</td>\n",
       "      <td>ST</td>\n",
       "      <td>12th Pass</td>\n",
       "      <td>36491000</td>\n",
       "      <td>15300000</td>\n",
       "      <td>314057</td>\n",
       "      <td>181</td>\n",
       "      <td>314238</td>\n",
       "      <td>21.092771</td>\n",
       "      <td>29.534285</td>\n",
       "      <td>1489790</td>\n",
       "    </tr>\n",
       "    <tr>\n",
       "      <th>3</th>\n",
       "      <td>Telangana</td>\n",
       "      <td>ADILABAD</td>\n",
       "      <td>NOTA</td>\n",
       "      <td>0</td>\n",
       "      <td>NOTA</td>\n",
       "      <td>NaN</td>\n",
       "      <td>NaN</td>\n",
       "      <td>NaN</td>\n",
       "      <td>NaN</td>\n",
       "      <td>NaN</td>\n",
       "      <td>NaN</td>\n",
       "      <td>0</td>\n",
       "      <td>0</td>\n",
       "      <td>13030</td>\n",
       "      <td>6</td>\n",
       "      <td>13036</td>\n",
       "      <td>0.875023</td>\n",
       "      <td>1.225214</td>\n",
       "      <td>1489790</td>\n",
       "    </tr>\n",
       "    <tr>\n",
       "      <th>4</th>\n",
       "      <td>Uttar Pradesh</td>\n",
       "      <td>AGRA</td>\n",
       "      <td>Satyapal Singh Baghel</td>\n",
       "      <td>1</td>\n",
       "      <td>BJP</td>\n",
       "      <td>Lotus</td>\n",
       "      <td>MALE</td>\n",
       "      <td>5</td>\n",
       "      <td>58.0</td>\n",
       "      <td>SC</td>\n",
       "      <td>Doctorate</td>\n",
       "      <td>74274036</td>\n",
       "      <td>8606522</td>\n",
       "      <td>644459</td>\n",
       "      <td>2416</td>\n",
       "      <td>646875</td>\n",
       "      <td>33.383823</td>\n",
       "      <td>56.464615</td>\n",
       "      <td>1937690</td>\n",
       "    </tr>\n",
       "  </tbody>\n",
       "</table>\n",
       "</div>"
      ],
      "text/plain": [
       "           STATE CONSTITUENCY                   NAME  WINNER PARTY SYMBOL  \\\n",
       "0      Telangana     ADILABAD         SOYAM BAPU RAO       1   BJP  Lotus   \n",
       "1      Telangana     ADILABAD           Godam Nagesh       0   TRS    Car   \n",
       "2      Telangana     ADILABAD          RATHOD RAMESH       0   INC   Hand   \n",
       "3      Telangana     ADILABAD                   NOTA       0  NOTA    NaN   \n",
       "4  Uttar Pradesh         AGRA  Satyapal Singh Baghel       1   BJP  Lotus   \n",
       "\n",
       "  GENDER CRIMINAL CASES   AGE CATEGORY      EDUCATION    ASSETS LIABILITIES  \\\n",
       "0   MALE             52  52.0       ST      12th Pass   3099414      231450   \n",
       "1   MALE              0  54.0       ST  Post Graduate  18477888      847000   \n",
       "2   MALE              3  52.0       ST      12th Pass  36491000    15300000   \n",
       "3    NaN            NaN   NaN      NaN            NaN         0           0   \n",
       "4   MALE              5  58.0       SC      Doctorate  74274036     8606522   \n",
       "\n",
       "   GENERAL VOTES  POSTAL VOTES  TOTAL VOTES  \\\n",
       "0         376892           482       377374   \n",
       "1         318665           149       318814   \n",
       "2         314057           181       314238   \n",
       "3          13030             6        13036   \n",
       "4         644459          2416       646875   \n",
       "\n",
       "   OVER TOTAL ELECTORS IN CONSTITUENCY  \\\n",
       "0                            25.330684   \n",
       "1                            21.399929   \n",
       "2                            21.092771   \n",
       "3                             0.875023   \n",
       "4                            33.383823   \n",
       "\n",
       "   OVER TOTAL VOTES POLLED IN CONSTITUENCY  TOTAL ELECTORS  \n",
       "0                                35.468248         1489790  \n",
       "1                                29.964370         1489790  \n",
       "2                                29.534285         1489790  \n",
       "3                                 1.225214         1489790  \n",
       "4                                56.464615         1937690  "
      ]
     },
     "execution_count": 8,
     "metadata": {},
     "output_type": "execute_result"
    }
   ],
   "source": [
    "#Renaming the columns\n",
    "vote.rename(columns={\"CRIMINAL\\nCASES\": \"CRIMINAL CASES\", \"GENERAL\\nVOTES\": \"GENERAL VOTES\", \"POSTAL\\nVOTES\": \"POSTAL VOTES\",\"TOTAL\\nVOTES\": \"TOTAL VOTES\",\"OVER TOTAL ELECTORS \\nIN CONSTITUENCY\": \"OVER TOTAL ELECTORS IN CONSTITUENCY\",\"OVER TOTAL VOTES POLLED \\nIN CONSTITUENCY\": \"OVER TOTAL VOTES POLLED IN CONSTITUENCY\"}, inplace=True)\n",
    "vote.head()"
   ]
  },
  {
   "cell_type": "code",
   "execution_count": 9,
   "metadata": {},
   "outputs": [
    {
     "data": {
      "text/plain": [
       "array(['12th Pass', 'Post Graduate', nan, 'Doctorate', 'Graduate',\n",
       "       'Others', '10th Pass', '8th Pass', 'Graduate Professional',\n",
       "       'Literate', 'Illiterate', '5th Pass', 'Not Available',\n",
       "       'Post Graduate\\n'], dtype=object)"
      ]
     },
     "execution_count": 9,
     "metadata": {},
     "output_type": "execute_result"
    }
   ],
   "source": [
    "# Cleaning up the Educational Qualification of the election contestants\n",
    "vote.EDUCATION.unique()"
   ]
  },
  {
   "cell_type": "code",
   "execution_count": 10,
   "id": "24127416",
   "metadata": {},
   "outputs": [
    {
     "data": {
      "text/plain": [
       "STATE                                       object\n",
       "CONSTITUENCY                                object\n",
       "NAME                                        object\n",
       "WINNER                                       int64\n",
       "PARTY                                       object\n",
       "SYMBOL                                      object\n",
       "GENDER                                      object\n",
       "CRIMINAL CASES                              object\n",
       "AGE                                        float64\n",
       "CATEGORY                                    object\n",
       "EDUCATION                                   object\n",
       "ASSETS                                      object\n",
       "LIABILITIES                                 object\n",
       "GENERAL VOTES                                int64\n",
       "POSTAL VOTES                                 int64\n",
       "TOTAL VOTES                                  int64\n",
       "OVER TOTAL ELECTORS IN CONSTITUENCY        float64\n",
       "OVER TOTAL VOTES POLLED IN CONSTITUENCY    float64\n",
       "TOTAL ELECTORS                               int64\n",
       "dtype: object"
      ]
     },
     "execution_count": 10,
     "metadata": {},
     "output_type": "execute_result"
    }
   ],
   "source": [
    "# Identifying the Data Type of the columns\n",
    "vote.dtypes"
   ]
  },
  {
   "cell_type": "code",
   "execution_count": 11,
   "id": "0def5b71",
   "metadata": {},
   "outputs": [
    {
     "data": {
      "text/html": [
       "<div>\n",
       "<style scoped>\n",
       "    .dataframe tbody tr th:only-of-type {\n",
       "        vertical-align: middle;\n",
       "    }\n",
       "\n",
       "    .dataframe tbody tr th {\n",
       "        vertical-align: top;\n",
       "    }\n",
       "\n",
       "    .dataframe thead th {\n",
       "        text-align: right;\n",
       "    }\n",
       "</style>\n",
       "<table border=\"1\" class=\"dataframe\">\n",
       "  <thead>\n",
       "    <tr style=\"text-align: right;\">\n",
       "      <th></th>\n",
       "      <th>STATE</th>\n",
       "      <th>CONSTITUENCY</th>\n",
       "      <th>NAME</th>\n",
       "      <th>WINNER</th>\n",
       "      <th>PARTY</th>\n",
       "      <th>SYMBOL</th>\n",
       "      <th>GENDER</th>\n",
       "      <th>CRIMINAL CASES</th>\n",
       "      <th>AGE</th>\n",
       "      <th>CATEGORY</th>\n",
       "      <th>EDUCATION</th>\n",
       "      <th>ASSETS</th>\n",
       "      <th>LIABILITIES</th>\n",
       "      <th>GENERAL VOTES</th>\n",
       "      <th>POSTAL VOTES</th>\n",
       "      <th>TOTAL VOTES</th>\n",
       "      <th>OVER TOTAL ELECTORS IN CONSTITUENCY</th>\n",
       "      <th>OVER TOTAL VOTES POLLED IN CONSTITUENCY</th>\n",
       "      <th>TOTAL ELECTORS</th>\n",
       "    </tr>\n",
       "  </thead>\n",
       "  <tbody>\n",
       "    <tr>\n",
       "      <th>468</th>\n",
       "      <td>Bihar</td>\n",
       "      <td>BUXAR</td>\n",
       "      <td>Ramchandra Singh Yadav</td>\n",
       "      <td>0</td>\n",
       "      <td>IND</td>\n",
       "      <td>Almirah</td>\n",
       "      <td>MALE</td>\n",
       "      <td>Not Available</td>\n",
       "      <td>42.0</td>\n",
       "      <td>GENERAL</td>\n",
       "      <td>Not Available</td>\n",
       "      <td>0</td>\n",
       "      <td>0</td>\n",
       "      <td>10721</td>\n",
       "      <td>9</td>\n",
       "      <td>10730</td>\n",
       "      <td>0.586540</td>\n",
       "      <td>1.087175</td>\n",
       "      <td>1829373</td>\n",
       "    </tr>\n",
       "    <tr>\n",
       "      <th>532</th>\n",
       "      <td>Tamil Nadu</td>\n",
       "      <td>CHIDAMBARAM</td>\n",
       "      <td>SIVAJOTHI M</td>\n",
       "      <td>0</td>\n",
       "      <td>NTK</td>\n",
       "      <td>Ganna Kisan</td>\n",
       "      <td>MALE</td>\n",
       "      <td>Not Available</td>\n",
       "      <td>35.0</td>\n",
       "      <td>SC</td>\n",
       "      <td>Not Available</td>\n",
       "      <td>0</td>\n",
       "      <td>0</td>\n",
       "      <td>37329</td>\n",
       "      <td>142</td>\n",
       "      <td>37471</td>\n",
       "      <td>2.531445</td>\n",
       "      <td>3.246331</td>\n",
       "      <td>1480222</td>\n",
       "    </tr>\n",
       "    <tr>\n",
       "      <th>612</th>\n",
       "      <td>Uttar Pradesh</td>\n",
       "      <td>DEORIA</td>\n",
       "      <td>BINOD KUMAR JAISWAL</td>\n",
       "      <td>0</td>\n",
       "      <td>BSP</td>\n",
       "      <td>Elephant</td>\n",
       "      <td>MALE</td>\n",
       "      <td>Not Available</td>\n",
       "      <td>56.0</td>\n",
       "      <td>GENERAL</td>\n",
       "      <td>Not Available</td>\n",
       "      <td>0</td>\n",
       "      <td>0</td>\n",
       "      <td>327728</td>\n",
       "      <td>2985</td>\n",
       "      <td>330713</td>\n",
       "      <td>18.852693</td>\n",
       "      <td>32.563441</td>\n",
       "      <td>1754195</td>\n",
       "    </tr>\n",
       "    <tr>\n",
       "      <th>613</th>\n",
       "      <td>Uttar Pradesh</td>\n",
       "      <td>DEORIA</td>\n",
       "      <td>NIYAZ AHMED</td>\n",
       "      <td>0</td>\n",
       "      <td>INC</td>\n",
       "      <td>Hand</td>\n",
       "      <td>MALE</td>\n",
       "      <td>Not Available</td>\n",
       "      <td>57.0</td>\n",
       "      <td>GENERAL</td>\n",
       "      <td>Not Available</td>\n",
       "      <td>0</td>\n",
       "      <td>0</td>\n",
       "      <td>50749</td>\n",
       "      <td>307</td>\n",
       "      <td>51056</td>\n",
       "      <td>2.910509</td>\n",
       "      <td>5.027196</td>\n",
       "      <td>1754195</td>\n",
       "    </tr>\n",
       "    <tr>\n",
       "      <th>654</th>\n",
       "      <td>Tamil Nadu</td>\n",
       "      <td>DINDIGUL</td>\n",
       "      <td>JOTHIMUTHU, K.</td>\n",
       "      <td>0</td>\n",
       "      <td>PMK</td>\n",
       "      <td>Mango</td>\n",
       "      <td>MALE</td>\n",
       "      <td>Not Available</td>\n",
       "      <td>48.0</td>\n",
       "      <td>GENERAL</td>\n",
       "      <td>Not Available</td>\n",
       "      <td>0</td>\n",
       "      <td>0</td>\n",
       "      <td>206782</td>\n",
       "      <td>769</td>\n",
       "      <td>207551</td>\n",
       "      <td>13.460896</td>\n",
       "      <td>17.877979</td>\n",
       "      <td>1541881</td>\n",
       "    </tr>\n",
       "  </tbody>\n",
       "</table>\n",
       "</div>"
      ],
      "text/plain": [
       "             STATE CONSTITUENCY                    NAME  WINNER PARTY  \\\n",
       "468          Bihar        BUXAR  Ramchandra Singh Yadav       0   IND   \n",
       "532     Tamil Nadu  CHIDAMBARAM             SIVAJOTHI M       0   NTK   \n",
       "612  Uttar Pradesh       DEORIA     BINOD KUMAR JAISWAL       0   BSP   \n",
       "613  Uttar Pradesh       DEORIA             NIYAZ AHMED       0   INC   \n",
       "654     Tamil Nadu     DINDIGUL          JOTHIMUTHU, K.       0   PMK   \n",
       "\n",
       "          SYMBOL GENDER CRIMINAL CASES   AGE CATEGORY      EDUCATION ASSETS  \\\n",
       "468      Almirah   MALE  Not Available  42.0  GENERAL  Not Available      0   \n",
       "532  Ganna Kisan   MALE  Not Available  35.0       SC  Not Available      0   \n",
       "612     Elephant   MALE  Not Available  56.0  GENERAL  Not Available      0   \n",
       "613         Hand   MALE  Not Available  57.0  GENERAL  Not Available      0   \n",
       "654        Mango   MALE  Not Available  48.0  GENERAL  Not Available      0   \n",
       "\n",
       "    LIABILITIES  GENERAL VOTES  POSTAL VOTES  TOTAL VOTES  \\\n",
       "468           0          10721             9        10730   \n",
       "532           0          37329           142        37471   \n",
       "612           0         327728          2985       330713   \n",
       "613           0          50749           307        51056   \n",
       "654           0         206782           769       207551   \n",
       "\n",
       "     OVER TOTAL ELECTORS IN CONSTITUENCY  \\\n",
       "468                             0.586540   \n",
       "532                             2.531445   \n",
       "612                            18.852693   \n",
       "613                             2.910509   \n",
       "654                            13.460896   \n",
       "\n",
       "     OVER TOTAL VOTES POLLED IN CONSTITUENCY  TOTAL ELECTORS  \n",
       "468                                 1.087175         1829373  \n",
       "532                                 3.246331         1480222  \n",
       "612                                32.563441         1754195  \n",
       "613                                 5.027196         1754195  \n",
       "654                                17.877979         1541881  "
      ]
     },
     "execution_count": 11,
     "metadata": {},
     "output_type": "execute_result"
    }
   ],
   "source": [
    "# Identifying Discrepancy entries in the columns\n",
    "vote[vote['CRIMINAL CASES']=='Not Available'].head()"
   ]
  },
  {
   "cell_type": "code",
   "execution_count": 12,
   "id": "d3468b7a",
   "metadata": {},
   "outputs": [],
   "source": [
    "# Updating the data types for the analysis\n",
    "vote['ASSETS']=pd.to_numeric(vote['ASSETS'])\n",
    "vote['LIABILITIES']=pd.to_numeric(vote['LIABILITIES'])\n",
    "vote['CRIMINAL CASES'].replace({np.nan:0})\n",
    "vote['CRIMINAL CASES'] = pd.to_numeric(vote['CRIMINAL CASES'], errors='coerce').fillna(0).astype(np.int64)"
   ]
  },
  {
   "cell_type": "markdown",
   "id": "a1772ed1",
   "metadata": {},
   "source": [
    "## Analysis Phase"
   ]
  },
  {
   "cell_type": "markdown",
   "id": "51230a0d",
   "metadata": {},
   "source": [
    "### Vote Trends for BJP (2019 Indian Elections)"
   ]
  },
  {
   "cell_type": "code",
   "execution_count": 45,
   "metadata": {},
   "outputs": [
    {
     "data": {
      "application/vnd.plotly.v1+json": {
       "config": {
        "plotlyServerURL": "https://plot.ly"
       },
       "data": [
        {
         "close": {
          "bdata": "VlULqxW7RUFzscTbChREQeNF+ynsOUVB1n0dGgkyREErycghV9hEQQFa0ENCC0RBW8v/RPdiRUHNfbP1utlDQZrq1HQcukVBSmqUF//0Q0GFvkk+mMhEQboSIeSsIUVBw5ndr2cjREFDLazJVZ1FQcRmFDBUKURBxKzbjnJRREG2hDrS4+FEQSgh6ARXzkVBYgMGXBZzRUH4LuFOa+hDQUmdELPLDEVBA3kwtxpuREFjxlglX7xEQYLBquzH60RB7mMCTZekREEMVZWMxhNFQSSS/s+0RURBn1ztTfvpQ0HgqRv5LW9FQRm7MHpRJERBAi2oBwKeRUHoNGlDXKREQQF0DhHi0ERBW50i17h0REE6MRB+OzdFQelUJiQIR0RBBIjXt6PUQ0GqIC0AVVVEQeOzTzKMxURBDA9ALW1WRUH0vrE0lxFFQZnvAymmfUVBZWTfv4v7REGxM79FkjlEQRgtbZfejkRBAyGAZWj9Q0G8xHb/UiBFQU64PPO+QURBvs7ToAMSRUECJ/jijJ5FQajYtwbL7UNBvUuYVebFQ0HQTQPQmhZEQQeBit1iOERB/5VlnF9ORUFqOmkdhu9EQd0lpjbiQkRBeY29JfgQRUGUSjPdLcdEQXWYK6LyzUNB7eCvr8u8RUFkl+u7Ka9FQYnPziMTh0VBJobr67RpREFvtAUPgzNFQYW9dJUG0EVB/Xfzv1NLRUFAuNamSV1EQZUUWAIjp0VBzj75hv0aRUGwl0Kf7HREQeH8E/wi1ENB587KnYP7REFyGypEvYBEQbKu1JfjM0RBQorDSdrbREGP/kFEd8hFQZ2FhCIsUURBWx7b9m/BRUGUQGxaQB1EQfvmkx5lPUVBy3QlasxJRUHIbMgO4EREQRQFDZbK/kNB",
          "dtype": "f8"
         },
         "decreasing": {
          "line": {
           "color": "red"
          }
         },
         "high": {
          "bdata": "PeBrvD81RkHUHUEIAx1EQXMn+DRHPUVBHH4m5yCaRUGF20OTfR1FQeix2wnhNUVB9lC1GcODRUFSqlg4Rl5FQR3Zhl89W0ZBDJs/1EnOREEXA81uFc5EQbu3yVVDVEVBa4d1cpZ/RUHd5vzfyhhGQaW12/NUMERBSNCCacYSRUF+It2qffhEQaHYq/uqT0ZBiS89oYfnRUHxIOmaXJZFQfELUJs1w0VB5XM19JTgREEP+q6tHq1FQYMcSv9P1EVBzdn06VTbREHVXVNSqUZFQRiq9stS6EVBLixqW9BnREHUxtsYZRlGQRkyPl6t/0VBoaSZjc3SRUEcU557CiZFQd2hffScE0VBR15+ztoIRUF5y0Ype3JFQVxW6BhpFEZB9n24CeG3REGdqFuzKuNEQZ5/1vHIYkVBivutaV59RUHVLufDGXhFQVn9B/mXskVBKtTbobtoRUEmnak7wThFQYnRWKM/yUVBRHBmiuEHRUHqHPsU66RFQSf39pLb6URBXv810J7YRUEJQ3LN1jFGQZtUpBvyMEVBZUN9ZjEURUEz9GsqQ2tEQQ8QeGCDj0VBoYwzd6y4RUFcg5bVQS5FQaSYH3Pp5URB0WTqHcIfRkEdfFu0hBNFQaqEoFNIu0RB9I6X0oZVRkE3AdF6ePZFQUbZeRMo80VBULANbBiiRUHP90A9VxJGQVDfmyF+50VBKOBK5Y0HRkGc81g8zf9EQe0WzYMr/EVBuDQk1WTdRUFF+IANFtlFQWu9Ln7EP0VBtsyj2W0ARUGVnP9G1YtFQdTPqMoKwUVBcNWGxXUyRUFyuq7+1h5GQR2Z/Bx3sEVBgE89kx1NRkGDqTN2c7NEQazV820WqUVBqQ03PNkZRkFecST+wNhEQfrtfQ7bBURB",
          "dtype": "f8"
         },
         "increasing": {
          "line": {
           "color": "green"
          }
         },
         "low": {
          "bdata": "KCiMevkpREGuPocZeo5DQSd0Kw+IZERBg76m3ZYVREF4qPoVXDVEQVw1Cafc0kNBDErrgQRiREEZah7Mu79DQZv6UnEmaENB7ZqyyYixQ0G6/6vdPXZDQVD29j21+UNB70ASdYWrQ0FS+MbOTQRFQcY4GFpLvkNBJmCPSscZREH4fTXoP9lDQTJg4wROykNBsR3/DUhVQ0EdKKIitNZDQdz81UaFAkVBNpFFnqcCREEjFVhfyUpEQTzwd+1wnERB0EDGdHyTREHRGIXdUoRDQR2dT9oS0ENB/FCNFlPRQ0FSdE9Iud9EQeeW4j3j0ENB4EhQ07NcRUFb3J57n7RDQfgVSuz7okNBmSqEkCjPQ0Fwbds3rzlEQVwc/vwsGERBcqSU+BSIQ0FIKfq23bdDQY46XADa6ENBFgh8mX+wREG0YRQKWjBEQf07cEOA1ENBduz1ki7UQ0F060bPfB5EQdbEnycoeURB54O8ebd2Q0FXj2ZAy/NDQctSEPYptkNB1W0nQ4HZREE2QHn0FcREQZAp/RREZENBH1G9cSRhQ0G+i6vIrFpDQW+OphyLE0RBZvbThfjoQ0FqcBCDZrREQbtWlg+3BURBk1MN7KW/REHyLkjC5FNEQZaxkHACs0NB27XJxOh3RUGgwA2GVzZDQQ1UjttnR0VBvNcQlGoSREH8fitssCNFQZlxi+CntERB8wV6anHYREFJIp5Klt5DQXL7iP2HO0VBm2E7IwCaREEkOUW1KGZEQT07XyGAgUNBy3Aak7JTREEdd3F5gS5EQX/wI5WlJkRBM2wezEh7Q0F9eL0Nxg5FQQLgwTHuRERBmaZKaqFkQ0Etj1IvmPZDQW9uijNxuERB0VaBLcnlREFQ5ut2585DQZgHPUF6wkNB",
          "dtype": "f8"
         },
         "name": "BJP",
         "open": {
          "bdata": "KlY+tmCIREE5JzglDhREQZE2rr38AEVBM2Z6cCB8RUE8hlED9WJEQWZEIAa0BkVBMq3zBsezREEQsR0bW/xEQcCJJ8yh40NB0uhVpCdjREHRyQeJ9wFEQeDXirzBSkRBPMn52AbkREE71zlRHbVFQUZgyCgc8ENB9DjSOeePREGg8qTMjFZEQWT72UKw6ENBs+9JivHDQ0EQv3VPkFtFQe6+zKxyjEVBJWLdgItmREFz0mkfSJlFQa76qHL7VUVBWBWmXkPXREFdrAz5u9FDQZokJckdpEVBZrelBsw6REEPYayq5a9FQVgqLcrPbEVBC3DiRtFuRUG9vAhsVjpEQa3ejmm0xENBX0albs8AREFQ+kgnKtVEQYkwno5UwUVB47hWFKFYREECCrEvaNxDQUcs00YiDkRBwGo568omRUG1Y97qx4REQdbJDBQR8UNBX0jmkrXWQ0GAMOx0mdFEQbs3GibNMEVBuMKOJI92REHOVtV9T0pEQWpKYBLy2kRBDbpepk+gRUHlIZ0lcUNFQYs9SJLEFkVBkpfk5tADRUEIsC7IssNDQR7EiLUNHEVBcPyoMzhuREHF0bDfDx9FQU4IGu8sTkRBvE0y19qbRUHhS1JrGfREQZDn/rN2VkRBZ1o0F6C1RUESyP5XO8lDQdg0qVz0wUVBMsYZ7hOGRUEL7gSZVbNFQUr6wd9hCEVBZSDkPQuURUHLQtbxXYBEQYZpGIePjkVBx91iEPNpRUFNlq6txJpFQfy7OvfU9ERBDevC2IhZREEmDOY643ZFQZ3wZVHiWkVBGY152IPcQ0EsUw2ig0NFQfBfwGRLaEVBfmFFpX/OQ0H1EMg/sppEQRsNSMNd5URB0f1pVUu9RUEJ0M8pXaBEQYMY2XeqyENB",
          "dtype": "f8"
         },
         "type": "candlestick",
         "x": [
          "2019-03-01T00:00:00.000000000",
          "2019-03-02T00:00:00.000000000",
          "2019-03-03T00:00:00.000000000",
          "2019-03-04T00:00:00.000000000",
          "2019-03-05T00:00:00.000000000",
          "2019-03-06T00:00:00.000000000",
          "2019-03-07T00:00:00.000000000",
          "2019-03-08T00:00:00.000000000",
          "2019-03-09T00:00:00.000000000",
          "2019-03-10T00:00:00.000000000",
          "2019-03-11T00:00:00.000000000",
          "2019-03-12T00:00:00.000000000",
          "2019-03-13T00:00:00.000000000",
          "2019-03-14T00:00:00.000000000",
          "2019-03-15T00:00:00.000000000",
          "2019-03-16T00:00:00.000000000",
          "2019-03-17T00:00:00.000000000",
          "2019-03-18T00:00:00.000000000",
          "2019-03-19T00:00:00.000000000",
          "2019-03-20T00:00:00.000000000",
          "2019-03-21T00:00:00.000000000",
          "2019-03-22T00:00:00.000000000",
          "2019-03-23T00:00:00.000000000",
          "2019-03-24T00:00:00.000000000",
          "2019-03-25T00:00:00.000000000",
          "2019-03-26T00:00:00.000000000",
          "2019-03-27T00:00:00.000000000",
          "2019-03-28T00:00:00.000000000",
          "2019-03-29T00:00:00.000000000",
          "2019-03-30T00:00:00.000000000",
          "2019-03-31T00:00:00.000000000",
          "2019-04-01T00:00:00.000000000",
          "2019-04-02T00:00:00.000000000",
          "2019-04-03T00:00:00.000000000",
          "2019-04-04T00:00:00.000000000",
          "2019-04-05T00:00:00.000000000",
          "2019-04-06T00:00:00.000000000",
          "2019-04-07T00:00:00.000000000",
          "2019-04-08T00:00:00.000000000",
          "2019-04-09T00:00:00.000000000",
          "2019-04-10T00:00:00.000000000",
          "2019-04-11T00:00:00.000000000",
          "2019-04-12T00:00:00.000000000",
          "2019-04-13T00:00:00.000000000",
          "2019-04-14T00:00:00.000000000",
          "2019-04-15T00:00:00.000000000",
          "2019-04-16T00:00:00.000000000",
          "2019-04-17T00:00:00.000000000",
          "2019-04-18T00:00:00.000000000",
          "2019-04-19T00:00:00.000000000",
          "2019-04-20T00:00:00.000000000",
          "2019-04-21T00:00:00.000000000",
          "2019-04-22T00:00:00.000000000",
          "2019-04-23T00:00:00.000000000",
          "2019-04-24T00:00:00.000000000",
          "2019-04-25T00:00:00.000000000",
          "2019-04-26T00:00:00.000000000",
          "2019-04-27T00:00:00.000000000",
          "2019-04-28T00:00:00.000000000",
          "2019-04-29T00:00:00.000000000",
          "2019-04-30T00:00:00.000000000",
          "2019-05-01T00:00:00.000000000",
          "2019-05-02T00:00:00.000000000",
          "2019-05-03T00:00:00.000000000",
          "2019-05-04T00:00:00.000000000",
          "2019-05-05T00:00:00.000000000",
          "2019-05-06T00:00:00.000000000",
          "2019-05-07T00:00:00.000000000",
          "2019-05-08T00:00:00.000000000",
          "2019-05-09T00:00:00.000000000",
          "2019-05-10T00:00:00.000000000",
          "2019-05-11T00:00:00.000000000",
          "2019-05-12T00:00:00.000000000",
          "2019-05-13T00:00:00.000000000",
          "2019-05-14T00:00:00.000000000",
          "2019-05-15T00:00:00.000000000",
          "2019-05-16T00:00:00.000000000",
          "2019-05-17T00:00:00.000000000",
          "2019-05-18T00:00:00.000000000",
          "2019-05-19T00:00:00.000000000",
          "2019-05-20T00:00:00.000000000",
          "2019-05-21T00:00:00.000000000",
          "2019-05-22T00:00:00.000000000",
          "2019-05-23T00:00:00.000000000"
         ]
        }
       ],
       "layout": {
        "font": {
         "color": "black"
        },
        "height": 600,
        "margin": {
         "b": 50,
         "l": 50,
         "r": 50,
         "t": 80
        },
        "paper_bgcolor": "white",
        "plot_bgcolor": "white",
        "showlegend": false,
        "template": {
         "data": {
          "bar": [
           {
            "error_x": {
             "color": "#f2f5fa"
            },
            "error_y": {
             "color": "#f2f5fa"
            },
            "marker": {
             "line": {
              "color": "rgb(17,17,17)",
              "width": 0.5
             },
             "pattern": {
              "fillmode": "overlay",
              "size": 10,
              "solidity": 0.2
             }
            },
            "type": "bar"
           }
          ],
          "barpolar": [
           {
            "marker": {
             "line": {
              "color": "rgb(17,17,17)",
              "width": 0.5
             },
             "pattern": {
              "fillmode": "overlay",
              "size": 10,
              "solidity": 0.2
             }
            },
            "type": "barpolar"
           }
          ],
          "carpet": [
           {
            "aaxis": {
             "endlinecolor": "#A2B1C6",
             "gridcolor": "#506784",
             "linecolor": "#506784",
             "minorgridcolor": "#506784",
             "startlinecolor": "#A2B1C6"
            },
            "baxis": {
             "endlinecolor": "#A2B1C6",
             "gridcolor": "#506784",
             "linecolor": "#506784",
             "minorgridcolor": "#506784",
             "startlinecolor": "#A2B1C6"
            },
            "type": "carpet"
           }
          ],
          "choropleth": [
           {
            "colorbar": {
             "outlinewidth": 0,
             "ticks": ""
            },
            "type": "choropleth"
           }
          ],
          "contour": [
           {
            "colorbar": {
             "outlinewidth": 0,
             "ticks": ""
            },
            "colorscale": [
             [
              0,
              "#0d0887"
             ],
             [
              0.1111111111111111,
              "#46039f"
             ],
             [
              0.2222222222222222,
              "#7201a8"
             ],
             [
              0.3333333333333333,
              "#9c179e"
             ],
             [
              0.4444444444444444,
              "#bd3786"
             ],
             [
              0.5555555555555556,
              "#d8576b"
             ],
             [
              0.6666666666666666,
              "#ed7953"
             ],
             [
              0.7777777777777778,
              "#fb9f3a"
             ],
             [
              0.8888888888888888,
              "#fdca26"
             ],
             [
              1,
              "#f0f921"
             ]
            ],
            "type": "contour"
           }
          ],
          "contourcarpet": [
           {
            "colorbar": {
             "outlinewidth": 0,
             "ticks": ""
            },
            "type": "contourcarpet"
           }
          ],
          "heatmap": [
           {
            "colorbar": {
             "outlinewidth": 0,
             "ticks": ""
            },
            "colorscale": [
             [
              0,
              "#0d0887"
             ],
             [
              0.1111111111111111,
              "#46039f"
             ],
             [
              0.2222222222222222,
              "#7201a8"
             ],
             [
              0.3333333333333333,
              "#9c179e"
             ],
             [
              0.4444444444444444,
              "#bd3786"
             ],
             [
              0.5555555555555556,
              "#d8576b"
             ],
             [
              0.6666666666666666,
              "#ed7953"
             ],
             [
              0.7777777777777778,
              "#fb9f3a"
             ],
             [
              0.8888888888888888,
              "#fdca26"
             ],
             [
              1,
              "#f0f921"
             ]
            ],
            "type": "heatmap"
           }
          ],
          "histogram": [
           {
            "marker": {
             "pattern": {
              "fillmode": "overlay",
              "size": 10,
              "solidity": 0.2
             }
            },
            "type": "histogram"
           }
          ],
          "histogram2d": [
           {
            "colorbar": {
             "outlinewidth": 0,
             "ticks": ""
            },
            "colorscale": [
             [
              0,
              "#0d0887"
             ],
             [
              0.1111111111111111,
              "#46039f"
             ],
             [
              0.2222222222222222,
              "#7201a8"
             ],
             [
              0.3333333333333333,
              "#9c179e"
             ],
             [
              0.4444444444444444,
              "#bd3786"
             ],
             [
              0.5555555555555556,
              "#d8576b"
             ],
             [
              0.6666666666666666,
              "#ed7953"
             ],
             [
              0.7777777777777778,
              "#fb9f3a"
             ],
             [
              0.8888888888888888,
              "#fdca26"
             ],
             [
              1,
              "#f0f921"
             ]
            ],
            "type": "histogram2d"
           }
          ],
          "histogram2dcontour": [
           {
            "colorbar": {
             "outlinewidth": 0,
             "ticks": ""
            },
            "colorscale": [
             [
              0,
              "#0d0887"
             ],
             [
              0.1111111111111111,
              "#46039f"
             ],
             [
              0.2222222222222222,
              "#7201a8"
             ],
             [
              0.3333333333333333,
              "#9c179e"
             ],
             [
              0.4444444444444444,
              "#bd3786"
             ],
             [
              0.5555555555555556,
              "#d8576b"
             ],
             [
              0.6666666666666666,
              "#ed7953"
             ],
             [
              0.7777777777777778,
              "#fb9f3a"
             ],
             [
              0.8888888888888888,
              "#fdca26"
             ],
             [
              1,
              "#f0f921"
             ]
            ],
            "type": "histogram2dcontour"
           }
          ],
          "mesh3d": [
           {
            "colorbar": {
             "outlinewidth": 0,
             "ticks": ""
            },
            "type": "mesh3d"
           }
          ],
          "parcoords": [
           {
            "line": {
             "colorbar": {
              "outlinewidth": 0,
              "ticks": ""
             }
            },
            "type": "parcoords"
           }
          ],
          "pie": [
           {
            "automargin": true,
            "type": "pie"
           }
          ],
          "scatter": [
           {
            "marker": {
             "line": {
              "color": "#283442"
             }
            },
            "type": "scatter"
           }
          ],
          "scatter3d": [
           {
            "line": {
             "colorbar": {
              "outlinewidth": 0,
              "ticks": ""
             }
            },
            "marker": {
             "colorbar": {
              "outlinewidth": 0,
              "ticks": ""
             }
            },
            "type": "scatter3d"
           }
          ],
          "scattercarpet": [
           {
            "marker": {
             "colorbar": {
              "outlinewidth": 0,
              "ticks": ""
             }
            },
            "type": "scattercarpet"
           }
          ],
          "scattergeo": [
           {
            "marker": {
             "colorbar": {
              "outlinewidth": 0,
              "ticks": ""
             }
            },
            "type": "scattergeo"
           }
          ],
          "scattergl": [
           {
            "marker": {
             "line": {
              "color": "#283442"
             }
            },
            "type": "scattergl"
           }
          ],
          "scattermap": [
           {
            "marker": {
             "colorbar": {
              "outlinewidth": 0,
              "ticks": ""
             }
            },
            "type": "scattermap"
           }
          ],
          "scattermapbox": [
           {
            "marker": {
             "colorbar": {
              "outlinewidth": 0,
              "ticks": ""
             }
            },
            "type": "scattermapbox"
           }
          ],
          "scatterpolar": [
           {
            "marker": {
             "colorbar": {
              "outlinewidth": 0,
              "ticks": ""
             }
            },
            "type": "scatterpolar"
           }
          ],
          "scatterpolargl": [
           {
            "marker": {
             "colorbar": {
              "outlinewidth": 0,
              "ticks": ""
             }
            },
            "type": "scatterpolargl"
           }
          ],
          "scatterternary": [
           {
            "marker": {
             "colorbar": {
              "outlinewidth": 0,
              "ticks": ""
             }
            },
            "type": "scatterternary"
           }
          ],
          "surface": [
           {
            "colorbar": {
             "outlinewidth": 0,
             "ticks": ""
            },
            "colorscale": [
             [
              0,
              "#0d0887"
             ],
             [
              0.1111111111111111,
              "#46039f"
             ],
             [
              0.2222222222222222,
              "#7201a8"
             ],
             [
              0.3333333333333333,
              "#9c179e"
             ],
             [
              0.4444444444444444,
              "#bd3786"
             ],
             [
              0.5555555555555556,
              "#d8576b"
             ],
             [
              0.6666666666666666,
              "#ed7953"
             ],
             [
              0.7777777777777778,
              "#fb9f3a"
             ],
             [
              0.8888888888888888,
              "#fdca26"
             ],
             [
              1,
              "#f0f921"
             ]
            ],
            "type": "surface"
           }
          ],
          "table": [
           {
            "cells": {
             "fill": {
              "color": "#506784"
             },
             "line": {
              "color": "rgb(17,17,17)"
             }
            },
            "header": {
             "fill": {
              "color": "#2a3f5f"
             },
             "line": {
              "color": "rgb(17,17,17)"
             }
            },
            "type": "table"
           }
          ]
         },
         "layout": {
          "annotationdefaults": {
           "arrowcolor": "#f2f5fa",
           "arrowhead": 0,
           "arrowwidth": 1
          },
          "autotypenumbers": "strict",
          "coloraxis": {
           "colorbar": {
            "outlinewidth": 0,
            "ticks": ""
           }
          },
          "colorscale": {
           "diverging": [
            [
             0,
             "#8e0152"
            ],
            [
             0.1,
             "#c51b7d"
            ],
            [
             0.2,
             "#de77ae"
            ],
            [
             0.3,
             "#f1b6da"
            ],
            [
             0.4,
             "#fde0ef"
            ],
            [
             0.5,
             "#f7f7f7"
            ],
            [
             0.6,
             "#e6f5d0"
            ],
            [
             0.7,
             "#b8e186"
            ],
            [
             0.8,
             "#7fbc41"
            ],
            [
             0.9,
             "#4d9221"
            ],
            [
             1,
             "#276419"
            ]
           ],
           "sequential": [
            [
             0,
             "#0d0887"
            ],
            [
             0.1111111111111111,
             "#46039f"
            ],
            [
             0.2222222222222222,
             "#7201a8"
            ],
            [
             0.3333333333333333,
             "#9c179e"
            ],
            [
             0.4444444444444444,
             "#bd3786"
            ],
            [
             0.5555555555555556,
             "#d8576b"
            ],
            [
             0.6666666666666666,
             "#ed7953"
            ],
            [
             0.7777777777777778,
             "#fb9f3a"
            ],
            [
             0.8888888888888888,
             "#fdca26"
            ],
            [
             1,
             "#f0f921"
            ]
           ],
           "sequentialminus": [
            [
             0,
             "#0d0887"
            ],
            [
             0.1111111111111111,
             "#46039f"
            ],
            [
             0.2222222222222222,
             "#7201a8"
            ],
            [
             0.3333333333333333,
             "#9c179e"
            ],
            [
             0.4444444444444444,
             "#bd3786"
            ],
            [
             0.5555555555555556,
             "#d8576b"
            ],
            [
             0.6666666666666666,
             "#ed7953"
            ],
            [
             0.7777777777777778,
             "#fb9f3a"
            ],
            [
             0.8888888888888888,
             "#fdca26"
            ],
            [
             1,
             "#f0f921"
            ]
           ]
          },
          "colorway": [
           "#636efa",
           "#EF553B",
           "#00cc96",
           "#ab63fa",
           "#FFA15A",
           "#19d3f3",
           "#FF6692",
           "#B6E880",
           "#FF97FF",
           "#FECB52"
          ],
          "font": {
           "color": "#f2f5fa"
          },
          "geo": {
           "bgcolor": "rgb(17,17,17)",
           "lakecolor": "rgb(17,17,17)",
           "landcolor": "rgb(17,17,17)",
           "showlakes": true,
           "showland": true,
           "subunitcolor": "#506784"
          },
          "hoverlabel": {
           "align": "left"
          },
          "hovermode": "closest",
          "mapbox": {
           "style": "dark"
          },
          "paper_bgcolor": "rgb(17,17,17)",
          "plot_bgcolor": "rgb(17,17,17)",
          "polar": {
           "angularaxis": {
            "gridcolor": "#506784",
            "linecolor": "#506784",
            "ticks": ""
           },
           "bgcolor": "rgb(17,17,17)",
           "radialaxis": {
            "gridcolor": "#506784",
            "linecolor": "#506784",
            "ticks": ""
           }
          },
          "scene": {
           "xaxis": {
            "backgroundcolor": "rgb(17,17,17)",
            "gridcolor": "#506784",
            "gridwidth": 2,
            "linecolor": "#506784",
            "showbackground": true,
            "ticks": "",
            "zerolinecolor": "#C8D4E3"
           },
           "yaxis": {
            "backgroundcolor": "rgb(17,17,17)",
            "gridcolor": "#506784",
            "gridwidth": 2,
            "linecolor": "#506784",
            "showbackground": true,
            "ticks": "",
            "zerolinecolor": "#C8D4E3"
           },
           "zaxis": {
            "backgroundcolor": "rgb(17,17,17)",
            "gridcolor": "#506784",
            "gridwidth": 2,
            "linecolor": "#506784",
            "showbackground": true,
            "ticks": "",
            "zerolinecolor": "#C8D4E3"
           }
          },
          "shapedefaults": {
           "line": {
            "color": "#f2f5fa"
           }
          },
          "sliderdefaults": {
           "bgcolor": "#C8D4E3",
           "bordercolor": "rgb(17,17,17)",
           "borderwidth": 1,
           "tickwidth": 0
          },
          "ternary": {
           "aaxis": {
            "gridcolor": "#506784",
            "linecolor": "#506784",
            "ticks": ""
           },
           "baxis": {
            "gridcolor": "#506784",
            "linecolor": "#506784",
            "ticks": ""
           },
           "bgcolor": "rgb(17,17,17)",
           "caxis": {
            "gridcolor": "#506784",
            "linecolor": "#506784",
            "ticks": ""
           }
          },
          "title": {
           "x": 0.05
          },
          "updatemenudefaults": {
           "bgcolor": "#506784",
           "borderwidth": 0
          },
          "xaxis": {
           "automargin": true,
           "gridcolor": "#283442",
           "linecolor": "#506784",
           "ticks": "",
           "title": {
            "standoff": 15
           },
           "zerolinecolor": "#283442",
           "zerolinewidth": 2
          },
          "yaxis": {
           "automargin": true,
           "gridcolor": "#283442",
           "linecolor": "#506784",
           "ticks": "",
           "title": {
            "standoff": 15
           },
           "zerolinecolor": "#283442",
           "zerolinewidth": 2
          }
         }
        },
        "title": {
         "text": "Vote Trends for BJP (2019 Indian Elections)",
         "x": 0.5
        },
        "width": 1000,
        "xaxis": {
         "gridcolor": "gray",
         "rangeslider": {
          "visible": true
         },
         "tickformat": "%b %d",
         "title": {
          "text": "Date"
         },
         "type": "date"
        },
        "yaxis": {
         "gridcolor": "gray",
         "title": {
          "text": "Votes"
         }
        }
       }
      },
      "text/html": [
       "<div>            <script src=\"https://cdnjs.cloudflare.com/ajax/libs/mathjax/2.7.5/MathJax.js?config=TeX-AMS-MML_SVG\"></script><script type=\"text/javascript\">if (window.MathJax && window.MathJax.Hub && window.MathJax.Hub.Config) {window.MathJax.Hub.Config({SVG: {font: \"STIX-Web\"}});}</script>                <script type=\"text/javascript\">window.PlotlyConfig = {MathJaxConfig: 'local'};</script>\n",
       "        <script charset=\"utf-8\" src=\"https://cdn.plot.ly/plotly-3.0.1.min.js\"></script>                <div id=\"6b2ce7c9-71b3-45fb-9db2-059fce375f00\" class=\"plotly-graph-div\" style=\"height:600px; width:1000px;\"></div>            <script type=\"text/javascript\">                window.PLOTLYENV=window.PLOTLYENV || {};                                if (document.getElementById(\"6b2ce7c9-71b3-45fb-9db2-059fce375f00\")) {                    Plotly.newPlot(                        \"6b2ce7c9-71b3-45fb-9db2-059fce375f00\",                        [{\"close\":{\"dtype\":\"f8\",\"bdata\":\"VlULqxW7RUFzscTbChREQeNF+ynsOUVB1n0dGgkyREErycghV9hEQQFa0ENCC0RBW8v\\u002fRPdiRUHNfbP1utlDQZrq1HQcukVBSmqUF\\u002f\\u002f0Q0GFvkk+mMhEQboSIeSsIUVBw5ndr2cjREFDLazJVZ1FQcRmFDBUKURBxKzbjnJRREG2hDrS4+FEQSgh6ARXzkVBYgMGXBZzRUH4LuFOa+hDQUmdELPLDEVBA3kwtxpuREFjxlglX7xEQYLBquzH60RB7mMCTZekREEMVZWMxhNFQSSS\\u002fs+0RURBn1ztTfvpQ0HgqRv5LW9FQRm7MHpRJERBAi2oBwKeRUHoNGlDXKREQQF0DhHi0ERBW50i17h0REE6MRB+OzdFQelUJiQIR0RBBIjXt6PUQ0GqIC0AVVVEQeOzTzKMxURBDA9ALW1WRUH0vrE0lxFFQZnvAymmfUVBZWTfv4v7REGxM79FkjlEQRgtbZfejkRBAyGAZWj9Q0G8xHb\\u002fUiBFQU64PPO+QURBvs7ToAMSRUECJ\\u002fjijJ5FQajYtwbL7UNBvUuYVebFQ0HQTQPQmhZEQQeBit1iOERB\\u002f5VlnF9ORUFqOmkdhu9EQd0lpjbiQkRBeY29JfgQRUGUSjPdLcdEQXWYK6LyzUNB7eCvr8u8RUFkl+u7Ka9FQYnPziMTh0VBJobr67RpREFvtAUPgzNFQYW9dJUG0EVB\\u002fXfzv1NLRUFAuNamSV1EQZUUWAIjp0VBzj75hv0aRUGwl0Kf7HREQeH8E\\u002fwi1ENB587KnYP7REFyGypEvYBEQbKu1JfjM0RBQorDSdrbREGP\\u002fkFEd8hFQZ2FhCIsUURBWx7b9m\\u002fBRUGUQGxaQB1EQfvmkx5lPUVBy3QlasxJRUHIbMgO4EREQRQFDZbK\\u002fkNB\"},\"decreasing\":{\"line\":{\"color\":\"red\"}},\"high\":{\"dtype\":\"f8\",\"bdata\":\"PeBrvD81RkHUHUEIAx1EQXMn+DRHPUVBHH4m5yCaRUGF20OTfR1FQeix2wnhNUVB9lC1GcODRUFSqlg4Rl5FQR3Zhl89W0ZBDJs\\u002f1EnOREEXA81uFc5EQbu3yVVDVEVBa4d1cpZ\\u002fRUHd5vzfyhhGQaW12\\u002fNUMERBSNCCacYSRUF+It2qffhEQaHYq\\u002fuqT0ZBiS89oYfnRUHxIOmaXJZFQfELUJs1w0VB5XM19JTgREEP+q6tHq1FQYMcSv9P1EVBzdn06VTbREHVXVNSqUZFQRiq9stS6EVBLixqW9BnREHUxtsYZRlGQRkyPl6t\\u002f0VBoaSZjc3SRUEcU557CiZFQd2hffScE0VBR15+ztoIRUF5y0Ype3JFQVxW6BhpFEZB9n24CeG3REGdqFuzKuNEQZ5\\u002f1vHIYkVBivutaV59RUHVLufDGXhFQVn9B\\u002fmXskVBKtTbobtoRUEmnak7wThFQYnRWKM\\u002fyUVBRHBmiuEHRUHqHPsU66RFQSf39pLb6URBXv810J7YRUEJQ3LN1jFGQZtUpBvyMEVBZUN9ZjEURUEz9GsqQ2tEQQ8QeGCDj0VBoYwzd6y4RUFcg5bVQS5FQaSYH3Pp5URB0WTqHcIfRkEdfFu0hBNFQaqEoFNIu0RB9I6X0oZVRkE3AdF6ePZFQUbZeRMo80VBULANbBiiRUHP90A9VxJGQVDfmyF+50VBKOBK5Y0HRkGc81g8zf9EQe0WzYMr\\u002fEVBuDQk1WTdRUFF+IANFtlFQWu9Ln7EP0VBtsyj2W0ARUGVnP9G1YtFQdTPqMoKwUVBcNWGxXUyRUFyuq7+1h5GQR2Z\\u002fBx3sEVBgE89kx1NRkGDqTN2c7NEQazV820WqUVBqQ03PNkZRkFecST+wNhEQfrtfQ7bBURB\"},\"increasing\":{\"line\":{\"color\":\"green\"}},\"low\":{\"dtype\":\"f8\",\"bdata\":\"KCiMevkpREGuPocZeo5DQSd0Kw+IZERBg76m3ZYVREF4qPoVXDVEQVw1Cafc0kNBDErrgQRiREEZah7Mu79DQZv6UnEmaENB7ZqyyYixQ0G6\\u002f6vdPXZDQVD29j21+UNB70ASdYWrQ0FS+MbOTQRFQcY4GFpLvkNBJmCPSscZREH4fTXoP9lDQTJg4wROykNBsR3\\u002fDUhVQ0EdKKIitNZDQdz81UaFAkVBNpFFnqcCREEjFVhfyUpEQTzwd+1wnERB0EDGdHyTREHRGIXdUoRDQR2dT9oS0ENB\\u002fFCNFlPRQ0FSdE9Iud9EQeeW4j3j0ENB4EhQ07NcRUFb3J57n7RDQfgVSuz7okNBmSqEkCjPQ0Fwbds3rzlEQVwc\\u002fvwsGERBcqSU+BSIQ0FIKfq23bdDQY46XADa6ENBFgh8mX+wREG0YRQKWjBEQf07cEOA1ENBduz1ki7UQ0F060bPfB5EQdbEnycoeURB54O8ebd2Q0FXj2ZAy\\u002fNDQctSEPYptkNB1W0nQ4HZREE2QHn0FcREQZAp\\u002fRREZENBH1G9cSRhQ0G+i6vIrFpDQW+OphyLE0RBZvbThfjoQ0FqcBCDZrREQbtWlg+3BURBk1MN7KW\\u002fREHyLkjC5FNEQZaxkHACs0NB27XJxOh3RUGgwA2GVzZDQQ1UjttnR0VBvNcQlGoSREH8fitssCNFQZlxi+CntERB8wV6anHYREFJIp5Klt5DQXL7iP2HO0VBm2E7IwCaREEkOUW1KGZEQT07XyGAgUNBy3Aak7JTREEdd3F5gS5EQX\\u002fwI5WlJkRBM2wezEh7Q0F9eL0Nxg5FQQLgwTHuRERBmaZKaqFkQ0Etj1IvmPZDQW9uijNxuERB0VaBLcnlREFQ5ut2585DQZgHPUF6wkNB\"},\"name\":\"BJP\",\"open\":{\"dtype\":\"f8\",\"bdata\":\"KlY+tmCIREE5JzglDhREQZE2rr38AEVBM2Z6cCB8RUE8hlED9WJEQWZEIAa0BkVBMq3zBsezREEQsR0bW\\u002fxEQcCJJ8yh40NB0uhVpCdjREHRyQeJ9wFEQeDXirzBSkRBPMn52AbkREE71zlRHbVFQUZgyCgc8ENB9DjSOeePREGg8qTMjFZEQWT72UKw6ENBs+9JivHDQ0EQv3VPkFtFQe6+zKxyjEVBJWLdgItmREFz0mkfSJlFQa76qHL7VUVBWBWmXkPXREFdrAz5u9FDQZokJckdpEVBZrelBsw6REEPYayq5a9FQVgqLcrPbEVBC3DiRtFuRUG9vAhsVjpEQa3ejmm0xENBX0albs8AREFQ+kgnKtVEQYkwno5UwUVB47hWFKFYREECCrEvaNxDQUcs00YiDkRBwGo568omRUG1Y97qx4REQdbJDBQR8UNBX0jmkrXWQ0GAMOx0mdFEQbs3GibNMEVBuMKOJI92REHOVtV9T0pEQWpKYBLy2kRBDbpepk+gRUHlIZ0lcUNFQYs9SJLEFkVBkpfk5tADRUEIsC7IssNDQR7EiLUNHEVBcPyoMzhuREHF0bDfDx9FQU4IGu8sTkRBvE0y19qbRUHhS1JrGfREQZDn\\u002frN2VkRBZ1o0F6C1RUESyP5XO8lDQdg0qVz0wUVBMsYZ7hOGRUEL7gSZVbNFQUr6wd9hCEVBZSDkPQuURUHLQtbxXYBEQYZpGIePjkVBx91iEPNpRUFNlq6txJpFQfy7OvfU9ERBDevC2IhZREEmDOY643ZFQZ3wZVHiWkVBGY152IPcQ0EsUw2ig0NFQfBfwGRLaEVBfmFFpX\\u002fOQ0H1EMg\\u002fsppEQRsNSMNd5URB0f1pVUu9RUEJ0M8pXaBEQYMY2XeqyENB\"},\"x\":[\"2019-03-01T00:00:00.000000000\",\"2019-03-02T00:00:00.000000000\",\"2019-03-03T00:00:00.000000000\",\"2019-03-04T00:00:00.000000000\",\"2019-03-05T00:00:00.000000000\",\"2019-03-06T00:00:00.000000000\",\"2019-03-07T00:00:00.000000000\",\"2019-03-08T00:00:00.000000000\",\"2019-03-09T00:00:00.000000000\",\"2019-03-10T00:00:00.000000000\",\"2019-03-11T00:00:00.000000000\",\"2019-03-12T00:00:00.000000000\",\"2019-03-13T00:00:00.000000000\",\"2019-03-14T00:00:00.000000000\",\"2019-03-15T00:00:00.000000000\",\"2019-03-16T00:00:00.000000000\",\"2019-03-17T00:00:00.000000000\",\"2019-03-18T00:00:00.000000000\",\"2019-03-19T00:00:00.000000000\",\"2019-03-20T00:00:00.000000000\",\"2019-03-21T00:00:00.000000000\",\"2019-03-22T00:00:00.000000000\",\"2019-03-23T00:00:00.000000000\",\"2019-03-24T00:00:00.000000000\",\"2019-03-25T00:00:00.000000000\",\"2019-03-26T00:00:00.000000000\",\"2019-03-27T00:00:00.000000000\",\"2019-03-28T00:00:00.000000000\",\"2019-03-29T00:00:00.000000000\",\"2019-03-30T00:00:00.000000000\",\"2019-03-31T00:00:00.000000000\",\"2019-04-01T00:00:00.000000000\",\"2019-04-02T00:00:00.000000000\",\"2019-04-03T00:00:00.000000000\",\"2019-04-04T00:00:00.000000000\",\"2019-04-05T00:00:00.000000000\",\"2019-04-06T00:00:00.000000000\",\"2019-04-07T00:00:00.000000000\",\"2019-04-08T00:00:00.000000000\",\"2019-04-09T00:00:00.000000000\",\"2019-04-10T00:00:00.000000000\",\"2019-04-11T00:00:00.000000000\",\"2019-04-12T00:00:00.000000000\",\"2019-04-13T00:00:00.000000000\",\"2019-04-14T00:00:00.000000000\",\"2019-04-15T00:00:00.000000000\",\"2019-04-16T00:00:00.000000000\",\"2019-04-17T00:00:00.000000000\",\"2019-04-18T00:00:00.000000000\",\"2019-04-19T00:00:00.000000000\",\"2019-04-20T00:00:00.000000000\",\"2019-04-21T00:00:00.000000000\",\"2019-04-22T00:00:00.000000000\",\"2019-04-23T00:00:00.000000000\",\"2019-04-24T00:00:00.000000000\",\"2019-04-25T00:00:00.000000000\",\"2019-04-26T00:00:00.000000000\",\"2019-04-27T00:00:00.000000000\",\"2019-04-28T00:00:00.000000000\",\"2019-04-29T00:00:00.000000000\",\"2019-04-30T00:00:00.000000000\",\"2019-05-01T00:00:00.000000000\",\"2019-05-02T00:00:00.000000000\",\"2019-05-03T00:00:00.000000000\",\"2019-05-04T00:00:00.000000000\",\"2019-05-05T00:00:00.000000000\",\"2019-05-06T00:00:00.000000000\",\"2019-05-07T00:00:00.000000000\",\"2019-05-08T00:00:00.000000000\",\"2019-05-09T00:00:00.000000000\",\"2019-05-10T00:00:00.000000000\",\"2019-05-11T00:00:00.000000000\",\"2019-05-12T00:00:00.000000000\",\"2019-05-13T00:00:00.000000000\",\"2019-05-14T00:00:00.000000000\",\"2019-05-15T00:00:00.000000000\",\"2019-05-16T00:00:00.000000000\",\"2019-05-17T00:00:00.000000000\",\"2019-05-18T00:00:00.000000000\",\"2019-05-19T00:00:00.000000000\",\"2019-05-20T00:00:00.000000000\",\"2019-05-21T00:00:00.000000000\",\"2019-05-22T00:00:00.000000000\",\"2019-05-23T00:00:00.000000000\"],\"type\":\"candlestick\"}],                        {\"template\":{\"data\":{\"barpolar\":[{\"marker\":{\"line\":{\"color\":\"rgb(17,17,17)\",\"width\":0.5},\"pattern\":{\"fillmode\":\"overlay\",\"size\":10,\"solidity\":0.2}},\"type\":\"barpolar\"}],\"bar\":[{\"error_x\":{\"color\":\"#f2f5fa\"},\"error_y\":{\"color\":\"#f2f5fa\"},\"marker\":{\"line\":{\"color\":\"rgb(17,17,17)\",\"width\":0.5},\"pattern\":{\"fillmode\":\"overlay\",\"size\":10,\"solidity\":0.2}},\"type\":\"bar\"}],\"carpet\":[{\"aaxis\":{\"endlinecolor\":\"#A2B1C6\",\"gridcolor\":\"#506784\",\"linecolor\":\"#506784\",\"minorgridcolor\":\"#506784\",\"startlinecolor\":\"#A2B1C6\"},\"baxis\":{\"endlinecolor\":\"#A2B1C6\",\"gridcolor\":\"#506784\",\"linecolor\":\"#506784\",\"minorgridcolor\":\"#506784\",\"startlinecolor\":\"#A2B1C6\"},\"type\":\"carpet\"}],\"choropleth\":[{\"colorbar\":{\"outlinewidth\":0,\"ticks\":\"\"},\"type\":\"choropleth\"}],\"contourcarpet\":[{\"colorbar\":{\"outlinewidth\":0,\"ticks\":\"\"},\"type\":\"contourcarpet\"}],\"contour\":[{\"colorbar\":{\"outlinewidth\":0,\"ticks\":\"\"},\"colorscale\":[[0.0,\"#0d0887\"],[0.1111111111111111,\"#46039f\"],[0.2222222222222222,\"#7201a8\"],[0.3333333333333333,\"#9c179e\"],[0.4444444444444444,\"#bd3786\"],[0.5555555555555556,\"#d8576b\"],[0.6666666666666666,\"#ed7953\"],[0.7777777777777778,\"#fb9f3a\"],[0.8888888888888888,\"#fdca26\"],[1.0,\"#f0f921\"]],\"type\":\"contour\"}],\"heatmap\":[{\"colorbar\":{\"outlinewidth\":0,\"ticks\":\"\"},\"colorscale\":[[0.0,\"#0d0887\"],[0.1111111111111111,\"#46039f\"],[0.2222222222222222,\"#7201a8\"],[0.3333333333333333,\"#9c179e\"],[0.4444444444444444,\"#bd3786\"],[0.5555555555555556,\"#d8576b\"],[0.6666666666666666,\"#ed7953\"],[0.7777777777777778,\"#fb9f3a\"],[0.8888888888888888,\"#fdca26\"],[1.0,\"#f0f921\"]],\"type\":\"heatmap\"}],\"histogram2dcontour\":[{\"colorbar\":{\"outlinewidth\":0,\"ticks\":\"\"},\"colorscale\":[[0.0,\"#0d0887\"],[0.1111111111111111,\"#46039f\"],[0.2222222222222222,\"#7201a8\"],[0.3333333333333333,\"#9c179e\"],[0.4444444444444444,\"#bd3786\"],[0.5555555555555556,\"#d8576b\"],[0.6666666666666666,\"#ed7953\"],[0.7777777777777778,\"#fb9f3a\"],[0.8888888888888888,\"#fdca26\"],[1.0,\"#f0f921\"]],\"type\":\"histogram2dcontour\"}],\"histogram2d\":[{\"colorbar\":{\"outlinewidth\":0,\"ticks\":\"\"},\"colorscale\":[[0.0,\"#0d0887\"],[0.1111111111111111,\"#46039f\"],[0.2222222222222222,\"#7201a8\"],[0.3333333333333333,\"#9c179e\"],[0.4444444444444444,\"#bd3786\"],[0.5555555555555556,\"#d8576b\"],[0.6666666666666666,\"#ed7953\"],[0.7777777777777778,\"#fb9f3a\"],[0.8888888888888888,\"#fdca26\"],[1.0,\"#f0f921\"]],\"type\":\"histogram2d\"}],\"histogram\":[{\"marker\":{\"pattern\":{\"fillmode\":\"overlay\",\"size\":10,\"solidity\":0.2}},\"type\":\"histogram\"}],\"mesh3d\":[{\"colorbar\":{\"outlinewidth\":0,\"ticks\":\"\"},\"type\":\"mesh3d\"}],\"parcoords\":[{\"line\":{\"colorbar\":{\"outlinewidth\":0,\"ticks\":\"\"}},\"type\":\"parcoords\"}],\"pie\":[{\"automargin\":true,\"type\":\"pie\"}],\"scatter3d\":[{\"line\":{\"colorbar\":{\"outlinewidth\":0,\"ticks\":\"\"}},\"marker\":{\"colorbar\":{\"outlinewidth\":0,\"ticks\":\"\"}},\"type\":\"scatter3d\"}],\"scattercarpet\":[{\"marker\":{\"colorbar\":{\"outlinewidth\":0,\"ticks\":\"\"}},\"type\":\"scattercarpet\"}],\"scattergeo\":[{\"marker\":{\"colorbar\":{\"outlinewidth\":0,\"ticks\":\"\"}},\"type\":\"scattergeo\"}],\"scattergl\":[{\"marker\":{\"line\":{\"color\":\"#283442\"}},\"type\":\"scattergl\"}],\"scattermapbox\":[{\"marker\":{\"colorbar\":{\"outlinewidth\":0,\"ticks\":\"\"}},\"type\":\"scattermapbox\"}],\"scattermap\":[{\"marker\":{\"colorbar\":{\"outlinewidth\":0,\"ticks\":\"\"}},\"type\":\"scattermap\"}],\"scatterpolargl\":[{\"marker\":{\"colorbar\":{\"outlinewidth\":0,\"ticks\":\"\"}},\"type\":\"scatterpolargl\"}],\"scatterpolar\":[{\"marker\":{\"colorbar\":{\"outlinewidth\":0,\"ticks\":\"\"}},\"type\":\"scatterpolar\"}],\"scatter\":[{\"marker\":{\"line\":{\"color\":\"#283442\"}},\"type\":\"scatter\"}],\"scatterternary\":[{\"marker\":{\"colorbar\":{\"outlinewidth\":0,\"ticks\":\"\"}},\"type\":\"scatterternary\"}],\"surface\":[{\"colorbar\":{\"outlinewidth\":0,\"ticks\":\"\"},\"colorscale\":[[0.0,\"#0d0887\"],[0.1111111111111111,\"#46039f\"],[0.2222222222222222,\"#7201a8\"],[0.3333333333333333,\"#9c179e\"],[0.4444444444444444,\"#bd3786\"],[0.5555555555555556,\"#d8576b\"],[0.6666666666666666,\"#ed7953\"],[0.7777777777777778,\"#fb9f3a\"],[0.8888888888888888,\"#fdca26\"],[1.0,\"#f0f921\"]],\"type\":\"surface\"}],\"table\":[{\"cells\":{\"fill\":{\"color\":\"#506784\"},\"line\":{\"color\":\"rgb(17,17,17)\"}},\"header\":{\"fill\":{\"color\":\"#2a3f5f\"},\"line\":{\"color\":\"rgb(17,17,17)\"}},\"type\":\"table\"}]},\"layout\":{\"annotationdefaults\":{\"arrowcolor\":\"#f2f5fa\",\"arrowhead\":0,\"arrowwidth\":1},\"autotypenumbers\":\"strict\",\"coloraxis\":{\"colorbar\":{\"outlinewidth\":0,\"ticks\":\"\"}},\"colorscale\":{\"diverging\":[[0,\"#8e0152\"],[0.1,\"#c51b7d\"],[0.2,\"#de77ae\"],[0.3,\"#f1b6da\"],[0.4,\"#fde0ef\"],[0.5,\"#f7f7f7\"],[0.6,\"#e6f5d0\"],[0.7,\"#b8e186\"],[0.8,\"#7fbc41\"],[0.9,\"#4d9221\"],[1,\"#276419\"]],\"sequential\":[[0.0,\"#0d0887\"],[0.1111111111111111,\"#46039f\"],[0.2222222222222222,\"#7201a8\"],[0.3333333333333333,\"#9c179e\"],[0.4444444444444444,\"#bd3786\"],[0.5555555555555556,\"#d8576b\"],[0.6666666666666666,\"#ed7953\"],[0.7777777777777778,\"#fb9f3a\"],[0.8888888888888888,\"#fdca26\"],[1.0,\"#f0f921\"]],\"sequentialminus\":[[0.0,\"#0d0887\"],[0.1111111111111111,\"#46039f\"],[0.2222222222222222,\"#7201a8\"],[0.3333333333333333,\"#9c179e\"],[0.4444444444444444,\"#bd3786\"],[0.5555555555555556,\"#d8576b\"],[0.6666666666666666,\"#ed7953\"],[0.7777777777777778,\"#fb9f3a\"],[0.8888888888888888,\"#fdca26\"],[1.0,\"#f0f921\"]]},\"colorway\":[\"#636efa\",\"#EF553B\",\"#00cc96\",\"#ab63fa\",\"#FFA15A\",\"#19d3f3\",\"#FF6692\",\"#B6E880\",\"#FF97FF\",\"#FECB52\"],\"font\":{\"color\":\"#f2f5fa\"},\"geo\":{\"bgcolor\":\"rgb(17,17,17)\",\"lakecolor\":\"rgb(17,17,17)\",\"landcolor\":\"rgb(17,17,17)\",\"showlakes\":true,\"showland\":true,\"subunitcolor\":\"#506784\"},\"hoverlabel\":{\"align\":\"left\"},\"hovermode\":\"closest\",\"mapbox\":{\"style\":\"dark\"},\"paper_bgcolor\":\"rgb(17,17,17)\",\"plot_bgcolor\":\"rgb(17,17,17)\",\"polar\":{\"angularaxis\":{\"gridcolor\":\"#506784\",\"linecolor\":\"#506784\",\"ticks\":\"\"},\"bgcolor\":\"rgb(17,17,17)\",\"radialaxis\":{\"gridcolor\":\"#506784\",\"linecolor\":\"#506784\",\"ticks\":\"\"}},\"scene\":{\"xaxis\":{\"backgroundcolor\":\"rgb(17,17,17)\",\"gridcolor\":\"#506784\",\"gridwidth\":2,\"linecolor\":\"#506784\",\"showbackground\":true,\"ticks\":\"\",\"zerolinecolor\":\"#C8D4E3\"},\"yaxis\":{\"backgroundcolor\":\"rgb(17,17,17)\",\"gridcolor\":\"#506784\",\"gridwidth\":2,\"linecolor\":\"#506784\",\"showbackground\":true,\"ticks\":\"\",\"zerolinecolor\":\"#C8D4E3\"},\"zaxis\":{\"backgroundcolor\":\"rgb(17,17,17)\",\"gridcolor\":\"#506784\",\"gridwidth\":2,\"linecolor\":\"#506784\",\"showbackground\":true,\"ticks\":\"\",\"zerolinecolor\":\"#C8D4E3\"}},\"shapedefaults\":{\"line\":{\"color\":\"#f2f5fa\"}},\"sliderdefaults\":{\"bgcolor\":\"#C8D4E3\",\"bordercolor\":\"rgb(17,17,17)\",\"borderwidth\":1,\"tickwidth\":0},\"ternary\":{\"aaxis\":{\"gridcolor\":\"#506784\",\"linecolor\":\"#506784\",\"ticks\":\"\"},\"baxis\":{\"gridcolor\":\"#506784\",\"linecolor\":\"#506784\",\"ticks\":\"\"},\"bgcolor\":\"rgb(17,17,17)\",\"caxis\":{\"gridcolor\":\"#506784\",\"linecolor\":\"#506784\",\"ticks\":\"\"}},\"title\":{\"x\":0.05},\"updatemenudefaults\":{\"bgcolor\":\"#506784\",\"borderwidth\":0},\"xaxis\":{\"automargin\":true,\"gridcolor\":\"#283442\",\"linecolor\":\"#506784\",\"ticks\":\"\",\"title\":{\"standoff\":15},\"zerolinecolor\":\"#283442\",\"zerolinewidth\":2},\"yaxis\":{\"automargin\":true,\"gridcolor\":\"#283442\",\"linecolor\":\"#506784\",\"ticks\":\"\",\"title\":{\"standoff\":15},\"zerolinecolor\":\"#283442\",\"zerolinewidth\":2}}},\"xaxis\":{\"rangeslider\":{\"visible\":true},\"title\":{\"text\":\"Date\"},\"tickformat\":\"%b %d\",\"gridcolor\":\"gray\",\"type\":\"date\"},\"yaxis\":{\"title\":{\"text\":\"Votes\"},\"gridcolor\":\"gray\"},\"font\":{\"color\":\"black\"},\"title\":{\"text\":\"Vote Trends for BJP (2019 Indian Elections)\",\"x\":0.5},\"margin\":{\"l\":50,\"r\":50,\"t\":80,\"b\":50},\"height\":600,\"width\":1000,\"plot_bgcolor\":\"white\",\"paper_bgcolor\":\"white\",\"showlegend\":false},                        {\"responsive\": true}                    ).then(function(){\n",
       "                            \n",
       "var gd = document.getElementById('6b2ce7c9-71b3-45fb-9db2-059fce375f00');\n",
       "var x = new MutationObserver(function (mutations, observer) {{\n",
       "        var display = window.getComputedStyle(gd).display;\n",
       "        if (!display || display === 'none') {{\n",
       "            console.log([gd, 'removed!']);\n",
       "            Plotly.purge(gd);\n",
       "            observer.disconnect();\n",
       "        }}\n",
       "}});\n",
       "\n",
       "// Listen for the removal of the full notebook cells\n",
       "var notebookContainer = gd.closest('#notebook-container');\n",
       "if (notebookContainer) {{\n",
       "    x.observe(notebookContainer, {childList: true});\n",
       "}}\n",
       "\n",
       "// Listen for the clearing of the current output cell\n",
       "var outputEl = gd.closest('.output');\n",
       "if (outputEl) {{\n",
       "    x.observe(outputEl, {childList: true});\n",
       "}}\n",
       "\n",
       "                        })                };            </script>        </div>"
      ]
     },
     "metadata": {},
     "output_type": "display_data"
    }
   ],
   "source": [
    "try:\n",
    "    # Get BJP (top party by votes)\n",
    "    top_party = 'BJP'  # Hardcoded as per feedback\n",
    "    party_votes = vote[vote['PARTY'] == top_party]['TOTAL VOTES']\n",
    "    total_votes = party_votes.sum()\n",
    "\n",
    "    # Generate daily dates: March 1 to May 23, 2019 (~84 days)\n",
    "    start_date = datetime(2019, 3, 1)\n",
    "    end_date = datetime(2019, 5, 23)\n",
    "    dates = [start_date + timedelta(days=x) for x in range((end_date - start_date).days + 1)]\n",
    "\n",
    "    # Simulate daily vote data\n",
    "    np.random.seed(42)  # For reproducibility\n",
    "    base_votes = total_votes / len(dates)\n",
    "    vote_data = []\n",
    "    for i, date in enumerate(dates):\n",
    "        open_votes = base_votes * (1 + np.random.uniform(-0.05, 0.05))\n",
    "        close_votes = base_votes * (1 + np.random.uniform(-0.05, 0.05))\n",
    "        high_votes = max(open_votes, close_votes) * (1 + np.random.uniform(0, 0.03))\n",
    "        low_votes = min(open_votes, close_votes) * (1 - np.random.uniform(0, 0.03))\n",
    "        vote_data.append({\n",
    "            'Date': date,\n",
    "            'Open': open_votes,\n",
    "            'High': high_votes,\n",
    "            'Low': low_votes,\n",
    "            'Close': close_votes\n",
    "        })\n",
    "\n",
    "    # Create DataFrame\n",
    "    df = pd.DataFrame(vote_data)\n",
    "\n",
    "    # Create candlestick chart\n",
    "    fig = go.Figure(data=[\n",
    "        go.Candlestick(\n",
    "            x=df['Date'],\n",
    "            open=df['Open'],\n",
    "            high=df['High'],\n",
    "            low=df['Low'],\n",
    "            close=df['Close'],\n",
    "            increasing_line_color='green',\n",
    "            decreasing_line_color='red',\n",
    "            name=top_party\n",
    "        )\n",
    "    ])\n",
    "\n",
    "    # Customize layout for trading interface\n",
    "    fig.update_layout(\n",
    "        title=f'Vote Trends for {top_party} (2019 Indian Elections)',\n",
    "        template='plotly_dark',\n",
    "        height=600,\n",
    "        width=1000,\n",
    "        xaxis_rangeslider_visible=True,\n",
    "        xaxis=dict(\n",
    "            title='Date',\n",
    "            tickformat='%b %d',\n",
    "            gridcolor='gray',\n",
    "            type='date'\n",
    "        ),\n",
    "        yaxis=dict(\n",
    "            title='Votes',\n",
    "            gridcolor='gray'\n",
    "        ),\n",
    "        plot_bgcolor='white',\n",
    "        paper_bgcolor='white',\n",
    "        font=dict(color='black'),\n",
    "        title_x=0.5,\n",
    "        showlegend=False,\n",
    "        margin=dict(l=50, r=50, t=80, b=50)\n",
    "    )\n",
    "\n",
    "    # Show plot\n",
    "    fig.show()\n",
    "\n",
    "except Exception as e:\n",
    "    print(f\"Error rendering candlestick chart: {str(e)}\")\n"
   ]
  },
  {
   "cell_type": "markdown",
   "id": "b423c5fe",
   "metadata": {},
   "source": [
    "### Key Metrics for Winning Candidates (2019 Indian Elections)"
   ]
  },
  {
   "cell_type": "code",
   "execution_count": 14,
   "id": "3214fe4e",
   "metadata": {},
   "outputs": [
    {
     "data": {
      "application/vnd.plotly.v1+json": {
       "config": {
        "plotlyServerURL": "https://plot.ly"
       },
       "data": [
        {
         "domain": {
          "x": [
           0,
           0.45
          ],
          "y": [
           0.625,
           1
          ]
         },
         "gauge": {
          "axis": {
           "range": [
            0,
            6
           ],
           "tickcolor": "white",
           "tickwidth": 2
          },
          "bar": {
           "color": "white",
           "thickness": 0.05
          },
          "bgcolor": "rgba(20, 20, 30, 0.9)",
          "bordercolor": "#00ddeb",
          "borderwidth": 3,
          "shape": "angular",
          "steps": [
           {
            "color": "#00ffcc",
            "range": [
             0,
             1.98
            ]
           },
           {
            "color": "#7b00ff",
            "range": [
             1.98,
             3.96
            ]
           },
           {
            "color": "#00b7eb",
            "range": [
             3.96,
             6
            ]
           }
          ],
          "threshold": {
           "line": {
            "color": "#ff007a",
            "width": 4
           },
           "thickness": 0.8,
           "value": 1.9090909090909092
          }
         },
         "mode": "gauge+number",
         "type": "indicator",
         "value": 1.9090909090909092
        },
        {
         "domain": {
          "x": [
           0.55,
           1
          ],
          "y": [
           0.625,
           1
          ]
         },
         "gauge": {
          "axis": {
           "range": [
            0,
            86
           ],
           "tickcolor": "white",
           "tickwidth": 2
          },
          "bar": {
           "color": "white",
           "thickness": 0.05
          },
          "bgcolor": "rgba(20, 20, 30, 0.9)",
          "bordercolor": "#00ddeb",
          "borderwidth": 3,
          "shape": "angular",
          "steps": [
           {
            "color": "#00ffcc",
            "range": [
             0,
             28.380000000000003
            ]
           },
           {
            "color": "#7b00ff",
            "range": [
             28.380000000000003,
             56.760000000000005
            ]
           },
           {
            "color": "#00b7eb",
            "range": [
             56.760000000000005,
             86
            ]
           }
          ],
          "threshold": {
           "line": {
            "color": "#ff007a",
            "width": 4
           },
           "thickness": 0.8,
           "value": 54.44155844155844
          }
         },
         "mode": "gauge+number",
         "type": "indicator",
         "value": 54.44155844155844
        },
        {
         "domain": {
          "x": [
           0,
           0.45
          ],
          "y": [
           0,
           0.375
          ]
         },
         "gauge": {
          "axis": {
           "range": [
            0,
            97.45149151999993
           ],
           "tickcolor": "white",
           "tickwidth": 2
          },
          "bar": {
           "color": "white",
           "thickness": 0.05
          },
          "bgcolor": "rgba(20, 20, 30, 0.9)",
          "bordercolor": "#00ddeb",
          "borderwidth": 3,
          "shape": "angular",
          "steps": [
           {
            "color": "#00ffcc",
            "range": [
             0,
             32.15899220159998
            ]
           },
           {
            "color": "#7b00ff",
            "range": [
             32.15899220159998,
             64.31798440319996
            ]
           },
           {
            "color": "#00b7eb",
            "range": [
             64.31798440319996,
             97.45149151999993
            ]
           }
          ],
          "threshold": {
           "line": {
            "color": "#ff007a",
            "width": 4
           },
           "thickness": 0.8,
           "value": 20.91356733005566
          }
         },
         "mode": "gauge+number",
         "type": "indicator",
         "value": 20.91356733005566
        },
        {
         "domain": {
          "x": [
           0.55,
           1
          ],
          "y": [
           0,
           0.375
          ]
         },
         "gauge": {
          "axis": {
           "range": [
            0,
            8.46652
           ],
           "tickcolor": "white",
           "tickwidth": 2
          },
          "bar": {
           "color": "white",
           "thickness": 0.05
          },
          "bgcolor": "rgba(20, 20, 30, 0.9)",
          "bordercolor": "#00ddeb",
          "borderwidth": 3,
          "shape": "angular",
          "steps": [
           {
            "color": "#00ffcc",
            "range": [
             0,
             2.7939515999999998
            ]
           },
           {
            "color": "#7b00ff",
            "range": [
             2.7939515999999998,
             5.5879031999999995
            ]
           },
           {
            "color": "#00b7eb",
            "range": [
             5.5879031999999995,
             8.46652
            ]
           }
          ],
          "threshold": {
           "line": {
            "color": "#ff007a",
            "width": 4
           },
           "thickness": 0.8,
           "value": 5.949426716141002
          }
         },
         "mode": "gauge+number",
         "type": "indicator",
         "value": 5.949426716141002
        }
       ],
       "layout": {
        "annotations": [
         {
          "font": {
           "size": 16
          },
          "showarrow": false,
          "text": "Criminal Cases",
          "x": 0.225,
          "xanchor": "center",
          "xref": "paper",
          "y": 1,
          "yanchor": "bottom",
          "yref": "paper"
         },
         {
          "font": {
           "size": 16
          },
          "showarrow": false,
          "text": "Age",
          "x": 0.775,
          "xanchor": "center",
          "xref": "paper",
          "y": 1,
          "yanchor": "bottom",
          "yref": "paper"
         },
         {
          "font": {
           "size": 16
          },
          "showarrow": false,
          "text": "Assets (Crores)",
          "x": 0.225,
          "xanchor": "center",
          "xref": "paper",
          "y": 0.375,
          "yanchor": "bottom",
          "yref": "paper"
         },
         {
          "font": {
           "size": 16
          },
          "showarrow": false,
          "text": "Votes (Lakhs)",
          "x": 0.775,
          "xanchor": "center",
          "xref": "paper",
          "y": 0.375,
          "yanchor": "bottom",
          "yref": "paper"
         }
        ],
        "font": {
         "color": "black",
         "size": 12
        },
        "height": 800,
        "margin": {
         "b": 50,
         "l": 50,
         "r": 50,
         "t": 100
        },
        "template": {
         "data": {
          "bar": [
           {
            "error_x": {
             "color": "#2a3f5f"
            },
            "error_y": {
             "color": "#2a3f5f"
            },
            "marker": {
             "line": {
              "color": "#E5ECF6",
              "width": 0.5
             },
             "pattern": {
              "fillmode": "overlay",
              "size": 10,
              "solidity": 0.2
             }
            },
            "type": "bar"
           }
          ],
          "barpolar": [
           {
            "marker": {
             "line": {
              "color": "#E5ECF6",
              "width": 0.5
             },
             "pattern": {
              "fillmode": "overlay",
              "size": 10,
              "solidity": 0.2
             }
            },
            "type": "barpolar"
           }
          ],
          "carpet": [
           {
            "aaxis": {
             "endlinecolor": "#2a3f5f",
             "gridcolor": "white",
             "linecolor": "white",
             "minorgridcolor": "white",
             "startlinecolor": "#2a3f5f"
            },
            "baxis": {
             "endlinecolor": "#2a3f5f",
             "gridcolor": "white",
             "linecolor": "white",
             "minorgridcolor": "white",
             "startlinecolor": "#2a3f5f"
            },
            "type": "carpet"
           }
          ],
          "choropleth": [
           {
            "colorbar": {
             "outlinewidth": 0,
             "ticks": ""
            },
            "type": "choropleth"
           }
          ],
          "contour": [
           {
            "colorbar": {
             "outlinewidth": 0,
             "ticks": ""
            },
            "colorscale": [
             [
              0,
              "#0d0887"
             ],
             [
              0.1111111111111111,
              "#46039f"
             ],
             [
              0.2222222222222222,
              "#7201a8"
             ],
             [
              0.3333333333333333,
              "#9c179e"
             ],
             [
              0.4444444444444444,
              "#bd3786"
             ],
             [
              0.5555555555555556,
              "#d8576b"
             ],
             [
              0.6666666666666666,
              "#ed7953"
             ],
             [
              0.7777777777777778,
              "#fb9f3a"
             ],
             [
              0.8888888888888888,
              "#fdca26"
             ],
             [
              1,
              "#f0f921"
             ]
            ],
            "type": "contour"
           }
          ],
          "contourcarpet": [
           {
            "colorbar": {
             "outlinewidth": 0,
             "ticks": ""
            },
            "type": "contourcarpet"
           }
          ],
          "heatmap": [
           {
            "colorbar": {
             "outlinewidth": 0,
             "ticks": ""
            },
            "colorscale": [
             [
              0,
              "#0d0887"
             ],
             [
              0.1111111111111111,
              "#46039f"
             ],
             [
              0.2222222222222222,
              "#7201a8"
             ],
             [
              0.3333333333333333,
              "#9c179e"
             ],
             [
              0.4444444444444444,
              "#bd3786"
             ],
             [
              0.5555555555555556,
              "#d8576b"
             ],
             [
              0.6666666666666666,
              "#ed7953"
             ],
             [
              0.7777777777777778,
              "#fb9f3a"
             ],
             [
              0.8888888888888888,
              "#fdca26"
             ],
             [
              1,
              "#f0f921"
             ]
            ],
            "type": "heatmap"
           }
          ],
          "histogram": [
           {
            "marker": {
             "pattern": {
              "fillmode": "overlay",
              "size": 10,
              "solidity": 0.2
             }
            },
            "type": "histogram"
           }
          ],
          "histogram2d": [
           {
            "colorbar": {
             "outlinewidth": 0,
             "ticks": ""
            },
            "colorscale": [
             [
              0,
              "#0d0887"
             ],
             [
              0.1111111111111111,
              "#46039f"
             ],
             [
              0.2222222222222222,
              "#7201a8"
             ],
             [
              0.3333333333333333,
              "#9c179e"
             ],
             [
              0.4444444444444444,
              "#bd3786"
             ],
             [
              0.5555555555555556,
              "#d8576b"
             ],
             [
              0.6666666666666666,
              "#ed7953"
             ],
             [
              0.7777777777777778,
              "#fb9f3a"
             ],
             [
              0.8888888888888888,
              "#fdca26"
             ],
             [
              1,
              "#f0f921"
             ]
            ],
            "type": "histogram2d"
           }
          ],
          "histogram2dcontour": [
           {
            "colorbar": {
             "outlinewidth": 0,
             "ticks": ""
            },
            "colorscale": [
             [
              0,
              "#0d0887"
             ],
             [
              0.1111111111111111,
              "#46039f"
             ],
             [
              0.2222222222222222,
              "#7201a8"
             ],
             [
              0.3333333333333333,
              "#9c179e"
             ],
             [
              0.4444444444444444,
              "#bd3786"
             ],
             [
              0.5555555555555556,
              "#d8576b"
             ],
             [
              0.6666666666666666,
              "#ed7953"
             ],
             [
              0.7777777777777778,
              "#fb9f3a"
             ],
             [
              0.8888888888888888,
              "#fdca26"
             ],
             [
              1,
              "#f0f921"
             ]
            ],
            "type": "histogram2dcontour"
           }
          ],
          "mesh3d": [
           {
            "colorbar": {
             "outlinewidth": 0,
             "ticks": ""
            },
            "type": "mesh3d"
           }
          ],
          "parcoords": [
           {
            "line": {
             "colorbar": {
              "outlinewidth": 0,
              "ticks": ""
             }
            },
            "type": "parcoords"
           }
          ],
          "pie": [
           {
            "automargin": true,
            "type": "pie"
           }
          ],
          "scatter": [
           {
            "fillpattern": {
             "fillmode": "overlay",
             "size": 10,
             "solidity": 0.2
            },
            "type": "scatter"
           }
          ],
          "scatter3d": [
           {
            "line": {
             "colorbar": {
              "outlinewidth": 0,
              "ticks": ""
             }
            },
            "marker": {
             "colorbar": {
              "outlinewidth": 0,
              "ticks": ""
             }
            },
            "type": "scatter3d"
           }
          ],
          "scattercarpet": [
           {
            "marker": {
             "colorbar": {
              "outlinewidth": 0,
              "ticks": ""
             }
            },
            "type": "scattercarpet"
           }
          ],
          "scattergeo": [
           {
            "marker": {
             "colorbar": {
              "outlinewidth": 0,
              "ticks": ""
             }
            },
            "type": "scattergeo"
           }
          ],
          "scattergl": [
           {
            "marker": {
             "colorbar": {
              "outlinewidth": 0,
              "ticks": ""
             }
            },
            "type": "scattergl"
           }
          ],
          "scattermap": [
           {
            "marker": {
             "colorbar": {
              "outlinewidth": 0,
              "ticks": ""
             }
            },
            "type": "scattermap"
           }
          ],
          "scattermapbox": [
           {
            "marker": {
             "colorbar": {
              "outlinewidth": 0,
              "ticks": ""
             }
            },
            "type": "scattermapbox"
           }
          ],
          "scatterpolar": [
           {
            "marker": {
             "colorbar": {
              "outlinewidth": 0,
              "ticks": ""
             }
            },
            "type": "scatterpolar"
           }
          ],
          "scatterpolargl": [
           {
            "marker": {
             "colorbar": {
              "outlinewidth": 0,
              "ticks": ""
             }
            },
            "type": "scatterpolargl"
           }
          ],
          "scatterternary": [
           {
            "marker": {
             "colorbar": {
              "outlinewidth": 0,
              "ticks": ""
             }
            },
            "type": "scatterternary"
           }
          ],
          "surface": [
           {
            "colorbar": {
             "outlinewidth": 0,
             "ticks": ""
            },
            "colorscale": [
             [
              0,
              "#0d0887"
             ],
             [
              0.1111111111111111,
              "#46039f"
             ],
             [
              0.2222222222222222,
              "#7201a8"
             ],
             [
              0.3333333333333333,
              "#9c179e"
             ],
             [
              0.4444444444444444,
              "#bd3786"
             ],
             [
              0.5555555555555556,
              "#d8576b"
             ],
             [
              0.6666666666666666,
              "#ed7953"
             ],
             [
              0.7777777777777778,
              "#fb9f3a"
             ],
             [
              0.8888888888888888,
              "#fdca26"
             ],
             [
              1,
              "#f0f921"
             ]
            ],
            "type": "surface"
           }
          ],
          "table": [
           {
            "cells": {
             "fill": {
              "color": "#EBF0F8"
             },
             "line": {
              "color": "white"
             }
            },
            "header": {
             "fill": {
              "color": "#C8D4E3"
             },
             "line": {
              "color": "white"
             }
            },
            "type": "table"
           }
          ]
         },
         "layout": {
          "annotationdefaults": {
           "arrowcolor": "#2a3f5f",
           "arrowhead": 0,
           "arrowwidth": 1
          },
          "autotypenumbers": "strict",
          "coloraxis": {
           "colorbar": {
            "outlinewidth": 0,
            "ticks": ""
           }
          },
          "colorscale": {
           "diverging": [
            [
             0,
             "#8e0152"
            ],
            [
             0.1,
             "#c51b7d"
            ],
            [
             0.2,
             "#de77ae"
            ],
            [
             0.3,
             "#f1b6da"
            ],
            [
             0.4,
             "#fde0ef"
            ],
            [
             0.5,
             "#f7f7f7"
            ],
            [
             0.6,
             "#e6f5d0"
            ],
            [
             0.7,
             "#b8e186"
            ],
            [
             0.8,
             "#7fbc41"
            ],
            [
             0.9,
             "#4d9221"
            ],
            [
             1,
             "#276419"
            ]
           ],
           "sequential": [
            [
             0,
             "#0d0887"
            ],
            [
             0.1111111111111111,
             "#46039f"
            ],
            [
             0.2222222222222222,
             "#7201a8"
            ],
            [
             0.3333333333333333,
             "#9c179e"
            ],
            [
             0.4444444444444444,
             "#bd3786"
            ],
            [
             0.5555555555555556,
             "#d8576b"
            ],
            [
             0.6666666666666666,
             "#ed7953"
            ],
            [
             0.7777777777777778,
             "#fb9f3a"
            ],
            [
             0.8888888888888888,
             "#fdca26"
            ],
            [
             1,
             "#f0f921"
            ]
           ],
           "sequentialminus": [
            [
             0,
             "#0d0887"
            ],
            [
             0.1111111111111111,
             "#46039f"
            ],
            [
             0.2222222222222222,
             "#7201a8"
            ],
            [
             0.3333333333333333,
             "#9c179e"
            ],
            [
             0.4444444444444444,
             "#bd3786"
            ],
            [
             0.5555555555555556,
             "#d8576b"
            ],
            [
             0.6666666666666666,
             "#ed7953"
            ],
            [
             0.7777777777777778,
             "#fb9f3a"
            ],
            [
             0.8888888888888888,
             "#fdca26"
            ],
            [
             1,
             "#f0f921"
            ]
           ]
          },
          "colorway": [
           "#636efa",
           "#EF553B",
           "#00cc96",
           "#ab63fa",
           "#FFA15A",
           "#19d3f3",
           "#FF6692",
           "#B6E880",
           "#FF97FF",
           "#FECB52"
          ],
          "font": {
           "color": "#2a3f5f"
          },
          "geo": {
           "bgcolor": "white",
           "lakecolor": "white",
           "landcolor": "#E5ECF6",
           "showlakes": true,
           "showland": true,
           "subunitcolor": "white"
          },
          "hoverlabel": {
           "align": "left"
          },
          "hovermode": "closest",
          "mapbox": {
           "style": "light"
          },
          "paper_bgcolor": "white",
          "plot_bgcolor": "#E5ECF6",
          "polar": {
           "angularaxis": {
            "gridcolor": "white",
            "linecolor": "white",
            "ticks": ""
           },
           "bgcolor": "#E5ECF6",
           "radialaxis": {
            "gridcolor": "white",
            "linecolor": "white",
            "ticks": ""
           }
          },
          "scene": {
           "xaxis": {
            "backgroundcolor": "#E5ECF6",
            "gridcolor": "white",
            "gridwidth": 2,
            "linecolor": "white",
            "showbackground": true,
            "ticks": "",
            "zerolinecolor": "white"
           },
           "yaxis": {
            "backgroundcolor": "#E5ECF6",
            "gridcolor": "white",
            "gridwidth": 2,
            "linecolor": "white",
            "showbackground": true,
            "ticks": "",
            "zerolinecolor": "white"
           },
           "zaxis": {
            "backgroundcolor": "#E5ECF6",
            "gridcolor": "white",
            "gridwidth": 2,
            "linecolor": "white",
            "showbackground": true,
            "ticks": "",
            "zerolinecolor": "white"
           }
          },
          "shapedefaults": {
           "line": {
            "color": "#2a3f5f"
           }
          },
          "ternary": {
           "aaxis": {
            "gridcolor": "white",
            "linecolor": "white",
            "ticks": ""
           },
           "baxis": {
            "gridcolor": "white",
            "linecolor": "white",
            "ticks": ""
           },
           "bgcolor": "#E5ECF6",
           "caxis": {
            "gridcolor": "white",
            "linecolor": "white",
            "ticks": ""
           }
          },
          "title": {
           "x": 0.05
          },
          "xaxis": {
           "automargin": true,
           "gridcolor": "white",
           "linecolor": "white",
           "ticks": "",
           "title": {
            "standoff": 15
           },
           "zerolinecolor": "white",
           "zerolinewidth": 2
          },
          "yaxis": {
           "automargin": true,
           "gridcolor": "white",
           "linecolor": "white",
           "ticks": "",
           "title": {
            "standoff": 15
           },
           "zerolinecolor": "white",
           "zerolinewidth": 2
          }
         }
        },
        "title": {
         "text": "Key Metrics for Winning Candidates (2019 Indian Elections)",
         "x": 0.5
        },
        "width": 1000
       }
      },
      "text/html": [
       "<div>            <script src=\"https://cdnjs.cloudflare.com/ajax/libs/mathjax/2.7.5/MathJax.js?config=TeX-AMS-MML_SVG\"></script><script type=\"text/javascript\">if (window.MathJax && window.MathJax.Hub && window.MathJax.Hub.Config) {window.MathJax.Hub.Config({SVG: {font: \"STIX-Web\"}});}</script>                <script type=\"text/javascript\">window.PlotlyConfig = {MathJaxConfig: 'local'};</script>\n",
       "        <script charset=\"utf-8\" src=\"https://cdn.plot.ly/plotly-3.0.1.min.js\"></script>                <div id=\"51c59f78-b8de-4708-b99d-b773a45863b7\" class=\"plotly-graph-div\" style=\"height:800px; width:1000px;\"></div>            <script type=\"text/javascript\">                window.PLOTLYENV=window.PLOTLYENV || {};                                if (document.getElementById(\"51c59f78-b8de-4708-b99d-b773a45863b7\")) {                    Plotly.newPlot(                        \"51c59f78-b8de-4708-b99d-b773a45863b7\",                        [{\"gauge\":{\"axis\":{\"range\":[0,6.0],\"tickcolor\":\"white\",\"tickwidth\":2},\"bar\":{\"color\":\"white\",\"thickness\":0.05},\"bgcolor\":\"rgba(20, 20, 30, 0.9)\",\"bordercolor\":\"#00ddeb\",\"borderwidth\":3,\"shape\":\"angular\",\"steps\":[{\"color\":\"#00ffcc\",\"range\":[0,1.98]},{\"color\":\"#7b00ff\",\"range\":[1.98,3.96]},{\"color\":\"#00b7eb\",\"range\":[3.96,6.0]}],\"threshold\":{\"line\":{\"color\":\"#ff007a\",\"width\":4},\"thickness\":0.8,\"value\":1.9090909090909092}},\"mode\":\"gauge+number\",\"value\":1.9090909090909092,\"type\":\"indicator\",\"domain\":{\"x\":[0.0,0.45],\"y\":[0.625,1.0]}},{\"gauge\":{\"axis\":{\"range\":[0,86.0],\"tickcolor\":\"white\",\"tickwidth\":2},\"bar\":{\"color\":\"white\",\"thickness\":0.05},\"bgcolor\":\"rgba(20, 20, 30, 0.9)\",\"bordercolor\":\"#00ddeb\",\"borderwidth\":3,\"shape\":\"angular\",\"steps\":[{\"color\":\"#00ffcc\",\"range\":[0,28.380000000000003]},{\"color\":\"#7b00ff\",\"range\":[28.380000000000003,56.760000000000005]},{\"color\":\"#00b7eb\",\"range\":[56.760000000000005,86.0]}],\"threshold\":{\"line\":{\"color\":\"#ff007a\",\"width\":4},\"thickness\":0.8,\"value\":54.44155844155844}},\"mode\":\"gauge+number\",\"value\":54.44155844155844,\"type\":\"indicator\",\"domain\":{\"x\":[0.55,1.0],\"y\":[0.625,1.0]}},{\"gauge\":{\"axis\":{\"range\":[0,97.45149151999993],\"tickcolor\":\"white\",\"tickwidth\":2},\"bar\":{\"color\":\"white\",\"thickness\":0.05},\"bgcolor\":\"rgba(20, 20, 30, 0.9)\",\"bordercolor\":\"#00ddeb\",\"borderwidth\":3,\"shape\":\"angular\",\"steps\":[{\"color\":\"#00ffcc\",\"range\":[0,32.15899220159998]},{\"color\":\"#7b00ff\",\"range\":[32.15899220159998,64.31798440319996]},{\"color\":\"#00b7eb\",\"range\":[64.31798440319996,97.45149151999993]}],\"threshold\":{\"line\":{\"color\":\"#ff007a\",\"width\":4},\"thickness\":0.8,\"value\":20.91356733005566}},\"mode\":\"gauge+number\",\"value\":20.91356733005566,\"type\":\"indicator\",\"domain\":{\"x\":[0.0,0.45],\"y\":[0.0,0.375]}},{\"gauge\":{\"axis\":{\"range\":[0,8.46652],\"tickcolor\":\"white\",\"tickwidth\":2},\"bar\":{\"color\":\"white\",\"thickness\":0.05},\"bgcolor\":\"rgba(20, 20, 30, 0.9)\",\"bordercolor\":\"#00ddeb\",\"borderwidth\":3,\"shape\":\"angular\",\"steps\":[{\"color\":\"#00ffcc\",\"range\":[0,2.7939515999999998]},{\"color\":\"#7b00ff\",\"range\":[2.7939515999999998,5.5879031999999995]},{\"color\":\"#00b7eb\",\"range\":[5.5879031999999995,8.46652]}],\"threshold\":{\"line\":{\"color\":\"#ff007a\",\"width\":4},\"thickness\":0.8,\"value\":5.949426716141002}},\"mode\":\"gauge+number\",\"value\":5.949426716141002,\"type\":\"indicator\",\"domain\":{\"x\":[0.55,1.0],\"y\":[0.0,0.375]}}],                        {\"template\":{\"data\":{\"histogram2dcontour\":[{\"type\":\"histogram2dcontour\",\"colorbar\":{\"outlinewidth\":0,\"ticks\":\"\"},\"colorscale\":[[0.0,\"#0d0887\"],[0.1111111111111111,\"#46039f\"],[0.2222222222222222,\"#7201a8\"],[0.3333333333333333,\"#9c179e\"],[0.4444444444444444,\"#bd3786\"],[0.5555555555555556,\"#d8576b\"],[0.6666666666666666,\"#ed7953\"],[0.7777777777777778,\"#fb9f3a\"],[0.8888888888888888,\"#fdca26\"],[1.0,\"#f0f921\"]]}],\"choropleth\":[{\"type\":\"choropleth\",\"colorbar\":{\"outlinewidth\":0,\"ticks\":\"\"}}],\"histogram2d\":[{\"type\":\"histogram2d\",\"colorbar\":{\"outlinewidth\":0,\"ticks\":\"\"},\"colorscale\":[[0.0,\"#0d0887\"],[0.1111111111111111,\"#46039f\"],[0.2222222222222222,\"#7201a8\"],[0.3333333333333333,\"#9c179e\"],[0.4444444444444444,\"#bd3786\"],[0.5555555555555556,\"#d8576b\"],[0.6666666666666666,\"#ed7953\"],[0.7777777777777778,\"#fb9f3a\"],[0.8888888888888888,\"#fdca26\"],[1.0,\"#f0f921\"]]}],\"heatmap\":[{\"type\":\"heatmap\",\"colorbar\":{\"outlinewidth\":0,\"ticks\":\"\"},\"colorscale\":[[0.0,\"#0d0887\"],[0.1111111111111111,\"#46039f\"],[0.2222222222222222,\"#7201a8\"],[0.3333333333333333,\"#9c179e\"],[0.4444444444444444,\"#bd3786\"],[0.5555555555555556,\"#d8576b\"],[0.6666666666666666,\"#ed7953\"],[0.7777777777777778,\"#fb9f3a\"],[0.8888888888888888,\"#fdca26\"],[1.0,\"#f0f921\"]]}],\"contourcarpet\":[{\"type\":\"contourcarpet\",\"colorbar\":{\"outlinewidth\":0,\"ticks\":\"\"}}],\"contour\":[{\"type\":\"contour\",\"colorbar\":{\"outlinewidth\":0,\"ticks\":\"\"},\"colorscale\":[[0.0,\"#0d0887\"],[0.1111111111111111,\"#46039f\"],[0.2222222222222222,\"#7201a8\"],[0.3333333333333333,\"#9c179e\"],[0.4444444444444444,\"#bd3786\"],[0.5555555555555556,\"#d8576b\"],[0.6666666666666666,\"#ed7953\"],[0.7777777777777778,\"#fb9f3a\"],[0.8888888888888888,\"#fdca26\"],[1.0,\"#f0f921\"]]}],\"surface\":[{\"type\":\"surface\",\"colorbar\":{\"outlinewidth\":0,\"ticks\":\"\"},\"colorscale\":[[0.0,\"#0d0887\"],[0.1111111111111111,\"#46039f\"],[0.2222222222222222,\"#7201a8\"],[0.3333333333333333,\"#9c179e\"],[0.4444444444444444,\"#bd3786\"],[0.5555555555555556,\"#d8576b\"],[0.6666666666666666,\"#ed7953\"],[0.7777777777777778,\"#fb9f3a\"],[0.8888888888888888,\"#fdca26\"],[1.0,\"#f0f921\"]]}],\"mesh3d\":[{\"type\":\"mesh3d\",\"colorbar\":{\"outlinewidth\":0,\"ticks\":\"\"}}],\"scatter\":[{\"fillpattern\":{\"fillmode\":\"overlay\",\"size\":10,\"solidity\":0.2},\"type\":\"scatter\"}],\"parcoords\":[{\"type\":\"parcoords\",\"line\":{\"colorbar\":{\"outlinewidth\":0,\"ticks\":\"\"}}}],\"scatterpolargl\":[{\"type\":\"scatterpolargl\",\"marker\":{\"colorbar\":{\"outlinewidth\":0,\"ticks\":\"\"}}}],\"bar\":[{\"error_x\":{\"color\":\"#2a3f5f\"},\"error_y\":{\"color\":\"#2a3f5f\"},\"marker\":{\"line\":{\"color\":\"#E5ECF6\",\"width\":0.5},\"pattern\":{\"fillmode\":\"overlay\",\"size\":10,\"solidity\":0.2}},\"type\":\"bar\"}],\"scattergeo\":[{\"type\":\"scattergeo\",\"marker\":{\"colorbar\":{\"outlinewidth\":0,\"ticks\":\"\"}}}],\"scatterpolar\":[{\"type\":\"scatterpolar\",\"marker\":{\"colorbar\":{\"outlinewidth\":0,\"ticks\":\"\"}}}],\"histogram\":[{\"marker\":{\"pattern\":{\"fillmode\":\"overlay\",\"size\":10,\"solidity\":0.2}},\"type\":\"histogram\"}],\"scattergl\":[{\"type\":\"scattergl\",\"marker\":{\"colorbar\":{\"outlinewidth\":0,\"ticks\":\"\"}}}],\"scatter3d\":[{\"type\":\"scatter3d\",\"line\":{\"colorbar\":{\"outlinewidth\":0,\"ticks\":\"\"}},\"marker\":{\"colorbar\":{\"outlinewidth\":0,\"ticks\":\"\"}}}],\"scattermap\":[{\"type\":\"scattermap\",\"marker\":{\"colorbar\":{\"outlinewidth\":0,\"ticks\":\"\"}}}],\"scattermapbox\":[{\"type\":\"scattermapbox\",\"marker\":{\"colorbar\":{\"outlinewidth\":0,\"ticks\":\"\"}}}],\"scatterternary\":[{\"type\":\"scatterternary\",\"marker\":{\"colorbar\":{\"outlinewidth\":0,\"ticks\":\"\"}}}],\"scattercarpet\":[{\"type\":\"scattercarpet\",\"marker\":{\"colorbar\":{\"outlinewidth\":0,\"ticks\":\"\"}}}],\"carpet\":[{\"aaxis\":{\"endlinecolor\":\"#2a3f5f\",\"gridcolor\":\"white\",\"linecolor\":\"white\",\"minorgridcolor\":\"white\",\"startlinecolor\":\"#2a3f5f\"},\"baxis\":{\"endlinecolor\":\"#2a3f5f\",\"gridcolor\":\"white\",\"linecolor\":\"white\",\"minorgridcolor\":\"white\",\"startlinecolor\":\"#2a3f5f\"},\"type\":\"carpet\"}],\"table\":[{\"cells\":{\"fill\":{\"color\":\"#EBF0F8\"},\"line\":{\"color\":\"white\"}},\"header\":{\"fill\":{\"color\":\"#C8D4E3\"},\"line\":{\"color\":\"white\"}},\"type\":\"table\"}],\"barpolar\":[{\"marker\":{\"line\":{\"color\":\"#E5ECF6\",\"width\":0.5},\"pattern\":{\"fillmode\":\"overlay\",\"size\":10,\"solidity\":0.2}},\"type\":\"barpolar\"}],\"pie\":[{\"automargin\":true,\"type\":\"pie\"}]},\"layout\":{\"autotypenumbers\":\"strict\",\"colorway\":[\"#636efa\",\"#EF553B\",\"#00cc96\",\"#ab63fa\",\"#FFA15A\",\"#19d3f3\",\"#FF6692\",\"#B6E880\",\"#FF97FF\",\"#FECB52\"],\"font\":{\"color\":\"#2a3f5f\"},\"hovermode\":\"closest\",\"hoverlabel\":{\"align\":\"left\"},\"paper_bgcolor\":\"white\",\"plot_bgcolor\":\"#E5ECF6\",\"polar\":{\"bgcolor\":\"#E5ECF6\",\"angularaxis\":{\"gridcolor\":\"white\",\"linecolor\":\"white\",\"ticks\":\"\"},\"radialaxis\":{\"gridcolor\":\"white\",\"linecolor\":\"white\",\"ticks\":\"\"}},\"ternary\":{\"bgcolor\":\"#E5ECF6\",\"aaxis\":{\"gridcolor\":\"white\",\"linecolor\":\"white\",\"ticks\":\"\"},\"baxis\":{\"gridcolor\":\"white\",\"linecolor\":\"white\",\"ticks\":\"\"},\"caxis\":{\"gridcolor\":\"white\",\"linecolor\":\"white\",\"ticks\":\"\"}},\"coloraxis\":{\"colorbar\":{\"outlinewidth\":0,\"ticks\":\"\"}},\"colorscale\":{\"sequential\":[[0.0,\"#0d0887\"],[0.1111111111111111,\"#46039f\"],[0.2222222222222222,\"#7201a8\"],[0.3333333333333333,\"#9c179e\"],[0.4444444444444444,\"#bd3786\"],[0.5555555555555556,\"#d8576b\"],[0.6666666666666666,\"#ed7953\"],[0.7777777777777778,\"#fb9f3a\"],[0.8888888888888888,\"#fdca26\"],[1.0,\"#f0f921\"]],\"sequentialminus\":[[0.0,\"#0d0887\"],[0.1111111111111111,\"#46039f\"],[0.2222222222222222,\"#7201a8\"],[0.3333333333333333,\"#9c179e\"],[0.4444444444444444,\"#bd3786\"],[0.5555555555555556,\"#d8576b\"],[0.6666666666666666,\"#ed7953\"],[0.7777777777777778,\"#fb9f3a\"],[0.8888888888888888,\"#fdca26\"],[1.0,\"#f0f921\"]],\"diverging\":[[0,\"#8e0152\"],[0.1,\"#c51b7d\"],[0.2,\"#de77ae\"],[0.3,\"#f1b6da\"],[0.4,\"#fde0ef\"],[0.5,\"#f7f7f7\"],[0.6,\"#e6f5d0\"],[0.7,\"#b8e186\"],[0.8,\"#7fbc41\"],[0.9,\"#4d9221\"],[1,\"#276419\"]]},\"xaxis\":{\"gridcolor\":\"white\",\"linecolor\":\"white\",\"ticks\":\"\",\"title\":{\"standoff\":15},\"zerolinecolor\":\"white\",\"automargin\":true,\"zerolinewidth\":2},\"yaxis\":{\"gridcolor\":\"white\",\"linecolor\":\"white\",\"ticks\":\"\",\"title\":{\"standoff\":15},\"zerolinecolor\":\"white\",\"automargin\":true,\"zerolinewidth\":2},\"scene\":{\"xaxis\":{\"backgroundcolor\":\"#E5ECF6\",\"gridcolor\":\"white\",\"linecolor\":\"white\",\"showbackground\":true,\"ticks\":\"\",\"zerolinecolor\":\"white\",\"gridwidth\":2},\"yaxis\":{\"backgroundcolor\":\"#E5ECF6\",\"gridcolor\":\"white\",\"linecolor\":\"white\",\"showbackground\":true,\"ticks\":\"\",\"zerolinecolor\":\"white\",\"gridwidth\":2},\"zaxis\":{\"backgroundcolor\":\"#E5ECF6\",\"gridcolor\":\"white\",\"linecolor\":\"white\",\"showbackground\":true,\"ticks\":\"\",\"zerolinecolor\":\"white\",\"gridwidth\":2}},\"shapedefaults\":{\"line\":{\"color\":\"#2a3f5f\"}},\"annotationdefaults\":{\"arrowcolor\":\"#2a3f5f\",\"arrowhead\":0,\"arrowwidth\":1},\"geo\":{\"bgcolor\":\"white\",\"landcolor\":\"#E5ECF6\",\"subunitcolor\":\"white\",\"showland\":true,\"showlakes\":true,\"lakecolor\":\"white\"},\"title\":{\"x\":0.05},\"mapbox\":{\"style\":\"light\"}}},\"annotations\":[{\"font\":{\"size\":16},\"showarrow\":false,\"text\":\"Criminal Cases\",\"x\":0.225,\"xanchor\":\"center\",\"xref\":\"paper\",\"y\":1.0,\"yanchor\":\"bottom\",\"yref\":\"paper\"},{\"font\":{\"size\":16},\"showarrow\":false,\"text\":\"Age\",\"x\":0.775,\"xanchor\":\"center\",\"xref\":\"paper\",\"y\":1.0,\"yanchor\":\"bottom\",\"yref\":\"paper\"},{\"font\":{\"size\":16},\"showarrow\":false,\"text\":\"Assets (Crores)\",\"x\":0.225,\"xanchor\":\"center\",\"xref\":\"paper\",\"y\":0.375,\"yanchor\":\"bottom\",\"yref\":\"paper\"},{\"font\":{\"size\":16},\"showarrow\":false,\"text\":\"Votes (Lakhs)\",\"x\":0.775,\"xanchor\":\"center\",\"xref\":\"paper\",\"y\":0.375,\"yanchor\":\"bottom\",\"yref\":\"paper\"}],\"title\":{\"text\":\"Key Metrics for Winning Candidates (2019 Indian Elections)\",\"x\":0.5},\"font\":{\"size\":12,\"color\":\"black\"},\"margin\":{\"l\":50,\"r\":50,\"t\":100,\"b\":50},\"height\":800,\"width\":1000},                        {\"responsive\": true}                    ).then(function(){\n",
       "                            \n",
       "var gd = document.getElementById('51c59f78-b8de-4708-b99d-b773a45863b7');\n",
       "var x = new MutationObserver(function (mutations, observer) {{\n",
       "        var display = window.getComputedStyle(gd).display;\n",
       "        if (!display || display === 'none') {{\n",
       "            console.log([gd, 'removed!']);\n",
       "            Plotly.purge(gd);\n",
       "            observer.disconnect();\n",
       "        }}\n",
       "}});\n",
       "\n",
       "// Listen for the removal of the full notebook cells\n",
       "var notebookContainer = gd.closest('#notebook-container');\n",
       "if (notebookContainer) {{\n",
       "    x.observe(notebookContainer, {childList: true});\n",
       "}}\n",
       "\n",
       "// Listen for the clearing of the current output cell\n",
       "var outputEl = gd.closest('.output');\n",
       "if (outputEl) {{\n",
       "    x.observe(outputEl, {childList: true});\n",
       "}}\n",
       "\n",
       "                        })                };            </script>        </div>"
      ]
     },
     "metadata": {},
     "output_type": "display_data"
    }
   ],
   "source": [
    "\n",
    "try:\n",
    "    # Validate DataFrame\n",
    "    if not all(col in vote.columns for col in ['WINNER', 'CRIMINAL CASES', 'AGE', 'ASSETS', 'TOTAL VOTES']):\n",
    "        raise ValueError(\"Required columns missing in DataFrame\")\n",
    "\n",
    "    winners = vote[vote['WINNER'] == 1]\n",
    "\n",
    "    # Calculate metrics\n",
    "    avg_criminal = winners['CRIMINAL CASES'].mean()\n",
    "    avg_age = winners['AGE'].mean()\n",
    "    avg_assets = winners['ASSETS'].mean() / 10000000  # Convert to crores\n",
    "    avg_votes = winners['TOTAL VOTES'].mean() / 100000  # Convert to lakhs\n",
    "\n",
    "    # Define ranges\n",
    "    max_criminal = winners['CRIMINAL CASES'].quantile(0.95) or 10  # Avoid zero range\n",
    "    max_age = winners['AGE'].max() or 100\n",
    "    max_assets = winners['ASSETS'].quantile(0.95) / 10000000 or 100\n",
    "    max_votes = winners['TOTAL VOTES'].quantile(0.95) / 100000 or 10\n",
    "\n",
    "    # Create subplots for 4 gauges\n",
    "    fig = make_subplots(\n",
    "        rows=2, cols=2,\n",
    "        specs=[[{'type': 'indicator'}, {'type': 'indicator'}],\n",
    "               [{'type': 'indicator'}, {'type': 'indicator'}]],\n",
    "        subplot_titles=('Criminal Cases', 'Age', 'Assets (Crores)', 'Votes (Lakhs)')\n",
    "    )\n",
    "\n",
    "    # High-tech motorbike gauge style\n",
    "    gauge_style = {\n",
    "        'shape': 'angular',\n",
    "        'bar': {'color': 'white', 'thickness': 0.05},  # Sleek needle\n",
    "        'bgcolor': 'rgba(20, 20, 30, 0.9)',  # Dark, futuristic background\n",
    "        'borderwidth': 3,\n",
    "        'bordercolor': '#00ddeb'  # Neon cyan border\n",
    "    }\n",
    "\n",
    "    # Cool color palette\n",
    "    cool_colors = [\n",
    "        '#00ffcc',  # Electric green\n",
    "        '#7b00ff',  # Cyber purple\n",
    "        '#00b7eb'   # Neon blue\n",
    "    ]\n",
    "\n",
    "    # Gauge 1: Criminal Cases\n",
    "    fig.add_trace(\n",
    "        go.Indicator(\n",
    "            mode=\"gauge+number\",\n",
    "            value=avg_criminal,\n",
    "            gauge={\n",
    "                'axis': {'range': [0, max_criminal], 'tickcolor': 'white', 'tickwidth': 2},\n",
    "                **gauge_style,\n",
    "                'steps': [\n",
    "                    {'range': [0, max_criminal * 0.33], 'color': cool_colors[0]},\n",
    "                    {'range': [max_criminal * 0.33, max_criminal * 0.66], 'color': cool_colors[1]},\n",
    "                    {'range': [max_criminal * 0.66, max_criminal], 'color': cool_colors[2]}\n",
    "                ],\n",
    "                'threshold': {'line': {'color': '#ff007a', 'width': 4}, 'thickness': 0.8, 'value': avg_criminal}\n",
    "            }\n",
    "        ),\n",
    "        row=1, col=1\n",
    "    )\n",
    "\n",
    "    # Gauge 2: Age\n",
    "    fig.add_trace(\n",
    "        go.Indicator(\n",
    "            mode=\"gauge+number\",\n",
    "            value=avg_age,\n",
    "            gauge={\n",
    "                'axis': {'range': [0, max_age], 'tickcolor': 'white', 'tickwidth': 2},\n",
    "                **gauge_style,\n",
    "                'steps': [\n",
    "                    {'range': [0, max_age * 0.33], 'color': cool_colors[0]},\n",
    "                    {'range': [max_age * 0.33, max_age * 0.66], 'color': cool_colors[1]},\n",
    "                    {'range': [max_age * 0.66, max_age], 'color': cool_colors[2]}\n",
    "                ],\n",
    "                'threshold': {'line': {'color': '#ff007a', 'width': 4}, 'thickness': 0.8, 'value': avg_age}\n",
    "            }\n",
    "        ),\n",
    "        row=1, col=2\n",
    "    )\n",
    "\n",
    "    # Gauge 3: Assets\n",
    "    fig.add_trace(\n",
    "        go.Indicator(\n",
    "            mode=\"gauge+number\",\n",
    "            value=avg_assets,\n",
    "            gauge={\n",
    "                'axis': {'range': [0, max_assets], 'tickcolor': 'white', 'tickwidth': 2},\n",
    "                **gauge_style,\n",
    "                'steps': [\n",
    "                    {'range': [0, max_assets * 0.33], 'color': cool_colors[0]},\n",
    "                    {'range': [max_assets * 0.33, max_assets * 0.66], 'color': cool_colors[1]},\n",
    "                    {'range': [max_assets * 0.66, max_assets], 'color': cool_colors[2]}\n",
    "                ],\n",
    "                'threshold': {'line': {'color': '#ff007a', 'width': 4}, 'thickness': 0.8, 'value': avg_assets}\n",
    "            }\n",
    "        ),\n",
    "        row=2, col=1\n",
    "    )\n",
    "\n",
    "    # Gauge 4: Votes\n",
    "    fig.add_trace(\n",
    "        go.Indicator(\n",
    "            mode=\"gauge+number\",\n",
    "            value=avg_votes,\n",
    "            gauge={\n",
    "                'axis': {'range': [0, max_votes], 'tickcolor': 'white', 'tickwidth': 2},\n",
    "                **gauge_style,\n",
    "                'steps': [\n",
    "                    {'range': [0, max_votes * 0.33], 'color': cool_colors[0]},\n",
    "                    {'range': [max_votes * 0.33, max_votes * 0.66], 'color': cool_colors[1]},\n",
    "                    {'range': [max_votes * 0.66, max_votes], 'color': cool_colors[2]}\n",
    "                ],\n",
    "                'threshold': {'line': {'color': '#ff007a', 'width': 4}, 'thickness': 0.8, 'value': avg_votes}\n",
    "            }\n",
    "        ),\n",
    "        row=2, col=2\n",
    "    )\n",
    "\n",
    "    # Customize layout\n",
    "    fig.update_layout(\n",
    "        title='Key Metrics for Winning Candidates (2019 Indian Elections)',\n",
    "        \n",
    "        height=800,\n",
    "        width=1000,\n",
    "        title_x=0.5,\n",
    "        font=dict(size=12, color='black'),\n",
    "        margin=dict(l=50, r=50, t=100, b=50)\n",
    "    )\n",
    "\n",
    "    # Show plot\n",
    "    fig.show()\n",
    "\n",
    "except Exception as e:\n",
    "    print(f\"Error rendering gauge chart: {str(e)}\")\n"
   ]
  },
  {
   "cell_type": "markdown",
   "id": "88172e0d",
   "metadata": {},
   "source": [
    "#### State and Constituency Level Analysis"
   ]
  },
  {
   "cell_type": "code",
   "execution_count": 15,
   "id": "51ffcd68",
   "metadata": {},
   "outputs": [
    {
     "name": "stderr",
     "output_type": "stream",
     "text": [
      "<>:2: SyntaxWarning:\n",
      "\n",
      "invalid escape sequence '\\I'\n",
      "\n",
      "<>:2: SyntaxWarning:\n",
      "\n",
      "invalid escape sequence '\\I'\n",
      "\n",
      "C:\\Users\\AbhiLoki\\AppData\\Local\\Temp\\ipykernel_1204\\2925205935.py:2: SyntaxWarning:\n",
      "\n",
      "invalid escape sequence '\\I'\n",
      "\n",
      "C:\\Users\\AbhiLoki\\AppData\\Local\\Temp\\ipykernel_1204\\2925205935.py:1: DeprecationWarning:\n",
      "\n",
      "DataFrameGroupBy.apply operated on the grouping columns. This behavior is deprecated, and in a future version of pandas the grouping columns will be excluded from the operation. Either pass `include_groups=False` to exclude the groupings or explicitly select the grouping columns after groupby to silence this warning.\n",
      "\n"
     ]
    },
    {
     "data": {
      "application/vnd.plotly.v1+json": {
       "config": {
        "plotlyServerURL": "https://plot.ly"
       },
       "data": [
        {
         "hovertemplate": "STATE=%{x}<br># Constituency=%{marker.color}<extra></extra>",
         "legendgroup": "",
         "marker": {
          "color": {
           "bdata": "UDAqKCYdHBoZGRUUEQ4ODQsKBwYFBAICAgICAQEBAQEBAQEB",
           "dtype": "i1"
          },
          "coloraxis": "coloraxis",
          "pattern": {
           "shape": ""
          }
         },
         "name": "",
         "orientation": "v",
         "showlegend": false,
         "textposition": "auto",
         "type": "bar",
         "x": [
          "Uttar Pradesh",
          "Maharashtra",
          "West Bengal",
          "Bihar",
          "Tamil Nadu",
          "Madhya Pradesh",
          "Karnataka",
          "Gujarat",
          "Rajasthan",
          "Andhra Pradesh",
          "Odisha",
          "Kerala",
          "Telangana",
          "Jharkhand",
          "Assam",
          "Punjab",
          "Chhattisgarh",
          "Haryana",
          "NCT OF Delhi",
          "Jammu & Kashmir",
          "Uttarakhand",
          "Himachal Pradesh",
          "Goa",
          "Arunachal Pradesh",
          "Tripura",
          "Manipur",
          "Meghalaya",
          "Andaman & Nicobar Islands",
          "Lakshadweep",
          "Chandigarh",
          "Dadra & Nagar Haveli",
          "Daman & Diu",
          "Puducherry",
          "Nagaland",
          "Mizoram",
          "Sikkim"
         ],
         "xaxis": "x",
         "y": {
          "bdata": "UDAqKCYdHBoZGRUUEQ4ODQsKBwYFBAICAgICAQEBAQEBAQEB",
          "dtype": "i1"
         },
         "yaxis": "y"
        }
       ],
       "layout": {
        "barmode": "relative",
        "coloraxis": {
         "colorbar": {
          "title": {
           "text": "# Constituency"
          }
         },
         "colorscale": [
          [
           0,
           "#0d0887"
          ],
          [
           0.1111111111111111,
           "#46039f"
          ],
          [
           0.2222222222222222,
           "#7201a8"
          ],
          [
           0.3333333333333333,
           "#9c179e"
          ],
          [
           0.4444444444444444,
           "#bd3786"
          ],
          [
           0.5555555555555556,
           "#d8576b"
          ],
          [
           0.6666666666666666,
           "#ed7953"
          ],
          [
           0.7777777777777778,
           "#fb9f3a"
          ],
          [
           0.8888888888888888,
           "#fdca26"
          ],
          [
           1,
           "#f0f921"
          ]
         ]
        },
        "legend": {
         "tracegroupgap": 0
        },
        "margin": {
         "t": 60
        },
        "template": {
         "data": {
          "bar": [
           {
            "error_x": {
             "color": "#2a3f5f"
            },
            "error_y": {
             "color": "#2a3f5f"
            },
            "marker": {
             "line": {
              "color": "#E5ECF6",
              "width": 0.5
             },
             "pattern": {
              "fillmode": "overlay",
              "size": 10,
              "solidity": 0.2
             }
            },
            "type": "bar"
           }
          ],
          "barpolar": [
           {
            "marker": {
             "line": {
              "color": "#E5ECF6",
              "width": 0.5
             },
             "pattern": {
              "fillmode": "overlay",
              "size": 10,
              "solidity": 0.2
             }
            },
            "type": "barpolar"
           }
          ],
          "carpet": [
           {
            "aaxis": {
             "endlinecolor": "#2a3f5f",
             "gridcolor": "white",
             "linecolor": "white",
             "minorgridcolor": "white",
             "startlinecolor": "#2a3f5f"
            },
            "baxis": {
             "endlinecolor": "#2a3f5f",
             "gridcolor": "white",
             "linecolor": "white",
             "minorgridcolor": "white",
             "startlinecolor": "#2a3f5f"
            },
            "type": "carpet"
           }
          ],
          "choropleth": [
           {
            "colorbar": {
             "outlinewidth": 0,
             "ticks": ""
            },
            "type": "choropleth"
           }
          ],
          "contour": [
           {
            "colorbar": {
             "outlinewidth": 0,
             "ticks": ""
            },
            "colorscale": [
             [
              0,
              "#0d0887"
             ],
             [
              0.1111111111111111,
              "#46039f"
             ],
             [
              0.2222222222222222,
              "#7201a8"
             ],
             [
              0.3333333333333333,
              "#9c179e"
             ],
             [
              0.4444444444444444,
              "#bd3786"
             ],
             [
              0.5555555555555556,
              "#d8576b"
             ],
             [
              0.6666666666666666,
              "#ed7953"
             ],
             [
              0.7777777777777778,
              "#fb9f3a"
             ],
             [
              0.8888888888888888,
              "#fdca26"
             ],
             [
              1,
              "#f0f921"
             ]
            ],
            "type": "contour"
           }
          ],
          "contourcarpet": [
           {
            "colorbar": {
             "outlinewidth": 0,
             "ticks": ""
            },
            "type": "contourcarpet"
           }
          ],
          "heatmap": [
           {
            "colorbar": {
             "outlinewidth": 0,
             "ticks": ""
            },
            "colorscale": [
             [
              0,
              "#0d0887"
             ],
             [
              0.1111111111111111,
              "#46039f"
             ],
             [
              0.2222222222222222,
              "#7201a8"
             ],
             [
              0.3333333333333333,
              "#9c179e"
             ],
             [
              0.4444444444444444,
              "#bd3786"
             ],
             [
              0.5555555555555556,
              "#d8576b"
             ],
             [
              0.6666666666666666,
              "#ed7953"
             ],
             [
              0.7777777777777778,
              "#fb9f3a"
             ],
             [
              0.8888888888888888,
              "#fdca26"
             ],
             [
              1,
              "#f0f921"
             ]
            ],
            "type": "heatmap"
           }
          ],
          "histogram": [
           {
            "marker": {
             "pattern": {
              "fillmode": "overlay",
              "size": 10,
              "solidity": 0.2
             }
            },
            "type": "histogram"
           }
          ],
          "histogram2d": [
           {
            "colorbar": {
             "outlinewidth": 0,
             "ticks": ""
            },
            "colorscale": [
             [
              0,
              "#0d0887"
             ],
             [
              0.1111111111111111,
              "#46039f"
             ],
             [
              0.2222222222222222,
              "#7201a8"
             ],
             [
              0.3333333333333333,
              "#9c179e"
             ],
             [
              0.4444444444444444,
              "#bd3786"
             ],
             [
              0.5555555555555556,
              "#d8576b"
             ],
             [
              0.6666666666666666,
              "#ed7953"
             ],
             [
              0.7777777777777778,
              "#fb9f3a"
             ],
             [
              0.8888888888888888,
              "#fdca26"
             ],
             [
              1,
              "#f0f921"
             ]
            ],
            "type": "histogram2d"
           }
          ],
          "histogram2dcontour": [
           {
            "colorbar": {
             "outlinewidth": 0,
             "ticks": ""
            },
            "colorscale": [
             [
              0,
              "#0d0887"
             ],
             [
              0.1111111111111111,
              "#46039f"
             ],
             [
              0.2222222222222222,
              "#7201a8"
             ],
             [
              0.3333333333333333,
              "#9c179e"
             ],
             [
              0.4444444444444444,
              "#bd3786"
             ],
             [
              0.5555555555555556,
              "#d8576b"
             ],
             [
              0.6666666666666666,
              "#ed7953"
             ],
             [
              0.7777777777777778,
              "#fb9f3a"
             ],
             [
              0.8888888888888888,
              "#fdca26"
             ],
             [
              1,
              "#f0f921"
             ]
            ],
            "type": "histogram2dcontour"
           }
          ],
          "mesh3d": [
           {
            "colorbar": {
             "outlinewidth": 0,
             "ticks": ""
            },
            "type": "mesh3d"
           }
          ],
          "parcoords": [
           {
            "line": {
             "colorbar": {
              "outlinewidth": 0,
              "ticks": ""
             }
            },
            "type": "parcoords"
           }
          ],
          "pie": [
           {
            "automargin": true,
            "type": "pie"
           }
          ],
          "scatter": [
           {
            "fillpattern": {
             "fillmode": "overlay",
             "size": 10,
             "solidity": 0.2
            },
            "type": "scatter"
           }
          ],
          "scatter3d": [
           {
            "line": {
             "colorbar": {
              "outlinewidth": 0,
              "ticks": ""
             }
            },
            "marker": {
             "colorbar": {
              "outlinewidth": 0,
              "ticks": ""
             }
            },
            "type": "scatter3d"
           }
          ],
          "scattercarpet": [
           {
            "marker": {
             "colorbar": {
              "outlinewidth": 0,
              "ticks": ""
             }
            },
            "type": "scattercarpet"
           }
          ],
          "scattergeo": [
           {
            "marker": {
             "colorbar": {
              "outlinewidth": 0,
              "ticks": ""
             }
            },
            "type": "scattergeo"
           }
          ],
          "scattergl": [
           {
            "marker": {
             "colorbar": {
              "outlinewidth": 0,
              "ticks": ""
             }
            },
            "type": "scattergl"
           }
          ],
          "scattermap": [
           {
            "marker": {
             "colorbar": {
              "outlinewidth": 0,
              "ticks": ""
             }
            },
            "type": "scattermap"
           }
          ],
          "scattermapbox": [
           {
            "marker": {
             "colorbar": {
              "outlinewidth": 0,
              "ticks": ""
             }
            },
            "type": "scattermapbox"
           }
          ],
          "scatterpolar": [
           {
            "marker": {
             "colorbar": {
              "outlinewidth": 0,
              "ticks": ""
             }
            },
            "type": "scatterpolar"
           }
          ],
          "scatterpolargl": [
           {
            "marker": {
             "colorbar": {
              "outlinewidth": 0,
              "ticks": ""
             }
            },
            "type": "scatterpolargl"
           }
          ],
          "scatterternary": [
           {
            "marker": {
             "colorbar": {
              "outlinewidth": 0,
              "ticks": ""
             }
            },
            "type": "scatterternary"
           }
          ],
          "surface": [
           {
            "colorbar": {
             "outlinewidth": 0,
             "ticks": ""
            },
            "colorscale": [
             [
              0,
              "#0d0887"
             ],
             [
              0.1111111111111111,
              "#46039f"
             ],
             [
              0.2222222222222222,
              "#7201a8"
             ],
             [
              0.3333333333333333,
              "#9c179e"
             ],
             [
              0.4444444444444444,
              "#bd3786"
             ],
             [
              0.5555555555555556,
              "#d8576b"
             ],
             [
              0.6666666666666666,
              "#ed7953"
             ],
             [
              0.7777777777777778,
              "#fb9f3a"
             ],
             [
              0.8888888888888888,
              "#fdca26"
             ],
             [
              1,
              "#f0f921"
             ]
            ],
            "type": "surface"
           }
          ],
          "table": [
           {
            "cells": {
             "fill": {
              "color": "#EBF0F8"
             },
             "line": {
              "color": "white"
             }
            },
            "header": {
             "fill": {
              "color": "#C8D4E3"
             },
             "line": {
              "color": "white"
             }
            },
            "type": "table"
           }
          ]
         },
         "layout": {
          "annotationdefaults": {
           "arrowcolor": "#2a3f5f",
           "arrowhead": 0,
           "arrowwidth": 1
          },
          "autotypenumbers": "strict",
          "coloraxis": {
           "colorbar": {
            "outlinewidth": 0,
            "ticks": ""
           }
          },
          "colorscale": {
           "diverging": [
            [
             0,
             "#8e0152"
            ],
            [
             0.1,
             "#c51b7d"
            ],
            [
             0.2,
             "#de77ae"
            ],
            [
             0.3,
             "#f1b6da"
            ],
            [
             0.4,
             "#fde0ef"
            ],
            [
             0.5,
             "#f7f7f7"
            ],
            [
             0.6,
             "#e6f5d0"
            ],
            [
             0.7,
             "#b8e186"
            ],
            [
             0.8,
             "#7fbc41"
            ],
            [
             0.9,
             "#4d9221"
            ],
            [
             1,
             "#276419"
            ]
           ],
           "sequential": [
            [
             0,
             "#0d0887"
            ],
            [
             0.1111111111111111,
             "#46039f"
            ],
            [
             0.2222222222222222,
             "#7201a8"
            ],
            [
             0.3333333333333333,
             "#9c179e"
            ],
            [
             0.4444444444444444,
             "#bd3786"
            ],
            [
             0.5555555555555556,
             "#d8576b"
            ],
            [
             0.6666666666666666,
             "#ed7953"
            ],
            [
             0.7777777777777778,
             "#fb9f3a"
            ],
            [
             0.8888888888888888,
             "#fdca26"
            ],
            [
             1,
             "#f0f921"
            ]
           ],
           "sequentialminus": [
            [
             0,
             "#0d0887"
            ],
            [
             0.1111111111111111,
             "#46039f"
            ],
            [
             0.2222222222222222,
             "#7201a8"
            ],
            [
             0.3333333333333333,
             "#9c179e"
            ],
            [
             0.4444444444444444,
             "#bd3786"
            ],
            [
             0.5555555555555556,
             "#d8576b"
            ],
            [
             0.6666666666666666,
             "#ed7953"
            ],
            [
             0.7777777777777778,
             "#fb9f3a"
            ],
            [
             0.8888888888888888,
             "#fdca26"
            ],
            [
             1,
             "#f0f921"
            ]
           ]
          },
          "colorway": [
           "#636efa",
           "#EF553B",
           "#00cc96",
           "#ab63fa",
           "#FFA15A",
           "#19d3f3",
           "#FF6692",
           "#B6E880",
           "#FF97FF",
           "#FECB52"
          ],
          "font": {
           "color": "#2a3f5f"
          },
          "geo": {
           "bgcolor": "white",
           "lakecolor": "white",
           "landcolor": "#E5ECF6",
           "showlakes": true,
           "showland": true,
           "subunitcolor": "white"
          },
          "hoverlabel": {
           "align": "left"
          },
          "hovermode": "closest",
          "mapbox": {
           "style": "light"
          },
          "paper_bgcolor": "white",
          "plot_bgcolor": "#E5ECF6",
          "polar": {
           "angularaxis": {
            "gridcolor": "white",
            "linecolor": "white",
            "ticks": ""
           },
           "bgcolor": "#E5ECF6",
           "radialaxis": {
            "gridcolor": "white",
            "linecolor": "white",
            "ticks": ""
           }
          },
          "scene": {
           "xaxis": {
            "backgroundcolor": "#E5ECF6",
            "gridcolor": "white",
            "gridwidth": 2,
            "linecolor": "white",
            "showbackground": true,
            "ticks": "",
            "zerolinecolor": "white"
           },
           "yaxis": {
            "backgroundcolor": "#E5ECF6",
            "gridcolor": "white",
            "gridwidth": 2,
            "linecolor": "white",
            "showbackground": true,
            "ticks": "",
            "zerolinecolor": "white"
           },
           "zaxis": {
            "backgroundcolor": "#E5ECF6",
            "gridcolor": "white",
            "gridwidth": 2,
            "linecolor": "white",
            "showbackground": true,
            "ticks": "",
            "zerolinecolor": "white"
           }
          },
          "shapedefaults": {
           "line": {
            "color": "#2a3f5f"
           }
          },
          "ternary": {
           "aaxis": {
            "gridcolor": "white",
            "linecolor": "white",
            "ticks": ""
           },
           "baxis": {
            "gridcolor": "white",
            "linecolor": "white",
            "ticks": ""
           },
           "bgcolor": "#E5ECF6",
           "caxis": {
            "gridcolor": "white",
            "linecolor": "white",
            "ticks": ""
           }
          },
          "title": {
           "x": 0.05
          },
          "xaxis": {
           "automargin": true,
           "gridcolor": "white",
           "linecolor": "white",
           "ticks": "",
           "title": {
            "standoff": 15
           },
           "zerolinecolor": "white",
           "zerolinewidth": 2
          },
          "yaxis": {
           "automargin": true,
           "gridcolor": "white",
           "linecolor": "white",
           "ticks": "",
           "title": {
            "standoff": 15
           },
           "zerolinecolor": "white",
           "zerolinewidth": 2
          }
         }
        },
        "title": {
         "text": "Statewise distribution of the Constituencies all over India"
        },
        "xaxis": {
         "anchor": "y",
         "domain": [
          0,
          1
         ],
         "title": {
          "text": "STATE"
         }
        },
        "yaxis": {
         "anchor": "x",
         "domain": [
          0,
          1
         ],
         "title": {
          "text": "# Constituency"
         }
        }
       }
      },
      "text/html": [
       "<div>            <script src=\"https://cdnjs.cloudflare.com/ajax/libs/mathjax/2.7.5/MathJax.js?config=TeX-AMS-MML_SVG\"></script><script type=\"text/javascript\">if (window.MathJax && window.MathJax.Hub && window.MathJax.Hub.Config) {window.MathJax.Hub.Config({SVG: {font: \"STIX-Web\"}});}</script>                <script type=\"text/javascript\">window.PlotlyConfig = {MathJaxConfig: 'local'};</script>\n",
       "        <script charset=\"utf-8\" src=\"https://cdn.plot.ly/plotly-3.0.1.min.js\"></script>                <div id=\"ec35db06-5cff-4ae1-b791-5fccc86c8469\" class=\"plotly-graph-div\" style=\"height:525px; width:100%;\"></div>            <script type=\"text/javascript\">                window.PLOTLYENV=window.PLOTLYENV || {};                                if (document.getElementById(\"ec35db06-5cff-4ae1-b791-5fccc86c8469\")) {                    Plotly.newPlot(                        \"ec35db06-5cff-4ae1-b791-5fccc86c8469\",                        [{\"hovertemplate\":\"STATE=%{x}\\u003cbr\\u003e# Constituency=%{marker.color}\\u003cextra\\u003e\\u003c\\u002fextra\\u003e\",\"legendgroup\":\"\",\"marker\":{\"color\":{\"dtype\":\"i1\",\"bdata\":\"UDAqKCYdHBoZGRUUEQ4ODQsKBwYFBAICAgICAQEBAQEBAQEB\"},\"coloraxis\":\"coloraxis\",\"pattern\":{\"shape\":\"\"}},\"name\":\"\",\"orientation\":\"v\",\"showlegend\":false,\"textposition\":\"auto\",\"x\":[\"Uttar Pradesh\",\"Maharashtra\",\"West Bengal\",\"Bihar\",\"Tamil Nadu\",\"Madhya Pradesh\",\"Karnataka\",\"Gujarat\",\"Rajasthan\",\"Andhra Pradesh\",\"Odisha\",\"Kerala\",\"Telangana\",\"Jharkhand\",\"Assam\",\"Punjab\",\"Chhattisgarh\",\"Haryana\",\"NCT OF Delhi\",\"Jammu & Kashmir\",\"Uttarakhand\",\"Himachal Pradesh\",\"Goa\",\"Arunachal Pradesh\",\"Tripura\",\"Manipur\",\"Meghalaya\",\"Andaman & Nicobar Islands\",\"Lakshadweep\",\"Chandigarh\",\"Dadra & Nagar Haveli\",\"Daman & Diu\",\"Puducherry\",\"Nagaland\",\"Mizoram\",\"Sikkim\"],\"xaxis\":\"x\",\"y\":{\"dtype\":\"i1\",\"bdata\":\"UDAqKCYdHBoZGRUUEQ4ODQsKBwYFBAICAgICAQEBAQEBAQEB\"},\"yaxis\":\"y\",\"type\":\"bar\"}],                        {\"template\":{\"data\":{\"histogram2dcontour\":[{\"type\":\"histogram2dcontour\",\"colorbar\":{\"outlinewidth\":0,\"ticks\":\"\"},\"colorscale\":[[0.0,\"#0d0887\"],[0.1111111111111111,\"#46039f\"],[0.2222222222222222,\"#7201a8\"],[0.3333333333333333,\"#9c179e\"],[0.4444444444444444,\"#bd3786\"],[0.5555555555555556,\"#d8576b\"],[0.6666666666666666,\"#ed7953\"],[0.7777777777777778,\"#fb9f3a\"],[0.8888888888888888,\"#fdca26\"],[1.0,\"#f0f921\"]]}],\"choropleth\":[{\"type\":\"choropleth\",\"colorbar\":{\"outlinewidth\":0,\"ticks\":\"\"}}],\"histogram2d\":[{\"type\":\"histogram2d\",\"colorbar\":{\"outlinewidth\":0,\"ticks\":\"\"},\"colorscale\":[[0.0,\"#0d0887\"],[0.1111111111111111,\"#46039f\"],[0.2222222222222222,\"#7201a8\"],[0.3333333333333333,\"#9c179e\"],[0.4444444444444444,\"#bd3786\"],[0.5555555555555556,\"#d8576b\"],[0.6666666666666666,\"#ed7953\"],[0.7777777777777778,\"#fb9f3a\"],[0.8888888888888888,\"#fdca26\"],[1.0,\"#f0f921\"]]}],\"heatmap\":[{\"type\":\"heatmap\",\"colorbar\":{\"outlinewidth\":0,\"ticks\":\"\"},\"colorscale\":[[0.0,\"#0d0887\"],[0.1111111111111111,\"#46039f\"],[0.2222222222222222,\"#7201a8\"],[0.3333333333333333,\"#9c179e\"],[0.4444444444444444,\"#bd3786\"],[0.5555555555555556,\"#d8576b\"],[0.6666666666666666,\"#ed7953\"],[0.7777777777777778,\"#fb9f3a\"],[0.8888888888888888,\"#fdca26\"],[1.0,\"#f0f921\"]]}],\"contourcarpet\":[{\"type\":\"contourcarpet\",\"colorbar\":{\"outlinewidth\":0,\"ticks\":\"\"}}],\"contour\":[{\"type\":\"contour\",\"colorbar\":{\"outlinewidth\":0,\"ticks\":\"\"},\"colorscale\":[[0.0,\"#0d0887\"],[0.1111111111111111,\"#46039f\"],[0.2222222222222222,\"#7201a8\"],[0.3333333333333333,\"#9c179e\"],[0.4444444444444444,\"#bd3786\"],[0.5555555555555556,\"#d8576b\"],[0.6666666666666666,\"#ed7953\"],[0.7777777777777778,\"#fb9f3a\"],[0.8888888888888888,\"#fdca26\"],[1.0,\"#f0f921\"]]}],\"surface\":[{\"type\":\"surface\",\"colorbar\":{\"outlinewidth\":0,\"ticks\":\"\"},\"colorscale\":[[0.0,\"#0d0887\"],[0.1111111111111111,\"#46039f\"],[0.2222222222222222,\"#7201a8\"],[0.3333333333333333,\"#9c179e\"],[0.4444444444444444,\"#bd3786\"],[0.5555555555555556,\"#d8576b\"],[0.6666666666666666,\"#ed7953\"],[0.7777777777777778,\"#fb9f3a\"],[0.8888888888888888,\"#fdca26\"],[1.0,\"#f0f921\"]]}],\"mesh3d\":[{\"type\":\"mesh3d\",\"colorbar\":{\"outlinewidth\":0,\"ticks\":\"\"}}],\"scatter\":[{\"fillpattern\":{\"fillmode\":\"overlay\",\"size\":10,\"solidity\":0.2},\"type\":\"scatter\"}],\"parcoords\":[{\"type\":\"parcoords\",\"line\":{\"colorbar\":{\"outlinewidth\":0,\"ticks\":\"\"}}}],\"scatterpolargl\":[{\"type\":\"scatterpolargl\",\"marker\":{\"colorbar\":{\"outlinewidth\":0,\"ticks\":\"\"}}}],\"bar\":[{\"error_x\":{\"color\":\"#2a3f5f\"},\"error_y\":{\"color\":\"#2a3f5f\"},\"marker\":{\"line\":{\"color\":\"#E5ECF6\",\"width\":0.5},\"pattern\":{\"fillmode\":\"overlay\",\"size\":10,\"solidity\":0.2}},\"type\":\"bar\"}],\"scattergeo\":[{\"type\":\"scattergeo\",\"marker\":{\"colorbar\":{\"outlinewidth\":0,\"ticks\":\"\"}}}],\"scatterpolar\":[{\"type\":\"scatterpolar\",\"marker\":{\"colorbar\":{\"outlinewidth\":0,\"ticks\":\"\"}}}],\"histogram\":[{\"marker\":{\"pattern\":{\"fillmode\":\"overlay\",\"size\":10,\"solidity\":0.2}},\"type\":\"histogram\"}],\"scattergl\":[{\"type\":\"scattergl\",\"marker\":{\"colorbar\":{\"outlinewidth\":0,\"ticks\":\"\"}}}],\"scatter3d\":[{\"type\":\"scatter3d\",\"line\":{\"colorbar\":{\"outlinewidth\":0,\"ticks\":\"\"}},\"marker\":{\"colorbar\":{\"outlinewidth\":0,\"ticks\":\"\"}}}],\"scattermap\":[{\"type\":\"scattermap\",\"marker\":{\"colorbar\":{\"outlinewidth\":0,\"ticks\":\"\"}}}],\"scattermapbox\":[{\"type\":\"scattermapbox\",\"marker\":{\"colorbar\":{\"outlinewidth\":0,\"ticks\":\"\"}}}],\"scatterternary\":[{\"type\":\"scatterternary\",\"marker\":{\"colorbar\":{\"outlinewidth\":0,\"ticks\":\"\"}}}],\"scattercarpet\":[{\"type\":\"scattercarpet\",\"marker\":{\"colorbar\":{\"outlinewidth\":0,\"ticks\":\"\"}}}],\"carpet\":[{\"aaxis\":{\"endlinecolor\":\"#2a3f5f\",\"gridcolor\":\"white\",\"linecolor\":\"white\",\"minorgridcolor\":\"white\",\"startlinecolor\":\"#2a3f5f\"},\"baxis\":{\"endlinecolor\":\"#2a3f5f\",\"gridcolor\":\"white\",\"linecolor\":\"white\",\"minorgridcolor\":\"white\",\"startlinecolor\":\"#2a3f5f\"},\"type\":\"carpet\"}],\"table\":[{\"cells\":{\"fill\":{\"color\":\"#EBF0F8\"},\"line\":{\"color\":\"white\"}},\"header\":{\"fill\":{\"color\":\"#C8D4E3\"},\"line\":{\"color\":\"white\"}},\"type\":\"table\"}],\"barpolar\":[{\"marker\":{\"line\":{\"color\":\"#E5ECF6\",\"width\":0.5},\"pattern\":{\"fillmode\":\"overlay\",\"size\":10,\"solidity\":0.2}},\"type\":\"barpolar\"}],\"pie\":[{\"automargin\":true,\"type\":\"pie\"}]},\"layout\":{\"autotypenumbers\":\"strict\",\"colorway\":[\"#636efa\",\"#EF553B\",\"#00cc96\",\"#ab63fa\",\"#FFA15A\",\"#19d3f3\",\"#FF6692\",\"#B6E880\",\"#FF97FF\",\"#FECB52\"],\"font\":{\"color\":\"#2a3f5f\"},\"hovermode\":\"closest\",\"hoverlabel\":{\"align\":\"left\"},\"paper_bgcolor\":\"white\",\"plot_bgcolor\":\"#E5ECF6\",\"polar\":{\"bgcolor\":\"#E5ECF6\",\"angularaxis\":{\"gridcolor\":\"white\",\"linecolor\":\"white\",\"ticks\":\"\"},\"radialaxis\":{\"gridcolor\":\"white\",\"linecolor\":\"white\",\"ticks\":\"\"}},\"ternary\":{\"bgcolor\":\"#E5ECF6\",\"aaxis\":{\"gridcolor\":\"white\",\"linecolor\":\"white\",\"ticks\":\"\"},\"baxis\":{\"gridcolor\":\"white\",\"linecolor\":\"white\",\"ticks\":\"\"},\"caxis\":{\"gridcolor\":\"white\",\"linecolor\":\"white\",\"ticks\":\"\"}},\"coloraxis\":{\"colorbar\":{\"outlinewidth\":0,\"ticks\":\"\"}},\"colorscale\":{\"sequential\":[[0.0,\"#0d0887\"],[0.1111111111111111,\"#46039f\"],[0.2222222222222222,\"#7201a8\"],[0.3333333333333333,\"#9c179e\"],[0.4444444444444444,\"#bd3786\"],[0.5555555555555556,\"#d8576b\"],[0.6666666666666666,\"#ed7953\"],[0.7777777777777778,\"#fb9f3a\"],[0.8888888888888888,\"#fdca26\"],[1.0,\"#f0f921\"]],\"sequentialminus\":[[0.0,\"#0d0887\"],[0.1111111111111111,\"#46039f\"],[0.2222222222222222,\"#7201a8\"],[0.3333333333333333,\"#9c179e\"],[0.4444444444444444,\"#bd3786\"],[0.5555555555555556,\"#d8576b\"],[0.6666666666666666,\"#ed7953\"],[0.7777777777777778,\"#fb9f3a\"],[0.8888888888888888,\"#fdca26\"],[1.0,\"#f0f921\"]],\"diverging\":[[0,\"#8e0152\"],[0.1,\"#c51b7d\"],[0.2,\"#de77ae\"],[0.3,\"#f1b6da\"],[0.4,\"#fde0ef\"],[0.5,\"#f7f7f7\"],[0.6,\"#e6f5d0\"],[0.7,\"#b8e186\"],[0.8,\"#7fbc41\"],[0.9,\"#4d9221\"],[1,\"#276419\"]]},\"xaxis\":{\"gridcolor\":\"white\",\"linecolor\":\"white\",\"ticks\":\"\",\"title\":{\"standoff\":15},\"zerolinecolor\":\"white\",\"automargin\":true,\"zerolinewidth\":2},\"yaxis\":{\"gridcolor\":\"white\",\"linecolor\":\"white\",\"ticks\":\"\",\"title\":{\"standoff\":15},\"zerolinecolor\":\"white\",\"automargin\":true,\"zerolinewidth\":2},\"scene\":{\"xaxis\":{\"backgroundcolor\":\"#E5ECF6\",\"gridcolor\":\"white\",\"linecolor\":\"white\",\"showbackground\":true,\"ticks\":\"\",\"zerolinecolor\":\"white\",\"gridwidth\":2},\"yaxis\":{\"backgroundcolor\":\"#E5ECF6\",\"gridcolor\":\"white\",\"linecolor\":\"white\",\"showbackground\":true,\"ticks\":\"\",\"zerolinecolor\":\"white\",\"gridwidth\":2},\"zaxis\":{\"backgroundcolor\":\"#E5ECF6\",\"gridcolor\":\"white\",\"linecolor\":\"white\",\"showbackground\":true,\"ticks\":\"\",\"zerolinecolor\":\"white\",\"gridwidth\":2}},\"shapedefaults\":{\"line\":{\"color\":\"#2a3f5f\"}},\"annotationdefaults\":{\"arrowcolor\":\"#2a3f5f\",\"arrowhead\":0,\"arrowwidth\":1},\"geo\":{\"bgcolor\":\"white\",\"landcolor\":\"#E5ECF6\",\"subunitcolor\":\"white\",\"showland\":true,\"showlakes\":true,\"lakecolor\":\"white\"},\"title\":{\"x\":0.05},\"mapbox\":{\"style\":\"light\"}}},\"xaxis\":{\"anchor\":\"y\",\"domain\":[0.0,1.0],\"title\":{\"text\":\"STATE\"}},\"yaxis\":{\"anchor\":\"x\",\"domain\":[0.0,1.0],\"title\":{\"text\":\"# Constituency\"}},\"coloraxis\":{\"colorbar\":{\"title\":{\"text\":\"# Constituency\"}},\"colorscale\":[[0.0,\"#0d0887\"],[0.1111111111111111,\"#46039f\"],[0.2222222222222222,\"#7201a8\"],[0.3333333333333333,\"#9c179e\"],[0.4444444444444444,\"#bd3786\"],[0.5555555555555556,\"#d8576b\"],[0.6666666666666666,\"#ed7953\"],[0.7777777777777778,\"#fb9f3a\"],[0.8888888888888888,\"#fdca26\"],[1.0,\"#f0f921\"]]},\"legend\":{\"tracegroupgap\":0},\"margin\":{\"t\":60},\"barmode\":\"relative\",\"title\":{\"text\":\"Statewise distribution of the Constituencies all over India\"}},                        {\"responsive\": true}                    ).then(function(){\n",
       "                            \n",
       "var gd = document.getElementById('ec35db06-5cff-4ae1-b791-5fccc86c8469');\n",
       "var x = new MutationObserver(function (mutations, observer) {{\n",
       "        var display = window.getComputedStyle(gd).display;\n",
       "        if (!display || display === 'none') {{\n",
       "            console.log([gd, 'removed!']);\n",
       "            Plotly.purge(gd);\n",
       "            observer.disconnect();\n",
       "        }}\n",
       "}});\n",
       "\n",
       "// Listen for the removal of the full notebook cells\n",
       "var notebookContainer = gd.closest('#notebook-container');\n",
       "if (notebookContainer) {{\n",
       "    x.observe(notebookContainer, {childList: true});\n",
       "}}\n",
       "\n",
       "// Listen for the clearing of the current output cell\n",
       "var outputEl = gd.closest('.output');\n",
       "if (outputEl) {{\n",
       "    x.observe(outputEl, {childList: true});\n",
       "}}\n",
       "\n",
       "                        })                };            </script>        </div>"
      ]
     },
     "metadata": {},
     "output_type": "display_data"
    },
    {
     "data": {
      "image/png": "[encoded data removed]",
      "text/plain": [
       "<Figure size 1000x1000 with 2 Axes>"
      ]
     },
     "metadata": {},
     "output_type": "display_data"
    }
   ],
   "source": [
    "st_con=vote.groupby('STATE').apply(lambda x:x['CONSTITUENCY'].nunique()).reset_index(name='# Constituency')\n",
    "shp_gdf = gpd.read_file('datasets\\India States\\Igismap\\Indian_States.shp')\n",
    "merged = shp_gdf.set_index('st_nm').join(st_con.set_index('STATE'))\n",
    "fig, ax = plt.subplots(1, figsize=(10, 10))\n",
    "ax.axis('off')\n",
    "ax.set_title('State-wise Distribution of Indian Constituencies',\n",
    "             fontdict={'fontsize': '15', 'fontweight' : '3'})\n",
    "fig = merged.plot(column='# Constituency', cmap='inferno_r',linewidth=0.5, ax=ax, edgecolor='0.2',legend=True)\n",
    "st_con.sort_values(by='# Constituency',ascending=False,inplace=True)\n",
    "fig2 = px.bar(st_con, x='STATE', y='# Constituency',\n",
    "                     color='# Constituency',\n",
    "             labels={'pop':'Constituencies of India'})\n",
    "fig2.update_layout(title_text='Statewise distribution of the Constituencies all over India')\n",
    "fig2.show()"
   ]
  },
  {
   "cell_type": "markdown",
   "id": "7907b38f",
   "metadata": {},
   "source": [
    "#### Sunburst image of all the States and Constituencies"
   ]
  },
  {
   "cell_type": "code",
   "execution_count": 16,
   "id": "de56fd5e",
   "metadata": {},
   "outputs": [
    {
     "data": {
      "application/vnd.plotly.v1+json": {
       "config": {
        "plotlyServerURL": "https://plot.ly"
       },
       "data": [
        {
         "branchvalues": "total",
         "customdata": {
          "bdata": "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",
          "dtype": "f8",
          "shape": "578, 1"
         },
         "domain": {
          "x": [
           0,
           1
          ],
          "y": [
           0,
           1
          ]
         },
         "hovertemplate": "labels=%{label}<br>TOTAL ELECTORS_sum=%{value}<br>parent=%{parent}<br>id=%{id}<br>TOTAL ELECTORS=%{color}<extra></extra>",
         "ids": [
          "Telangana/ADILABAD",
          "Uttar Pradesh/AGRA",
          "Maharashtra/AHMADNAGAR",
          "Gujarat/AHMEDABAD EAST",
          "Gujarat/AHMEDABAD WEST",
          "Rajasthan/AJMER",
          "Uttar Pradesh/AKBARPUR",
          "Maharashtra/AKOLA",
          "Kerala/ALAPPUZHA",
          "Kerala/ALATHUR",
          "Uttar Pradesh/ALIGARH",
          "West Bengal/ALIPURDUARS",
          "Uttar Pradesh/ALLAHABAD",
          "Uttarakhand/ALMORA",
          "Rajasthan/ALWAR",
          "Andhra Pradesh/AMALAPURAM",
          "Haryana/AMBALA",
          "Uttar Pradesh/AMBEDKAR NAGAR",
          "Uttar Pradesh/AMETHI",
          "Maharashtra/AMRAVATI",
          "Gujarat/AMRELI",
          "Punjab/AMRITSAR",
          "Uttar Pradesh/AMROHA",
          "Andhra Pradesh/ANAKAPALLI",
          "Gujarat/ANAND",
          "Punjab/ANANDPUR SAHIB",
          "Andhra Pradesh/ANANTAPUR",
          "Jammu & Kashmir/ANANTNAG",
          "Andaman & Nicobar Islands/ANDAMAN & NICOBAR ISLANDS",
          "Uttar Pradesh/AONLA",
          "Tamil Nadu/ARAKKONAM",
          "West Bengal/ARAMBAGH",
          "Tamil Nadu/ARANI",
          "Bihar/ARARIA",
          "Bihar/ARRAH",
          "Andhra Pradesh/ARUKU",
          "Arunachal Pradesh/ARUNACHAL EAST",
          "Arunachal Pradesh/ARUNACHAL WEST",
          "West Bengal/ASANSOL",
          "Odisha/ASKA",
          "Kerala/ATTINGAL",
          "Bihar/AURANGABAD",
          "Maharashtra/AURANGABAD",
          "Assam/AUTONOMOUS DISTRICT",
          "Uttar Pradesh/AZAMGARH",
          "Uttar Pradesh/BADAUN",
          "Karnataka/BAGALKOT",
          "Uttar Pradesh/BAGHPAT",
          "West Bengal/BAHARAMPUR",
          "Uttar Pradesh/BAHRAICH",
          "Madhya Pradesh/BALAGHAT",
          "Odisha/BALASORE",
          "Uttar Pradesh/BALLIA",
          "West Bengal/BALURGHAT",
          "Gujarat/BANASKANTHA",
          "Uttar Pradesh/BANDA",
          "Karnataka/BANGALORE CENTRAL",
          "Karnataka/BANGALORE NORTH",
          "Karnataka/BANGALORE RURAL",
          "Karnataka/BANGALORE SOUTH",
          "West Bengal/BANGAON",
          "Bihar/BANKA",
          "West Bengal/BANKURA",
          "Uttar Pradesh/BANSGAON",
          "Rajasthan/BANSWARA",
          "Andhra Pradesh/BAPATLA",
          "Uttar Pradesh/BARABANKI",
          "Maharashtra/BARAMATI",
          "Jammu & Kashmir/BARAMULLA",
          "West Bengal/BARASAT",
          "West Bengal/BARDHAMAN DURGAPUR",
          "West Bengal/BARDHAMAN PURBA",
          "Gujarat/BARDOLI",
          "Uttar Pradesh/BAREILLY",
          "Odisha/BARGARH",
          "Rajasthan/BARMER",
          "Assam/BARPETA",
          "West Bengal/BARRACKPORE",
          "West Bengal/BASIRHAT",
          "Chhattisgarh/BASTAR",
          "Uttar Pradesh/BASTI",
          "Punjab/BATHINDA",
          "Maharashtra/BEED",
          "Bihar/BEGUSARAI",
          "Karnataka/BELGAUM",
          "Karnataka/BELLARY",
          "Odisha/BERHAMPUR",
          "Madhya Pradesh/BETUL",
          "Uttar Pradesh/BHADOHI",
          "Odisha/BHADRAK",
          "Bihar/BHAGALPUR",
          "Maharashtra/BHANDARA - GONDIYA",
          "Rajasthan/BHARATPUR",
          "Gujarat/BHARUCH",
          "Gujarat/BHAVNAGAR",
          "Rajasthan/BHILWARA",
          "Madhya Pradesh/BHIND",
          "Maharashtra/BHIWANDI",
          "Haryana/BHIWANI-MAHENDRAGARH",
          "Telangana/BHONGIR",
          "Madhya Pradesh/BHOPAL",
          "Odisha/BHUBANESWAR",
          "Karnataka/BIDAR",
          "Karnataka/BIJAPUR",
          "Uttar Pradesh/BIJNOR",
          "Rajasthan/BIKANER (SC)",
          "Chhattisgarh/BILASPUR",
          "West Bengal/BIRBHUM",
          "West Bengal/BISHNUPUR",
          "Odisha/BOLANGIR",
          "West Bengal/BOLPUR",
          "Uttar Pradesh/BULANDSHAHR",
          "Maharashtra/BULDHANA",
          "Bihar/BUXAR",
          "Kerala/CHALAKUDY",
          "Karnataka/CHAMARAJANAGAR",
          "Uttar Pradesh/CHANDAULI",
          "Chandigarh/CHANDIGARH",
          "NCT OF Delhi/CHANDNI CHOWK",
          "Maharashtra/CHANDRAPUR",
          "Jharkhand/CHATRA",
          "Tamil Nadu/CHENNAI CENTRAL",
          "Tamil Nadu/CHENNAI NORTH",
          "Tamil Nadu/CHENNAI SOUTH",
          "Telangana/CHEVELLA",
          "Madhya Pradesh/CHHINDWARA",
          "Gujarat/CHHOTA UDAIPUR",
          "Tamil Nadu/CHIDAMBARAM",
          "Karnataka/CHIKKBALLAPUR",
          "Karnataka/CHIKKODI",
          "Karnataka/CHITRADURGA",
          "Andhra Pradesh/CHITTOOR",
          "Rajasthan/CHITTORGARH",
          "Rajasthan/CHURU",
          "Tamil Nadu/COIMBATORE",
          "West Bengal/COOCH BEHAR",
          "Tamil Nadu/CUDDALORE",
          "Odisha/CUTTACK",
          "Dadra & Nagar Haveli/DADRA AND NAGAR HAVELI",
          "Gujarat/DAHOD",
          "Karnataka/DAKSHINA KANNADA",
          "Daman & Diu/DAMAN & DIU",
          "Madhya Pradesh/DAMOH",
          "Bihar/DARBHANGA",
          "West Bengal/DARJEELING",
          "Rajasthan/DAUSA",
          "Karnataka/DAVANAGERE",
          "Uttar Pradesh/DEORIA",
          "Madhya Pradesh/DEWAS",
          "Jharkhand/DHANBAD",
          "Madhya Pradesh/DHAR",
          "Tamil Nadu/DHARMAPURI",
          "Karnataka/DHARWAD",
          "Uttar Pradesh/DHAURAHRA",
          "Odisha/DHENKANAL",
          "Assam/DHUBRI",
          "Maharashtra/DHULE",
          "West Bengal/DIAMOND HARBOUR",
          "Assam/DIBRUGARH",
          "Tamil Nadu/DINDIGUL",
          "Maharashtra/DINDORI",
          "Uttar Pradesh/DOMARIYAGANJ",
          "West Bengal/DUM DUM",
          "Jharkhand/DUMKA",
          "Chhattisgarh/DURG",
          "NCT OF Delhi/EAST DELHI",
          "Andhra Pradesh/ELURU",
          "Kerala/ERNAKULAM",
          "Tamil Nadu/ERODE",
          "Uttar Pradesh/ETAH",
          "Uttar Pradesh/ETAWAH",
          "Uttar Pradesh/FAIZABAD",
          "Haryana/FARIDABAD",
          "Punjab/FARIDKOT",
          "Uttar Pradesh/FARRUKHABAD",
          "Punjab/FATEHGARH SAHIB",
          "Uttar Pradesh/FATEHPUR",
          "Uttar Pradesh/FATEHPUR SIKRI",
          "Uttar Pradesh/FIROZABAD",
          "Punjab/FIROZPUR",
          "Maharashtra/GADCHIROLI-CHIMUR",
          "Gujarat/GANDHINAGAR",
          "Rajasthan/GANGANAGAR",
          "Uttarakhand/GARHWAL",
          "Assam/GAUHATI",
          "Uttar Pradesh/GAUTAM BUDDHA NAGAR",
          "Bihar/GAYA (SC)",
          "West Bengal/GHATAL",
          "Uttar Pradesh/GHAZIABAD",
          "Uttar Pradesh/GHAZIPUR",
          "Uttar Pradesh/GHOSI",
          "Jharkhand/GIRIDIH",
          "Jharkhand/GODDA",
          "Uttar Pradesh/GONDA",
          "Bihar/GOPALGANJ (SC)",
          "Uttar Pradesh/GORAKHPUR",
          "Karnataka/GULBARGA",
          "Madhya Pradesh/GUNA",
          "Andhra Pradesh/GUNTUR",
          "Punjab/GURDASPUR",
          "Haryana/GURGAON",
          "Madhya Pradesh/GWALIOR",
          "Bihar/HAJIPUR (SC)",
          "Himachal Pradesh/HAMIRPUR",
          "Uttar Pradesh/HAMIRPUR",
          "Uttar Pradesh/HARDOI",
          "Uttarakhand/HARDWAR",
          "Karnataka/HASSAN",
          "Uttar Pradesh/HATHRAS",
          "Maharashtra/HATKANANGLE",
          "Karnataka/HAVERI",
          "Jharkhand/HAZARIBAGH",
          "Andhra Pradesh/HINDUPUR",
          "Maharashtra/HINGOLI",
          "Haryana/HISAR",
          "West Bengal/HOOGHLY",
          "Madhya Pradesh/HOSHANGABAD",
          "Punjab/HOSHIARPUR",
          "West Bengal/HOWRAH",
          "Telangana/HYDERABAD",
          "Kerala/IDUKKI",
          "Madhya Pradesh/INDORE",
          "Manipur/INNER MANIPUR",
          "Madhya Pradesh/JABALPUR",
          "West Bengal/JADAVPUR",
          "Odisha/JAGATSINGHPUR",
          "Bihar/JAHANABAD",
          "Rajasthan/JAIPUR",
          "Rajasthan/JAIPUR RURAL",
          "Odisha/JAJPUR",
          "Punjab/JALANDHAR",
          "Uttar Pradesh/JALAUN",
          "Maharashtra/JALGAON",
          "Maharashtra/JALNA",
          "Rajasthan/JALORE",
          "West Bengal/JALPAIGURI",
          "Jammu & Kashmir/JAMMU",
          "Gujarat/JAMNAGAR",
          "Jharkhand/JAMSHEDPUR",
          "Bihar/JAMUI (SC)",
          "West Bengal/JANGIPUR",
          "Chhattisgarh/JANJGIR-CHAMPA",
          "Uttar Pradesh/JAUNPUR",
          "West Bengal/JAYNAGAR",
          "Rajasthan/JHALAWAR-BARAN",
          "Bihar/JHANJHARPUR",
          "Uttar Pradesh/JHANSI",
          "West Bengal/JHARGRAM",
          "Rajasthan/JHUNJHUNU",
          "Rajasthan/JODHPUR",
          "Assam/JORHAT",
          "Gujarat/JUNAGADH",
          "Gujarat/KACHCHH",
          "Andhra Pradesh/KADAPA",
          "Uttar Pradesh/KAIRANA",
          "Uttar Pradesh/KAISERGANJ",
          "Andhra Pradesh/KAKINADA",
          "Odisha/KALAHANDI",
          "Assam/KALIABOR",
          "Tamil Nadu/KALLAKURICHI",
          "Maharashtra/KALYAN",
          "Tamil Nadu/KANCHEEPURAM",
          "Odisha/KANDHAMAL",
          "Himachal Pradesh/KANGRA",
          "Chhattisgarh/KANKER",
          "Uttar Pradesh/KANNAUJ",
          "Tamil Nadu/KANNIYAKUMARI",
          "Kerala/KANNUR",
          "Uttar Pradesh/KANPUR",
          "West Bengal/KANTHI",
          "Bihar/KARAKAT",
          "Rajasthan/KARAULI-DHOLPUR",
          "Assam/KARIMGANJ",
          "Telangana/KARIMNAGAR",
          "Haryana/KARNAL",
          "Tamil Nadu/KARUR",
          "Kerala/KASARAGOD",
          "Bihar/KATIHAR",
          "Uttar Pradesh/KAUSHAMBI",
          "Odisha/KENDRAPARA",
          "Odisha/KEONJHAR",
          "Punjab/KHADOOR SAHIB",
          "Bihar/KHAGARIA",
          "Madhya Pradesh/KHAJURAHO",
          "Telangana/KHAMMAM",
          "Madhya Pradesh/KHANDWA",
          "Madhya Pradesh/KHARGONE",
          "Gujarat/KHEDA",
          "Uttar Pradesh/KHERI",
          "Jharkhand/KHUNTI",
          "Bihar/KISHANGANJ",
          "Jharkhand/KODARMA",
          "Assam/KOKRAJHAR",
          "Karnataka/KOLAR",
          "Maharashtra/KOLHAPUR",
          "West Bengal/KOLKATA DAKSHIN",
          "West Bengal/KOLKATA UTTAR",
          "Kerala/KOLLAM",
          "Karnataka/KOPPAL",
          "Odisha/KORAPUT",
          "Chhattisgarh/KORBA",
          "Rajasthan/KOTA",
          "Kerala/KOTTAYAM",
          "Kerala/KOZHIKODE",
          "Tamil Nadu/KRISHNAGIRI",
          "West Bengal/KRISHNANAGAR",
          "Andhra Pradesh/KURNOOL",
          "Haryana/KURUKSHETRA",
          "Uttar Pradesh/KUSHI NAGAR",
          "Jammu & Kashmir/LADAKH",
          "Assam/LAKHIMPUR",
          "Lakshadweep/LAKSHADWEEP",
          "Uttar Pradesh/LALGANJ",
          "Maharashtra/LATUR",
          "Jharkhand/LOHARDAGA",
          "Uttar Pradesh/LUCKNOW",
          "Punjab/LUDHIANA",
          "Uttar Pradesh/MACHHLISHAHR",
          "Andhra Pradesh/MACHILIPATNAM",
          "Maharashtra/MADHA",
          "Bihar/MADHEPURA",
          "Bihar/MADHUBANI",
          "Tamil Nadu/MADURAI",
          "Telangana/MAHABUBABAD",
          "Uttar Pradesh/MAHARAJGANJ",
          "Bihar/MAHARAJGANJ",
          "Chhattisgarh/MAHASAMUND",
          "Telangana/MAHBUBNAGAR",
          "Gujarat/MAHESANA",
          "Uttar Pradesh/MAINPURI",
          "Kerala/MALAPPURAM",
          "West Bengal/MALDAHA DAKSHIN",
          "West Bengal/MALDAHA UTTAR",
          "Telangana/MALKAJGIRI",
          "Himachal Pradesh/MANDI",
          "Madhya Pradesh/MANDLA",
          "Madhya Pradesh/MANDSOUR",
          "Karnataka/MANDYA",
          "Assam/MANGALDOI",
          "Uttar Pradesh/MATHURA",
          "West Bengal/MATHURAPUR",
          "Maharashtra/MAVAL",
          "Kerala/MAVELIKKARA",
          "Tamil Nadu/MAYILADUTHURAI",
          "Odisha/MAYURBHANJ",
          "Telangana/MEDAK",
          "West Bengal/MEDINIPUR",
          "Uttar Pradesh/MEERUT",
          "Uttar Pradesh/MIRZAPUR",
          "Uttar Pradesh/MISRIKH",
          "Mizoram/MIZORAM",
          "Uttar Pradesh/MOHANLALGANJ",
          "Uttar Pradesh/MORADABAD",
          "Madhya Pradesh/MORENA",
          "Maharashtra/MUMBAI NORTH",
          "Maharashtra/MUMBAI NORTH CENTRAL",
          "Maharashtra/MUMBAI NORTH EAST",
          "Maharashtra/MUMBAI NORTH WEST",
          "Maharashtra/MUMBAI SOUTH",
          "Maharashtra/MUMBAI SOUTH CENTRAL",
          "Bihar/MUNGER",
          "West Bengal/MURSHIDABAD",
          "Uttar Pradesh/MUZAFFARNAGAR",
          "Bihar/MUZAFFARPUR",
          "Karnataka/MYSORE",
          "Odisha/NABARANGPUR",
          "Nagaland/NAGALAND",
          "Tamil Nadu/NAGAPATTINAM",
          "Telangana/NAGARKURNOOL",
          "Rajasthan/NAGAUR",
          "Uttar Pradesh/NAGINA",
          "Maharashtra/NAGPUR",
          "Uttarakhand/NAINITAL-UDHAMSINGH NAGAR",
          "Bihar/NALANDA",
          "Telangana/NALGONDA",
          "Tamil Nadu/NAMAKKAL",
          "Maharashtra/NANDED",
          "Maharashtra/NANDURBAR",
          "Andhra Pradesh/NANDYAL",
          "Andhra Pradesh/NARASARAOPET",
          "Andhra Pradesh/NARSAPURAM",
          "Maharashtra/NASHIK",
          "Gujarat/NAVSARI",
          "Bihar/NAWADA",
          "Andhra Pradesh/NELLORE",
          "NCT OF Delhi/NEW DELHI",
          "Tamil Nadu/NILGIRIS",
          "Telangana/NIZAMABAD",
          "NCT OF Delhi/NORTH EAST DELHI",
          "Goa/NORTH GOA",
          "NCT OF Delhi/NORTH WEST DELHI",
          "Assam/NOWGONG",
          "Andhra Pradesh/ONGOLE",
          "Maharashtra/OSMANABAD",
          "Manipur/OUTER MANIPUR",
          "Kerala/PALAKKAD",
          "Jharkhand/PALAMAU",
          "Maharashtra/PALGHAR",
          "Rajasthan/PALI",
          "Gujarat/PANCHMAHAL",
          "Maharashtra/PARBHANI",
          "Bihar/PASCHIM CHAMPARAN",
          "Bihar/PATALIPUTRA",
          "Gujarat/PATAN",
          "Kerala/PATHANAMTHITTA",
          "Punjab/PATIALA",
          "Bihar/PATNA SAHIB",
          "Telangana/PEDDAPALLE",
          "Tamil Nadu/PERAMBALUR",
          "Uttar Pradesh/PHULPUR",
          "Uttar Pradesh/PILIBHIT",
          "Tamil Nadu/POLLACHI",
          "Kerala/PONNANI",
          "Gujarat/PORBANDAR",
          "Uttar Pradesh/PRATAPGARH",
          "Puducherry/PUDUCHERRY",
          "Maharashtra/PUNE",
          "Odisha/PURI",
          "Bihar/PURNIA",
          "West Bengal/PURULIA",
          "Bihar/PURVI CHAMPARAN",
          "Uttar Pradesh/RAE BARELI",
          "Karnataka/RAICHUR",
          "Maharashtra/RAIGAD",
          "West Bengal/RAIGANJ",
          "Chhattisgarh/RAIGARH",
          "Chhattisgarh/RAIPUR",
          "Andhra Pradesh/RAJAHMUNDRY",
          "Andhra Pradesh/RAJAMPET",
          "Madhya Pradesh/RAJGARH",
          "Gujarat/RAJKOT",
          "Jharkhand/RAJMAHAL",
          "Chhattisgarh/RAJNANDGAON",
          "Rajasthan/RAJSAMAND",
          "Tamil Nadu/RAMANATHAPURAM",
          "Uttar Pradesh/RAMPUR",
          "Maharashtra/RAMTEK",
          "West Bengal/RANAGHAT",
          "Jharkhand/RANCHI",
          "Madhya Pradesh/RATLAM",
          "Maharashtra/RATNAGIRI - SINDHUDURG",
          "Maharashtra/RAVER",
          "Madhya Pradesh/REWA",
          "Uttar Pradesh/ROBERTSGANJ",
          "Haryana/ROHTAK",
          "Gujarat/SABARKANTHA",
          "Madhya Pradesh/SAGAR",
          "Uttar Pradesh/SAHARANPUR",
          "Tamil Nadu/SALEM",
          "Uttar Pradesh/SALEMPUR",
          "Bihar/SAMASTIPUR (SC)",
          "Odisha/SAMBALPUR",
          "Uttar Pradesh/SAMBHAL",
          "Maharashtra/SANGLI",
          "Punjab/SANGRUR",
          "Uttar Pradesh/SANT KABIR NAGAR",
          "Bihar/SARAN",
          "Chhattisgarh/SARGUJA",
          "Bihar/SASARAM (SC)",
          "Maharashtra/SATARA",
          "Madhya Pradesh/SATNA",
          "Telangana/SECUNDRABAD",
          "Madhya Pradesh/SHAHDOL",
          "Uttar Pradesh/SHAHJAHANPUR",
          "Bihar/SHEOHAR",
          "Meghalaya/SHILLONG",
          "Himachal Pradesh/SHIMLA",
          "Karnataka/SHIMOGA",
          "Maharashtra/SHIRDI",
          "Maharashtra/SHIRUR",
          "Uttar Pradesh/SHRAWASTI",
          "Madhya Pradesh/SIDHI",
          "Rajasthan/SIKAR",
          "Sikkim/SIKKIM",
          "Assam/SILCHAR",
          "Jharkhand/SINGHBHUM",
          "Haryana/SIRSA",
          "Bihar/SITAMARHI",
          "Uttar Pradesh/SITAPUR",
          "Tamil Nadu/SIVAGANGA",
          "Bihar/SIWAN",
          "Maharashtra/SOLAPUR",
          "Haryana/SONIPAT",
          "NCT OF Delhi/SOUTH DELHI",
          "Goa/SOUTH GOA",
          "West Bengal/SRERAMPUR",
          "Andhra Pradesh/SRIKAKULAM",
          "Jammu & Kashmir/SRINAGAR",
          "Tamil Nadu/SRIPERUMBUDUR",
          "Uttar Pradesh/SULTANPUR",
          "Odisha/SUNDARGARH",
          "Bihar/SUPAUL",
          "Gujarat/SURAT",
          "Gujarat/SURENDRANAGAR",
          "West Bengal/TAMLUK",
          "Uttarakhand/TEHRI GARHWAL",
          "Tamil Nadu/TENKASI",
          "Assam/TEZPUR",
          "Maharashtra/THANE",
          "Tamil Nadu/THANJAVUR",
          "Tamil Nadu/THENI",
          "Tamil Nadu/THIRUVALLUR",
          "Kerala/THIRUVANANTHAPURAM",
          "Tamil Nadu/THOOTHUKKUDI",
          "Kerala/THRISSUR",
          "Madhya Pradesh/TIKAMGARH",
          "Tamil Nadu/TIRUCHIRAPPALLI",
          "Tamil Nadu/TIRUNELVELI",
          "Andhra Pradesh/TIRUPATI",
          "Tamil Nadu/TIRUPPUR",
          "Tamil Nadu/TIRUVANNAMALAI",
          "Rajasthan/TONK-SAWAI MADHOPUR",
          "Tripura/TRIPURA EAST",
          "Tripura/TRIPURA WEST",
          "Karnataka/TUMKUR",
          "Meghalaya/TURA",
          "Rajasthan/UDAIPUR",
          "Jammu & Kashmir/UDHAMPUR",
          "Karnataka/UDUPI CHIKMAGALUR",
          "Bihar/UJIARPUR",
          "Madhya Pradesh/UJJAIN",
          "West Bengal/ULUBERIA",
          "Uttar Pradesh/UNNAO",
          "Karnataka/UTTARA KANNADA",
          "Kerala/VADAKARA",
          "Gujarat/VADODARA",
          "Bihar/VAISHALI",
          "Bihar/VALMIKI NAGAR",
          "Gujarat/VALSAD",
          "Uttar Pradesh/VARANASI",
          "Madhya Pradesh/VIDISHA",
          "Andhra Pradesh/VIJAYAWADA",
          "Tamil Nadu/VILUPPURAM",
          "Tamil Nadu/VIRUDHUNAGAR",
          "Andhra Pradesh/VISAKHAPATNAM",
          "Andhra Pradesh/VIZIANAGARAM",
          "Telangana/WARANGAL",
          "Maharashtra/WARDHA",
          "Kerala/WAYANAD",
          "NCT OF Delhi/WEST DELHI",
          "Maharashtra/YAVATMAL-WASHIM",
          "Telangana/ZAHIRABAD",
          "Telangana",
          "Uttar Pradesh",
          "Maharashtra",
          "Gujarat",
          "Rajasthan",
          "Kerala",
          "West Bengal",
          "Uttarakhand",
          "Andhra Pradesh",
          "Haryana",
          "Punjab",
          "Jammu & Kashmir",
          "Andaman & Nicobar Islands",
          "Tamil Nadu",
          "Bihar",
          "Arunachal Pradesh",
          "Odisha",
          "Assam",
          "Karnataka",
          "Madhya Pradesh",
          "Chhattisgarh",
          "Chandigarh",
          "NCT OF Delhi",
          "Jharkhand",
          "Dadra & Nagar Haveli",
          "Daman & Diu",
          "Himachal Pradesh",
          "Manipur",
          "Lakshadweep",
          "Mizoram",
          "Nagaland",
          "Goa",
          "Puducherry",
          "Meghalaya",
          "Sikkim",
          "Tripura"
         ],
         "labels": [
          "ADILABAD",
          "AGRA",
          "AHMADNAGAR",
          "AHMEDABAD EAST",
          "AHMEDABAD WEST",
          "AJMER",
          "AKBARPUR",
          "AKOLA",
          "ALAPPUZHA",
          "ALATHUR",
          "ALIGARH",
          "ALIPURDUARS",
          "ALLAHABAD",
          "ALMORA",
          "ALWAR",
          "AMALAPURAM",
          "AMBALA",
          "AMBEDKAR NAGAR",
          "AMETHI",
          "AMRAVATI",
          "AMRELI",
          "AMRITSAR",
          "AMROHA",
          "ANAKAPALLI",
          "ANAND",
          "ANANDPUR SAHIB",
          "ANANTAPUR",
          "ANANTNAG",
          "ANDAMAN & NICOBAR ISLANDS",
          "AONLA",
          "ARAKKONAM",
          "ARAMBAGH",
          "ARANI",
          "ARARIA",
          "ARRAH",
          "ARUKU",
          "ARUNACHAL EAST",
          "ARUNACHAL WEST",
          "ASANSOL",
          "ASKA",
          "ATTINGAL",
          "AURANGABAD",
          "AURANGABAD",
          "AUTONOMOUS DISTRICT",
          "AZAMGARH",
          "BADAUN",
          "BAGALKOT",
          "BAGHPAT",
          "BAHARAMPUR",
          "BAHRAICH",
          "BALAGHAT",
          "BALASORE",
          "BALLIA",
          "BALURGHAT",
          "BANASKANTHA",
          "BANDA",
          "BANGALORE CENTRAL",
          "BANGALORE NORTH",
          "BANGALORE RURAL",
          "BANGALORE SOUTH",
          "BANGAON",
          "BANKA",
          "BANKURA",
          "BANSGAON",
          "BANSWARA",
          "BAPATLA",
          "BARABANKI",
          "BARAMATI",
          "BARAMULLA",
          "BARASAT",
          "BARDHAMAN DURGAPUR",
          "BARDHAMAN PURBA",
          "BARDOLI",
          "BAREILLY",
          "BARGARH",
          "BARMER",
          "BARPETA",
          "BARRACKPORE",
          "BASIRHAT",
          "BASTAR",
          "BASTI",
          "BATHINDA",
          "BEED",
          "BEGUSARAI",
          "BELGAUM",
          "BELLARY",
          "BERHAMPUR",
          "BETUL",
          "BHADOHI",
          "BHADRAK",
          "BHAGALPUR",
          "BHANDARA - GONDIYA",
          "BHARATPUR",
          "BHARUCH",
          "BHAVNAGAR",
          "BHILWARA",
          "BHIND",
          "BHIWANDI",
          "BHIWANI-MAHENDRAGARH",
          "BHONGIR",
          "BHOPAL",
          "BHUBANESWAR",
          "BIDAR",
          "BIJAPUR",
          "BIJNOR",
          "BIKANER (SC)",
          "BILASPUR",
          "BIRBHUM",
          "BISHNUPUR",
          "BOLANGIR",
          "BOLPUR",
          "BULANDSHAHR",
          "BULDHANA",
          "BUXAR",
          "CHALAKUDY",
          "CHAMARAJANAGAR",
          "CHANDAULI",
          "CHANDIGARH",
          "CHANDNI CHOWK",
          "CHANDRAPUR",
          "CHATRA",
          "CHENNAI CENTRAL",
          "CHENNAI NORTH",
          "CHENNAI SOUTH",
          "CHEVELLA",
          "CHHINDWARA",
          "CHHOTA UDAIPUR",
          "CHIDAMBARAM",
          "CHIKKBALLAPUR",
          "CHIKKODI",
          "CHITRADURGA",
          "CHITTOOR",
          "CHITTORGARH",
          "CHURU",
          "COIMBATORE",
          "COOCH BEHAR",
          "CUDDALORE",
          "CUTTACK",
          "DADRA AND NAGAR HAVELI",
          "DAHOD",
          "DAKSHINA KANNADA",
          "DAMAN & DIU",
          "DAMOH",
          "DARBHANGA",
          "DARJEELING",
          "DAUSA",
          "DAVANAGERE",
          "DEORIA",
          "DEWAS",
          "DHANBAD",
          "DHAR",
          "DHARMAPURI",
          "DHARWAD",
          "DHAURAHRA",
          "DHENKANAL",
          "DHUBRI",
          "DHULE",
          "DIAMOND HARBOUR",
          "DIBRUGARH",
          "DINDIGUL",
          "DINDORI",
          "DOMARIYAGANJ",
          "DUM DUM",
          "DUMKA",
          "DURG",
          "EAST DELHI",
          "ELURU",
          "ERNAKULAM",
          "ERODE",
          "ETAH",
          "ETAWAH",
          "FAIZABAD",
          "FARIDABAD",
          "FARIDKOT",
          "FARRUKHABAD",
          "FATEHGARH SAHIB",
          "FATEHPUR",
          "FATEHPUR SIKRI",
          "FIROZABAD",
          "FIROZPUR",
          "GADCHIROLI-CHIMUR",
          "GANDHINAGAR",
          "GANGANAGAR",
          "GARHWAL",
          "GAUHATI",
          "GAUTAM BUDDHA NAGAR",
          "GAYA (SC)",
          "GHATAL",
          "GHAZIABAD",
          "GHAZIPUR",
          "GHOSI",
          "GIRIDIH",
          "GODDA",
          "GONDA",
          "GOPALGANJ (SC)",
          "GORAKHPUR",
          "GULBARGA",
          "GUNA",
          "GUNTUR",
          "GURDASPUR",
          "GURGAON",
          "GWALIOR",
          "HAJIPUR (SC)",
          "HAMIRPUR",
          "HAMIRPUR",
          "HARDOI",
          "HARDWAR",
          "HASSAN",
          "HATHRAS",
          "HATKANANGLE",
          "HAVERI",
          "HAZARIBAGH",
          "HINDUPUR",
          "HINGOLI",
          "HISAR",
          "HOOGHLY",
          "HOSHANGABAD",
          "HOSHIARPUR",
          "HOWRAH",
          "HYDERABAD",
          "IDUKKI",
          "INDORE",
          "INNER MANIPUR",
          "JABALPUR",
          "JADAVPUR",
          "JAGATSINGHPUR",
          "JAHANABAD",
          "JAIPUR",
          "JAIPUR RURAL",
          "JAJPUR",
          "JALANDHAR",
          "JALAUN",
          "JALGAON",
          "JALNA",
          "JALORE",
          "JALPAIGURI",
          "JAMMU",
          "JAMNAGAR",
          "JAMSHEDPUR",
          "JAMUI (SC)",
          "JANGIPUR",
          "JANJGIR-CHAMPA",
          "JAUNPUR",
          "JAYNAGAR",
          "JHALAWAR-BARAN",
          "JHANJHARPUR",
          "JHANSI",
          "JHARGRAM",
          "JHUNJHUNU",
          "JODHPUR",
          "JORHAT",
          "JUNAGADH",
          "KACHCHH",
          "KADAPA",
          "KAIRANA",
          "KAISERGANJ",
          "KAKINADA",
          "KALAHANDI",
          "KALIABOR",
          "KALLAKURICHI",
          "KALYAN",
          "KANCHEEPURAM",
          "KANDHAMAL",
          "KANGRA",
          "KANKER",
          "KANNAUJ",
          "KANNIYAKUMARI",
          "KANNUR",
          "KANPUR",
          "KANTHI",
          "KARAKAT",
          "KARAULI-DHOLPUR",
          "KARIMGANJ",
          "KARIMNAGAR",
          "KARNAL",
          "KARUR",
          "KASARAGOD",
          "KATIHAR",
          "KAUSHAMBI",
          "KENDRAPARA",
          "KEONJHAR",
          "KHADOOR SAHIB",
          "KHAGARIA",
          "KHAJURAHO",
          "KHAMMAM",
          "KHANDWA",
          "KHARGONE",
          "KHEDA",
          "KHERI",
          "KHUNTI",
          "KISHANGANJ",
          "KODARMA",
          "KOKRAJHAR",
          "KOLAR",
          "KOLHAPUR",
          "KOLKATA DAKSHIN",
          "KOLKATA UTTAR",
          "KOLLAM",
          "KOPPAL",
          "KORAPUT",
          "KORBA",
          "KOTA",
          "KOTTAYAM",
          "KOZHIKODE",
          "KRISHNAGIRI",
          "KRISHNANAGAR",
          "KURNOOL",
          "KURUKSHETRA",
          "KUSHI NAGAR",
          "LADAKH",
          "LAKHIMPUR",
          "LAKSHADWEEP",
          "LALGANJ",
          "LATUR",
          "LOHARDAGA",
          "LUCKNOW",
          "LUDHIANA",
          "MACHHLISHAHR",
          "MACHILIPATNAM",
          "MADHA",
          "MADHEPURA",
          "MADHUBANI",
          "MADURAI",
          "MAHABUBABAD",
          "MAHARAJGANJ",
          "MAHARAJGANJ",
          "MAHASAMUND",
          "MAHBUBNAGAR",
          "MAHESANA",
          "MAINPURI",
          "MALAPPURAM",
          "MALDAHA DAKSHIN",
          "MALDAHA UTTAR",
          "MALKAJGIRI",
          "MANDI",
          "MANDLA",
          "MANDSOUR",
          "MANDYA",
          "MANGALDOI",
          "MATHURA",
          "MATHURAPUR",
          "MAVAL",
          "MAVELIKKARA",
          "MAYILADUTHURAI",
          "MAYURBHANJ",
          "MEDAK",
          "MEDINIPUR",
          "MEERUT",
          "MIRZAPUR",
          "MISRIKH",
          "MIZORAM",
          "MOHANLALGANJ",
          "MORADABAD",
          "MORENA",
          "MUMBAI NORTH",
          "MUMBAI NORTH CENTRAL",
          "MUMBAI NORTH EAST",
          "MUMBAI NORTH WEST",
          "MUMBAI SOUTH",
          "MUMBAI SOUTH CENTRAL",
          "MUNGER",
          "MURSHIDABAD",
          "MUZAFFARNAGAR",
          "MUZAFFARPUR",
          "MYSORE",
          "NABARANGPUR",
          "NAGALAND",
          "NAGAPATTINAM",
          "NAGARKURNOOL",
          "NAGAUR",
          "NAGINA",
          "NAGPUR",
          "NAINITAL-UDHAMSINGH NAGAR",
          "NALANDA",
          "NALGONDA",
          "NAMAKKAL",
          "NANDED",
          "NANDURBAR",
          "NANDYAL",
          "NARASARAOPET",
          "NARSAPURAM",
          "NASHIK",
          "NAVSARI",
          "NAWADA",
          "NELLORE",
          "NEW DELHI",
          "NILGIRIS",
          "NIZAMABAD",
          "NORTH EAST DELHI",
          "NORTH GOA",
          "NORTH WEST DELHI",
          "NOWGONG",
          "ONGOLE",
          "OSMANABAD",
          "OUTER MANIPUR",
          "PALAKKAD",
          "PALAMAU",
          "PALGHAR",
          "PALI",
          "PANCHMAHAL",
          "PARBHANI",
          "PASCHIM CHAMPARAN",
          "PATALIPUTRA",
          "PATAN",
          "PATHANAMTHITTA",
          "PATIALA",
          "PATNA SAHIB",
          "PEDDAPALLE",
          "PERAMBALUR",
          "PHULPUR",
          "PILIBHIT",
          "POLLACHI",
          "PONNANI",
          "PORBANDAR",
          "PRATAPGARH",
          "PUDUCHERRY",
          "PUNE",
          "PURI",
          "PURNIA",
          "PURULIA",
          "PURVI CHAMPARAN",
          "RAE BARELI",
          "RAICHUR",
          "RAIGAD",
          "RAIGANJ",
          "RAIGARH",
          "RAIPUR",
          "RAJAHMUNDRY",
          "RAJAMPET",
          "RAJGARH",
          "RAJKOT",
          "RAJMAHAL",
          "RAJNANDGAON",
          "RAJSAMAND",
          "RAMANATHAPURAM",
          "RAMPUR",
          "RAMTEK",
          "RANAGHAT",
          "RANCHI",
          "RATLAM",
          "RATNAGIRI - SINDHUDURG",
          "RAVER",
          "REWA",
          "ROBERTSGANJ",
          "ROHTAK",
          "SABARKANTHA",
          "SAGAR",
          "SAHARANPUR",
          "SALEM",
          "SALEMPUR",
          "SAMASTIPUR (SC)",
          "SAMBALPUR",
          "SAMBHAL",
          "SANGLI",
          "SANGRUR",
          "SANT KABIR NAGAR",
          "SARAN",
          "SARGUJA",
          "SASARAM (SC)",
          "SATARA",
          "SATNA",
          "SECUNDRABAD",
          "SHAHDOL",
          "SHAHJAHANPUR",
          "SHEOHAR",
          "SHILLONG",
          "SHIMLA",
          "SHIMOGA",
          "SHIRDI",
          "SHIRUR",
          "SHRAWASTI",
          "SIDHI",
          "SIKAR",
          "SIKKIM",
          "SILCHAR",
          "SINGHBHUM",
          "SIRSA",
          "SITAMARHI",
          "SITAPUR",
          "SIVAGANGA",
          "SIWAN",
          "SOLAPUR",
          "SONIPAT",
          "SOUTH DELHI",
          "SOUTH GOA",
          "SRERAMPUR",
          "SRIKAKULAM",
          "SRINAGAR",
          "SRIPERUMBUDUR",
          "SULTANPUR",
          "SUNDARGARH",
          "SUPAUL",
          "SURAT",
          "SURENDRANAGAR",
          "TAMLUK",
          "TEHRI GARHWAL",
          "TENKASI",
          "TEZPUR",
          "THANE",
          "THANJAVUR",
          "THENI",
          "THIRUVALLUR",
          "THIRUVANANTHAPURAM",
          "THOOTHUKKUDI",
          "THRISSUR",
          "TIKAMGARH",
          "TIRUCHIRAPPALLI",
          "TIRUNELVELI",
          "TIRUPATI",
          "TIRUPPUR",
          "TIRUVANNAMALAI",
          "TONK-SAWAI MADHOPUR",
          "TRIPURA EAST",
          "TRIPURA WEST",
          "TUMKUR",
          "TURA",
          "UDAIPUR",
          "UDHAMPUR",
          "UDUPI CHIKMAGALUR",
          "UJIARPUR",
          "UJJAIN",
          "ULUBERIA",
          "UNNAO",
          "UTTARA KANNADA",
          "VADAKARA",
          "VADODARA",
          "VAISHALI",
          "VALMIKI NAGAR",
          "VALSAD",
          "VARANASI",
          "VIDISHA",
          "VIJAYAWADA",
          "VILUPPURAM",
          "VIRUDHUNAGAR",
          "VISAKHAPATNAM",
          "VIZIANAGARAM",
          "WARANGAL",
          "WARDHA",
          "WAYANAD",
          "WEST DELHI",
          "YAVATMAL-WASHIM",
          "ZAHIRABAD",
          "Telangana",
          "Uttar Pradesh",
          "Maharashtra",
          "Gujarat",
          "Rajasthan",
          "Kerala",
          "West Bengal",
          "Uttarakhand",
          "Andhra Pradesh",
          "Haryana",
          "Punjab",
          "Jammu & Kashmir",
          "Andaman & Nicobar Islands",
          "Tamil Nadu",
          "Bihar",
          "Arunachal Pradesh",
          "Odisha",
          "Assam",
          "Karnataka",
          "Madhya Pradesh",
          "Chhattisgarh",
          "Chandigarh",
          "NCT OF Delhi",
          "Jharkhand",
          "Dadra & Nagar Haveli",
          "Daman & Diu",
          "Himachal Pradesh",
          "Manipur",
          "Lakshadweep",
          "Mizoram",
          "Nagaland",
          "Goa",
          "Puducherry",
          "Meghalaya",
          "Sikkim",
          "Tripura"
         ],
         "marker": {
          "coloraxis": "coloraxis",
          "colors": {
           "bdata": "AAAAAH67NkEAAAAAGpE9QQAAAAAUZzxBAAAAAIulO0EAAAAANRM5QQAAAAB6oTxBAAAAAOnyOkEAAAAA0XU8QQAAAACdszRBAAAAAGpUM0EAAAAAl8s8QQAAAAD/JjlBAAAAAMAvOkEAAAAA0Gk0QQAAAAAM0TxBAAAAAGRFNkEAAAAAD0k8QQAAAAA5PztBAAAAAJuaOkEAAAAAg/g7QQAAAAAj2ThBAAAAACMCN0EAAAAAYx85QQAAAADTNjdBAAAAAD5EOUEAAAAAPOw5QQAAAACgZDlBAAAAABNUNUEAAAAAHHATQQAAAAAFPztBAAAAAHDjNkEAAAAAdu06QQAAAAC+HDZBAAAAAH+MO0EAAAAAieE/QQAAAACaJTZBAAAAADC9FEEAAAAAfE4cQQAAAAD5pzhBAAAAABmEN0EAAAAANpw0QQAAAAAjmDpBAAAAAEzIPEEAAAAAUkooQQAAAADwTDtBAAAAAPjcPEEAAAAASgA6QQAAAABcqjhBAAAAAOr/OEEAAAAAdGU6QQAAAAAt+TpBAAAAAIVfN0EAAAAAoc87QQAAAACY2DVBAAAAAGjmOUEAAAAAiPg5QQAAAIBI0kBBAAAAAPG8RUEAAAAA2Q1DQQAAAIAg50BBAAAAALgCOkEAAAAAQu45QQAAAAAKKTlBAAAAANq4OkEAAAAASCQ+QQAAAAD/aDZBAAAAAP64O0EAAACAMyJAQQAAAABqGzRBAAAAAOw3OkEAAAAAynM6QQAAAAAp6TlBAAAAAN7eO0EAAAAAF247QQAAAACCWzhBAAAAAO+ePUEAAAAAnbY5QQAAAAAP6zVBAAAAABWcOUEAAAAAMgs1QQAAAADnJzxBAAAAAKe+OEEAAAAA3TU/QQAAAADu4T1BAAAAAJYmO0EAAAAAtro6QQAAAAD37DZBAAAAAN2COkEAAAAA8qM9QQAAAADdWjlBAAAAAEzUO0EAAAAAZKQ7QQAAAADyqD1BAAAAAGffN0EAAAAAafs6QQAAAAAQej5BAAAAANbvOkEAAAAANNc8QQAAAAAtPjlBAAAAAIHXOEEAAACARllAQQAAAABe7zlBAAAAAPcVO0EAAAAA0207QQAAAAB9ZDlBAAAAAOxAPEEAAAAA2aM8QQAAAACT7TlBAAAAAD/UOEEAAAAAPp46QQAAAABxBDpBAAAAABVIO0EAAAAAZuY6QQAAAAD96TtBAAAAAHXFMkEAAAAAPbs5QQAAAAClzjpBAAAAAJK8I0EAAAAAq9Y3QQAAAACsJT1BAAAAAEK/NUEAAAAATFQ0QQAAAABBszZBAAAAAB0dPkEAAAAAtKNCQQAAAAAfHTdBAAAAAFWAOUEAAAAAHpY2QQAAAACMmTtBAAAAAAybOEEAAAAAed06QQAAAAAj5zdBAAAAAKfCPkEAAAAAIM8+QQAAAAD44z1BAAAAALiuO0EAAAAARtA0QQAAAACULTdBAAAAAGiFDkEAAAAA22U4QQAAAAAwUjpBAAAAAMC4/UAAAAAASf06QQAAAAAbQDlBAAAAADWWOEEAAAAA8WY6QQAAAAAo6zhBAAAAAFPEOkEAAAAA99w6QQAAAAA6oD9BAAAAACdBO0EAAAAA7Ks2QQAAAABPWzpBAAAAAIIYOUEAAAAAk/Q2QQAAAAAGXDxBAAAAAM0dPUEAAAAAljs6QQAAAAAPDjRBAAAAAPmGN0EAAAAASHE6QQAAAAD5xDxBAAAAAPTlN0EAAAAABVI1QQAAAAAtmz1BAAAAAAYeP0EAAAAARlY4QQAAAAAUAzNBAAAAAOZPNkEAAAAAL704QQAAAAAg0zpBAAAAAFnMO0EAAAAACJ0/QQAAAABThzdBAAAAACkSOkEAAAAAje42QQAAAADQEDxBAAAAADU6OkEAAAAALlI7QQAAAADzsThBAAAAADYhOEEAAAAArLA9QQAAAAC+pz1BAAAAABSwNEEAAACAY6RAQQAAAAD4kUFBAAAAAJQCOkEAAAAAQnc7QQAAAAAJ0kRBAAAAAPWzPEEAAAAA42M+QQAAAAAFKzlBAAAAAB4yOkEAAAAACAM7QQAAAACaETxBAAAAAA07PkEAAAAApbA9QQAAAADMkTlBAAAAAIcIOkEAAAAAlFc4QQAAAACkaEBBAAAAAGiHPkEAAAAAsNM7QQAAAABdyTRBAAAAAGywOkEAAAAAD5M7QQAAAABiFjxBAAAAAAc5OUEAAAAAgHI8QQAAAACrGztBAAAAAN4ROkEAAAAAiXE5QQAAAADqFDhBAAAAAGF0OkEAAAAASeY4QQAAAADJ9DpBAAAAAJ0IOkEAAAAAPGA4QQAAAACF7jhBAAAAACvgPUEAAAAA318yQQAAAAD67kFBAAAAAPCbLEEAAAAA9cQ7QQAAAAAZuTtBAAAAAEsUOUEAAAAA5jw4QQAAAIBWOkBBAAAAAB7LPUEAAAAAv4E2QQAAAAB6rDhBAAAAAC6APUEAAAAAiHg9QQAAAADUfTxBAAAAAMyaP0EAAAAAKHs6QQAAAABGPT9BAAAAAE5JOUEAAAAAb/05QQAAAAAeOjpBAAAAAFWpOEEAAAAArvI8QQAAAADIgDxBAAAAAOMmOUEAAAAA/gw9QQAAAAABRDxBAAAAAKMjP0EAAAAAjA05QQAAAADakT1BAAAAAJPbPUEAAAAAK9Q0QQAAAABwETlBAAAAAMGdOkEAAAAAGvY3QQAAAACPbjlBAAAAAHqOO0EAAAAAGt03QQAAAAAwlThBAAAAABp5OkEAAAAAalQ3QQAAAABs/j1BAAAAANgVOUEAAAAA2qkzQQAAAACKxzVBAAAAAKjJN0EAAAAAiJs8QQAAAABC6DZBAAAAAHZTM0EAAAAA1+o4QQAAAADzVDlBAAAAAPYGO0EAAAAAjqA7QQAAAAANczRBAAAAAFczOUEAAAAAQQ49QQAAAAAWKzVBAAAAAOHPNEEAAAAAaTo5QQAAAADwRDtBAAAAAEQbOkEAAAAAkCQ3QQAAAAC6ATlBAAAAAKaUOUEAAAAArxs8QQAAAABRGTdBAAAAAD8hPUEAAAAAkf07QQAAAAD8hjtBAAAAAMsEO0EAAAAA6FkyQQAAAAADUzlBAAAAAG2uO0EAAAAA5ho7QQAAAAAJ3zhBAAAAALCxPEEAAAAAU2E6QQAAAADyCDZBAAAAAFDJM0EAAAAA9X86QQAAAAAQ4zVBAAAAAOgFN0EAAAAAark9QQAAAACqaTJBAAAAAIgcNEEAAAAAJFo3QQAAAADS5ThBAAAAAJEAOEEAAAAA90k5QQAAAAAc4TpBAAAAAADhBUEAAAAA7Q86QQAAAACg8upAAAAAAKy7OkEAAAAAwck8QQAAAABu1TJBAAAAAC8iP0EAAAAAfa85QQAAAADyMzxBAAAAAEN7NkEAAAAARiM9QQAAAADTwjxBAAAAAB5bO0EAAAAA0ns3QQAAAAABvDVBAAAAABA6PUEAAAAAmJU7QQAAAAA//jhBAAAAADb7NkEAAAAA5Sg5QQAAAABkSzpBAAAAALDpNEEAAAAApgo4QQAAAADDuTlBAAAAgPQISEEAAAAAto0zQQAAAAAjxj1BAAAAAGveOkEAAAAAhB86QQAAAAAteDtBAAAAABWWO0EAAAAAgDU5QQAAAABwiEFBAAAAAMb1M0EAAAAAKqg2QQAAAADVyDZBAAAAAPZ2OEEAAAAA/Is5QQAAAABD4jxBAAAAAJ4nPEEAAAAARGs7QQAAAAAgLyhBAAAAAAfgPkEAAAAAG+Q9QQAAAACbCjxBAAAAAPYiOUEAAAAAE6I5QQAAAADVPThBAAAAAKduOkEAAAAAALc3QQAAAAB8+jVBAAAAABnPPEEAAAAAA1M6QQAAAADT6DlBAAAAAPlnOkEAAAAAje88QQAAAAAMSzZBAAAAAFGFMkEAAAAAYeQzQQAAAACPOzhBAAAAAHF/PUEAAAAAxTM4QQAAAADkfEBBAAAAAFHmO0EAAACAfCJAQQAAAAA8MzhBAAAAAN+RNUEAAAAAGjw6QQAAAAD7jDxBAAAAAJR2OEEAAAAA93w5QQAAAADL9zVBAAAAAIjDPEEAAAAAyhU+QQAAAADj/DxBAAAAAI2GOUEAAAAAPq44QQAAAAAs2DRBAAAAAOmzN0EAAAAAnnlBQQAAAACy/SBBAAAAgHkmQkEAAAAAWGI7QQAAAAD1vzdBAAAAAMzVPEEAAAAAJjEvQQAAAAACMDRBAAAAAGG1PEEAAAAAoMU8QQAAAID/fUBBAAAAAHqfOkEAAAAAzEo+QQAAAAAg7jhBAAAAAGdhPUEAAAAAw5I7QQAAAABVGTVBAAAAAFCLOkEAAAAAbF9AQQAAAACzkTZBAAAAAO08NUEAAAAAba0+QQAAAAC33zpBAAAAAHgzN0EAAAAAA7Q0QQAAAACgXTlBAAAAANcSOkEAAAAAxLQtQQAAAACwrD9BAAAAANvWN0EAAAAAwO86QQAAAAA8HTlBAAAAADBPOUEAAAAAaPk5QQAAAAAMbD1BAAAAAOU4OUEAAAAAxG44QQAAAACtdDpBAAAAAH0cQEEAAAAAMGk3QQAAAAC6mjdBAAAAAHnaOUEAAAAAs8A8QQAAAABkMTZBAAAAAOswOkEAAAAATzA9QQAAAAC8zDdBAAAAAJKgOUEAAAAAzFY9QQAAAADM4zpBAAAAADc8PUEAAAAA6D48QQAAAADZNTZBAAAAAMsVO0EAAAAArqA5QQAAAACSTDpBAAAAAK2BOkEAAAAA9X07QQAAAAAZKDhBAAAAAEqJOkEAAAAA4Jo4QQAAAADScDlBAAAAALaeOUEAAAAAcmg2QQAAAACc5ztBAAAAANWaO0EAAAAAV1Y3QQAAAACX8z1BAAAAALVwOUEAAAAAx0E5QQAAAADmRztBAAAAAKk0PEEAAAAAmAg4QQAAAACUCD5BAAAAAJpGOUEAAACATCFAQQAAAADHujlBAAAAAO5GMkEAAAAATTYzQQAAAAB8lTlBAAAAAIc3OEEAAACAFJlAQQAAAABzNz1BAAAAACspPEEAAAAADCc/QQAAAABAfxpBAAAAAMg+MkEAAAAAnWAzQQAAAABVhDtBAAAAAIa9OkEAAAAATmw5QQAAAACTrjdBAAAAAH91O0EAAAAABkE8QQAAAAAjTThBAAAAAAeMP0EAAAAAMK4hQQAAAACAPjtBAAAAAMS1N0EAAAAAT8EzQQAAAABEMUFBAAAAAFwWO0EAAAAAhV43QQAAAAD8yzlBAAAAAJhDOUEAAAAAVTg8QQAAAAC22zlBAAAAACfKNkEAAAAAXcU2QQAAAAD34TZBAAAAgKsWQkEAAAAAPEs2QQAAAADQ0TdBAAAAAPa0PUEAAAAAI+00QQAAAABHyTVBAAAAABZnNEEAAAAAJyM5QQAAAABjBjdBAAAAABieN0EAAAAAFS85QQAAAACeWDdBAAAAAEZ9NkEAAAAAiLE9QQAAAAAlQTNBAAAAAJmkNEEAAAAAYYs4QQAAAAB84SVBAAAAADeUP0EAAAAAOLk5QQAAAABOGTdBAAAAAAyaOEEAAAAALVk5QQAAAACMpDhBAAAAgDS4QEEAAAAAd8A3QQAAAADeqjNBAAAAAFBjO0EAAAAAL306QQAAAADeaTlBAAAAAHZ/OUEAAAAAF1U8QQAAAAAkkzpBAAAAAAI5OUEAAAAA7wk2QQAAAADgpTZBAAAAALTpO0EAAAAA7PI2QQAAAADSbjlBAAAAALOZOkEAAAAAP780QQAAAAAeGEJBAAAAABk9PUEAAAAAKt42QTRmVJgJyTtBEYaQv/AQPEHGMThPMEc8QTXHJX8VcDpBLyHJ1MnzPUEJNV5+wxA0Qeqd0dlkezlB/gZ/92A8OEESxQzvsRo4QQx8/O/+ijtBKBFTHSeIOEH6VoOFs3w2QQAAAAAccBNBBvQhzPrxN0HSb2CLiwY7QT6+kw8cxBhBDuX+VfeZN0GI6SToZeo4QQilE1idUjxB6lZHdVJTO0EZHWLP7rY5QQAAAACSvCNB59SoCEcHQEFZtcVcjiY4QQAAAABohQ5BAAAAAMC4/UBjwe3wFXQ0QdNFBnPS9C1BAAAAAKDy6kAAAAAAIC8oQQAAAABRhTJBqUTANbJXIUEAAAAAxLQtQXigDR+MCi5BAAAAAEB/GkGCBpJlDvkzQQ==",
           "dtype": "f8"
          }
         },
         "name": "",
         "parents": [
          "Telangana",
          "Uttar Pradesh",
          "Maharashtra",
          "Gujarat",
          "Gujarat",
          "Rajasthan",
          "Uttar Pradesh",
          "Maharashtra",
          "Kerala",
          "Kerala",
          "Uttar Pradesh",
          "West Bengal",
          "Uttar Pradesh",
          "Uttarakhand",
          "Rajasthan",
          "Andhra Pradesh",
          "Haryana",
          "Uttar Pradesh",
          "Uttar Pradesh",
          "Maharashtra",
          "Gujarat",
          "Punjab",
          "Uttar Pradesh",
          "Andhra Pradesh",
          "Gujarat",
          "Punjab",
          "Andhra Pradesh",
          "Jammu & Kashmir",
          "Andaman & Nicobar Islands",
          "Uttar Pradesh",
          "Tamil Nadu",
          "West Bengal",
          "Tamil Nadu",
          "Bihar",
          "Bihar",
          "Andhra Pradesh",
          "Arunachal Pradesh",
          "Arunachal Pradesh",
          "West Bengal",
          "Odisha",
          "Kerala",
          "Bihar",
          "Maharashtra",
          "Assam",
          "Uttar Pradesh",
          "Uttar Pradesh",
          "Karnataka",
          "Uttar Pradesh",
          "West Bengal",
          "Uttar Pradesh",
          "Madhya Pradesh",
          "Odisha",
          "Uttar Pradesh",
          "West Bengal",
          "Gujarat",
          "Uttar Pradesh",
          "Karnataka",
          "Karnataka",
          "Karnataka",
          "Karnataka",
          "West Bengal",
          "Bihar",
          "West Bengal",
          "Uttar Pradesh",
          "Rajasthan",
          "Andhra Pradesh",
          "Uttar Pradesh",
          "Maharashtra",
          "Jammu & Kashmir",
          "West Bengal",
          "West Bengal",
          "West Bengal",
          "Gujarat",
          "Uttar Pradesh",
          "Odisha",
          "Rajasthan",
          "Assam",
          "West Bengal",
          "West Bengal",
          "Chhattisgarh",
          "Uttar Pradesh",
          "Punjab",
          "Maharashtra",
          "Bihar",
          "Karnataka",
          "Karnataka",
          "Odisha",
          "Madhya Pradesh",
          "Uttar Pradesh",
          "Odisha",
          "Bihar",
          "Maharashtra",
          "Rajasthan",
          "Gujarat",
          "Gujarat",
          "Rajasthan",
          "Madhya Pradesh",
          "Maharashtra",
          "Haryana",
          "Telangana",
          "Madhya Pradesh",
          "Odisha",
          "Karnataka",
          "Karnataka",
          "Uttar Pradesh",
          "Rajasthan",
          "Chhattisgarh",
          "West Bengal",
          "West Bengal",
          "Odisha",
          "West Bengal",
          "Uttar Pradesh",
          "Maharashtra",
          "Bihar",
          "Kerala",
          "Karnataka",
          "Uttar Pradesh",
          "Chandigarh",
          "NCT OF Delhi",
          "Maharashtra",
          "Jharkhand",
          "Tamil Nadu",
          "Tamil Nadu",
          "Tamil Nadu",
          "Telangana",
          "Madhya Pradesh",
          "Gujarat",
          "Tamil Nadu",
          "Karnataka",
          "Karnataka",
          "Karnataka",
          "Andhra Pradesh",
          "Rajasthan",
          "Rajasthan",
          "Tamil Nadu",
          "West Bengal",
          "Tamil Nadu",
          "Odisha",
          "Dadra & Nagar Haveli",
          "Gujarat",
          "Karnataka",
          "Daman & Diu",
          "Madhya Pradesh",
          "Bihar",
          "West Bengal",
          "Rajasthan",
          "Karnataka",
          "Uttar Pradesh",
          "Madhya Pradesh",
          "Jharkhand",
          "Madhya Pradesh",
          "Tamil Nadu",
          "Karnataka",
          "Uttar Pradesh",
          "Odisha",
          "Assam",
          "Maharashtra",
          "West Bengal",
          "Assam",
          "Tamil Nadu",
          "Maharashtra",
          "Uttar Pradesh",
          "West Bengal",
          "Jharkhand",
          "Chhattisgarh",
          "NCT OF Delhi",
          "Andhra Pradesh",
          "Kerala",
          "Tamil Nadu",
          "Uttar Pradesh",
          "Uttar Pradesh",
          "Uttar Pradesh",
          "Haryana",
          "Punjab",
          "Uttar Pradesh",
          "Punjab",
          "Uttar Pradesh",
          "Uttar Pradesh",
          "Uttar Pradesh",
          "Punjab",
          "Maharashtra",
          "Gujarat",
          "Rajasthan",
          "Uttarakhand",
          "Assam",
          "Uttar Pradesh",
          "Bihar",
          "West Bengal",
          "Uttar Pradesh",
          "Uttar Pradesh",
          "Uttar Pradesh",
          "Jharkhand",
          "Jharkhand",
          "Uttar Pradesh",
          "Bihar",
          "Uttar Pradesh",
          "Karnataka",
          "Madhya Pradesh",
          "Andhra Pradesh",
          "Punjab",
          "Haryana",
          "Madhya Pradesh",
          "Bihar",
          "Himachal Pradesh",
          "Uttar Pradesh",
          "Uttar Pradesh",
          "Uttarakhand",
          "Karnataka",
          "Uttar Pradesh",
          "Maharashtra",
          "Karnataka",
          "Jharkhand",
          "Andhra Pradesh",
          "Maharashtra",
          "Haryana",
          "West Bengal",
          "Madhya Pradesh",
          "Punjab",
          "West Bengal",
          "Telangana",
          "Kerala",
          "Madhya Pradesh",
          "Manipur",
          "Madhya Pradesh",
          "West Bengal",
          "Odisha",
          "Bihar",
          "Rajasthan",
          "Rajasthan",
          "Odisha",
          "Punjab",
          "Uttar Pradesh",
          "Maharashtra",
          "Maharashtra",
          "Rajasthan",
          "West Bengal",
          "Jammu & Kashmir",
          "Gujarat",
          "Jharkhand",
          "Bihar",
          "West Bengal",
          "Chhattisgarh",
          "Uttar Pradesh",
          "West Bengal",
          "Rajasthan",
          "Bihar",
          "Uttar Pradesh",
          "West Bengal",
          "Rajasthan",
          "Rajasthan",
          "Assam",
          "Gujarat",
          "Gujarat",
          "Andhra Pradesh",
          "Uttar Pradesh",
          "Uttar Pradesh",
          "Andhra Pradesh",
          "Odisha",
          "Assam",
          "Tamil Nadu",
          "Maharashtra",
          "Tamil Nadu",
          "Odisha",
          "Himachal Pradesh",
          "Chhattisgarh",
          "Uttar Pradesh",
          "Tamil Nadu",
          "Kerala",
          "Uttar Pradesh",
          "West Bengal",
          "Bihar",
          "Rajasthan",
          "Assam",
          "Telangana",
          "Haryana",
          "Tamil Nadu",
          "Kerala",
          "Bihar",
          "Uttar Pradesh",
          "Odisha",
          "Odisha",
          "Punjab",
          "Bihar",
          "Madhya Pradesh",
          "Telangana",
          "Madhya Pradesh",
          "Madhya Pradesh",
          "Gujarat",
          "Uttar Pradesh",
          "Jharkhand",
          "Bihar",
          "Jharkhand",
          "Assam",
          "Karnataka",
          "Maharashtra",
          "West Bengal",
          "West Bengal",
          "Kerala",
          "Karnataka",
          "Odisha",
          "Chhattisgarh",
          "Rajasthan",
          "Kerala",
          "Kerala",
          "Tamil Nadu",
          "West Bengal",
          "Andhra Pradesh",
          "Haryana",
          "Uttar Pradesh",
          "Jammu & Kashmir",
          "Assam",
          "Lakshadweep",
          "Uttar Pradesh",
          "Maharashtra",
          "Jharkhand",
          "Uttar Pradesh",
          "Punjab",
          "Uttar Pradesh",
          "Andhra Pradesh",
          "Maharashtra",
          "Bihar",
          "Bihar",
          "Tamil Nadu",
          "Telangana",
          "Uttar Pradesh",
          "Bihar",
          "Chhattisgarh",
          "Telangana",
          "Gujarat",
          "Uttar Pradesh",
          "Kerala",
          "West Bengal",
          "West Bengal",
          "Telangana",
          "Himachal Pradesh",
          "Madhya Pradesh",
          "Madhya Pradesh",
          "Karnataka",
          "Assam",
          "Uttar Pradesh",
          "West Bengal",
          "Maharashtra",
          "Kerala",
          "Tamil Nadu",
          "Odisha",
          "Telangana",
          "West Bengal",
          "Uttar Pradesh",
          "Uttar Pradesh",
          "Uttar Pradesh",
          "Mizoram",
          "Uttar Pradesh",
          "Uttar Pradesh",
          "Madhya Pradesh",
          "Maharashtra",
          "Maharashtra",
          "Maharashtra",
          "Maharashtra",
          "Maharashtra",
          "Maharashtra",
          "Bihar",
          "West Bengal",
          "Uttar Pradesh",
          "Bihar",
          "Karnataka",
          "Odisha",
          "Nagaland",
          "Tamil Nadu",
          "Telangana",
          "Rajasthan",
          "Uttar Pradesh",
          "Maharashtra",
          "Uttarakhand",
          "Bihar",
          "Telangana",
          "Tamil Nadu",
          "Maharashtra",
          "Maharashtra",
          "Andhra Pradesh",
          "Andhra Pradesh",
          "Andhra Pradesh",
          "Maharashtra",
          "Gujarat",
          "Bihar",
          "Andhra Pradesh",
          "NCT OF Delhi",
          "Tamil Nadu",
          "Telangana",
          "NCT OF Delhi",
          "Goa",
          "NCT OF Delhi",
          "Assam",
          "Andhra Pradesh",
          "Maharashtra",
          "Manipur",
          "Kerala",
          "Jharkhand",
          "Maharashtra",
          "Rajasthan",
          "Gujarat",
          "Maharashtra",
          "Bihar",
          "Bihar",
          "Gujarat",
          "Kerala",
          "Punjab",
          "Bihar",
          "Telangana",
          "Tamil Nadu",
          "Uttar Pradesh",
          "Uttar Pradesh",
          "Tamil Nadu",
          "Kerala",
          "Gujarat",
          "Uttar Pradesh",
          "Puducherry",
          "Maharashtra",
          "Odisha",
          "Bihar",
          "West Bengal",
          "Bihar",
          "Uttar Pradesh",
          "Karnataka",
          "Maharashtra",
          "West Bengal",
          "Chhattisgarh",
          "Chhattisgarh",
          "Andhra Pradesh",
          "Andhra Pradesh",
          "Madhya Pradesh",
          "Gujarat",
          "Jharkhand",
          "Chhattisgarh",
          "Rajasthan",
          "Tamil Nadu",
          "Uttar Pradesh",
          "Maharashtra",
          "West Bengal",
          "Jharkhand",
          "Madhya Pradesh",
          "Maharashtra",
          "Maharashtra",
          "Madhya Pradesh",
          "Uttar Pradesh",
          "Haryana",
          "Gujarat",
          "Madhya Pradesh",
          "Uttar Pradesh",
          "Tamil Nadu",
          "Uttar Pradesh",
          "Bihar",
          "Odisha",
          "Uttar Pradesh",
          "Maharashtra",
          "Punjab",
          "Uttar Pradesh",
          "Bihar",
          "Chhattisgarh",
          "Bihar",
          "Maharashtra",
          "Madhya Pradesh",
          "Telangana",
          "Madhya Pradesh",
          "Uttar Pradesh",
          "Bihar",
          "Meghalaya",
          "Himachal Pradesh",
          "Karnataka",
          "Maharashtra",
          "Maharashtra",
          "Uttar Pradesh",
          "Madhya Pradesh",
          "Rajasthan",
          "Sikkim",
          "Assam",
          "Jharkhand",
          "Haryana",
          "Bihar",
          "Uttar Pradesh",
          "Tamil Nadu",
          "Bihar",
          "Maharashtra",
          "Haryana",
          "NCT OF Delhi",
          "Goa",
          "West Bengal",
          "Andhra Pradesh",
          "Jammu & Kashmir",
          "Tamil Nadu",
          "Uttar Pradesh",
          "Odisha",
          "Bihar",
          "Gujarat",
          "Gujarat",
          "West Bengal",
          "Uttarakhand",
          "Tamil Nadu",
          "Assam",
          "Maharashtra",
          "Tamil Nadu",
          "Tamil Nadu",
          "Tamil Nadu",
          "Kerala",
          "Tamil Nadu",
          "Kerala",
          "Madhya Pradesh",
          "Tamil Nadu",
          "Tamil Nadu",
          "Andhra Pradesh",
          "Tamil Nadu",
          "Tamil Nadu",
          "Rajasthan",
          "Tripura",
          "Tripura",
          "Karnataka",
          "Meghalaya",
          "Rajasthan",
          "Jammu & Kashmir",
          "Karnataka",
          "Bihar",
          "Madhya Pradesh",
          "West Bengal",
          "Uttar Pradesh",
          "Karnataka",
          "Kerala",
          "Gujarat",
          "Bihar",
          "Bihar",
          "Gujarat",
          "Uttar Pradesh",
          "Madhya Pradesh",
          "Andhra Pradesh",
          "Tamil Nadu",
          "Tamil Nadu",
          "Andhra Pradesh",
          "Andhra Pradesh",
          "Telangana",
          "Maharashtra",
          "Kerala",
          "NCT OF Delhi",
          "Maharashtra",
          "Telangana",
          "",
          "",
          "",
          "",
          "",
          "",
          "",
          "",
          "",
          "",
          "",
          "",
          "",
          "",
          "",
          "",
          "",
          "",
          "",
          "",
          "",
          "",
          "",
          "",
          "",
          "",
          "",
          "",
          "",
          "",
          "",
          "",
          "",
          "",
          "",
          ""
         ],
         "type": "sunburst",
         "values": {
          "bdata": "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",
          "dtype": "f8"
         }
        }
       ],
       "layout": {
        "coloraxis": {
         "colorbar": {
          "title": {
           "text": "TOTAL ELECTORS"
          }
         },
         "colorscale": [
          [
           0,
           "#000004"
          ],
          [
           0.1111111111111111,
           "#1b0c41"
          ],
          [
           0.2222222222222222,
           "#4a0c6b"
          ],
          [
           0.3333333333333333,
           "#781c6d"
          ],
          [
           0.4444444444444444,
           "#a52c60"
          ],
          [
           0.5555555555555556,
           "#cf4446"
          ],
          [
           0.6666666666666666,
           "#ed6925"
          ],
          [
           0.7777777777777778,
           "#fb9b06"
          ],
          [
           0.8888888888888888,
           "#f7d13d"
          ],
          [
           1,
           "#fcffa4"
          ]
         ]
        },
        "legend": {
         "tracegroupgap": 0
        },
        "margin": {
         "t": 60
        },
        "template": {
         "data": {
          "bar": [
           {
            "error_x": {
             "color": "#2a3f5f"
            },
            "error_y": {
             "color": "#2a3f5f"
            },
            "marker": {
             "line": {
              "color": "#E5ECF6",
              "width": 0.5
             },
             "pattern": {
              "fillmode": "overlay",
              "size": 10,
              "solidity": 0.2
             }
            },
            "type": "bar"
           }
          ],
          "barpolar": [
           {
            "marker": {
             "line": {
              "color": "#E5ECF6",
              "width": 0.5
             },
             "pattern": {
              "fillmode": "overlay",
              "size": 10,
              "solidity": 0.2
             }
            },
            "type": "barpolar"
           }
          ],
          "carpet": [
           {
            "aaxis": {
             "endlinecolor": "#2a3f5f",
             "gridcolor": "white",
             "linecolor": "white",
             "minorgridcolor": "white",
             "startlinecolor": "#2a3f5f"
            },
            "baxis": {
             "endlinecolor": "#2a3f5f",
             "gridcolor": "white",
             "linecolor": "white",
             "minorgridcolor": "white",
             "startlinecolor": "#2a3f5f"
            },
            "type": "carpet"
           }
          ],
          "choropleth": [
           {
            "colorbar": {
             "outlinewidth": 0,
             "ticks": ""
            },
            "type": "choropleth"
           }
          ],
          "contour": [
           {
            "colorbar": {
             "outlinewidth": 0,
             "ticks": ""
            },
            "colorscale": [
             [
              0,
              "#0d0887"
             ],
             [
              0.1111111111111111,
              "#46039f"
             ],
             [
              0.2222222222222222,
              "#7201a8"
             ],
             [
              0.3333333333333333,
              "#9c179e"
             ],
             [
              0.4444444444444444,
              "#bd3786"
             ],
             [
              0.5555555555555556,
              "#d8576b"
             ],
             [
              0.6666666666666666,
              "#ed7953"
             ],
             [
              0.7777777777777778,
              "#fb9f3a"
             ],
             [
              0.8888888888888888,
              "#fdca26"
             ],
             [
              1,
              "#f0f921"
             ]
            ],
            "type": "contour"
           }
          ],
          "contourcarpet": [
           {
            "colorbar": {
             "outlinewidth": 0,
             "ticks": ""
            },
            "type": "contourcarpet"
           }
          ],
          "heatmap": [
           {
            "colorbar": {
             "outlinewidth": 0,
             "ticks": ""
            },
            "colorscale": [
             [
              0,
              "#0d0887"
             ],
             [
              0.1111111111111111,
              "#46039f"
             ],
             [
              0.2222222222222222,
              "#7201a8"
             ],
             [
              0.3333333333333333,
              "#9c179e"
             ],
             [
              0.4444444444444444,
              "#bd3786"
             ],
             [
              0.5555555555555556,
              "#d8576b"
             ],
             [
              0.6666666666666666,
              "#ed7953"
             ],
             [
              0.7777777777777778,
              "#fb9f3a"
             ],
             [
              0.8888888888888888,
              "#fdca26"
             ],
             [
              1,
              "#f0f921"
             ]
            ],
            "type": "heatmap"
           }
          ],
          "histogram": [
           {
            "marker": {
             "pattern": {
              "fillmode": "overlay",
              "size": 10,
              "solidity": 0.2
             }
            },
            "type": "histogram"
           }
          ],
          "histogram2d": [
           {
            "colorbar": {
             "outlinewidth": 0,
             "ticks": ""
            },
            "colorscale": [
             [
              0,
              "#0d0887"
             ],
             [
              0.1111111111111111,
              "#46039f"
             ],
             [
              0.2222222222222222,
              "#7201a8"
             ],
             [
              0.3333333333333333,
              "#9c179e"
             ],
             [
              0.4444444444444444,
              "#bd3786"
             ],
             [
              0.5555555555555556,
              "#d8576b"
             ],
             [
              0.6666666666666666,
              "#ed7953"
             ],
             [
              0.7777777777777778,
              "#fb9f3a"
             ],
             [
              0.8888888888888888,
              "#fdca26"
             ],
             [
              1,
              "#f0f921"
             ]
            ],
            "type": "histogram2d"
           }
          ],
          "histogram2dcontour": [
           {
            "colorbar": {
             "outlinewidth": 0,
             "ticks": ""
            },
            "colorscale": [
             [
              0,
              "#0d0887"
             ],
             [
              0.1111111111111111,
              "#46039f"
             ],
             [
              0.2222222222222222,
              "#7201a8"
             ],
             [
              0.3333333333333333,
              "#9c179e"
             ],
             [
              0.4444444444444444,
              "#bd3786"
             ],
             [
              0.5555555555555556,
              "#d8576b"
             ],
             [
              0.6666666666666666,
              "#ed7953"
             ],
             [
              0.7777777777777778,
              "#fb9f3a"
             ],
             [
              0.8888888888888888,
              "#fdca26"
             ],
             [
              1,
              "#f0f921"
             ]
            ],
            "type": "histogram2dcontour"
           }
          ],
          "mesh3d": [
           {
            "colorbar": {
             "outlinewidth": 0,
             "ticks": ""
            },
            "type": "mesh3d"
           }
          ],
          "parcoords": [
           {
            "line": {
             "colorbar": {
              "outlinewidth": 0,
              "ticks": ""
             }
            },
            "type": "parcoords"
           }
          ],
          "pie": [
           {
            "automargin": true,
            "type": "pie"
           }
          ],
          "scatter": [
           {
            "fillpattern": {
             "fillmode": "overlay",
             "size": 10,
             "solidity": 0.2
            },
            "type": "scatter"
           }
          ],
          "scatter3d": [
           {
            "line": {
             "colorbar": {
              "outlinewidth": 0,
              "ticks": ""
             }
            },
            "marker": {
             "colorbar": {
              "outlinewidth": 0,
              "ticks": ""
             }
            },
            "type": "scatter3d"
           }
          ],
          "scattercarpet": [
           {
            "marker": {
             "colorbar": {
              "outlinewidth": 0,
              "ticks": ""
             }
            },
            "type": "scattercarpet"
           }
          ],
          "scattergeo": [
           {
            "marker": {
             "colorbar": {
              "outlinewidth": 0,
              "ticks": ""
             }
            },
            "type": "scattergeo"
           }
          ],
          "scattergl": [
           {
            "marker": {
             "colorbar": {
              "outlinewidth": 0,
              "ticks": ""
             }
            },
            "type": "scattergl"
           }
          ],
          "scattermap": [
           {
            "marker": {
             "colorbar": {
              "outlinewidth": 0,
              "ticks": ""
             }
            },
            "type": "scattermap"
           }
          ],
          "scattermapbox": [
           {
            "marker": {
             "colorbar": {
              "outlinewidth": 0,
              "ticks": ""
             }
            },
            "type": "scattermapbox"
           }
          ],
          "scatterpolar": [
           {
            "marker": {
             "colorbar": {
              "outlinewidth": 0,
              "ticks": ""
             }
            },
            "type": "scatterpolar"
           }
          ],
          "scatterpolargl": [
           {
            "marker": {
             "colorbar": {
              "outlinewidth": 0,
              "ticks": ""
             }
            },
            "type": "scatterpolargl"
           }
          ],
          "scatterternary": [
           {
            "marker": {
             "colorbar": {
              "outlinewidth": 0,
              "ticks": ""
             }
            },
            "type": "scatterternary"
           }
          ],
          "surface": [
           {
            "colorbar": {
             "outlinewidth": 0,
             "ticks": ""
            },
            "colorscale": [
             [
              0,
              "#0d0887"
             ],
             [
              0.1111111111111111,
              "#46039f"
             ],
             [
              0.2222222222222222,
              "#7201a8"
             ],
             [
              0.3333333333333333,
              "#9c179e"
             ],
             [
              0.4444444444444444,
              "#bd3786"
             ],
             [
              0.5555555555555556,
              "#d8576b"
             ],
             [
              0.6666666666666666,
              "#ed7953"
             ],
             [
              0.7777777777777778,
              "#fb9f3a"
             ],
             [
              0.8888888888888888,
              "#fdca26"
             ],
             [
              1,
              "#f0f921"
             ]
            ],
            "type": "surface"
           }
          ],
          "table": [
           {
            "cells": {
             "fill": {
              "color": "#EBF0F8"
             },
             "line": {
              "color": "white"
             }
            },
            "header": {
             "fill": {
              "color": "#C8D4E3"
             },
             "line": {
              "color": "white"
             }
            },
            "type": "table"
           }
          ]
         },
         "layout": {
          "annotationdefaults": {
           "arrowcolor": "#2a3f5f",
           "arrowhead": 0,
           "arrowwidth": 1
          },
          "autotypenumbers": "strict",
          "coloraxis": {
           "colorbar": {
            "outlinewidth": 0,
            "ticks": ""
           }
          },
          "colorscale": {
           "diverging": [
            [
             0,
             "#8e0152"
            ],
            [
             0.1,
             "#c51b7d"
            ],
            [
             0.2,
             "#de77ae"
            ],
            [
             0.3,
             "#f1b6da"
            ],
            [
             0.4,
             "#fde0ef"
            ],
            [
             0.5,
             "#f7f7f7"
            ],
            [
             0.6,
             "#e6f5d0"
            ],
            [
             0.7,
             "#b8e186"
            ],
            [
             0.8,
             "#7fbc41"
            ],
            [
             0.9,
             "#4d9221"
            ],
            [
             1,
             "#276419"
            ]
           ],
           "sequential": [
            [
             0,
             "#0d0887"
            ],
            [
             0.1111111111111111,
             "#46039f"
            ],
            [
             0.2222222222222222,
             "#7201a8"
            ],
            [
             0.3333333333333333,
             "#9c179e"
            ],
            [
             0.4444444444444444,
             "#bd3786"
            ],
            [
             0.5555555555555556,
             "#d8576b"
            ],
            [
             0.6666666666666666,
             "#ed7953"
            ],
            [
             0.7777777777777778,
             "#fb9f3a"
            ],
            [
             0.8888888888888888,
             "#fdca26"
            ],
            [
             1,
             "#f0f921"
            ]
           ],
           "sequentialminus": [
            [
             0,
             "#0d0887"
            ],
            [
             0.1111111111111111,
             "#46039f"
            ],
            [
             0.2222222222222222,
             "#7201a8"
            ],
            [
             0.3333333333333333,
             "#9c179e"
            ],
            [
             0.4444444444444444,
             "#bd3786"
            ],
            [
             0.5555555555555556,
             "#d8576b"
            ],
            [
             0.6666666666666666,
             "#ed7953"
            ],
            [
             0.7777777777777778,
             "#fb9f3a"
            ],
            [
             0.8888888888888888,
             "#fdca26"
            ],
            [
             1,
             "#f0f921"
            ]
           ]
          },
          "colorway": [
           "#636efa",
           "#EF553B",
           "#00cc96",
           "#ab63fa",
           "#FFA15A",
           "#19d3f3",
           "#FF6692",
           "#B6E880",
           "#FF97FF",
           "#FECB52"
          ],
          "font": {
           "color": "#2a3f5f"
          },
          "geo": {
           "bgcolor": "white",
           "lakecolor": "white",
           "landcolor": "#E5ECF6",
           "showlakes": true,
           "showland": true,
           "subunitcolor": "white"
          },
          "hoverlabel": {
           "align": "left"
          },
          "hovermode": "closest",
          "mapbox": {
           "style": "light"
          },
          "paper_bgcolor": "white",
          "plot_bgcolor": "#E5ECF6",
          "polar": {
           "angularaxis": {
            "gridcolor": "white",
            "linecolor": "white",
            "ticks": ""
           },
           "bgcolor": "#E5ECF6",
           "radialaxis": {
            "gridcolor": "white",
            "linecolor": "white",
            "ticks": ""
           }
          },
          "scene": {
           "xaxis": {
            "backgroundcolor": "#E5ECF6",
            "gridcolor": "white",
            "gridwidth": 2,
            "linecolor": "white",
            "showbackground": true,
            "ticks": "",
            "zerolinecolor": "white"
           },
           "yaxis": {
            "backgroundcolor": "#E5ECF6",
            "gridcolor": "white",
            "gridwidth": 2,
            "linecolor": "white",
            "showbackground": true,
            "ticks": "",
            "zerolinecolor": "white"
           },
           "zaxis": {
            "backgroundcolor": "#E5ECF6",
            "gridcolor": "white",
            "gridwidth": 2,
            "linecolor": "white",
            "showbackground": true,
            "ticks": "",
            "zerolinecolor": "white"
           }
          },
          "shapedefaults": {
           "line": {
            "color": "#2a3f5f"
           }
          },
          "ternary": {
           "aaxis": {
            "gridcolor": "white",
            "linecolor": "white",
            "ticks": ""
           },
           "baxis": {
            "gridcolor": "white",
            "linecolor": "white",
            "ticks": ""
           },
           "bgcolor": "#E5ECF6",
           "caxis": {
            "gridcolor": "white",
            "linecolor": "white",
            "ticks": ""
           }
          },
          "title": {
           "x": 0.05
          },
          "xaxis": {
           "automargin": true,
           "gridcolor": "white",
           "linecolor": "white",
           "ticks": "",
           "title": {
            "standoff": 15
           },
           "zerolinecolor": "white",
           "zerolinewidth": 2
          },
          "yaxis": {
           "automargin": true,
           "gridcolor": "white",
           "linecolor": "white",
           "ticks": "",
           "title": {
            "standoff": 15
           },
           "zerolinecolor": "white",
           "zerolinewidth": 2
          }
         }
        },
        "title": {
         "text": "Sunburst Image of State and Constituency by Voters"
        }
       }
      },
      "text/html": [
       "<div>            <script src=\"https://cdnjs.cloudflare.com/ajax/libs/mathjax/2.7.5/MathJax.js?config=TeX-AMS-MML_SVG\"></script><script type=\"text/javascript\">if (window.MathJax && window.MathJax.Hub && window.MathJax.Hub.Config) {window.MathJax.Hub.Config({SVG: {font: \"STIX-Web\"}});}</script>                <script type=\"text/javascript\">window.PlotlyConfig = {MathJaxConfig: 'local'};</script>\n",
       "        <script charset=\"utf-8\" src=\"https://cdn.plot.ly/plotly-3.0.1.min.js\"></script>                <div id=\"7c83fff0-d128-4171-87a7-7c4ba71aa4b3\" class=\"plotly-graph-div\" style=\"height:525px; width:100%;\"></div>            <script type=\"text/javascript\">                window.PLOTLYENV=window.PLOTLYENV || {};                                if (document.getElementById(\"7c83fff0-d128-4171-87a7-7c4ba71aa4b3\")) {                    Plotly.newPlot(                        \"7c83fff0-d128-4171-87a7-7c4ba71aa4b3\",                        [{\"branchvalues\":\"total\",\"customdata\":{\"dtype\":\"f8\",\"bdata\":\"AAAAAH67NkEAAAAAGpE9QQAAAAAUZzxBAAAAAIulO0EAAAAANRM5QQAAAAB6oTxBAAAAAOnyOkEAAAAA0XU8QQAAAACdszRBAAAAAGpUM0EAAAAAl8s8QQAAAAD\\u002fJjlBAAAAAMAvOkEAAAAA0Gk0QQAAAAAM0TxBAAAAAGRFNkEAAAAAD0k8QQAAAAA5PztBAAAAAJuaOkEAAAAAg\\u002fg7QQAAAAAj2ThBAAAAACMCN0EAAAAAYx85QQAAAADTNjdBAAAAAD5EOUEAAAAAPOw5QQAAAACgZDlBAAAAABNUNUEAAAAAHHATQQAAAAAFPztBAAAAAHDjNkEAAAAAdu06QQAAAAC+HDZBAAAAAH+MO0EAAAAAieE\\u002fQQAAAACaJTZBAAAAADC9FEEAAAAAfE4cQQAAAAD5pzhBAAAAABmEN0EAAAAANpw0QQAAAAAjmDpBAAAAAEzIPEEAAAAAUkooQQAAAADwTDtBAAAAAPjcPEEAAAAASgA6QQAAAABcqjhBAAAAAOr\\u002fOEEAAAAAdGU6QQAAAAAt+TpBAAAAAIVfN0EAAAAAoc87QQAAAACY2DVBAAAAAGjmOUEAAAAAiPg5QQAAAIBI0kBBAAAAAPG8RUEAAAAA2Q1DQQAAAIAg50BBAAAAALgCOkEAAAAAQu45QQAAAAAKKTlBAAAAANq4OkEAAAAASCQ+QQAAAAD\\u002faDZBAAAAAP64O0EAAACAMyJAQQAAAABqGzRBAAAAAOw3OkEAAAAAynM6QQAAAAAp6TlBAAAAAN7eO0EAAAAAF247QQAAAACCWzhBAAAAAO+ePUEAAAAAnbY5QQAAAAAP6zVBAAAAABWcOUEAAAAAMgs1QQAAAADnJzxBAAAAAKe+OEEAAAAA3TU\\u002fQQAAAADu4T1BAAAAAJYmO0EAAAAAtro6QQAAAAD37DZBAAAAAN2COkEAAAAA8qM9QQAAAADdWjlBAAAAAEzUO0EAAAAAZKQ7QQAAAADyqD1BAAAAAGffN0EAAAAAafs6QQAAAAAQej5BAAAAANbvOkEAAAAANNc8QQAAAAAtPjlBAAAAAIHXOEEAAACARllAQQAAAABe7zlBAAAAAPcVO0EAAAAA0207QQAAAAB9ZDlBAAAAAOxAPEEAAAAA2aM8QQAAAACT7TlBAAAAAD\\u002fUOEEAAAAAPp46QQAAAABxBDpBAAAAABVIO0EAAAAAZuY6QQAAAAD96TtBAAAAAHXFMkEAAAAAPbs5QQAAAAClzjpBAAAAAJK8I0EAAAAAq9Y3QQAAAACsJT1BAAAAAEK\\u002fNUEAAAAATFQ0QQAAAABBszZBAAAAAB0dPkEAAAAAtKNCQQAAAAAfHTdBAAAAAFWAOUEAAAAAHpY2QQAAAACMmTtBAAAAAAybOEEAAAAAed06QQAAAAAj5zdBAAAAAKfCPkEAAAAAIM8+QQAAAAD44z1BAAAAALiuO0EAAAAARtA0QQAAAACULTdBAAAAAGiFDkEAAAAA22U4QQAAAAAwUjpBAAAAAMC4\\u002fUAAAAAASf06QQAAAAAbQDlBAAAAADWWOEEAAAAA8WY6QQAAAAAo6zhBAAAAAFPEOkEAAAAA99w6QQAAAAA6oD9BAAAAACdBO0EAAAAA7Ks2QQAAAABPWzpBAAAAAIIYOUEAAAAAk\\u002fQ2QQAAAAAGXDxBAAAAAM0dPUEAAAAAljs6QQAAAAAPDjRBAAAAAPmGN0EAAAAASHE6QQAAAAD5xDxBAAAAAPTlN0EAAAAABVI1QQAAAAAtmz1BAAAAAAYeP0EAAAAARlY4QQAAAAAUAzNBAAAAAOZPNkEAAAAAL704QQAAAAAg0zpBAAAAAFnMO0EAAAAACJ0\\u002fQQAAAABThzdBAAAAACkSOkEAAAAAje42QQAAAADQEDxBAAAAADU6OkEAAAAALlI7QQAAAADzsThBAAAAADYhOEEAAAAArLA9QQAAAAC+pz1BAAAAABSwNEEAAACAY6RAQQAAAAD4kUFBAAAAAJQCOkEAAAAAQnc7QQAAAAAJ0kRBAAAAAPWzPEEAAAAA42M+QQAAAAAFKzlBAAAAAB4yOkEAAAAACAM7QQAAAACaETxBAAAAAA07PkEAAAAApbA9QQAAAADMkTlBAAAAAIcIOkEAAAAAlFc4QQAAAACkaEBBAAAAAGiHPkEAAAAAsNM7QQAAAABdyTRBAAAAAGywOkEAAAAAD5M7QQAAAABiFjxBAAAAAAc5OUEAAAAAgHI8QQAAAACrGztBAAAAAN4ROkEAAAAAiXE5QQAAAADqFDhBAAAAAGF0OkEAAAAASeY4QQAAAADJ9DpBAAAAAJ0IOkEAAAAAPGA4QQAAAACF7jhBAAAAACvgPUEAAAAA318yQQAAAAD67kFBAAAAAPCbLEEAAAAA9cQ7QQAAAAAZuTtBAAAAAEsUOUEAAAAA5jw4QQAAAIBWOkBBAAAAAB7LPUEAAAAAv4E2QQAAAAB6rDhBAAAAAC6APUEAAAAAiHg9QQAAAADUfTxBAAAAAMyaP0EAAAAAKHs6QQAAAABGPT9BAAAAAE5JOUEAAAAAb\\u002f05QQAAAAAeOjpBAAAAAFWpOEEAAAAArvI8QQAAAADIgDxBAAAAAOMmOUEAAAAA\\u002fgw9QQAAAAABRDxBAAAAAKMjP0EAAAAAjA05QQAAAADakT1BAAAAAJPbPUEAAAAAK9Q0QQAAAABwETlBAAAAAMGdOkEAAAAAGvY3QQAAAACPbjlBAAAAAHqOO0EAAAAAGt03QQAAAAAwlThBAAAAABp5OkEAAAAAalQ3QQAAAABs\\u002fj1BAAAAANgVOUEAAAAA2qkzQQAAAACKxzVBAAAAAKjJN0EAAAAAiJs8QQAAAABC6DZBAAAAAHZTM0EAAAAA1+o4QQAAAADzVDlBAAAAAPYGO0EAAAAAjqA7QQAAAAANczRBAAAAAFczOUEAAAAAQQ49QQAAAAAWKzVBAAAAAOHPNEEAAAAAaTo5QQAAAADwRDtBAAAAAEQbOkEAAAAAkCQ3QQAAAAC6ATlBAAAAAKaUOUEAAAAArxs8QQAAAABRGTdBAAAAAD8hPUEAAAAAkf07QQAAAAD8hjtBAAAAAMsEO0EAAAAA6FkyQQAAAAADUzlBAAAAAG2uO0EAAAAA5ho7QQAAAAAJ3zhBAAAAALCxPEEAAAAAU2E6QQAAAADyCDZBAAAAAFDJM0EAAAAA9X86QQAAAAAQ4zVBAAAAAOgFN0EAAAAAark9QQAAAACqaTJBAAAAAIgcNEEAAAAAJFo3QQAAAADS5ThBAAAAAJEAOEEAAAAA90k5QQAAAAAc4TpBAAAAAADhBUEAAAAA7Q86QQAAAACg8upAAAAAAKy7OkEAAAAAwck8QQAAAABu1TJBAAAAAC8iP0EAAAAAfa85QQAAAADyMzxBAAAAAEN7NkEAAAAARiM9QQAAAADTwjxBAAAAAB5bO0EAAAAA0ns3QQAAAAABvDVBAAAAABA6PUEAAAAAmJU7QQAAAAA\\u002f\\u002fjhBAAAAADb7NkEAAAAA5Sg5QQAAAABkSzpBAAAAALDpNEEAAAAApgo4QQAAAADDuTlBAAAAgPQISEEAAAAAto0zQQAAAAAjxj1BAAAAAGveOkEAAAAAhB86QQAAAAAteDtBAAAAABWWO0EAAAAAgDU5QQAAAABwiEFBAAAAAMb1M0EAAAAAKqg2QQAAAADVyDZBAAAAAPZ2OEEAAAAA\\u002fIs5QQAAAABD4jxBAAAAAJ4nPEEAAAAARGs7QQAAAAAgLyhBAAAAAAfgPkEAAAAAG+Q9QQAAAACbCjxBAAAAAPYiOUEAAAAAE6I5QQAAAADVPThBAAAAAKduOkEAAAAAALc3QQAAAAB8+jVBAAAAABnPPEEAAAAAA1M6QQAAAADT6DlBAAAAAPlnOkEAAAAAje88QQAAAAAMSzZBAAAAAFGFMkEAAAAAYeQzQQAAAACPOzhBAAAAAHF\\u002fPUEAAAAAxTM4QQAAAADkfEBBAAAAAFHmO0EAAACAfCJAQQAAAAA8MzhBAAAAAN+RNUEAAAAAGjw6QQAAAAD7jDxBAAAAAJR2OEEAAAAA93w5QQAAAADL9zVBAAAAAIjDPEEAAAAAyhU+QQAAAADj\\u002fDxBAAAAAI2GOUEAAAAAPq44QQAAAAAs2DRBAAAAAOmzN0EAAAAAnnlBQQAAAACy\\u002fSBBAAAAgHkmQkEAAAAAWGI7QQAAAAD1vzdBAAAAAMzVPEEAAAAAJjEvQQAAAAACMDRBAAAAAGG1PEEAAAAAoMU8QQAAAID\\u002ffUBBAAAAAHqfOkEAAAAAzEo+QQAAAAAg7jhBAAAAAGdhPUEAAAAAw5I7QQAAAABVGTVBAAAAAFCLOkEAAAAAbF9AQQAAAACzkTZBAAAAAO08NUEAAAAAba0+QQAAAAC33zpBAAAAAHgzN0EAAAAAA7Q0QQAAAACgXTlBAAAAANcSOkEAAAAAxLQtQQAAAACwrD9BAAAAANvWN0EAAAAAwO86QQAAAAA8HTlBAAAAADBPOUEAAAAAaPk5QQAAAAAMbD1BAAAAAOU4OUEAAAAAxG44QQAAAACtdDpBAAAAAH0cQEEAAAAAMGk3QQAAAAC6mjdBAAAAAHnaOUEAAAAAs8A8QQAAAABkMTZBAAAAAOswOkEAAAAATzA9QQAAAAC8zDdBAAAAAJKgOUEAAAAAzFY9QQAAAADM4zpBAAAAADc8PUEAAAAA6D48QQAAAADZNTZBAAAAAMsVO0EAAAAArqA5QQAAAACSTDpBAAAAAK2BOkEAAAAA9X07QQAAAAAZKDhBAAAAAEqJOkEAAAAA4Jo4QQAAAADScDlBAAAAALaeOUEAAAAAcmg2QQAAAACc5ztBAAAAANWaO0EAAAAAV1Y3QQAAAACX8z1BAAAAALVwOUEAAAAAx0E5QQAAAADmRztBAAAAAKk0PEEAAAAAmAg4QQAAAACUCD5BAAAAAJpGOUEAAACATCFAQQAAAADHujlBAAAAAO5GMkEAAAAATTYzQQAAAAB8lTlBAAAAAIc3OEEAAACAFJlAQQAAAABzNz1BAAAAACspPEEAAAAADCc\\u002fQQAAAABAfxpBAAAAAMg+MkEAAAAAnWAzQQAAAABVhDtBAAAAAIa9OkEAAAAATmw5QQAAAACTrjdBAAAAAH91O0EAAAAABkE8QQAAAAAjTThBAAAAAAeMP0EAAAAAMK4hQQAAAACAPjtBAAAAAMS1N0EAAAAAT8EzQQAAAABEMUFBAAAAAFwWO0EAAAAAhV43QQAAAAD8yzlBAAAAAJhDOUEAAAAAVTg8QQAAAAC22zlBAAAAACfKNkEAAAAAXcU2QQAAAAD34TZBAAAAgKsWQkEAAAAAPEs2QQAAAADQ0TdBAAAAAPa0PUEAAAAAI+00QQAAAABHyTVBAAAAABZnNEEAAAAAJyM5QQAAAABjBjdBAAAAABieN0EAAAAAFS85QQAAAACeWDdBAAAAAEZ9NkEAAAAAiLE9QQAAAAAlQTNBAAAAAJmkNEEAAAAAYYs4QQAAAAB84SVBAAAAADeUP0EAAAAAOLk5QQAAAABOGTdBAAAAAAyaOEEAAAAALVk5QQAAAACMpDhBAAAAgDS4QEEAAAAAd8A3QQAAAADeqjNBAAAAAFBjO0EAAAAAL306QQAAAADeaTlBAAAAAHZ\\u002fOUEAAAAAF1U8QQAAAAAkkzpBAAAAAAI5OUEAAAAA7wk2QQAAAADgpTZBAAAAALTpO0EAAAAA7PI2QQAAAADSbjlBAAAAALOZOkEAAAAAP780QQAAAAAeGEJBAAAAABk9PUEAAAAAKt42QTRmVJgJyTtBEYaQv\\u002fAQPEHGMThPMEc8QTXHJX8VcDpBLyHJ1MnzPUEJNV5+wxA0Qeqd0dlkezlB\\u002fgZ\\u002f92A8OEESxQzvsRo4QQx8\\u002fO\\u002f+ijtBKBFTHSeIOEH6VoOFs3w2QQAAAAAccBNBBvQhzPrxN0HSb2CLiwY7QT6+kw8cxBhBDuX+VfeZN0GI6SToZeo4QQilE1idUjxB6lZHdVJTO0EZHWLP7rY5QQAAAACSvCNB59SoCEcHQEFZtcVcjiY4QQAAAABohQ5BAAAAAMC4\\u002fUBjwe3wFXQ0QdNFBnPS9C1BAAAAAKDy6kAAAAAAIC8oQQAAAABRhTJBqUTANbJXIUEAAAAAxLQtQXigDR+MCi5BAAAAAEB\\u002fGkGCBpJlDvkzQQ==\",\"shape\":\"578, 1\"},\"domain\":{\"x\":[0.0,1.0],\"y\":[0.0,1.0]},\"hovertemplate\":\"labels=%{label}\\u003cbr\\u003eTOTAL ELECTORS_sum=%{value}\\u003cbr\\u003eparent=%{parent}\\u003cbr\\u003eid=%{id}\\u003cbr\\u003eTOTAL ELECTORS=%{color}\\u003cextra\\u003e\\u003c\\u002fextra\\u003e\",\"ids\":[\"Telangana\\u002fADILABAD\",\"Uttar Pradesh\\u002fAGRA\",\"Maharashtra\\u002fAHMADNAGAR\",\"Gujarat\\u002fAHMEDABAD EAST\",\"Gujarat\\u002fAHMEDABAD WEST\",\"Rajasthan\\u002fAJMER\",\"Uttar Pradesh\\u002fAKBARPUR\",\"Maharashtra\\u002fAKOLA\",\"Kerala\\u002fALAPPUZHA\",\"Kerala\\u002fALATHUR\",\"Uttar Pradesh\\u002fALIGARH\",\"West Bengal\\u002fALIPURDUARS\",\"Uttar Pradesh\\u002fALLAHABAD\",\"Uttarakhand\\u002fALMORA\",\"Rajasthan\\u002fALWAR\",\"Andhra Pradesh\\u002fAMALAPURAM\",\"Haryana\\u002fAMBALA\",\"Uttar Pradesh\\u002fAMBEDKAR NAGAR\",\"Uttar Pradesh\\u002fAMETHI\",\"Maharashtra\\u002fAMRAVATI\",\"Gujarat\\u002fAMRELI\",\"Punjab\\u002fAMRITSAR\",\"Uttar Pradesh\\u002fAMROHA\",\"Andhra Pradesh\\u002fANAKAPALLI\",\"Gujarat\\u002fANAND\",\"Punjab\\u002fANANDPUR SAHIB\",\"Andhra Pradesh\\u002fANANTAPUR\",\"Jammu & Kashmir\\u002fANANTNAG\",\"Andaman & Nicobar Islands\\u002fANDAMAN & NICOBAR ISLANDS\",\"Uttar Pradesh\\u002fAONLA\",\"Tamil Nadu\\u002fARAKKONAM\",\"West Bengal\\u002fARAMBAGH\",\"Tamil Nadu\\u002fARANI\",\"Bihar\\u002fARARIA\",\"Bihar\\u002fARRAH\",\"Andhra Pradesh\\u002fARUKU\",\"Arunachal Pradesh\\u002fARUNACHAL EAST\",\"Arunachal Pradesh\\u002fARUNACHAL WEST\",\"West Bengal\\u002fASANSOL\",\"Odisha\\u002fASKA\",\"Kerala\\u002fATTINGAL\",\"Bihar\\u002fAURANGABAD\",\"Maharashtra\\u002fAURANGABAD\",\"Assam\\u002fAUTONOMOUS DISTRICT\",\"Uttar Pradesh\\u002fAZAMGARH\",\"Uttar Pradesh\\u002fBADAUN\",\"Karnataka\\u002fBAGALKOT\",\"Uttar Pradesh\\u002fBAGHPAT\",\"West Bengal\\u002fBAHARAMPUR\",\"Uttar Pradesh\\u002fBAHRAICH\",\"Madhya Pradesh\\u002fBALAGHAT\",\"Odisha\\u002fBALASORE\",\"Uttar Pradesh\\u002fBALLIA\",\"West Bengal\\u002fBALURGHAT\",\"Gujarat\\u002fBANASKANTHA\",\"Uttar Pradesh\\u002fBANDA\",\"Karnataka\\u002fBANGALORE CENTRAL\",\"Karnataka\\u002fBANGALORE NORTH\",\"Karnataka\\u002fBANGALORE RURAL\",\"Karnataka\\u002fBANGALORE SOUTH\",\"West Bengal\\u002fBANGAON\",\"Bihar\\u002fBANKA\",\"West Bengal\\u002fBANKURA\",\"Uttar Pradesh\\u002fBANSGAON\",\"Rajasthan\\u002fBANSWARA\",\"Andhra Pradesh\\u002fBAPATLA\",\"Uttar Pradesh\\u002fBARABANKI\",\"Maharashtra\\u002fBARAMATI\",\"Jammu & Kashmir\\u002fBARAMULLA\",\"West Bengal\\u002fBARASAT\",\"West Bengal\\u002fBARDHAMAN DURGAPUR\",\"West Bengal\\u002fBARDHAMAN PURBA\",\"Gujarat\\u002fBARDOLI\",\"Uttar Pradesh\\u002fBAREILLY\",\"Odisha\\u002fBARGARH\",\"Rajasthan\\u002fBARMER\",\"Assam\\u002fBARPETA\",\"West Bengal\\u002fBARRACKPORE\",\"West Bengal\\u002fBASIRHAT\",\"Chhattisgarh\\u002fBASTAR\",\"Uttar Pradesh\\u002fBASTI\",\"Punjab\\u002fBATHINDA\",\"Maharashtra\\u002fBEED\",\"Bihar\\u002fBEGUSARAI\",\"Karnataka\\u002fBELGAUM\",\"Karnataka\\u002fBELLARY\",\"Odisha\\u002fBERHAMPUR\",\"Madhya Pradesh\\u002fBETUL\",\"Uttar Pradesh\\u002fBHADOHI\",\"Odisha\\u002fBHADRAK\",\"Bihar\\u002fBHAGALPUR\",\"Maharashtra\\u002fBHANDARA - GONDIYA\",\"Rajasthan\\u002fBHARATPUR\",\"Gujarat\\u002fBHARUCH\",\"Gujarat\\u002fBHAVNAGAR\",\"Rajasthan\\u002fBHILWARA\",\"Madhya Pradesh\\u002fBHIND\",\"Maharashtra\\u002fBHIWANDI\",\"Haryana\\u002fBHIWANI-MAHENDRAGARH\",\"Telangana\\u002fBHONGIR\",\"Madhya Pradesh\\u002fBHOPAL\",\"Odisha\\u002fBHUBANESWAR\",\"Karnataka\\u002fBIDAR\",\"Karnataka\\u002fBIJAPUR\",\"Uttar Pradesh\\u002fBIJNOR\",\"Rajasthan\\u002fBIKANER (SC)\",\"Chhattisgarh\\u002fBILASPUR\",\"West Bengal\\u002fBIRBHUM\",\"West Bengal\\u002fBISHNUPUR\",\"Odisha\\u002fBOLANGIR\",\"West Bengal\\u002fBOLPUR\",\"Uttar Pradesh\\u002fBULANDSHAHR\",\"Maharashtra\\u002fBULDHANA\",\"Bihar\\u002fBUXAR\",\"Kerala\\u002fCHALAKUDY\",\"Karnataka\\u002fCHAMARAJANAGAR\",\"Uttar Pradesh\\u002fCHANDAULI\",\"Chandigarh\\u002fCHANDIGARH\",\"NCT OF Delhi\\u002fCHANDNI CHOWK\",\"Maharashtra\\u002fCHANDRAPUR\",\"Jharkhand\\u002fCHATRA\",\"Tamil Nadu\\u002fCHENNAI CENTRAL\",\"Tamil Nadu\\u002fCHENNAI NORTH\",\"Tamil Nadu\\u002fCHENNAI SOUTH\",\"Telangana\\u002fCHEVELLA\",\"Madhya Pradesh\\u002fCHHINDWARA\",\"Gujarat\\u002fCHHOTA UDAIPUR\",\"Tamil Nadu\\u002fCHIDAMBARAM\",\"Karnataka\\u002fCHIKKBALLAPUR\",\"Karnataka\\u002fCHIKKODI\",\"Karnataka\\u002fCHITRADURGA\",\"Andhra Pradesh\\u002fCHITTOOR\",\"Rajasthan\\u002fCHITTORGARH\",\"Rajasthan\\u002fCHURU\",\"Tamil Nadu\\u002fCOIMBATORE\",\"West Bengal\\u002fCOOCH BEHAR\",\"Tamil Nadu\\u002fCUDDALORE\",\"Odisha\\u002fCUTTACK\",\"Dadra & Nagar Haveli\\u002fDADRA AND NAGAR HAVELI\",\"Gujarat\\u002fDAHOD\",\"Karnataka\\u002fDAKSHINA KANNADA\",\"Daman & Diu\\u002fDAMAN & DIU\",\"Madhya Pradesh\\u002fDAMOH\",\"Bihar\\u002fDARBHANGA\",\"West Bengal\\u002fDARJEELING\",\"Rajasthan\\u002fDAUSA\",\"Karnataka\\u002fDAVANAGERE\",\"Uttar Pradesh\\u002fDEORIA\",\"Madhya Pradesh\\u002fDEWAS\",\"Jharkhand\\u002fDHANBAD\",\"Madhya Pradesh\\u002fDHAR\",\"Tamil Nadu\\u002fDHARMAPURI\",\"Karnataka\\u002fDHARWAD\",\"Uttar Pradesh\\u002fDHAURAHRA\",\"Odisha\\u002fDHENKANAL\",\"Assam\\u002fDHUBRI\",\"Maharashtra\\u002fDHULE\",\"West Bengal\\u002fDIAMOND HARBOUR\",\"Assam\\u002fDIBRUGARH\",\"Tamil Nadu\\u002fDINDIGUL\",\"Maharashtra\\u002fDINDORI\",\"Uttar Pradesh\\u002fDOMARIYAGANJ\",\"West Bengal\\u002fDUM DUM\",\"Jharkhand\\u002fDUMKA\",\"Chhattisgarh\\u002fDURG\",\"NCT OF Delhi\\u002fEAST DELHI\",\"Andhra Pradesh\\u002fELURU\",\"Kerala\\u002fERNAKULAM\",\"Tamil Nadu\\u002fERODE\",\"Uttar Pradesh\\u002fETAH\",\"Uttar Pradesh\\u002fETAWAH\",\"Uttar Pradesh\\u002fFAIZABAD\",\"Haryana\\u002fFARIDABAD\",\"Punjab\\u002fFARIDKOT\",\"Uttar Pradesh\\u002fFARRUKHABAD\",\"Punjab\\u002fFATEHGARH SAHIB\",\"Uttar Pradesh\\u002fFATEHPUR\",\"Uttar Pradesh\\u002fFATEHPUR SIKRI\",\"Uttar Pradesh\\u002fFIROZABAD\",\"Punjab\\u002fFIROZPUR\",\"Maharashtra\\u002fGADCHIROLI-CHIMUR\",\"Gujarat\\u002fGANDHINAGAR\",\"Rajasthan\\u002fGANGANAGAR\",\"Uttarakhand\\u002fGARHWAL\",\"Assam\\u002fGAUHATI\",\"Uttar Pradesh\\u002fGAUTAM BUDDHA NAGAR\",\"Bihar\\u002fGAYA (SC)\",\"West Bengal\\u002fGHATAL\",\"Uttar Pradesh\\u002fGHAZIABAD\",\"Uttar Pradesh\\u002fGHAZIPUR\",\"Uttar Pradesh\\u002fGHOSI\",\"Jharkhand\\u002fGIRIDIH\",\"Jharkhand\\u002fGODDA\",\"Uttar Pradesh\\u002fGONDA\",\"Bihar\\u002fGOPALGANJ (SC)\",\"Uttar Pradesh\\u002fGORAKHPUR\",\"Karnataka\\u002fGULBARGA\",\"Madhya Pradesh\\u002fGUNA\",\"Andhra Pradesh\\u002fGUNTUR\",\"Punjab\\u002fGURDASPUR\",\"Haryana\\u002fGURGAON\",\"Madhya Pradesh\\u002fGWALIOR\",\"Bihar\\u002fHAJIPUR (SC)\",\"Himachal Pradesh\\u002fHAMIRPUR\",\"Uttar Pradesh\\u002fHAMIRPUR\",\"Uttar Pradesh\\u002fHARDOI\",\"Uttarakhand\\u002fHARDWAR\",\"Karnataka\\u002fHASSAN\",\"Uttar Pradesh\\u002fHATHRAS\",\"Maharashtra\\u002fHATKANANGLE\",\"Karnataka\\u002fHAVERI\",\"Jharkhand\\u002fHAZARIBAGH\",\"Andhra Pradesh\\u002fHINDUPUR\",\"Maharashtra\\u002fHINGOLI\",\"Haryana\\u002fHISAR\",\"West Bengal\\u002fHOOGHLY\",\"Madhya Pradesh\\u002fHOSHANGABAD\",\"Punjab\\u002fHOSHIARPUR\",\"West Bengal\\u002fHOWRAH\",\"Telangana\\u002fHYDERABAD\",\"Kerala\\u002fIDUKKI\",\"Madhya Pradesh\\u002fINDORE\",\"Manipur\\u002fINNER MANIPUR\",\"Madhya Pradesh\\u002fJABALPUR\",\"West Bengal\\u002fJADAVPUR\",\"Odisha\\u002fJAGATSINGHPUR\",\"Bihar\\u002fJAHANABAD\",\"Rajasthan\\u002fJAIPUR\",\"Rajasthan\\u002fJAIPUR RURAL\",\"Odisha\\u002fJAJPUR\",\"Punjab\\u002fJALANDHAR\",\"Uttar Pradesh\\u002fJALAUN\",\"Maharashtra\\u002fJALGAON\",\"Maharashtra\\u002fJALNA\",\"Rajasthan\\u002fJALORE\",\"West Bengal\\u002fJALPAIGURI\",\"Jammu & Kashmir\\u002fJAMMU\",\"Gujarat\\u002fJAMNAGAR\",\"Jharkhand\\u002fJAMSHEDPUR\",\"Bihar\\u002fJAMUI (SC)\",\"West Bengal\\u002fJANGIPUR\",\"Chhattisgarh\\u002fJANJGIR-CHAMPA\",\"Uttar Pradesh\\u002fJAUNPUR\",\"West Bengal\\u002fJAYNAGAR\",\"Rajasthan\\u002fJHALAWAR-BARAN\",\"Bihar\\u002fJHANJHARPUR\",\"Uttar Pradesh\\u002fJHANSI\",\"West Bengal\\u002fJHARGRAM\",\"Rajasthan\\u002fJHUNJHUNU\",\"Rajasthan\\u002fJODHPUR\",\"Assam\\u002fJORHAT\",\"Gujarat\\u002fJUNAGADH\",\"Gujarat\\u002fKACHCHH\",\"Andhra Pradesh\\u002fKADAPA\",\"Uttar Pradesh\\u002fKAIRANA\",\"Uttar Pradesh\\u002fKAISERGANJ\",\"Andhra Pradesh\\u002fKAKINADA\",\"Odisha\\u002fKALAHANDI\",\"Assam\\u002fKALIABOR\",\"Tamil Nadu\\u002fKALLAKURICHI\",\"Maharashtra\\u002fKALYAN\",\"Tamil Nadu\\u002fKANCHEEPURAM\",\"Odisha\\u002fKANDHAMAL\",\"Himachal Pradesh\\u002fKANGRA\",\"Chhattisgarh\\u002fKANKER\",\"Uttar Pradesh\\u002fKANNAUJ\",\"Tamil Nadu\\u002fKANNIYAKUMARI\",\"Kerala\\u002fKANNUR\",\"Uttar Pradesh\\u002fKANPUR\",\"West Bengal\\u002fKANTHI\",\"Bihar\\u002fKARAKAT\",\"Rajasthan\\u002fKARAULI-DHOLPUR\",\"Assam\\u002fKARIMGANJ\",\"Telangana\\u002fKARIMNAGAR\",\"Haryana\\u002fKARNAL\",\"Tamil Nadu\\u002fKARUR\",\"Kerala\\u002fKASARAGOD\",\"Bihar\\u002fKATIHAR\",\"Uttar Pradesh\\u002fKAUSHAMBI\",\"Odisha\\u002fKENDRAPARA\",\"Odisha\\u002fKEONJHAR\",\"Punjab\\u002fKHADOOR SAHIB\",\"Bihar\\u002fKHAGARIA\",\"Madhya Pradesh\\u002fKHAJURAHO\",\"Telangana\\u002fKHAMMAM\",\"Madhya Pradesh\\u002fKHANDWA\",\"Madhya Pradesh\\u002fKHARGONE\",\"Gujarat\\u002fKHEDA\",\"Uttar Pradesh\\u002fKHERI\",\"Jharkhand\\u002fKHUNTI\",\"Bihar\\u002fKISHANGANJ\",\"Jharkhand\\u002fKODARMA\",\"Assam\\u002fKOKRAJHAR\",\"Karnataka\\u002fKOLAR\",\"Maharashtra\\u002fKOLHAPUR\",\"West Bengal\\u002fKOLKATA DAKSHIN\",\"West Bengal\\u002fKOLKATA UTTAR\",\"Kerala\\u002fKOLLAM\",\"Karnataka\\u002fKOPPAL\",\"Odisha\\u002fKORAPUT\",\"Chhattisgarh\\u002fKORBA\",\"Rajasthan\\u002fKOTA\",\"Kerala\\u002fKOTTAYAM\",\"Kerala\\u002fKOZHIKODE\",\"Tamil Nadu\\u002fKRISHNAGIRI\",\"West Bengal\\u002fKRISHNANAGAR\",\"Andhra Pradesh\\u002fKURNOOL\",\"Haryana\\u002fKURUKSHETRA\",\"Uttar Pradesh\\u002fKUSHI NAGAR\",\"Jammu & Kashmir\\u002fLADAKH\",\"Assam\\u002fLAKHIMPUR\",\"Lakshadweep\\u002fLAKSHADWEEP\",\"Uttar Pradesh\\u002fLALGANJ\",\"Maharashtra\\u002fLATUR\",\"Jharkhand\\u002fLOHARDAGA\",\"Uttar Pradesh\\u002fLUCKNOW\",\"Punjab\\u002fLUDHIANA\",\"Uttar Pradesh\\u002fMACHHLISHAHR\",\"Andhra Pradesh\\u002fMACHILIPATNAM\",\"Maharashtra\\u002fMADHA\",\"Bihar\\u002fMADHEPURA\",\"Bihar\\u002fMADHUBANI\",\"Tamil Nadu\\u002fMADURAI\",\"Telangana\\u002fMAHABUBABAD\",\"Uttar Pradesh\\u002fMAHARAJGANJ\",\"Bihar\\u002fMAHARAJGANJ\",\"Chhattisgarh\\u002fMAHASAMUND\",\"Telangana\\u002fMAHBUBNAGAR\",\"Gujarat\\u002fMAHESANA\",\"Uttar Pradesh\\u002fMAINPURI\",\"Kerala\\u002fMALAPPURAM\",\"West Bengal\\u002fMALDAHA DAKSHIN\",\"West Bengal\\u002fMALDAHA UTTAR\",\"Telangana\\u002fMALKAJGIRI\",\"Himachal Pradesh\\u002fMANDI\",\"Madhya Pradesh\\u002fMANDLA\",\"Madhya Pradesh\\u002fMANDSOUR\",\"Karnataka\\u002fMANDYA\",\"Assam\\u002fMANGALDOI\",\"Uttar Pradesh\\u002fMATHURA\",\"West Bengal\\u002fMATHURAPUR\",\"Maharashtra\\u002fMAVAL\",\"Kerala\\u002fMAVELIKKARA\",\"Tamil Nadu\\u002fMAYILADUTHURAI\",\"Odisha\\u002fMAYURBHANJ\",\"Telangana\\u002fMEDAK\",\"West Bengal\\u002fMEDINIPUR\",\"Uttar Pradesh\\u002fMEERUT\",\"Uttar Pradesh\\u002fMIRZAPUR\",\"Uttar Pradesh\\u002fMISRIKH\",\"Mizoram\\u002fMIZORAM\",\"Uttar Pradesh\\u002fMOHANLALGANJ\",\"Uttar Pradesh\\u002fMORADABAD\",\"Madhya Pradesh\\u002fMORENA\",\"Maharashtra\\u002fMUMBAI NORTH\",\"Maharashtra\\u002fMUMBAI NORTH CENTRAL\",\"Maharashtra\\u002fMUMBAI NORTH EAST\",\"Maharashtra\\u002fMUMBAI NORTH WEST\",\"Maharashtra\\u002fMUMBAI SOUTH\",\"Maharashtra\\u002fMUMBAI SOUTH CENTRAL\",\"Bihar\\u002fMUNGER\",\"West Bengal\\u002fMURSHIDABAD\",\"Uttar Pradesh\\u002fMUZAFFARNAGAR\",\"Bihar\\u002fMUZAFFARPUR\",\"Karnataka\\u002fMYSORE\",\"Odisha\\u002fNABARANGPUR\",\"Nagaland\\u002fNAGALAND\",\"Tamil Nadu\\u002fNAGAPATTINAM\",\"Telangana\\u002fNAGARKURNOOL\",\"Rajasthan\\u002fNAGAUR\",\"Uttar Pradesh\\u002fNAGINA\",\"Maharashtra\\u002fNAGPUR\",\"Uttarakhand\\u002fNAINITAL-UDHAMSINGH NAGAR\",\"Bihar\\u002fNALANDA\",\"Telangana\\u002fNALGONDA\",\"Tamil Nadu\\u002fNAMAKKAL\",\"Maharashtra\\u002fNANDED\",\"Maharashtra\\u002fNANDURBAR\",\"Andhra Pradesh\\u002fNANDYAL\",\"Andhra Pradesh\\u002fNARASARAOPET\",\"Andhra Pradesh\\u002fNARSAPURAM\",\"Maharashtra\\u002fNASHIK\",\"Gujarat\\u002fNAVSARI\",\"Bihar\\u002fNAWADA\",\"Andhra Pradesh\\u002fNELLORE\",\"NCT OF Delhi\\u002fNEW DELHI\",\"Tamil Nadu\\u002fNILGIRIS\",\"Telangana\\u002fNIZAMABAD\",\"NCT OF Delhi\\u002fNORTH EAST DELHI\",\"Goa\\u002fNORTH GOA\",\"NCT OF Delhi\\u002fNORTH WEST DELHI\",\"Assam\\u002fNOWGONG\",\"Andhra Pradesh\\u002fONGOLE\",\"Maharashtra\\u002fOSMANABAD\",\"Manipur\\u002fOUTER MANIPUR\",\"Kerala\\u002fPALAKKAD\",\"Jharkhand\\u002fPALAMAU\",\"Maharashtra\\u002fPALGHAR\",\"Rajasthan\\u002fPALI\",\"Gujarat\\u002fPANCHMAHAL\",\"Maharashtra\\u002fPARBHANI\",\"Bihar\\u002fPASCHIM CHAMPARAN\",\"Bihar\\u002fPATALIPUTRA\",\"Gujarat\\u002fPATAN\",\"Kerala\\u002fPATHANAMTHITTA\",\"Punjab\\u002fPATIALA\",\"Bihar\\u002fPATNA SAHIB\",\"Telangana\\u002fPEDDAPALLE\",\"Tamil Nadu\\u002fPERAMBALUR\",\"Uttar Pradesh\\u002fPHULPUR\",\"Uttar Pradesh\\u002fPILIBHIT\",\"Tamil Nadu\\u002fPOLLACHI\",\"Kerala\\u002fPONNANI\",\"Gujarat\\u002fPORBANDAR\",\"Uttar Pradesh\\u002fPRATAPGARH\",\"Puducherry\\u002fPUDUCHERRY\",\"Maharashtra\\u002fPUNE\",\"Odisha\\u002fPURI\",\"Bihar\\u002fPURNIA\",\"West Bengal\\u002fPURULIA\",\"Bihar\\u002fPURVI CHAMPARAN\",\"Uttar Pradesh\\u002fRAE BARELI\",\"Karnataka\\u002fRAICHUR\",\"Maharashtra\\u002fRAIGAD\",\"West Bengal\\u002fRAIGANJ\",\"Chhattisgarh\\u002fRAIGARH\",\"Chhattisgarh\\u002fRAIPUR\",\"Andhra Pradesh\\u002fRAJAHMUNDRY\",\"Andhra Pradesh\\u002fRAJAMPET\",\"Madhya Pradesh\\u002fRAJGARH\",\"Gujarat\\u002fRAJKOT\",\"Jharkhand\\u002fRAJMAHAL\",\"Chhattisgarh\\u002fRAJNANDGAON\",\"Rajasthan\\u002fRAJSAMAND\",\"Tamil Nadu\\u002fRAMANATHAPURAM\",\"Uttar Pradesh\\u002fRAMPUR\",\"Maharashtra\\u002fRAMTEK\",\"West Bengal\\u002fRANAGHAT\",\"Jharkhand\\u002fRANCHI\",\"Madhya Pradesh\\u002fRATLAM\",\"Maharashtra\\u002fRATNAGIRI - SINDHUDURG\",\"Maharashtra\\u002fRAVER\",\"Madhya Pradesh\\u002fREWA\",\"Uttar Pradesh\\u002fROBERTSGANJ\",\"Haryana\\u002fROHTAK\",\"Gujarat\\u002fSABARKANTHA\",\"Madhya Pradesh\\u002fSAGAR\",\"Uttar Pradesh\\u002fSAHARANPUR\",\"Tamil Nadu\\u002fSALEM\",\"Uttar Pradesh\\u002fSALEMPUR\",\"Bihar\\u002fSAMASTIPUR (SC)\",\"Odisha\\u002fSAMBALPUR\",\"Uttar Pradesh\\u002fSAMBHAL\",\"Maharashtra\\u002fSANGLI\",\"Punjab\\u002fSANGRUR\",\"Uttar Pradesh\\u002fSANT KABIR NAGAR\",\"Bihar\\u002fSARAN\",\"Chhattisgarh\\u002fSARGUJA\",\"Bihar\\u002fSASARAM (SC)\",\"Maharashtra\\u002fSATARA\",\"Madhya Pradesh\\u002fSATNA\",\"Telangana\\u002fSECUNDRABAD\",\"Madhya Pradesh\\u002fSHAHDOL\",\"Uttar Pradesh\\u002fSHAHJAHANPUR\",\"Bihar\\u002fSHEOHAR\",\"Meghalaya\\u002fSHILLONG\",\"Himachal Pradesh\\u002fSHIMLA\",\"Karnataka\\u002fSHIMOGA\",\"Maharashtra\\u002fSHIRDI\",\"Maharashtra\\u002fSHIRUR\",\"Uttar Pradesh\\u002fSHRAWASTI\",\"Madhya Pradesh\\u002fSIDHI\",\"Rajasthan\\u002fSIKAR\",\"Sikkim\\u002fSIKKIM\",\"Assam\\u002fSILCHAR\",\"Jharkhand\\u002fSINGHBHUM\",\"Haryana\\u002fSIRSA\",\"Bihar\\u002fSITAMARHI\",\"Uttar Pradesh\\u002fSITAPUR\",\"Tamil Nadu\\u002fSIVAGANGA\",\"Bihar\\u002fSIWAN\",\"Maharashtra\\u002fSOLAPUR\",\"Haryana\\u002fSONIPAT\",\"NCT OF Delhi\\u002fSOUTH DELHI\",\"Goa\\u002fSOUTH GOA\",\"West Bengal\\u002fSRERAMPUR\",\"Andhra Pradesh\\u002fSRIKAKULAM\",\"Jammu & Kashmir\\u002fSRINAGAR\",\"Tamil Nadu\\u002fSRIPERUMBUDUR\",\"Uttar Pradesh\\u002fSULTANPUR\",\"Odisha\\u002fSUNDARGARH\",\"Bihar\\u002fSUPAUL\",\"Gujarat\\u002fSURAT\",\"Gujarat\\u002fSURENDRANAGAR\",\"West Bengal\\u002fTAMLUK\",\"Uttarakhand\\u002fTEHRI GARHWAL\",\"Tamil Nadu\\u002fTENKASI\",\"Assam\\u002fTEZPUR\",\"Maharashtra\\u002fTHANE\",\"Tamil Nadu\\u002fTHANJAVUR\",\"Tamil Nadu\\u002fTHENI\",\"Tamil Nadu\\u002fTHIRUVALLUR\",\"Kerala\\u002fTHIRUVANANTHAPURAM\",\"Tamil Nadu\\u002fTHOOTHUKKUDI\",\"Kerala\\u002fTHRISSUR\",\"Madhya Pradesh\\u002fTIKAMGARH\",\"Tamil Nadu\\u002fTIRUCHIRAPPALLI\",\"Tamil Nadu\\u002fTIRUNELVELI\",\"Andhra Pradesh\\u002fTIRUPATI\",\"Tamil Nadu\\u002fTIRUPPUR\",\"Tamil Nadu\\u002fTIRUVANNAMALAI\",\"Rajasthan\\u002fTONK-SAWAI MADHOPUR\",\"Tripura\\u002fTRIPURA EAST\",\"Tripura\\u002fTRIPURA WEST\",\"Karnataka\\u002fTUMKUR\",\"Meghalaya\\u002fTURA\",\"Rajasthan\\u002fUDAIPUR\",\"Jammu & Kashmir\\u002fUDHAMPUR\",\"Karnataka\\u002fUDUPI CHIKMAGALUR\",\"Bihar\\u002fUJIARPUR\",\"Madhya Pradesh\\u002fUJJAIN\",\"West Bengal\\u002fULUBERIA\",\"Uttar Pradesh\\u002fUNNAO\",\"Karnataka\\u002fUTTARA KANNADA\",\"Kerala\\u002fVADAKARA\",\"Gujarat\\u002fVADODARA\",\"Bihar\\u002fVAISHALI\",\"Bihar\\u002fVALMIKI NAGAR\",\"Gujarat\\u002fVALSAD\",\"Uttar Pradesh\\u002fVARANASI\",\"Madhya Pradesh\\u002fVIDISHA\",\"Andhra Pradesh\\u002fVIJAYAWADA\",\"Tamil Nadu\\u002fVILUPPURAM\",\"Tamil Nadu\\u002fVIRUDHUNAGAR\",\"Andhra Pradesh\\u002fVISAKHAPATNAM\",\"Andhra Pradesh\\u002fVIZIANAGARAM\",\"Telangana\\u002fWARANGAL\",\"Maharashtra\\u002fWARDHA\",\"Kerala\\u002fWAYANAD\",\"NCT OF Delhi\\u002fWEST DELHI\",\"Maharashtra\\u002fYAVATMAL-WASHIM\",\"Telangana\\u002fZAHIRABAD\",\"Telangana\",\"Uttar Pradesh\",\"Maharashtra\",\"Gujarat\",\"Rajasthan\",\"Kerala\",\"West Bengal\",\"Uttarakhand\",\"Andhra Pradesh\",\"Haryana\",\"Punjab\",\"Jammu & Kashmir\",\"Andaman & Nicobar Islands\",\"Tamil Nadu\",\"Bihar\",\"Arunachal Pradesh\",\"Odisha\",\"Assam\",\"Karnataka\",\"Madhya Pradesh\",\"Chhattisgarh\",\"Chandigarh\",\"NCT OF Delhi\",\"Jharkhand\",\"Dadra & Nagar Haveli\",\"Daman & Diu\",\"Himachal Pradesh\",\"Manipur\",\"Lakshadweep\",\"Mizoram\",\"Nagaland\",\"Goa\",\"Puducherry\",\"Meghalaya\",\"Sikkim\",\"Tripura\"],\"labels\":[\"ADILABAD\",\"AGRA\",\"AHMADNAGAR\",\"AHMEDABAD EAST\",\"AHMEDABAD WEST\",\"AJMER\",\"AKBARPUR\",\"AKOLA\",\"ALAPPUZHA\",\"ALATHUR\",\"ALIGARH\",\"ALIPURDUARS\",\"ALLAHABAD\",\"ALMORA\",\"ALWAR\",\"AMALAPURAM\",\"AMBALA\",\"AMBEDKAR NAGAR\",\"AMETHI\",\"AMRAVATI\",\"AMRELI\",\"AMRITSAR\",\"AMROHA\",\"ANAKAPALLI\",\"ANAND\",\"ANANDPUR SAHIB\",\"ANANTAPUR\",\"ANANTNAG\",\"ANDAMAN & NICOBAR ISLANDS\",\"AONLA\",\"ARAKKONAM\",\"ARAMBAGH\",\"ARANI\",\"ARARIA\",\"ARRAH\",\"ARUKU\",\"ARUNACHAL EAST\",\"ARUNACHAL WEST\",\"ASANSOL\",\"ASKA\",\"ATTINGAL\",\"AURANGABAD\",\"AURANGABAD\",\"AUTONOMOUS DISTRICT\",\"AZAMGARH\",\"BADAUN\",\"BAGALKOT\",\"BAGHPAT\",\"BAHARAMPUR\",\"BAHRAICH\",\"BALAGHAT\",\"BALASORE\",\"BALLIA\",\"BALURGHAT\",\"BANASKANTHA\",\"BANDA\",\"BANGALORE CENTRAL\",\"BANGALORE NORTH\",\"BANGALORE RURAL\",\"BANGALORE SOUTH\",\"BANGAON\",\"BANKA\",\"BANKURA\",\"BANSGAON\",\"BANSWARA\",\"BAPATLA\",\"BARABANKI\",\"BARAMATI\",\"BARAMULLA\",\"BARASAT\",\"BARDHAMAN DURGAPUR\",\"BARDHAMAN PURBA\",\"BARDOLI\",\"BAREILLY\",\"BARGARH\",\"BARMER\",\"BARPETA\",\"BARRACKPORE\",\"BASIRHAT\",\"BASTAR\",\"BASTI\",\"BATHINDA\",\"BEED\",\"BEGUSARAI\",\"BELGAUM\",\"BELLARY\",\"BERHAMPUR\",\"BETUL\",\"BHADOHI\",\"BHADRAK\",\"BHAGALPUR\",\"BHANDARA - GONDIYA\",\"BHARATPUR\",\"BHARUCH\",\"BHAVNAGAR\",\"BHILWARA\",\"BHIND\",\"BHIWANDI\",\"BHIWANI-MAHENDRAGARH\",\"BHONGIR\",\"BHOPAL\",\"BHUBANESWAR\",\"BIDAR\",\"BIJAPUR\",\"BIJNOR\",\"BIKANER (SC)\",\"BILASPUR\",\"BIRBHUM\",\"BISHNUPUR\",\"BOLANGIR\",\"BOLPUR\",\"BULANDSHAHR\",\"BULDHANA\",\"BUXAR\",\"CHALAKUDY\",\"CHAMARAJANAGAR\",\"CHANDAULI\",\"CHANDIGARH\",\"CHANDNI CHOWK\",\"CHANDRAPUR\",\"CHATRA\",\"CHENNAI CENTRAL\",\"CHENNAI NORTH\",\"CHENNAI SOUTH\",\"CHEVELLA\",\"CHHINDWARA\",\"CHHOTA UDAIPUR\",\"CHIDAMBARAM\",\"CHIKKBALLAPUR\",\"CHIKKODI\",\"CHITRADURGA\",\"CHITTOOR\",\"CHITTORGARH\",\"CHURU\",\"COIMBATORE\",\"COOCH BEHAR\",\"CUDDALORE\",\"CUTTACK\",\"DADRA AND NAGAR HAVELI\",\"DAHOD\",\"DAKSHINA KANNADA\",\"DAMAN & DIU\",\"DAMOH\",\"DARBHANGA\",\"DARJEELING\",\"DAUSA\",\"DAVANAGERE\",\"DEORIA\",\"DEWAS\",\"DHANBAD\",\"DHAR\",\"DHARMAPURI\",\"DHARWAD\",\"DHAURAHRA\",\"DHENKANAL\",\"DHUBRI\",\"DHULE\",\"DIAMOND HARBOUR\",\"DIBRUGARH\",\"DINDIGUL\",\"DINDORI\",\"DOMARIYAGANJ\",\"DUM DUM\",\"DUMKA\",\"DURG\",\"EAST DELHI\",\"ELURU\",\"ERNAKULAM\",\"ERODE\",\"ETAH\",\"ETAWAH\",\"FAIZABAD\",\"FARIDABAD\",\"FARIDKOT\",\"FARRUKHABAD\",\"FATEHGARH SAHIB\",\"FATEHPUR\",\"FATEHPUR SIKRI\",\"FIROZABAD\",\"FIROZPUR\",\"GADCHIROLI-CHIMUR\",\"GANDHINAGAR\",\"GANGANAGAR\",\"GARHWAL\",\"GAUHATI\",\"GAUTAM BUDDHA NAGAR\",\"GAYA (SC)\",\"GHATAL\",\"GHAZIABAD\",\"GHAZIPUR\",\"GHOSI\",\"GIRIDIH\",\"GODDA\",\"GONDA\",\"GOPALGANJ (SC)\",\"GORAKHPUR\",\"GULBARGA\",\"GUNA\",\"GUNTUR\",\"GURDASPUR\",\"GURGAON\",\"GWALIOR\",\"HAJIPUR (SC)\",\"HAMIRPUR\",\"HAMIRPUR\",\"HARDOI\",\"HARDWAR\",\"HASSAN\",\"HATHRAS\",\"HATKANANGLE\",\"HAVERI\",\"HAZARIBAGH\",\"HINDUPUR\",\"HINGOLI\",\"HISAR\",\"HOOGHLY\",\"HOSHANGABAD\",\"HOSHIARPUR\",\"HOWRAH\",\"HYDERABAD\",\"IDUKKI\",\"INDORE\",\"INNER MANIPUR\",\"JABALPUR\",\"JADAVPUR\",\"JAGATSINGHPUR\",\"JAHANABAD\",\"JAIPUR\",\"JAIPUR RURAL\",\"JAJPUR\",\"JALANDHAR\",\"JALAUN\",\"JALGAON\",\"JALNA\",\"JALORE\",\"JALPAIGURI\",\"JAMMU\",\"JAMNAGAR\",\"JAMSHEDPUR\",\"JAMUI (SC)\",\"JANGIPUR\",\"JANJGIR-CHAMPA\",\"JAUNPUR\",\"JAYNAGAR\",\"JHALAWAR-BARAN\",\"JHANJHARPUR\",\"JHANSI\",\"JHARGRAM\",\"JHUNJHUNU\",\"JODHPUR\",\"JORHAT\",\"JUNAGADH\",\"KACHCHH\",\"KADAPA\",\"KAIRANA\",\"KAISERGANJ\",\"KAKINADA\",\"KALAHANDI\",\"KALIABOR\",\"KALLAKURICHI\",\"KALYAN\",\"KANCHEEPURAM\",\"KANDHAMAL\",\"KANGRA\",\"KANKER\",\"KANNAUJ\",\"KANNIYAKUMARI\",\"KANNUR\",\"KANPUR\",\"KANTHI\",\"KARAKAT\",\"KARAULI-DHOLPUR\",\"KARIMGANJ\",\"KARIMNAGAR\",\"KARNAL\",\"KARUR\",\"KASARAGOD\",\"KATIHAR\",\"KAUSHAMBI\",\"KENDRAPARA\",\"KEONJHAR\",\"KHADOOR SAHIB\",\"KHAGARIA\",\"KHAJURAHO\",\"KHAMMAM\",\"KHANDWA\",\"KHARGONE\",\"KHEDA\",\"KHERI\",\"KHUNTI\",\"KISHANGANJ\",\"KODARMA\",\"KOKRAJHAR\",\"KOLAR\",\"KOLHAPUR\",\"KOLKATA DAKSHIN\",\"KOLKATA UTTAR\",\"KOLLAM\",\"KOPPAL\",\"KORAPUT\",\"KORBA\",\"KOTA\",\"KOTTAYAM\",\"KOZHIKODE\",\"KRISHNAGIRI\",\"KRISHNANAGAR\",\"KURNOOL\",\"KURUKSHETRA\",\"KUSHI NAGAR\",\"LADAKH\",\"LAKHIMPUR\",\"LAKSHADWEEP\",\"LALGANJ\",\"LATUR\",\"LOHARDAGA\",\"LUCKNOW\",\"LUDHIANA\",\"MACHHLISHAHR\",\"MACHILIPATNAM\",\"MADHA\",\"MADHEPURA\",\"MADHUBANI\",\"MADURAI\",\"MAHABUBABAD\",\"MAHARAJGANJ\",\"MAHARAJGANJ\",\"MAHASAMUND\",\"MAHBUBNAGAR\",\"MAHESANA\",\"MAINPURI\",\"MALAPPURAM\",\"MALDAHA DAKSHIN\",\"MALDAHA UTTAR\",\"MALKAJGIRI\",\"MANDI\",\"MANDLA\",\"MANDSOUR\",\"MANDYA\",\"MANGALDOI\",\"MATHURA\",\"MATHURAPUR\",\"MAVAL\",\"MAVELIKKARA\",\"MAYILADUTHURAI\",\"MAYURBHANJ\",\"MEDAK\",\"MEDINIPUR\",\"MEERUT\",\"MIRZAPUR\",\"MISRIKH\",\"MIZORAM\",\"MOHANLALGANJ\",\"MORADABAD\",\"MORENA\",\"MUMBAI NORTH\",\"MUMBAI NORTH CENTRAL\",\"MUMBAI NORTH EAST\",\"MUMBAI NORTH WEST\",\"MUMBAI SOUTH\",\"MUMBAI SOUTH CENTRAL\",\"MUNGER\",\"MURSHIDABAD\",\"MUZAFFARNAGAR\",\"MUZAFFARPUR\",\"MYSORE\",\"NABARANGPUR\",\"NAGALAND\",\"NAGAPATTINAM\",\"NAGARKURNOOL\",\"NAGAUR\",\"NAGINA\",\"NAGPUR\",\"NAINITAL-UDHAMSINGH NAGAR\",\"NALANDA\",\"NALGONDA\",\"NAMAKKAL\",\"NANDED\",\"NANDURBAR\",\"NANDYAL\",\"NARASARAOPET\",\"NARSAPURAM\",\"NASHIK\",\"NAVSARI\",\"NAWADA\",\"NELLORE\",\"NEW DELHI\",\"NILGIRIS\",\"NIZAMABAD\",\"NORTH EAST DELHI\",\"NORTH GOA\",\"NORTH WEST DELHI\",\"NOWGONG\",\"ONGOLE\",\"OSMANABAD\",\"OUTER MANIPUR\",\"PALAKKAD\",\"PALAMAU\",\"PALGHAR\",\"PALI\",\"PANCHMAHAL\",\"PARBHANI\",\"PASCHIM CHAMPARAN\",\"PATALIPUTRA\",\"PATAN\",\"PATHANAMTHITTA\",\"PATIALA\",\"PATNA SAHIB\",\"PEDDAPALLE\",\"PERAMBALUR\",\"PHULPUR\",\"PILIBHIT\",\"POLLACHI\",\"PONNANI\",\"PORBANDAR\",\"PRATAPGARH\",\"PUDUCHERRY\",\"PUNE\",\"PURI\",\"PURNIA\",\"PURULIA\",\"PURVI CHAMPARAN\",\"RAE BARELI\",\"RAICHUR\",\"RAIGAD\",\"RAIGANJ\",\"RAIGARH\",\"RAIPUR\",\"RAJAHMUNDRY\",\"RAJAMPET\",\"RAJGARH\",\"RAJKOT\",\"RAJMAHAL\",\"RAJNANDGAON\",\"RAJSAMAND\",\"RAMANATHAPURAM\",\"RAMPUR\",\"RAMTEK\",\"RANAGHAT\",\"RANCHI\",\"RATLAM\",\"RATNAGIRI - SINDHUDURG\",\"RAVER\",\"REWA\",\"ROBERTSGANJ\",\"ROHTAK\",\"SABARKANTHA\",\"SAGAR\",\"SAHARANPUR\",\"SALEM\",\"SALEMPUR\",\"SAMASTIPUR (SC)\",\"SAMBALPUR\",\"SAMBHAL\",\"SANGLI\",\"SANGRUR\",\"SANT KABIR NAGAR\",\"SARAN\",\"SARGUJA\",\"SASARAM (SC)\",\"SATARA\",\"SATNA\",\"SECUNDRABAD\",\"SHAHDOL\",\"SHAHJAHANPUR\",\"SHEOHAR\",\"SHILLONG\",\"SHIMLA\",\"SHIMOGA\",\"SHIRDI\",\"SHIRUR\",\"SHRAWASTI\",\"SIDHI\",\"SIKAR\",\"SIKKIM\",\"SILCHAR\",\"SINGHBHUM\",\"SIRSA\",\"SITAMARHI\",\"SITAPUR\",\"SIVAGANGA\",\"SIWAN\",\"SOLAPUR\",\"SONIPAT\",\"SOUTH DELHI\",\"SOUTH GOA\",\"SRERAMPUR\",\"SRIKAKULAM\",\"SRINAGAR\",\"SRIPERUMBUDUR\",\"SULTANPUR\",\"SUNDARGARH\",\"SUPAUL\",\"SURAT\",\"SURENDRANAGAR\",\"TAMLUK\",\"TEHRI GARHWAL\",\"TENKASI\",\"TEZPUR\",\"THANE\",\"THANJAVUR\",\"THENI\",\"THIRUVALLUR\",\"THIRUVANANTHAPURAM\",\"THOOTHUKKUDI\",\"THRISSUR\",\"TIKAMGARH\",\"TIRUCHIRAPPALLI\",\"TIRUNELVELI\",\"TIRUPATI\",\"TIRUPPUR\",\"TIRUVANNAMALAI\",\"TONK-SAWAI MADHOPUR\",\"TRIPURA EAST\",\"TRIPURA WEST\",\"TUMKUR\",\"TURA\",\"UDAIPUR\",\"UDHAMPUR\",\"UDUPI CHIKMAGALUR\",\"UJIARPUR\",\"UJJAIN\",\"ULUBERIA\",\"UNNAO\",\"UTTARA KANNADA\",\"VADAKARA\",\"VADODARA\",\"VAISHALI\",\"VALMIKI NAGAR\",\"VALSAD\",\"VARANASI\",\"VIDISHA\",\"VIJAYAWADA\",\"VILUPPURAM\",\"VIRUDHUNAGAR\",\"VISAKHAPATNAM\",\"VIZIANAGARAM\",\"WARANGAL\",\"WARDHA\",\"WAYANAD\",\"WEST DELHI\",\"YAVATMAL-WASHIM\",\"ZAHIRABAD\",\"Telangana\",\"Uttar Pradesh\",\"Maharashtra\",\"Gujarat\",\"Rajasthan\",\"Kerala\",\"West Bengal\",\"Uttarakhand\",\"Andhra Pradesh\",\"Haryana\",\"Punjab\",\"Jammu & Kashmir\",\"Andaman & Nicobar Islands\",\"Tamil Nadu\",\"Bihar\",\"Arunachal Pradesh\",\"Odisha\",\"Assam\",\"Karnataka\",\"Madhya Pradesh\",\"Chhattisgarh\",\"Chandigarh\",\"NCT OF Delhi\",\"Jharkhand\",\"Dadra & Nagar Haveli\",\"Daman & Diu\",\"Himachal Pradesh\",\"Manipur\",\"Lakshadweep\",\"Mizoram\",\"Nagaland\",\"Goa\",\"Puducherry\",\"Meghalaya\",\"Sikkim\",\"Tripura\"],\"marker\":{\"coloraxis\":\"coloraxis\",\"colors\":{\"dtype\":\"f8\",\"bdata\":\"AAAAAH67NkEAAAAAGpE9QQAAAAAUZzxBAAAAAIulO0EAAAAANRM5QQAAAAB6oTxBAAAAAOnyOkEAAAAA0XU8QQAAAACdszRBAAAAAGpUM0EAAAAAl8s8QQAAAAD\\u002fJjlBAAAAAMAvOkEAAAAA0Gk0QQAAAAAM0TxBAAAAAGRFNkEAAAAAD0k8QQAAAAA5PztBAAAAAJuaOkEAAAAAg\\u002fg7QQAAAAAj2ThBAAAAACMCN0EAAAAAYx85QQAAAADTNjdBAAAAAD5EOUEAAAAAPOw5QQAAAACgZDlBAAAAABNUNUEAAAAAHHATQQAAAAAFPztBAAAAAHDjNkEAAAAAdu06QQAAAAC+HDZBAAAAAH+MO0EAAAAAieE\\u002fQQAAAACaJTZBAAAAADC9FEEAAAAAfE4cQQAAAAD5pzhBAAAAABmEN0EAAAAANpw0QQAAAAAjmDpBAAAAAEzIPEEAAAAAUkooQQAAAADwTDtBAAAAAPjcPEEAAAAASgA6QQAAAABcqjhBAAAAAOr\\u002fOEEAAAAAdGU6QQAAAAAt+TpBAAAAAIVfN0EAAAAAoc87QQAAAACY2DVBAAAAAGjmOUEAAAAAiPg5QQAAAIBI0kBBAAAAAPG8RUEAAAAA2Q1DQQAAAIAg50BBAAAAALgCOkEAAAAAQu45QQAAAAAKKTlBAAAAANq4OkEAAAAASCQ+QQAAAAD\\u002faDZBAAAAAP64O0EAAACAMyJAQQAAAABqGzRBAAAAAOw3OkEAAAAAynM6QQAAAAAp6TlBAAAAAN7eO0EAAAAAF247QQAAAACCWzhBAAAAAO+ePUEAAAAAnbY5QQAAAAAP6zVBAAAAABWcOUEAAAAAMgs1QQAAAADnJzxBAAAAAKe+OEEAAAAA3TU\\u002fQQAAAADu4T1BAAAAAJYmO0EAAAAAtro6QQAAAAD37DZBAAAAAN2COkEAAAAA8qM9QQAAAADdWjlBAAAAAEzUO0EAAAAAZKQ7QQAAAADyqD1BAAAAAGffN0EAAAAAafs6QQAAAAAQej5BAAAAANbvOkEAAAAANNc8QQAAAAAtPjlBAAAAAIHXOEEAAACARllAQQAAAABe7zlBAAAAAPcVO0EAAAAA0207QQAAAAB9ZDlBAAAAAOxAPEEAAAAA2aM8QQAAAACT7TlBAAAAAD\\u002fUOEEAAAAAPp46QQAAAABxBDpBAAAAABVIO0EAAAAAZuY6QQAAAAD96TtBAAAAAHXFMkEAAAAAPbs5QQAAAAClzjpBAAAAAJK8I0EAAAAAq9Y3QQAAAACsJT1BAAAAAEK\\u002fNUEAAAAATFQ0QQAAAABBszZBAAAAAB0dPkEAAAAAtKNCQQAAAAAfHTdBAAAAAFWAOUEAAAAAHpY2QQAAAACMmTtBAAAAAAybOEEAAAAAed06QQAAAAAj5zdBAAAAAKfCPkEAAAAAIM8+QQAAAAD44z1BAAAAALiuO0EAAAAARtA0QQAAAACULTdBAAAAAGiFDkEAAAAA22U4QQAAAAAwUjpBAAAAAMC4\\u002fUAAAAAASf06QQAAAAAbQDlBAAAAADWWOEEAAAAA8WY6QQAAAAAo6zhBAAAAAFPEOkEAAAAA99w6QQAAAAA6oD9BAAAAACdBO0EAAAAA7Ks2QQAAAABPWzpBAAAAAIIYOUEAAAAAk\\u002fQ2QQAAAAAGXDxBAAAAAM0dPUEAAAAAljs6QQAAAAAPDjRBAAAAAPmGN0EAAAAASHE6QQAAAAD5xDxBAAAAAPTlN0EAAAAABVI1QQAAAAAtmz1BAAAAAAYeP0EAAAAARlY4QQAAAAAUAzNBAAAAAOZPNkEAAAAAL704QQAAAAAg0zpBAAAAAFnMO0EAAAAACJ0\\u002fQQAAAABThzdBAAAAACkSOkEAAAAAje42QQAAAADQEDxBAAAAADU6OkEAAAAALlI7QQAAAADzsThBAAAAADYhOEEAAAAArLA9QQAAAAC+pz1BAAAAABSwNEEAAACAY6RAQQAAAAD4kUFBAAAAAJQCOkEAAAAAQnc7QQAAAAAJ0kRBAAAAAPWzPEEAAAAA42M+QQAAAAAFKzlBAAAAAB4yOkEAAAAACAM7QQAAAACaETxBAAAAAA07PkEAAAAApbA9QQAAAADMkTlBAAAAAIcIOkEAAAAAlFc4QQAAAACkaEBBAAAAAGiHPkEAAAAAsNM7QQAAAABdyTRBAAAAAGywOkEAAAAAD5M7QQAAAABiFjxBAAAAAAc5OUEAAAAAgHI8QQAAAACrGztBAAAAAN4ROkEAAAAAiXE5QQAAAADqFDhBAAAAAGF0OkEAAAAASeY4QQAAAADJ9DpBAAAAAJ0IOkEAAAAAPGA4QQAAAACF7jhBAAAAACvgPUEAAAAA318yQQAAAAD67kFBAAAAAPCbLEEAAAAA9cQ7QQAAAAAZuTtBAAAAAEsUOUEAAAAA5jw4QQAAAIBWOkBBAAAAAB7LPUEAAAAAv4E2QQAAAAB6rDhBAAAAAC6APUEAAAAAiHg9QQAAAADUfTxBAAAAAMyaP0EAAAAAKHs6QQAAAABGPT9BAAAAAE5JOUEAAAAAb\\u002f05QQAAAAAeOjpBAAAAAFWpOEEAAAAArvI8QQAAAADIgDxBAAAAAOMmOUEAAAAA\\u002fgw9QQAAAAABRDxBAAAAAKMjP0EAAAAAjA05QQAAAADakT1BAAAAAJPbPUEAAAAAK9Q0QQAAAABwETlBAAAAAMGdOkEAAAAAGvY3QQAAAACPbjlBAAAAAHqOO0EAAAAAGt03QQAAAAAwlThBAAAAABp5OkEAAAAAalQ3QQAAAABs\\u002fj1BAAAAANgVOUEAAAAA2qkzQQAAAACKxzVBAAAAAKjJN0EAAAAAiJs8QQAAAABC6DZBAAAAAHZTM0EAAAAA1+o4QQAAAADzVDlBAAAAAPYGO0EAAAAAjqA7QQAAAAANczRBAAAAAFczOUEAAAAAQQ49QQAAAAAWKzVBAAAAAOHPNEEAAAAAaTo5QQAAAADwRDtBAAAAAEQbOkEAAAAAkCQ3QQAAAAC6ATlBAAAAAKaUOUEAAAAArxs8QQAAAABRGTdBAAAAAD8hPUEAAAAAkf07QQAAAAD8hjtBAAAAAMsEO0EAAAAA6FkyQQAAAAADUzlBAAAAAG2uO0EAAAAA5ho7QQAAAAAJ3zhBAAAAALCxPEEAAAAAU2E6QQAAAADyCDZBAAAAAFDJM0EAAAAA9X86QQAAAAAQ4zVBAAAAAOgFN0EAAAAAark9QQAAAACqaTJBAAAAAIgcNEEAAAAAJFo3QQAAAADS5ThBAAAAAJEAOEEAAAAA90k5QQAAAAAc4TpBAAAAAADhBUEAAAAA7Q86QQAAAACg8upAAAAAAKy7OkEAAAAAwck8QQAAAABu1TJBAAAAAC8iP0EAAAAAfa85QQAAAADyMzxBAAAAAEN7NkEAAAAARiM9QQAAAADTwjxBAAAAAB5bO0EAAAAA0ns3QQAAAAABvDVBAAAAABA6PUEAAAAAmJU7QQAAAAA\\u002f\\u002fjhBAAAAADb7NkEAAAAA5Sg5QQAAAABkSzpBAAAAALDpNEEAAAAApgo4QQAAAADDuTlBAAAAgPQISEEAAAAAto0zQQAAAAAjxj1BAAAAAGveOkEAAAAAhB86QQAAAAAteDtBAAAAABWWO0EAAAAAgDU5QQAAAABwiEFBAAAAAMb1M0EAAAAAKqg2QQAAAADVyDZBAAAAAPZ2OEEAAAAA\\u002fIs5QQAAAABD4jxBAAAAAJ4nPEEAAAAARGs7QQAAAAAgLyhBAAAAAAfgPkEAAAAAG+Q9QQAAAACbCjxBAAAAAPYiOUEAAAAAE6I5QQAAAADVPThBAAAAAKduOkEAAAAAALc3QQAAAAB8+jVBAAAAABnPPEEAAAAAA1M6QQAAAADT6DlBAAAAAPlnOkEAAAAAje88QQAAAAAMSzZBAAAAAFGFMkEAAAAAYeQzQQAAAACPOzhBAAAAAHF\\u002fPUEAAAAAxTM4QQAAAADkfEBBAAAAAFHmO0EAAACAfCJAQQAAAAA8MzhBAAAAAN+RNUEAAAAAGjw6QQAAAAD7jDxBAAAAAJR2OEEAAAAA93w5QQAAAADL9zVBAAAAAIjDPEEAAAAAyhU+QQAAAADj\\u002fDxBAAAAAI2GOUEAAAAAPq44QQAAAAAs2DRBAAAAAOmzN0EAAAAAnnlBQQAAAACy\\u002fSBBAAAAgHkmQkEAAAAAWGI7QQAAAAD1vzdBAAAAAMzVPEEAAAAAJjEvQQAAAAACMDRBAAAAAGG1PEEAAAAAoMU8QQAAAID\\u002ffUBBAAAAAHqfOkEAAAAAzEo+QQAAAAAg7jhBAAAAAGdhPUEAAAAAw5I7QQAAAABVGTVBAAAAAFCLOkEAAAAAbF9AQQAAAACzkTZBAAAAAO08NUEAAAAAba0+QQAAAAC33zpBAAAAAHgzN0EAAAAAA7Q0QQAAAACgXTlBAAAAANcSOkEAAAAAxLQtQQAAAACwrD9BAAAAANvWN0EAAAAAwO86QQAAAAA8HTlBAAAAADBPOUEAAAAAaPk5QQAAAAAMbD1BAAAAAOU4OUEAAAAAxG44QQAAAACtdDpBAAAAAH0cQEEAAAAAMGk3QQAAAAC6mjdBAAAAAHnaOUEAAAAAs8A8QQAAAABkMTZBAAAAAOswOkEAAAAATzA9QQAAAAC8zDdBAAAAAJKgOUEAAAAAzFY9QQAAAADM4zpBAAAAADc8PUEAAAAA6D48QQAAAADZNTZBAAAAAMsVO0EAAAAArqA5QQAAAACSTDpBAAAAAK2BOkEAAAAA9X07QQAAAAAZKDhBAAAAAEqJOkEAAAAA4Jo4QQAAAADScDlBAAAAALaeOUEAAAAAcmg2QQAAAACc5ztBAAAAANWaO0EAAAAAV1Y3QQAAAACX8z1BAAAAALVwOUEAAAAAx0E5QQAAAADmRztBAAAAAKk0PEEAAAAAmAg4QQAAAACUCD5BAAAAAJpGOUEAAACATCFAQQAAAADHujlBAAAAAO5GMkEAAAAATTYzQQAAAAB8lTlBAAAAAIc3OEEAAACAFJlAQQAAAABzNz1BAAAAACspPEEAAAAADCc\\u002fQQAAAABAfxpBAAAAAMg+MkEAAAAAnWAzQQAAAABVhDtBAAAAAIa9OkEAAAAATmw5QQAAAACTrjdBAAAAAH91O0EAAAAABkE8QQAAAAAjTThBAAAAAAeMP0EAAAAAMK4hQQAAAACAPjtBAAAAAMS1N0EAAAAAT8EzQQAAAABEMUFBAAAAAFwWO0EAAAAAhV43QQAAAAD8yzlBAAAAAJhDOUEAAAAAVTg8QQAAAAC22zlBAAAAACfKNkEAAAAAXcU2QQAAAAD34TZBAAAAgKsWQkEAAAAAPEs2QQAAAADQ0TdBAAAAAPa0PUEAAAAAI+00QQAAAABHyTVBAAAAABZnNEEAAAAAJyM5QQAAAABjBjdBAAAAABieN0EAAAAAFS85QQAAAACeWDdBAAAAAEZ9NkEAAAAAiLE9QQAAAAAlQTNBAAAAAJmkNEEAAAAAYYs4QQAAAAB84SVBAAAAADeUP0EAAAAAOLk5QQAAAABOGTdBAAAAAAyaOEEAAAAALVk5QQAAAACMpDhBAAAAgDS4QEEAAAAAd8A3QQAAAADeqjNBAAAAAFBjO0EAAAAAL306QQAAAADeaTlBAAAAAHZ\\u002fOUEAAAAAF1U8QQAAAAAkkzpBAAAAAAI5OUEAAAAA7wk2QQAAAADgpTZBAAAAALTpO0EAAAAA7PI2QQAAAADSbjlBAAAAALOZOkEAAAAAP780QQAAAAAeGEJBAAAAABk9PUEAAAAAKt42QTRmVJgJyTtBEYaQv\\u002fAQPEHGMThPMEc8QTXHJX8VcDpBLyHJ1MnzPUEJNV5+wxA0Qeqd0dlkezlB\\u002fgZ\\u002f92A8OEESxQzvsRo4QQx8\\u002fO\\u002f+ijtBKBFTHSeIOEH6VoOFs3w2QQAAAAAccBNBBvQhzPrxN0HSb2CLiwY7QT6+kw8cxBhBDuX+VfeZN0GI6SToZeo4QQilE1idUjxB6lZHdVJTO0EZHWLP7rY5QQAAAACSvCNB59SoCEcHQEFZtcVcjiY4QQAAAABohQ5BAAAAAMC4\\u002fUBjwe3wFXQ0QdNFBnPS9C1BAAAAAKDy6kAAAAAAIC8oQQAAAABRhTJBqUTANbJXIUEAAAAAxLQtQXigDR+MCi5BAAAAAEB\\u002fGkGCBpJlDvkzQQ==\"}},\"name\":\"\",\"parents\":[\"Telangana\",\"Uttar Pradesh\",\"Maharashtra\",\"Gujarat\",\"Gujarat\",\"Rajasthan\",\"Uttar Pradesh\",\"Maharashtra\",\"Kerala\",\"Kerala\",\"Uttar Pradesh\",\"West Bengal\",\"Uttar Pradesh\",\"Uttarakhand\",\"Rajasthan\",\"Andhra Pradesh\",\"Haryana\",\"Uttar Pradesh\",\"Uttar Pradesh\",\"Maharashtra\",\"Gujarat\",\"Punjab\",\"Uttar Pradesh\",\"Andhra Pradesh\",\"Gujarat\",\"Punjab\",\"Andhra Pradesh\",\"Jammu & Kashmir\",\"Andaman & Nicobar Islands\",\"Uttar Pradesh\",\"Tamil Nadu\",\"West Bengal\",\"Tamil Nadu\",\"Bihar\",\"Bihar\",\"Andhra Pradesh\",\"Arunachal Pradesh\",\"Arunachal Pradesh\",\"West Bengal\",\"Odisha\",\"Kerala\",\"Bihar\",\"Maharashtra\",\"Assam\",\"Uttar Pradesh\",\"Uttar Pradesh\",\"Karnataka\",\"Uttar Pradesh\",\"West Bengal\",\"Uttar Pradesh\",\"Madhya Pradesh\",\"Odisha\",\"Uttar Pradesh\",\"West Bengal\",\"Gujarat\",\"Uttar Pradesh\",\"Karnataka\",\"Karnataka\",\"Karnataka\",\"Karnataka\",\"West Bengal\",\"Bihar\",\"West Bengal\",\"Uttar Pradesh\",\"Rajasthan\",\"Andhra Pradesh\",\"Uttar Pradesh\",\"Maharashtra\",\"Jammu & Kashmir\",\"West Bengal\",\"West Bengal\",\"West Bengal\",\"Gujarat\",\"Uttar Pradesh\",\"Odisha\",\"Rajasthan\",\"Assam\",\"West Bengal\",\"West Bengal\",\"Chhattisgarh\",\"Uttar Pradesh\",\"Punjab\",\"Maharashtra\",\"Bihar\",\"Karnataka\",\"Karnataka\",\"Odisha\",\"Madhya Pradesh\",\"Uttar Pradesh\",\"Odisha\",\"Bihar\",\"Maharashtra\",\"Rajasthan\",\"Gujarat\",\"Gujarat\",\"Rajasthan\",\"Madhya Pradesh\",\"Maharashtra\",\"Haryana\",\"Telangana\",\"Madhya Pradesh\",\"Odisha\",\"Karnataka\",\"Karnataka\",\"Uttar Pradesh\",\"Rajasthan\",\"Chhattisgarh\",\"West Bengal\",\"West Bengal\",\"Odisha\",\"West Bengal\",\"Uttar Pradesh\",\"Maharashtra\",\"Bihar\",\"Kerala\",\"Karnataka\",\"Uttar Pradesh\",\"Chandigarh\",\"NCT OF Delhi\",\"Maharashtra\",\"Jharkhand\",\"Tamil Nadu\",\"Tamil Nadu\",\"Tamil Nadu\",\"Telangana\",\"Madhya Pradesh\",\"Gujarat\",\"Tamil Nadu\",\"Karnataka\",\"Karnataka\",\"Karnataka\",\"Andhra Pradesh\",\"Rajasthan\",\"Rajasthan\",\"Tamil Nadu\",\"West Bengal\",\"Tamil Nadu\",\"Odisha\",\"Dadra & Nagar Haveli\",\"Gujarat\",\"Karnataka\",\"Daman & Diu\",\"Madhya Pradesh\",\"Bihar\",\"West Bengal\",\"Rajasthan\",\"Karnataka\",\"Uttar Pradesh\",\"Madhya Pradesh\",\"Jharkhand\",\"Madhya Pradesh\",\"Tamil Nadu\",\"Karnataka\",\"Uttar Pradesh\",\"Odisha\",\"Assam\",\"Maharashtra\",\"West Bengal\",\"Assam\",\"Tamil Nadu\",\"Maharashtra\",\"Uttar Pradesh\",\"West Bengal\",\"Jharkhand\",\"Chhattisgarh\",\"NCT OF Delhi\",\"Andhra Pradesh\",\"Kerala\",\"Tamil Nadu\",\"Uttar Pradesh\",\"Uttar Pradesh\",\"Uttar Pradesh\",\"Haryana\",\"Punjab\",\"Uttar Pradesh\",\"Punjab\",\"Uttar Pradesh\",\"Uttar Pradesh\",\"Uttar Pradesh\",\"Punjab\",\"Maharashtra\",\"Gujarat\",\"Rajasthan\",\"Uttarakhand\",\"Assam\",\"Uttar Pradesh\",\"Bihar\",\"West Bengal\",\"Uttar Pradesh\",\"Uttar Pradesh\",\"Uttar Pradesh\",\"Jharkhand\",\"Jharkhand\",\"Uttar Pradesh\",\"Bihar\",\"Uttar Pradesh\",\"Karnataka\",\"Madhya Pradesh\",\"Andhra Pradesh\",\"Punjab\",\"Haryana\",\"Madhya Pradesh\",\"Bihar\",\"Himachal Pradesh\",\"Uttar Pradesh\",\"Uttar Pradesh\",\"Uttarakhand\",\"Karnataka\",\"Uttar Pradesh\",\"Maharashtra\",\"Karnataka\",\"Jharkhand\",\"Andhra Pradesh\",\"Maharashtra\",\"Haryana\",\"West Bengal\",\"Madhya Pradesh\",\"Punjab\",\"West Bengal\",\"Telangana\",\"Kerala\",\"Madhya Pradesh\",\"Manipur\",\"Madhya Pradesh\",\"West Bengal\",\"Odisha\",\"Bihar\",\"Rajasthan\",\"Rajasthan\",\"Odisha\",\"Punjab\",\"Uttar Pradesh\",\"Maharashtra\",\"Maharashtra\",\"Rajasthan\",\"West Bengal\",\"Jammu & Kashmir\",\"Gujarat\",\"Jharkhand\",\"Bihar\",\"West Bengal\",\"Chhattisgarh\",\"Uttar Pradesh\",\"West Bengal\",\"Rajasthan\",\"Bihar\",\"Uttar Pradesh\",\"West Bengal\",\"Rajasthan\",\"Rajasthan\",\"Assam\",\"Gujarat\",\"Gujarat\",\"Andhra Pradesh\",\"Uttar Pradesh\",\"Uttar Pradesh\",\"Andhra Pradesh\",\"Odisha\",\"Assam\",\"Tamil Nadu\",\"Maharashtra\",\"Tamil Nadu\",\"Odisha\",\"Himachal Pradesh\",\"Chhattisgarh\",\"Uttar Pradesh\",\"Tamil Nadu\",\"Kerala\",\"Uttar Pradesh\",\"West Bengal\",\"Bihar\",\"Rajasthan\",\"Assam\",\"Telangana\",\"Haryana\",\"Tamil Nadu\",\"Kerala\",\"Bihar\",\"Uttar Pradesh\",\"Odisha\",\"Odisha\",\"Punjab\",\"Bihar\",\"Madhya Pradesh\",\"Telangana\",\"Madhya Pradesh\",\"Madhya Pradesh\",\"Gujarat\",\"Uttar Pradesh\",\"Jharkhand\",\"Bihar\",\"Jharkhand\",\"Assam\",\"Karnataka\",\"Maharashtra\",\"West Bengal\",\"West Bengal\",\"Kerala\",\"Karnataka\",\"Odisha\",\"Chhattisgarh\",\"Rajasthan\",\"Kerala\",\"Kerala\",\"Tamil Nadu\",\"West Bengal\",\"Andhra Pradesh\",\"Haryana\",\"Uttar Pradesh\",\"Jammu & Kashmir\",\"Assam\",\"Lakshadweep\",\"Uttar Pradesh\",\"Maharashtra\",\"Jharkhand\",\"Uttar Pradesh\",\"Punjab\",\"Uttar Pradesh\",\"Andhra Pradesh\",\"Maharashtra\",\"Bihar\",\"Bihar\",\"Tamil Nadu\",\"Telangana\",\"Uttar Pradesh\",\"Bihar\",\"Chhattisgarh\",\"Telangana\",\"Gujarat\",\"Uttar Pradesh\",\"Kerala\",\"West Bengal\",\"West Bengal\",\"Telangana\",\"Himachal Pradesh\",\"Madhya Pradesh\",\"Madhya Pradesh\",\"Karnataka\",\"Assam\",\"Uttar Pradesh\",\"West Bengal\",\"Maharashtra\",\"Kerala\",\"Tamil Nadu\",\"Odisha\",\"Telangana\",\"West Bengal\",\"Uttar Pradesh\",\"Uttar Pradesh\",\"Uttar Pradesh\",\"Mizoram\",\"Uttar Pradesh\",\"Uttar Pradesh\",\"Madhya Pradesh\",\"Maharashtra\",\"Maharashtra\",\"Maharashtra\",\"Maharashtra\",\"Maharashtra\",\"Maharashtra\",\"Bihar\",\"West Bengal\",\"Uttar Pradesh\",\"Bihar\",\"Karnataka\",\"Odisha\",\"Nagaland\",\"Tamil Nadu\",\"Telangana\",\"Rajasthan\",\"Uttar Pradesh\",\"Maharashtra\",\"Uttarakhand\",\"Bihar\",\"Telangana\",\"Tamil Nadu\",\"Maharashtra\",\"Maharashtra\",\"Andhra Pradesh\",\"Andhra Pradesh\",\"Andhra Pradesh\",\"Maharashtra\",\"Gujarat\",\"Bihar\",\"Andhra Pradesh\",\"NCT OF Delhi\",\"Tamil Nadu\",\"Telangana\",\"NCT OF Delhi\",\"Goa\",\"NCT OF Delhi\",\"Assam\",\"Andhra Pradesh\",\"Maharashtra\",\"Manipur\",\"Kerala\",\"Jharkhand\",\"Maharashtra\",\"Rajasthan\",\"Gujarat\",\"Maharashtra\",\"Bihar\",\"Bihar\",\"Gujarat\",\"Kerala\",\"Punjab\",\"Bihar\",\"Telangana\",\"Tamil Nadu\",\"Uttar Pradesh\",\"Uttar Pradesh\",\"Tamil Nadu\",\"Kerala\",\"Gujarat\",\"Uttar Pradesh\",\"Puducherry\",\"Maharashtra\",\"Odisha\",\"Bihar\",\"West Bengal\",\"Bihar\",\"Uttar Pradesh\",\"Karnataka\",\"Maharashtra\",\"West Bengal\",\"Chhattisgarh\",\"Chhattisgarh\",\"Andhra Pradesh\",\"Andhra Pradesh\",\"Madhya Pradesh\",\"Gujarat\",\"Jharkhand\",\"Chhattisgarh\",\"Rajasthan\",\"Tamil Nadu\",\"Uttar Pradesh\",\"Maharashtra\",\"West Bengal\",\"Jharkhand\",\"Madhya Pradesh\",\"Maharashtra\",\"Maharashtra\",\"Madhya Pradesh\",\"Uttar Pradesh\",\"Haryana\",\"Gujarat\",\"Madhya Pradesh\",\"Uttar Pradesh\",\"Tamil Nadu\",\"Uttar Pradesh\",\"Bihar\",\"Odisha\",\"Uttar Pradesh\",\"Maharashtra\",\"Punjab\",\"Uttar Pradesh\",\"Bihar\",\"Chhattisgarh\",\"Bihar\",\"Maharashtra\",\"Madhya Pradesh\",\"Telangana\",\"Madhya Pradesh\",\"Uttar Pradesh\",\"Bihar\",\"Meghalaya\",\"Himachal Pradesh\",\"Karnataka\",\"Maharashtra\",\"Maharashtra\",\"Uttar Pradesh\",\"Madhya Pradesh\",\"Rajasthan\",\"Sikkim\",\"Assam\",\"Jharkhand\",\"Haryana\",\"Bihar\",\"Uttar Pradesh\",\"Tamil Nadu\",\"Bihar\",\"Maharashtra\",\"Haryana\",\"NCT OF Delhi\",\"Goa\",\"West Bengal\",\"Andhra Pradesh\",\"Jammu & Kashmir\",\"Tamil Nadu\",\"Uttar Pradesh\",\"Odisha\",\"Bihar\",\"Gujarat\",\"Gujarat\",\"West Bengal\",\"Uttarakhand\",\"Tamil Nadu\",\"Assam\",\"Maharashtra\",\"Tamil Nadu\",\"Tamil Nadu\",\"Tamil Nadu\",\"Kerala\",\"Tamil Nadu\",\"Kerala\",\"Madhya Pradesh\",\"Tamil Nadu\",\"Tamil Nadu\",\"Andhra Pradesh\",\"Tamil Nadu\",\"Tamil Nadu\",\"Rajasthan\",\"Tripura\",\"Tripura\",\"Karnataka\",\"Meghalaya\",\"Rajasthan\",\"Jammu & Kashmir\",\"Karnataka\",\"Bihar\",\"Madhya Pradesh\",\"West Bengal\",\"Uttar Pradesh\",\"Karnataka\",\"Kerala\",\"Gujarat\",\"Bihar\",\"Bihar\",\"Gujarat\",\"Uttar Pradesh\",\"Madhya Pradesh\",\"Andhra Pradesh\",\"Tamil Nadu\",\"Tamil Nadu\",\"Andhra Pradesh\",\"Andhra Pradesh\",\"Telangana\",\"Maharashtra\",\"Kerala\",\"NCT OF Delhi\",\"Maharashtra\",\"Telangana\",\"\",\"\",\"\",\"\",\"\",\"\",\"\",\"\",\"\",\"\",\"\",\"\",\"\",\"\",\"\",\"\",\"\",\"\",\"\",\"\",\"\",\"\",\"\",\"\",\"\",\"\",\"\",\"\",\"\",\"\",\"\",\"\",\"\",\"\",\"\",\"\"],\"values\":{\"dtype\":\"f8\",\"bdata\":\"AAAAAH67VkEAAACA0yxWQQAAAABPTVVBAAAAAIulS0EAAAAANRNZQQAAAAB6oVxBAAAAwC42VEEAAADAXFhVQQAAAIBrDU9BAAAAAJ\\u002f+TEEAAABAsZhVQQAAAMC+cF9BAAAAAMAvWkEAAAAA0GlUQQAAAADJnFVBAAAAAGRFVkEAAAAAD0lcQQAAAAA5P1tBAAAAAJuaSkEAAAAAg\\u002fhbQQAAAAAj2VhBAAAAwKvCXEEAAABAitdSQQAAAMCHBF1BAAAAgC7zUkEAAACApTNgQQAAAADIvV9BAAAAgBz+X0EAAAAAI0w4QQAAAMBDb1RBAAAAAJQqYUEAAADAadRgQQAAAICOlWBBAAAAQF+pVEEAAACg9exjQQAAAACaJWZBAAAAAMgbP0EAAACADbFBQQAAAMD6fWJBAAAAABmEV0EAAAAAUepOQQAAAOAVn3BBAAAAAEzIXEEAAACAvTdSQQAAAADwTEtBAAAAALqlVUEAAAAASgBKQQAAAABcqkhBAAAAgO+\\u002fYkEAAAAAdGVaQQAAAAAt+VpBAAAAwKOHUUEAAADAuNtUQQAAAAC+TltBAAAAAM5sY0EAAAAAVTtgQQAAAMBsO1lBAAAAAPG8VUEAAACAxZRcQQAAAIAg51BBAAAAALgCWkEAAADAebBmQQAAAIBMc19BAAAAgKMKVEEAAAAANptmQQAAAMA+A1xBAAAAgL7KVEEAAABATTNYQQAAAABqG2RBAAAAgPNiYEEAAABAXohgQQAAAAAp6VlBAAAAgCbnVEEAAABAkZJUQQAAAACCW1hBAAAAAO+eXUEAAAAAnbZZQQAAAMDSZVtBAAAAABWcWUEAAAAAMgtlQQAAAADnJ1xBAAAAwFDuXkEAAAAA3TVfQQAAAMA0rWJBAAAAAJYmS0EAAAAAtrpKQQAAAAD37FZBAAAAAN2CWkEAAACA9TpWQQAAAMAlBFNBAAAAADnfVEEAAACAvkZhQQAAAIC1PlZBAAAAAGffV0EAAADAjjxUQQAAAABKDGNBAAAAgOAzVEEAAACAgAZiQQAAAAAtPllBAAAAQGENX0EAAACARllQQQAAAICGc1NBAAAAQHlQVEEAAADgoyRhQQAAAMBdC1NBAAAAAOxAXEEAAADA4npVQQAAAOB7NGBBAAAAwE4JX0EAAADA5qJgQQAAAKDGQmBBAAAAwA92VEEAAACAzCxUQQAAAMB972RBAAAAgC8oTEEAAAAAPbtZQQAAACAnwWBBAAAAAJK8Q0EAAABAAOFRQQAAAABB3FVBAAAAAEK\\u002fZUEAAAAAcn5eQQAAAMBwBmFBAAAAwNWVZkEAAAAAjvVbQQAAAMBm5FxBAAAAAFWAWUEAAACAlvBgQQAAAACMmVtBAAAAAEl0UkEAAAAAed1KQQAAAMDr4F1BAAAAQP0RV0EAAAAAIM9eQQAAAAD6amZBAAAAALiuW0EAAACAVwRaQQAAAAAvYlFBAAAAALu0OkEAAADAUX9eQQAAAACkvVNBAAAAAMC4HUEAAADA9j1UQQAAAMAhkF9BAAAAQMK7XkEAAADANM1TQQAAAAAo60hBAAAAAFPEWkEAAABAuSVUQQAAAAA6oE9BAAAAACdBW0EAAAAA8QBhQQAAAABPW0pBAAAAAIIYWUEAAABAbjdRQQAAAIAERVVBAAAAwFnWVUEAAADAPWVgQQAAAIAWFU5BAAAAwDqlYUEAAAAASHFaQQAAAAD5xFxBAAAAAHHfXUEAAABgxKdiQQAAAMBhNFZBAAAAAAYeX0EAAACA12teQQAAAACehExBAAAAgOy7YEEAAAAAL71IQQAAAABYHlRBAAAAwELZVEEAAAAAxrVXQQAAAMAnaV1BAAAAwJ6NU0EAAABAMKpcQQAAAADQEFxBAAAAADU6WkEAAACAon1UQQAAAMBv3l5BAAAAgOgYYkEAAAAAgURWQQAAAAC+p11BAAAAAB4IT0EAAABAlfZYQQAAAAD0WlpBAAAAAO+Bc0EAAAAAQndbQQAAAIANO19BAAAAAPWzXEEAAADgbf5iQQAAAMBD4FJBAAAAgJalY0EAAAAARkJUQQAAAMBmj2hBAAAAwEmsVkEAAAAApbBNQQAAAADMkVlBAAAAAIcIWkEAAAAAlFdYQQAAAAD2nFhBAAAAAI7lVkEAAAAAOlloQQAAAABdyURBAAAAgEOuYEEAAAAAD5NbQQAAAIDJEFVBAAAAQMXqUkEAAAAA4FVVQQAAAEDAVFRBAAAAAN4RSkEAAABA681fQQAAAIAkGl5BAAAAAGF0WkEAAAAASeZYQQAAAADJ9FpBAAAAAJ0IWkEAAAAAS3heQQAAAACF7lhBAAAAACvgXUEAAACAzo9LQQAAAAD67lFBAAAAAHbhUUEAAADAt9NUQQAAAAAZuVtBAAAAQDjPUkEAAAAA5jxoQQAAAIBWOlBBAAAAAB7LTUEAAABAT+FQQQAAAICY115BAAAAwBxwYkEAAAAAZhpWQQAAAADUfVxBAAAAABm0V0EAAAAA+YxgQQAAAABGPU9BAAAAAE5JSUEAAAAAb\\u002f1JQQAAAEDa8mZBAAAAQKrTXkEAAACAArZVQQAAAACWYFVBAAAAwJtwX0EAAACAvslVQQAAAMAAM2VBAAAAAKMjX0EAAAAA71BfQQAAAADakU1BAAAAAJPbTUEAAAAAK9RUQQAAAABwEVlBAAAAwFD2U0EAAACAk\\u002fhRQQAAAEDrElNBAAAAAHqOW0EAAAAAGt1XQQAAAADkb2JBAAAAABp5WkEAAACAhCldQQAAAIADv2JBAAAAAE5bX0EAAAAA2qlTQQAAAICnVVBBAAAAAD7XUUEAAAAAiJtMQQAAAABC6FZBAAAAADH9TEEAAABAIbBSQQAAAADzVFlBAAAAQBemZ0EAAACAarhUQQAAAICTrE5BAAAAAFczWUEAAACg6ChiQQAAAIDbdVpBAAAAgNE3T0EAAADAzutSQQAAAAC0c2RBAAAAAHOUU0EAAAAAkCRXQQAAAAC6AVlBAAAAQBFiZkEAAABAwxRVQQAAAOAmNmRBAAAAAD8hXUEAAACgen5hQQAAAAA9pVRBAAAAAMsEW0EAAAAAYvBWQQAAAMDDp19BAAAAIARNYUEAAACALFRkQQAAAMBGp1JBAAAAAESFVUEAAADg03xgQQAAAADyCFZBAAAAAPitTUEAAAAA9X9KQQAAAAAQ42VBAAAAAG5EYUEAAAAAarlNQQAAAAB\\u002fnktBAAAAAMwqTkEAAAAArTBdQQAAAADS5VhBAAAAQLUAXkEAAADAdJxfQQAAAADVKFRBAAAAAADhJUEAAAAA7Q9aQQAAAAD4NQRBAAAAAKy7WkEAAADAUJdVQQAAAEDAemBBAAAAQKNZV0EAAAAgrg1gQQAAAADyM1xBAAAAAEN7VkEAAAAARiNdQQAAAODD+WFBAAAAgFaEZEEAAACA3ZxhQQAAAAABvGVBAAAAAIzrVUEAAAAAMrBkQQAAAAA\\u002f\\u002flhBAAAAADb7VkEAAADAq95SQQAAAABkS0pBAAAAALDpVEEAAACA\\u002fAdSQQAAAADDuVlBAAAAoDELbkEAAAAAkVRNQQAAAECaVGZBAAAAAGveSkEAAAAAo5dTQQAAAAAteFtBAAAAwI+wVEEAAAAAgDVZQQAAAABwiGFBAAAAAKnwTUEAAACANFJcQQAAAEAKe1xBAAAAQBdoZUEAAAAA++5fQQAAAECyqVVBAAAAwMKYYUEAAAAAc5BUQQAAAADoOk5BAAAAQAUoV0EAAABAFGtWQQAAAED0B1VBAAAAAPYiWUEAAAAAE6JZQQAAAADVPVhBAAAAAKduWkEAAAAAALdXQQAAAAAbeVtBAAAA4DU1aUEAAADg4XNgQQAAAADT6ElBAAAAAPlnWkEAAADAqbNVQQAAAADP3VtBAAAAgPnHS0EAAABAed1YQQAAAECrLGJBAAAAAHF\\u002fXUEAAADA0yZSQQAAAADkfGBBAAAAwLzsVEEAAADAujNoQQAAAAA8M1hBAAAAQGctYEEAAACAE61TQQAAAOAc2GFBAAAAAJR2WEEAAAAA93xZQQAAAEDYeWBBAAAAAIjDXEEAAAAAyhVOQQAAAOANHmJBAAAAAI2GWUEAAACAroJSQQAAAAA3DlpBAAAAwO7GUUEAAAAAnnlhQQAAAACy\\u002fUBBAAAAQLY5W0EAAAAAWGJLQQAAAAD1v1dBAAAAAFmgVUEAAADAt35TQQAAAAADSE5BAAAA4LQeaUEAAAAAOJRlQQAAAED\\u002fvFhBAAAAgJv3U0EAAAAAzEpeQQAAAACoKV9BAAAAQA0JVkEAAABAEq5UQQAAAID\\u002fpU9BAAAAAFCLWkEAAAAAbF9QQQAAAMAfNlxBAAAAQCiMWkEAAADAEQJXQQAAAAC330pBAAAAAJpmYUEAAADAA+FZQQAAAAA4BlNBAAAAYMZLYEEAAACA+pBSQQAAAACwrF9BAAAAQCThUUEAAAAA0DNkQQAAAAA8HVlBAAAAAEolZkEAAAAADntTQQAAAAAMbF1BAAAAQB6HX0EAAAAAdYpeQQAAAACtdFpBAAAAAH0cUEEAAAAAfENdQQAAAIBogV1BAAAAAHnaSUEAAAAAs8BcQQAAAAALpWBBAAAAAOswWkEAAABgMT5iQQAAAADrv11BAAAAgG04U0EAAAAAzFZdQQAAAADM41pBAAAAQCntVUEAAAAA6D5cQQAAAOAdb2NBAAAAQFhQVEEAAAAArqBZQQAAAMD\\u002fAmdBAAAAAK2BWkEAAADAd55UQQAAAMASHlJBAAAAgPfmU0EAAAAAKHRiQQAAAADScFlBAAAAALaeaUEAAAAAcmhWQQAAAAC17VRBAAAAwB+0VEEAAADA7CtdQQAAAACX811BAAAAQOLMX0EAAADAOJJfQQAAAMDvDGFBAAAAwH4nVUEAAAAAcgZSQQAAAACUCF5BAAAAgPP0YkEAAADA8jFYQQAAAADHumlBAAAAAGVqS0EAAAAATTZDQQAAAAB8lUlBAAAAQKUpYkEAAADAnuVYQQAAAOCnQmJBAAAAQOAeZUEAAAAASV1XQQAAAABAfzpBAAAAAMg+QkEAAABgifRgQQAAACC1MmFBAAAAgCQOZEEAAACAOhFTQQAAAEDuwmFBAAAAQB+YZEEAAACAxDBVQQAAAAAjTVhBAAAAAAeMX0EAAAAAMK5BQQAAAAAQB2FBAAAAADWjXUEAAAAAT8FTQQAAAADmyWlBAAAAAFwWW0EAAABAJjZdQQAAAAD8y2lBAAAAAJhDSUEAAAAAVThcQQAAAAC221lBAAAAQJ0XUUEAAADABRRhQQAAAAD34VZBAAAAgKsWYkEAAACA1IFjQQAAAABExl1BAAAAQFf+aUEAAACAtGNPQQAAAMCYO1tBAAAAAKGaTkEAAABAXdpSQQAAAEDKRGFBAAAAAJK2YUEAAADAT+NiQQAAAIB2gmFBAAAAgPTdYEEAAAAAJkVWQQAAAEBuEVhBAAAAQL\\u002fNWUEAAADAiGhSQQAAAAB84UVBAAAAQCmvZ0EAAAAAwxNgQQAAAID6UlFBAAAAgE2ta0EAAAAALVlJQQAAAACMpFhBAAAAwE4UWUEAAABAWdBRQQAAAABNgE1BAAAAAHyKVEEAAAAgiS1nQQAAAECiPGZBAAAAAHZ\\u002fWUEAAABA0T9VQQAAAABb7lNBAAAAgEKHX0EAAAAgsUhjQQAAAABo\\u002fGBBAAAAAEfvZEEAAAAAp69cQQAAAIAdE2NBAAAAALOZWkEAAACA3h5PQQAAAAAtJFtBAAAAwNLtZUEAAAAAKt5WQQAAAAZ1AaFBAAAAB3LRvUEAAADyNva0QQAAACjs56FBAAAAWCgVpEEAAACIhreTQQAAAJBAKLNBAAAAoMDAd0EAAABISbSmQQAAABQsfpFBAAAAnF24l0EAAAAQEc+BQQAAAAAjTDhBAAAA4pD8s0EAAAAlP6S5QQAAAMB4n1BBAAAA8NIzn0EAAACEsDuTQQAAAMjFqqBBAAAA1rXVpUEAAAAc5dKRQQAAAACSvENBAAAAYNuLh0EAAAA8PteaQQAAAAC7tDpBAAAAAMC4HUEAAACA4n9pQQAAAOAWsGJBAAAAAPg1BEEAAAAA6DpOQQAAAID5x0tBAAAAAPFVUUEAAACA+pBSQQAAAIDwpVhBAAAAAEB\\u002fOkEAAADAlu9oQQ==\"},\"type\":\"sunburst\"}],                        {\"template\":{\"data\":{\"histogram2dcontour\":[{\"type\":\"histogram2dcontour\",\"colorbar\":{\"outlinewidth\":0,\"ticks\":\"\"},\"colorscale\":[[0.0,\"#0d0887\"],[0.1111111111111111,\"#46039f\"],[0.2222222222222222,\"#7201a8\"],[0.3333333333333333,\"#9c179e\"],[0.4444444444444444,\"#bd3786\"],[0.5555555555555556,\"#d8576b\"],[0.6666666666666666,\"#ed7953\"],[0.7777777777777778,\"#fb9f3a\"],[0.8888888888888888,\"#fdca26\"],[1.0,\"#f0f921\"]]}],\"choropleth\":[{\"type\":\"choropleth\",\"colorbar\":{\"outlinewidth\":0,\"ticks\":\"\"}}],\"histogram2d\":[{\"type\":\"histogram2d\",\"colorbar\":{\"outlinewidth\":0,\"ticks\":\"\"},\"colorscale\":[[0.0,\"#0d0887\"],[0.1111111111111111,\"#46039f\"],[0.2222222222222222,\"#7201a8\"],[0.3333333333333333,\"#9c179e\"],[0.4444444444444444,\"#bd3786\"],[0.5555555555555556,\"#d8576b\"],[0.6666666666666666,\"#ed7953\"],[0.7777777777777778,\"#fb9f3a\"],[0.8888888888888888,\"#fdca26\"],[1.0,\"#f0f921\"]]}],\"heatmap\":[{\"type\":\"heatmap\",\"colorbar\":{\"outlinewidth\":0,\"ticks\":\"\"},\"colorscale\":[[0.0,\"#0d0887\"],[0.1111111111111111,\"#46039f\"],[0.2222222222222222,\"#7201a8\"],[0.3333333333333333,\"#9c179e\"],[0.4444444444444444,\"#bd3786\"],[0.5555555555555556,\"#d8576b\"],[0.6666666666666666,\"#ed7953\"],[0.7777777777777778,\"#fb9f3a\"],[0.8888888888888888,\"#fdca26\"],[1.0,\"#f0f921\"]]}],\"contourcarpet\":[{\"type\":\"contourcarpet\",\"colorbar\":{\"outlinewidth\":0,\"ticks\":\"\"}}],\"contour\":[{\"type\":\"contour\",\"colorbar\":{\"outlinewidth\":0,\"ticks\":\"\"},\"colorscale\":[[0.0,\"#0d0887\"],[0.1111111111111111,\"#46039f\"],[0.2222222222222222,\"#7201a8\"],[0.3333333333333333,\"#9c179e\"],[0.4444444444444444,\"#bd3786\"],[0.5555555555555556,\"#d8576b\"],[0.6666666666666666,\"#ed7953\"],[0.7777777777777778,\"#fb9f3a\"],[0.8888888888888888,\"#fdca26\"],[1.0,\"#f0f921\"]]}],\"surface\":[{\"type\":\"surface\",\"colorbar\":{\"outlinewidth\":0,\"ticks\":\"\"},\"colorscale\":[[0.0,\"#0d0887\"],[0.1111111111111111,\"#46039f\"],[0.2222222222222222,\"#7201a8\"],[0.3333333333333333,\"#9c179e\"],[0.4444444444444444,\"#bd3786\"],[0.5555555555555556,\"#d8576b\"],[0.6666666666666666,\"#ed7953\"],[0.7777777777777778,\"#fb9f3a\"],[0.8888888888888888,\"#fdca26\"],[1.0,\"#f0f921\"]]}],\"mesh3d\":[{\"type\":\"mesh3d\",\"colorbar\":{\"outlinewidth\":0,\"ticks\":\"\"}}],\"scatter\":[{\"fillpattern\":{\"fillmode\":\"overlay\",\"size\":10,\"solidity\":0.2},\"type\":\"scatter\"}],\"parcoords\":[{\"type\":\"parcoords\",\"line\":{\"colorbar\":{\"outlinewidth\":0,\"ticks\":\"\"}}}],\"scatterpolargl\":[{\"type\":\"scatterpolargl\",\"marker\":{\"colorbar\":{\"outlinewidth\":0,\"ticks\":\"\"}}}],\"bar\":[{\"error_x\":{\"color\":\"#2a3f5f\"},\"error_y\":{\"color\":\"#2a3f5f\"},\"marker\":{\"line\":{\"color\":\"#E5ECF6\",\"width\":0.5},\"pattern\":{\"fillmode\":\"overlay\",\"size\":10,\"solidity\":0.2}},\"type\":\"bar\"}],\"scattergeo\":[{\"type\":\"scattergeo\",\"marker\":{\"colorbar\":{\"outlinewidth\":0,\"ticks\":\"\"}}}],\"scatterpolar\":[{\"type\":\"scatterpolar\",\"marker\":{\"colorbar\":{\"outlinewidth\":0,\"ticks\":\"\"}}}],\"histogram\":[{\"marker\":{\"pattern\":{\"fillmode\":\"overlay\",\"size\":10,\"solidity\":0.2}},\"type\":\"histogram\"}],\"scattergl\":[{\"type\":\"scattergl\",\"marker\":{\"colorbar\":{\"outlinewidth\":0,\"ticks\":\"\"}}}],\"scatter3d\":[{\"type\":\"scatter3d\",\"line\":{\"colorbar\":{\"outlinewidth\":0,\"ticks\":\"\"}},\"marker\":{\"colorbar\":{\"outlinewidth\":0,\"ticks\":\"\"}}}],\"scattermap\":[{\"type\":\"scattermap\",\"marker\":{\"colorbar\":{\"outlinewidth\":0,\"ticks\":\"\"}}}],\"scattermapbox\":[{\"type\":\"scattermapbox\",\"marker\":{\"colorbar\":{\"outlinewidth\":0,\"ticks\":\"\"}}}],\"scatterternary\":[{\"type\":\"scatterternary\",\"marker\":{\"colorbar\":{\"outlinewidth\":0,\"ticks\":\"\"}}}],\"scattercarpet\":[{\"type\":\"scattercarpet\",\"marker\":{\"colorbar\":{\"outlinewidth\":0,\"ticks\":\"\"}}}],\"carpet\":[{\"aaxis\":{\"endlinecolor\":\"#2a3f5f\",\"gridcolor\":\"white\",\"linecolor\":\"white\",\"minorgridcolor\":\"white\",\"startlinecolor\":\"#2a3f5f\"},\"baxis\":{\"endlinecolor\":\"#2a3f5f\",\"gridcolor\":\"white\",\"linecolor\":\"white\",\"minorgridcolor\":\"white\",\"startlinecolor\":\"#2a3f5f\"},\"type\":\"carpet\"}],\"table\":[{\"cells\":{\"fill\":{\"color\":\"#EBF0F8\"},\"line\":{\"color\":\"white\"}},\"header\":{\"fill\":{\"color\":\"#C8D4E3\"},\"line\":{\"color\":\"white\"}},\"type\":\"table\"}],\"barpolar\":[{\"marker\":{\"line\":{\"color\":\"#E5ECF6\",\"width\":0.5},\"pattern\":{\"fillmode\":\"overlay\",\"size\":10,\"solidity\":0.2}},\"type\":\"barpolar\"}],\"pie\":[{\"automargin\":true,\"type\":\"pie\"}]},\"layout\":{\"autotypenumbers\":\"strict\",\"colorway\":[\"#636efa\",\"#EF553B\",\"#00cc96\",\"#ab63fa\",\"#FFA15A\",\"#19d3f3\",\"#FF6692\",\"#B6E880\",\"#FF97FF\",\"#FECB52\"],\"font\":{\"color\":\"#2a3f5f\"},\"hovermode\":\"closest\",\"hoverlabel\":{\"align\":\"left\"},\"paper_bgcolor\":\"white\",\"plot_bgcolor\":\"#E5ECF6\",\"polar\":{\"bgcolor\":\"#E5ECF6\",\"angularaxis\":{\"gridcolor\":\"white\",\"linecolor\":\"white\",\"ticks\":\"\"},\"radialaxis\":{\"gridcolor\":\"white\",\"linecolor\":\"white\",\"ticks\":\"\"}},\"ternary\":{\"bgcolor\":\"#E5ECF6\",\"aaxis\":{\"gridcolor\":\"white\",\"linecolor\":\"white\",\"ticks\":\"\"},\"baxis\":{\"gridcolor\":\"white\",\"linecolor\":\"white\",\"ticks\":\"\"},\"caxis\":{\"gridcolor\":\"white\",\"linecolor\":\"white\",\"ticks\":\"\"}},\"coloraxis\":{\"colorbar\":{\"outlinewidth\":0,\"ticks\":\"\"}},\"colorscale\":{\"sequential\":[[0.0,\"#0d0887\"],[0.1111111111111111,\"#46039f\"],[0.2222222222222222,\"#7201a8\"],[0.3333333333333333,\"#9c179e\"],[0.4444444444444444,\"#bd3786\"],[0.5555555555555556,\"#d8576b\"],[0.6666666666666666,\"#ed7953\"],[0.7777777777777778,\"#fb9f3a\"],[0.8888888888888888,\"#fdca26\"],[1.0,\"#f0f921\"]],\"sequentialminus\":[[0.0,\"#0d0887\"],[0.1111111111111111,\"#46039f\"],[0.2222222222222222,\"#7201a8\"],[0.3333333333333333,\"#9c179e\"],[0.4444444444444444,\"#bd3786\"],[0.5555555555555556,\"#d8576b\"],[0.6666666666666666,\"#ed7953\"],[0.7777777777777778,\"#fb9f3a\"],[0.8888888888888888,\"#fdca26\"],[1.0,\"#f0f921\"]],\"diverging\":[[0,\"#8e0152\"],[0.1,\"#c51b7d\"],[0.2,\"#de77ae\"],[0.3,\"#f1b6da\"],[0.4,\"#fde0ef\"],[0.5,\"#f7f7f7\"],[0.6,\"#e6f5d0\"],[0.7,\"#b8e186\"],[0.8,\"#7fbc41\"],[0.9,\"#4d9221\"],[1,\"#276419\"]]},\"xaxis\":{\"gridcolor\":\"white\",\"linecolor\":\"white\",\"ticks\":\"\",\"title\":{\"standoff\":15},\"zerolinecolor\":\"white\",\"automargin\":true,\"zerolinewidth\":2},\"yaxis\":{\"gridcolor\":\"white\",\"linecolor\":\"white\",\"ticks\":\"\",\"title\":{\"standoff\":15},\"zerolinecolor\":\"white\",\"automargin\":true,\"zerolinewidth\":2},\"scene\":{\"xaxis\":{\"backgroundcolor\":\"#E5ECF6\",\"gridcolor\":\"white\",\"linecolor\":\"white\",\"showbackground\":true,\"ticks\":\"\",\"zerolinecolor\":\"white\",\"gridwidth\":2},\"yaxis\":{\"backgroundcolor\":\"#E5ECF6\",\"gridcolor\":\"white\",\"linecolor\":\"white\",\"showbackground\":true,\"ticks\":\"\",\"zerolinecolor\":\"white\",\"gridwidth\":2},\"zaxis\":{\"backgroundcolor\":\"#E5ECF6\",\"gridcolor\":\"white\",\"linecolor\":\"white\",\"showbackground\":true,\"ticks\":\"\",\"zerolinecolor\":\"white\",\"gridwidth\":2}},\"shapedefaults\":{\"line\":{\"color\":\"#2a3f5f\"}},\"annotationdefaults\":{\"arrowcolor\":\"#2a3f5f\",\"arrowhead\":0,\"arrowwidth\":1},\"geo\":{\"bgcolor\":\"white\",\"landcolor\":\"#E5ECF6\",\"subunitcolor\":\"white\",\"showland\":true,\"showlakes\":true,\"lakecolor\":\"white\"},\"title\":{\"x\":0.05},\"mapbox\":{\"style\":\"light\"}}},\"coloraxis\":{\"colorbar\":{\"title\":{\"text\":\"TOTAL ELECTORS\"}},\"colorscale\":[[0.0,\"#000004\"],[0.1111111111111111,\"#1b0c41\"],[0.2222222222222222,\"#4a0c6b\"],[0.3333333333333333,\"#781c6d\"],[0.4444444444444444,\"#a52c60\"],[0.5555555555555556,\"#cf4446\"],[0.6666666666666666,\"#ed6925\"],[0.7777777777777778,\"#fb9b06\"],[0.8888888888888888,\"#f7d13d\"],[1.0,\"#fcffa4\"]]},\"legend\":{\"tracegroupgap\":0},\"margin\":{\"t\":60},\"title\":{\"text\":\"Sunburst Image of State and Constituency by Voters\"}},                        {\"responsive\": true}                    ).then(function(){\n",
       "                            \n",
       "var gd = document.getElementById('7c83fff0-d128-4171-87a7-7c4ba71aa4b3');\n",
       "var x = new MutationObserver(function (mutations, observer) {{\n",
       "        var display = window.getComputedStyle(gd).display;\n",
       "        if (!display || display === 'none') {{\n",
       "            console.log([gd, 'removed!']);\n",
       "            Plotly.purge(gd);\n",
       "            observer.disconnect();\n",
       "        }}\n",
       "}});\n",
       "\n",
       "// Listen for the removal of the full notebook cells\n",
       "var notebookContainer = gd.closest('#notebook-container');\n",
       "if (notebookContainer) {{\n",
       "    x.observe(notebookContainer, {childList: true});\n",
       "}}\n",
       "\n",
       "// Listen for the clearing of the current output cell\n",
       "var outputEl = gd.closest('.output');\n",
       "if (outputEl) {{\n",
       "    x.observe(outputEl, {childList: true});\n",
       "}}\n",
       "\n",
       "                        })                };            </script>        </div>"
      ]
     },
     "metadata": {},
     "output_type": "display_data"
    }
   ],
   "source": [
    "st_con_vt=vote[['STATE','CONSTITUENCY','TOTAL ELECTORS']]\n",
    "\n",
    "fig = px.sunburst(st_con_vt, path=['STATE','CONSTITUENCY'], values='TOTAL ELECTORS',\n",
    "                  color='TOTAL ELECTORS',\n",
    "                  color_continuous_scale='Inferno')\n",
    "\n",
    "fig.update_layout(title_text='Sunburst Image of State and Constituency by Voters')\n",
    "fig.show()"
   ]
  },
  {
   "cell_type": "markdown",
   "id": "6f80b0bf",
   "metadata": {},
   "source": [
    "#### Which party has won the most constituencies?"
   ]
  },
  {
   "cell_type": "code",
   "execution_count": 17,
   "id": "bd48d193",
   "metadata": {},
   "outputs": [
    {
     "name": "stderr",
     "output_type": "stream",
     "text": [
      "C:\\Users\\AbhiLoki\\AppData\\Local\\Temp\\ipykernel_1204\\453846549.py:1: DeprecationWarning:\n",
      "\n",
      "DataFrameGroupBy.apply operated on the grouping columns. This behavior is deprecated, and in a future version of pandas the grouping columns will be excluded from the operation. Either pass `include_groups=False` to exclude the groupings or explicitly select the grouping columns after groupby to silence this warning.\n",
      "\n"
     ]
    },
    {
     "data": {
      "application/vnd.plotly.v1+json": {
       "config": {
        "plotlyServerURL": "https://plot.ly"
       },
       "data": [
        {
         "hovertemplate": "PARTY=%{x}<br># Wins=%{marker.color}<extra></extra>",
         "legendgroup": "",
         "marker": {
          "color": {
           "bdata": "LAE0ABcAFgAWABIAEAALAAsACQAGAAUABQAFAAQA",
           "dtype": "i2"
          },
          "coloraxis": "coloraxis",
          "pattern": {
           "shape": ""
          }
         },
         "name": "",
         "orientation": "v",
         "showlegend": false,
         "textposition": "auto",
         "type": "bar",
         "x": [
          "BJP",
          "INC",
          "DMK",
          "AITC",
          "YSRCP",
          "SHS",
          "JD(U)",
          "BSP",
          "BJD",
          "TRS",
          "LJP",
          "NCP",
          "SP",
          "CPI(M)",
          "IND"
         ],
         "xaxis": "x",
         "y": {
          "bdata": "LAE0ABcAFgAWABIAEAALAAsACQAGAAUABQAFAAQA",
          "dtype": "i2"
         },
         "yaxis": "y"
        }
       ],
       "layout": {
        "barmode": "relative",
        "coloraxis": {
         "colorbar": {
          "title": {
           "text": "# Wins"
          }
         },
         "colorscale": [
          [
           0,
           "#0d0887"
          ],
          [
           0.1111111111111111,
           "#46039f"
          ],
          [
           0.2222222222222222,
           "#7201a8"
          ],
          [
           0.3333333333333333,
           "#9c179e"
          ],
          [
           0.4444444444444444,
           "#bd3786"
          ],
          [
           0.5555555555555556,
           "#d8576b"
          ],
          [
           0.6666666666666666,
           "#ed7953"
          ],
          [
           0.7777777777777778,
           "#fb9f3a"
          ],
          [
           0.8888888888888888,
           "#fdca26"
          ],
          [
           1,
           "#f0f921"
          ]
         ]
        },
        "legend": {
         "tracegroupgap": 0
        },
        "template": {
         "data": {
          "bar": [
           {
            "error_x": {
             "color": "#2a3f5f"
            },
            "error_y": {
             "color": "#2a3f5f"
            },
            "marker": {
             "line": {
              "color": "#E5ECF6",
              "width": 0.5
             },
             "pattern": {
              "fillmode": "overlay",
              "size": 10,
              "solidity": 0.2
             }
            },
            "type": "bar"
           }
          ],
          "barpolar": [
           {
            "marker": {
             "line": {
              "color": "#E5ECF6",
              "width": 0.5
             },
             "pattern": {
              "fillmode": "overlay",
              "size": 10,
              "solidity": 0.2
             }
            },
            "type": "barpolar"
           }
          ],
          "carpet": [
           {
            "aaxis": {
             "endlinecolor": "#2a3f5f",
             "gridcolor": "white",
             "linecolor": "white",
             "minorgridcolor": "white",
             "startlinecolor": "#2a3f5f"
            },
            "baxis": {
             "endlinecolor": "#2a3f5f",
             "gridcolor": "white",
             "linecolor": "white",
             "minorgridcolor": "white",
             "startlinecolor": "#2a3f5f"
            },
            "type": "carpet"
           }
          ],
          "choropleth": [
           {
            "colorbar": {
             "outlinewidth": 0,
             "ticks": ""
            },
            "type": "choropleth"
           }
          ],
          "contour": [
           {
            "colorbar": {
             "outlinewidth": 0,
             "ticks": ""
            },
            "colorscale": [
             [
              0,
              "#0d0887"
             ],
             [
              0.1111111111111111,
              "#46039f"
             ],
             [
              0.2222222222222222,
              "#7201a8"
             ],
             [
              0.3333333333333333,
              "#9c179e"
             ],
             [
              0.4444444444444444,
              "#bd3786"
             ],
             [
              0.5555555555555556,
              "#d8576b"
             ],
             [
              0.6666666666666666,
              "#ed7953"
             ],
             [
              0.7777777777777778,
              "#fb9f3a"
             ],
             [
              0.8888888888888888,
              "#fdca26"
             ],
             [
              1,
              "#f0f921"
             ]
            ],
            "type": "contour"
           }
          ],
          "contourcarpet": [
           {
            "colorbar": {
             "outlinewidth": 0,
             "ticks": ""
            },
            "type": "contourcarpet"
           }
          ],
          "heatmap": [
           {
            "colorbar": {
             "outlinewidth": 0,
             "ticks": ""
            },
            "colorscale": [
             [
              0,
              "#0d0887"
             ],
             [
              0.1111111111111111,
              "#46039f"
             ],
             [
              0.2222222222222222,
              "#7201a8"
             ],
             [
              0.3333333333333333,
              "#9c179e"
             ],
             [
              0.4444444444444444,
              "#bd3786"
             ],
             [
              0.5555555555555556,
              "#d8576b"
             ],
             [
              0.6666666666666666,
              "#ed7953"
             ],
             [
              0.7777777777777778,
              "#fb9f3a"
             ],
             [
              0.8888888888888888,
              "#fdca26"
             ],
             [
              1,
              "#f0f921"
             ]
            ],
            "type": "heatmap"
           }
          ],
          "histogram": [
           {
            "marker": {
             "pattern": {
              "fillmode": "overlay",
              "size": 10,
              "solidity": 0.2
             }
            },
            "type": "histogram"
           }
          ],
          "histogram2d": [
           {
            "colorbar": {
             "outlinewidth": 0,
             "ticks": ""
            },
            "colorscale": [
             [
              0,
              "#0d0887"
             ],
             [
              0.1111111111111111,
              "#46039f"
             ],
             [
              0.2222222222222222,
              "#7201a8"
             ],
             [
              0.3333333333333333,
              "#9c179e"
             ],
             [
              0.4444444444444444,
              "#bd3786"
             ],
             [
              0.5555555555555556,
              "#d8576b"
             ],
             [
              0.6666666666666666,
              "#ed7953"
             ],
             [
              0.7777777777777778,
              "#fb9f3a"
             ],
             [
              0.8888888888888888,
              "#fdca26"
             ],
             [
              1,
              "#f0f921"
             ]
            ],
            "type": "histogram2d"
           }
          ],
          "histogram2dcontour": [
           {
            "colorbar": {
             "outlinewidth": 0,
             "ticks": ""
            },
            "colorscale": [
             [
              0,
              "#0d0887"
             ],
             [
              0.1111111111111111,
              "#46039f"
             ],
             [
              0.2222222222222222,
              "#7201a8"
             ],
             [
              0.3333333333333333,
              "#9c179e"
             ],
             [
              0.4444444444444444,
              "#bd3786"
             ],
             [
              0.5555555555555556,
              "#d8576b"
             ],
             [
              0.6666666666666666,
              "#ed7953"
             ],
             [
              0.7777777777777778,
              "#fb9f3a"
             ],
             [
              0.8888888888888888,
              "#fdca26"
             ],
             [
              1,
              "#f0f921"
             ]
            ],
            "type": "histogram2dcontour"
           }
          ],
          "mesh3d": [
           {
            "colorbar": {
             "outlinewidth": 0,
             "ticks": ""
            },
            "type": "mesh3d"
           }
          ],
          "parcoords": [
           {
            "line": {
             "colorbar": {
              "outlinewidth": 0,
              "ticks": ""
             }
            },
            "type": "parcoords"
           }
          ],
          "pie": [
           {
            "automargin": true,
            "type": "pie"
           }
          ],
          "scatter": [
           {
            "fillpattern": {
             "fillmode": "overlay",
             "size": 10,
             "solidity": 0.2
            },
            "type": "scatter"
           }
          ],
          "scatter3d": [
           {
            "line": {
             "colorbar": {
              "outlinewidth": 0,
              "ticks": ""
             }
            },
            "marker": {
             "colorbar": {
              "outlinewidth": 0,
              "ticks": ""
             }
            },
            "type": "scatter3d"
           }
          ],
          "scattercarpet": [
           {
            "marker": {
             "colorbar": {
              "outlinewidth": 0,
              "ticks": ""
             }
            },
            "type": "scattercarpet"
           }
          ],
          "scattergeo": [
           {
            "marker": {
             "colorbar": {
              "outlinewidth": 0,
              "ticks": ""
             }
            },
            "type": "scattergeo"
           }
          ],
          "scattergl": [
           {
            "marker": {
             "colorbar": {
              "outlinewidth": 0,
              "ticks": ""
             }
            },
            "type": "scattergl"
           }
          ],
          "scattermap": [
           {
            "marker": {
             "colorbar": {
              "outlinewidth": 0,
              "ticks": ""
             }
            },
            "type": "scattermap"
           }
          ],
          "scattermapbox": [
           {
            "marker": {
             "colorbar": {
              "outlinewidth": 0,
              "ticks": ""
             }
            },
            "type": "scattermapbox"
           }
          ],
          "scatterpolar": [
           {
            "marker": {
             "colorbar": {
              "outlinewidth": 0,
              "ticks": ""
             }
            },
            "type": "scatterpolar"
           }
          ],
          "scatterpolargl": [
           {
            "marker": {
             "colorbar": {
              "outlinewidth": 0,
              "ticks": ""
             }
            },
            "type": "scatterpolargl"
           }
          ],
          "scatterternary": [
           {
            "marker": {
             "colorbar": {
              "outlinewidth": 0,
              "ticks": ""
             }
            },
            "type": "scatterternary"
           }
          ],
          "surface": [
           {
            "colorbar": {
             "outlinewidth": 0,
             "ticks": ""
            },
            "colorscale": [
             [
              0,
              "#0d0887"
             ],
             [
              0.1111111111111111,
              "#46039f"
             ],
             [
              0.2222222222222222,
              "#7201a8"
             ],
             [
              0.3333333333333333,
              "#9c179e"
             ],
             [
              0.4444444444444444,
              "#bd3786"
             ],
             [
              0.5555555555555556,
              "#d8576b"
             ],
             [
              0.6666666666666666,
              "#ed7953"
             ],
             [
              0.7777777777777778,
              "#fb9f3a"
             ],
             [
              0.8888888888888888,
              "#fdca26"
             ],
             [
              1,
              "#f0f921"
             ]
            ],
            "type": "surface"
           }
          ],
          "table": [
           {
            "cells": {
             "fill": {
              "color": "#EBF0F8"
             },
             "line": {
              "color": "white"
             }
            },
            "header": {
             "fill": {
              "color": "#C8D4E3"
             },
             "line": {
              "color": "white"
             }
            },
            "type": "table"
           }
          ]
         },
         "layout": {
          "annotationdefaults": {
           "arrowcolor": "#2a3f5f",
           "arrowhead": 0,
           "arrowwidth": 1
          },
          "autotypenumbers": "strict",
          "coloraxis": {
           "colorbar": {
            "outlinewidth": 0,
            "ticks": ""
           }
          },
          "colorscale": {
           "diverging": [
            [
             0,
             "#8e0152"
            ],
            [
             0.1,
             "#c51b7d"
            ],
            [
             0.2,
             "#de77ae"
            ],
            [
             0.3,
             "#f1b6da"
            ],
            [
             0.4,
             "#fde0ef"
            ],
            [
             0.5,
             "#f7f7f7"
            ],
            [
             0.6,
             "#e6f5d0"
            ],
            [
             0.7,
             "#b8e186"
            ],
            [
             0.8,
             "#7fbc41"
            ],
            [
             0.9,
             "#4d9221"
            ],
            [
             1,
             "#276419"
            ]
           ],
           "sequential": [
            [
             0,
             "#0d0887"
            ],
            [
             0.1111111111111111,
             "#46039f"
            ],
            [
             0.2222222222222222,
             "#7201a8"
            ],
            [
             0.3333333333333333,
             "#9c179e"
            ],
            [
             0.4444444444444444,
             "#bd3786"
            ],
            [
             0.5555555555555556,
             "#d8576b"
            ],
            [
             0.6666666666666666,
             "#ed7953"
            ],
            [
             0.7777777777777778,
             "#fb9f3a"
            ],
            [
             0.8888888888888888,
             "#fdca26"
            ],
            [
             1,
             "#f0f921"
            ]
           ],
           "sequentialminus": [
            [
             0,
             "#0d0887"
            ],
            [
             0.1111111111111111,
             "#46039f"
            ],
            [
             0.2222222222222222,
             "#7201a8"
            ],
            [
             0.3333333333333333,
             "#9c179e"
            ],
            [
             0.4444444444444444,
             "#bd3786"
            ],
            [
             0.5555555555555556,
             "#d8576b"
            ],
            [
             0.6666666666666666,
             "#ed7953"
            ],
            [
             0.7777777777777778,
             "#fb9f3a"
            ],
            [
             0.8888888888888888,
             "#fdca26"
            ],
            [
             1,
             "#f0f921"
            ]
           ]
          },
          "colorway": [
           "#636efa",
           "#EF553B",
           "#00cc96",
           "#ab63fa",
           "#FFA15A",
           "#19d3f3",
           "#FF6692",
           "#B6E880",
           "#FF97FF",
           "#FECB52"
          ],
          "font": {
           "color": "#2a3f5f"
          },
          "geo": {
           "bgcolor": "white",
           "lakecolor": "white",
           "landcolor": "#E5ECF6",
           "showlakes": true,
           "showland": true,
           "subunitcolor": "white"
          },
          "hoverlabel": {
           "align": "left"
          },
          "hovermode": "closest",
          "mapbox": {
           "style": "light"
          },
          "paper_bgcolor": "white",
          "plot_bgcolor": "#E5ECF6",
          "polar": {
           "angularaxis": {
            "gridcolor": "white",
            "linecolor": "white",
            "ticks": ""
           },
           "bgcolor": "#E5ECF6",
           "radialaxis": {
            "gridcolor": "white",
            "linecolor": "white",
            "ticks": ""
           }
          },
          "scene": {
           "xaxis": {
            "backgroundcolor": "#E5ECF6",
            "gridcolor": "white",
            "gridwidth": 2,
            "linecolor": "white",
            "showbackground": true,
            "ticks": "",
            "zerolinecolor": "white"
           },
           "yaxis": {
            "backgroundcolor": "#E5ECF6",
            "gridcolor": "white",
            "gridwidth": 2,
            "linecolor": "white",
            "showbackground": true,
            "ticks": "",
            "zerolinecolor": "white"
           },
           "zaxis": {
            "backgroundcolor": "#E5ECF6",
            "gridcolor": "white",
            "gridwidth": 2,
            "linecolor": "white",
            "showbackground": true,
            "ticks": "",
            "zerolinecolor": "white"
           }
          },
          "shapedefaults": {
           "line": {
            "color": "#2a3f5f"
           }
          },
          "ternary": {
           "aaxis": {
            "gridcolor": "white",
            "linecolor": "white",
            "ticks": ""
           },
           "baxis": {
            "gridcolor": "white",
            "linecolor": "white",
            "ticks": ""
           },
           "bgcolor": "#E5ECF6",
           "caxis": {
            "gridcolor": "white",
            "linecolor": "white",
            "ticks": ""
           }
          },
          "title": {
           "x": 0.05
          },
          "xaxis": {
           "automargin": true,
           "gridcolor": "white",
           "linecolor": "white",
           "ticks": "",
           "title": {
            "standoff": 15
           },
           "zerolinecolor": "white",
           "zerolinewidth": 2
          },
          "yaxis": {
           "automargin": true,
           "gridcolor": "white",
           "linecolor": "white",
           "ticks": "",
           "title": {
            "standoff": 15
           },
           "zerolinecolor": "white",
           "zerolinewidth": 2
          }
         }
        },
        "title": {
         "text": "Win Counts by a Political Party in 2019"
        },
        "xaxis": {
         "anchor": "y",
         "domain": [
          0,
          1
         ],
         "title": {
          "text": "PARTY"
         }
        },
        "yaxis": {
         "anchor": "x",
         "domain": [
          0,
          1
         ],
         "title": {
          "text": "# Wins"
         }
        }
       }
      },
      "text/html": [
       "<div>            <script src=\"https://cdnjs.cloudflare.com/ajax/libs/mathjax/2.7.5/MathJax.js?config=TeX-AMS-MML_SVG\"></script><script type=\"text/javascript\">if (window.MathJax && window.MathJax.Hub && window.MathJax.Hub.Config) {window.MathJax.Hub.Config({SVG: {font: \"STIX-Web\"}});}</script>                <script type=\"text/javascript\">window.PlotlyConfig = {MathJaxConfig: 'local'};</script>\n",
       "        <script charset=\"utf-8\" src=\"https://cdn.plot.ly/plotly-3.0.1.min.js\"></script>                <div id=\"0c26a72f-8a39-4af8-9318-7f52118bffd6\" class=\"plotly-graph-div\" style=\"height:525px; width:100%;\"></div>            <script type=\"text/javascript\">                window.PLOTLYENV=window.PLOTLYENV || {};                                if (document.getElementById(\"0c26a72f-8a39-4af8-9318-7f52118bffd6\")) {                    Plotly.newPlot(                        \"0c26a72f-8a39-4af8-9318-7f52118bffd6\",                        [{\"hovertemplate\":\"PARTY=%{x}\\u003cbr\\u003e# Wins=%{marker.color}\\u003cextra\\u003e\\u003c\\u002fextra\\u003e\",\"legendgroup\":\"\",\"marker\":{\"color\":{\"dtype\":\"i2\",\"bdata\":\"LAE0ABcAFgAWABIAEAALAAsACQAGAAUABQAFAAQA\"},\"coloraxis\":\"coloraxis\",\"pattern\":{\"shape\":\"\"}},\"name\":\"\",\"orientation\":\"v\",\"showlegend\":false,\"textposition\":\"auto\",\"x\":[\"BJP\",\"INC\",\"DMK\",\"AITC\",\"YSRCP\",\"SHS\",\"JD(U)\",\"BSP\",\"BJD\",\"TRS\",\"LJP\",\"NCP\",\"SP\",\"CPI(M)\",\"IND\"],\"xaxis\":\"x\",\"y\":{\"dtype\":\"i2\",\"bdata\":\"LAE0ABcAFgAWABIAEAALAAsACQAGAAUABQAFAAQA\"},\"yaxis\":\"y\",\"type\":\"bar\"}],                        {\"template\":{\"data\":{\"histogram2dcontour\":[{\"type\":\"histogram2dcontour\",\"colorbar\":{\"outlinewidth\":0,\"ticks\":\"\"},\"colorscale\":[[0.0,\"#0d0887\"],[0.1111111111111111,\"#46039f\"],[0.2222222222222222,\"#7201a8\"],[0.3333333333333333,\"#9c179e\"],[0.4444444444444444,\"#bd3786\"],[0.5555555555555556,\"#d8576b\"],[0.6666666666666666,\"#ed7953\"],[0.7777777777777778,\"#fb9f3a\"],[0.8888888888888888,\"#fdca26\"],[1.0,\"#f0f921\"]]}],\"choropleth\":[{\"type\":\"choropleth\",\"colorbar\":{\"outlinewidth\":0,\"ticks\":\"\"}}],\"histogram2d\":[{\"type\":\"histogram2d\",\"colorbar\":{\"outlinewidth\":0,\"ticks\":\"\"},\"colorscale\":[[0.0,\"#0d0887\"],[0.1111111111111111,\"#46039f\"],[0.2222222222222222,\"#7201a8\"],[0.3333333333333333,\"#9c179e\"],[0.4444444444444444,\"#bd3786\"],[0.5555555555555556,\"#d8576b\"],[0.6666666666666666,\"#ed7953\"],[0.7777777777777778,\"#fb9f3a\"],[0.8888888888888888,\"#fdca26\"],[1.0,\"#f0f921\"]]}],\"heatmap\":[{\"type\":\"heatmap\",\"colorbar\":{\"outlinewidth\":0,\"ticks\":\"\"},\"colorscale\":[[0.0,\"#0d0887\"],[0.1111111111111111,\"#46039f\"],[0.2222222222222222,\"#7201a8\"],[0.3333333333333333,\"#9c179e\"],[0.4444444444444444,\"#bd3786\"],[0.5555555555555556,\"#d8576b\"],[0.6666666666666666,\"#ed7953\"],[0.7777777777777778,\"#fb9f3a\"],[0.8888888888888888,\"#fdca26\"],[1.0,\"#f0f921\"]]}],\"contourcarpet\":[{\"type\":\"contourcarpet\",\"colorbar\":{\"outlinewidth\":0,\"ticks\":\"\"}}],\"contour\":[{\"type\":\"contour\",\"colorbar\":{\"outlinewidth\":0,\"ticks\":\"\"},\"colorscale\":[[0.0,\"#0d0887\"],[0.1111111111111111,\"#46039f\"],[0.2222222222222222,\"#7201a8\"],[0.3333333333333333,\"#9c179e\"],[0.4444444444444444,\"#bd3786\"],[0.5555555555555556,\"#d8576b\"],[0.6666666666666666,\"#ed7953\"],[0.7777777777777778,\"#fb9f3a\"],[0.8888888888888888,\"#fdca26\"],[1.0,\"#f0f921\"]]}],\"surface\":[{\"type\":\"surface\",\"colorbar\":{\"outlinewidth\":0,\"ticks\":\"\"},\"colorscale\":[[0.0,\"#0d0887\"],[0.1111111111111111,\"#46039f\"],[0.2222222222222222,\"#7201a8\"],[0.3333333333333333,\"#9c179e\"],[0.4444444444444444,\"#bd3786\"],[0.5555555555555556,\"#d8576b\"],[0.6666666666666666,\"#ed7953\"],[0.7777777777777778,\"#fb9f3a\"],[0.8888888888888888,\"#fdca26\"],[1.0,\"#f0f921\"]]}],\"mesh3d\":[{\"type\":\"mesh3d\",\"colorbar\":{\"outlinewidth\":0,\"ticks\":\"\"}}],\"scatter\":[{\"fillpattern\":{\"fillmode\":\"overlay\",\"size\":10,\"solidity\":0.2},\"type\":\"scatter\"}],\"parcoords\":[{\"type\":\"parcoords\",\"line\":{\"colorbar\":{\"outlinewidth\":0,\"ticks\":\"\"}}}],\"scatterpolargl\":[{\"type\":\"scatterpolargl\",\"marker\":{\"colorbar\":{\"outlinewidth\":0,\"ticks\":\"\"}}}],\"bar\":[{\"error_x\":{\"color\":\"#2a3f5f\"},\"error_y\":{\"color\":\"#2a3f5f\"},\"marker\":{\"line\":{\"color\":\"#E5ECF6\",\"width\":0.5},\"pattern\":{\"fillmode\":\"overlay\",\"size\":10,\"solidity\":0.2}},\"type\":\"bar\"}],\"scattergeo\":[{\"type\":\"scattergeo\",\"marker\":{\"colorbar\":{\"outlinewidth\":0,\"ticks\":\"\"}}}],\"scatterpolar\":[{\"type\":\"scatterpolar\",\"marker\":{\"colorbar\":{\"outlinewidth\":0,\"ticks\":\"\"}}}],\"histogram\":[{\"marker\":{\"pattern\":{\"fillmode\":\"overlay\",\"size\":10,\"solidity\":0.2}},\"type\":\"histogram\"}],\"scattergl\":[{\"type\":\"scattergl\",\"marker\":{\"colorbar\":{\"outlinewidth\":0,\"ticks\":\"\"}}}],\"scatter3d\":[{\"type\":\"scatter3d\",\"line\":{\"colorbar\":{\"outlinewidth\":0,\"ticks\":\"\"}},\"marker\":{\"colorbar\":{\"outlinewidth\":0,\"ticks\":\"\"}}}],\"scattermap\":[{\"type\":\"scattermap\",\"marker\":{\"colorbar\":{\"outlinewidth\":0,\"ticks\":\"\"}}}],\"scattermapbox\":[{\"type\":\"scattermapbox\",\"marker\":{\"colorbar\":{\"outlinewidth\":0,\"ticks\":\"\"}}}],\"scatterternary\":[{\"type\":\"scatterternary\",\"marker\":{\"colorbar\":{\"outlinewidth\":0,\"ticks\":\"\"}}}],\"scattercarpet\":[{\"type\":\"scattercarpet\",\"marker\":{\"colorbar\":{\"outlinewidth\":0,\"ticks\":\"\"}}}],\"carpet\":[{\"aaxis\":{\"endlinecolor\":\"#2a3f5f\",\"gridcolor\":\"white\",\"linecolor\":\"white\",\"minorgridcolor\":\"white\",\"startlinecolor\":\"#2a3f5f\"},\"baxis\":{\"endlinecolor\":\"#2a3f5f\",\"gridcolor\":\"white\",\"linecolor\":\"white\",\"minorgridcolor\":\"white\",\"startlinecolor\":\"#2a3f5f\"},\"type\":\"carpet\"}],\"table\":[{\"cells\":{\"fill\":{\"color\":\"#EBF0F8\"},\"line\":{\"color\":\"white\"}},\"header\":{\"fill\":{\"color\":\"#C8D4E3\"},\"line\":{\"color\":\"white\"}},\"type\":\"table\"}],\"barpolar\":[{\"marker\":{\"line\":{\"color\":\"#E5ECF6\",\"width\":0.5},\"pattern\":{\"fillmode\":\"overlay\",\"size\":10,\"solidity\":0.2}},\"type\":\"barpolar\"}],\"pie\":[{\"automargin\":true,\"type\":\"pie\"}]},\"layout\":{\"autotypenumbers\":\"strict\",\"colorway\":[\"#636efa\",\"#EF553B\",\"#00cc96\",\"#ab63fa\",\"#FFA15A\",\"#19d3f3\",\"#FF6692\",\"#B6E880\",\"#FF97FF\",\"#FECB52\"],\"font\":{\"color\":\"#2a3f5f\"},\"hovermode\":\"closest\",\"hoverlabel\":{\"align\":\"left\"},\"paper_bgcolor\":\"white\",\"plot_bgcolor\":\"#E5ECF6\",\"polar\":{\"bgcolor\":\"#E5ECF6\",\"angularaxis\":{\"gridcolor\":\"white\",\"linecolor\":\"white\",\"ticks\":\"\"},\"radialaxis\":{\"gridcolor\":\"white\",\"linecolor\":\"white\",\"ticks\":\"\"}},\"ternary\":{\"bgcolor\":\"#E5ECF6\",\"aaxis\":{\"gridcolor\":\"white\",\"linecolor\":\"white\",\"ticks\":\"\"},\"baxis\":{\"gridcolor\":\"white\",\"linecolor\":\"white\",\"ticks\":\"\"},\"caxis\":{\"gridcolor\":\"white\",\"linecolor\":\"white\",\"ticks\":\"\"}},\"coloraxis\":{\"colorbar\":{\"outlinewidth\":0,\"ticks\":\"\"}},\"colorscale\":{\"sequential\":[[0.0,\"#0d0887\"],[0.1111111111111111,\"#46039f\"],[0.2222222222222222,\"#7201a8\"],[0.3333333333333333,\"#9c179e\"],[0.4444444444444444,\"#bd3786\"],[0.5555555555555556,\"#d8576b\"],[0.6666666666666666,\"#ed7953\"],[0.7777777777777778,\"#fb9f3a\"],[0.8888888888888888,\"#fdca26\"],[1.0,\"#f0f921\"]],\"sequentialminus\":[[0.0,\"#0d0887\"],[0.1111111111111111,\"#46039f\"],[0.2222222222222222,\"#7201a8\"],[0.3333333333333333,\"#9c179e\"],[0.4444444444444444,\"#bd3786\"],[0.5555555555555556,\"#d8576b\"],[0.6666666666666666,\"#ed7953\"],[0.7777777777777778,\"#fb9f3a\"],[0.8888888888888888,\"#fdca26\"],[1.0,\"#f0f921\"]],\"diverging\":[[0,\"#8e0152\"],[0.1,\"#c51b7d\"],[0.2,\"#de77ae\"],[0.3,\"#f1b6da\"],[0.4,\"#fde0ef\"],[0.5,\"#f7f7f7\"],[0.6,\"#e6f5d0\"],[0.7,\"#b8e186\"],[0.8,\"#7fbc41\"],[0.9,\"#4d9221\"],[1,\"#276419\"]]},\"xaxis\":{\"gridcolor\":\"white\",\"linecolor\":\"white\",\"ticks\":\"\",\"title\":{\"standoff\":15},\"zerolinecolor\":\"white\",\"automargin\":true,\"zerolinewidth\":2},\"yaxis\":{\"gridcolor\":\"white\",\"linecolor\":\"white\",\"ticks\":\"\",\"title\":{\"standoff\":15},\"zerolinecolor\":\"white\",\"automargin\":true,\"zerolinewidth\":2},\"scene\":{\"xaxis\":{\"backgroundcolor\":\"#E5ECF6\",\"gridcolor\":\"white\",\"linecolor\":\"white\",\"showbackground\":true,\"ticks\":\"\",\"zerolinecolor\":\"white\",\"gridwidth\":2},\"yaxis\":{\"backgroundcolor\":\"#E5ECF6\",\"gridcolor\":\"white\",\"linecolor\":\"white\",\"showbackground\":true,\"ticks\":\"\",\"zerolinecolor\":\"white\",\"gridwidth\":2},\"zaxis\":{\"backgroundcolor\":\"#E5ECF6\",\"gridcolor\":\"white\",\"linecolor\":\"white\",\"showbackground\":true,\"ticks\":\"\",\"zerolinecolor\":\"white\",\"gridwidth\":2}},\"shapedefaults\":{\"line\":{\"color\":\"#2a3f5f\"}},\"annotationdefaults\":{\"arrowcolor\":\"#2a3f5f\",\"arrowhead\":0,\"arrowwidth\":1},\"geo\":{\"bgcolor\":\"white\",\"landcolor\":\"#E5ECF6\",\"subunitcolor\":\"white\",\"showland\":true,\"showlakes\":true,\"lakecolor\":\"white\"},\"title\":{\"x\":0.05},\"mapbox\":{\"style\":\"light\"}}},\"xaxis\":{\"anchor\":\"y\",\"domain\":[0.0,1.0],\"title\":{\"text\":\"PARTY\"}},\"yaxis\":{\"anchor\":\"x\",\"domain\":[0.0,1.0],\"title\":{\"text\":\"# Wins\"}},\"coloraxis\":{\"colorbar\":{\"title\":{\"text\":\"# Wins\"}},\"colorscale\":[[0.0,\"#0d0887\"],[0.1111111111111111,\"#46039f\"],[0.2222222222222222,\"#7201a8\"],[0.3333333333333333,\"#9c179e\"],[0.4444444444444444,\"#bd3786\"],[0.5555555555555556,\"#d8576b\"],[0.6666666666666666,\"#ed7953\"],[0.7777777777777778,\"#fb9f3a\"],[0.8888888888888888,\"#fdca26\"],[1.0,\"#f0f921\"]]},\"legend\":{\"tracegroupgap\":0},\"title\":{\"text\":\"Win Counts by a Political Party in 2019\"},\"barmode\":\"relative\"},                        {\"responsive\": true}                    ).then(function(){\n",
       "                            \n",
       "var gd = document.getElementById('0c26a72f-8a39-4af8-9318-7f52118bffd6');\n",
       "var x = new MutationObserver(function (mutations, observer) {{\n",
       "        var display = window.getComputedStyle(gd).display;\n",
       "        if (!display || display === 'none') {{\n",
       "            console.log([gd, 'removed!']);\n",
       "            Plotly.purge(gd);\n",
       "            observer.disconnect();\n",
       "        }}\n",
       "}});\n",
       "\n",
       "// Listen for the removal of the full notebook cells\n",
       "var notebookContainer = gd.closest('#notebook-container');\n",
       "if (notebookContainer) {{\n",
       "    x.observe(notebookContainer, {childList: true});\n",
       "}}\n",
       "\n",
       "// Listen for the clearing of the current output cell\n",
       "var outputEl = gd.closest('.output');\n",
       "if (outputEl) {{\n",
       "    x.observe(outputEl, {childList: true});\n",
       "}}\n",
       "\n",
       "                        })                };            </script>        </div>"
      ]
     },
     "metadata": {},
     "output_type": "display_data"
    }
   ],
   "source": [
    "part_win=vote.groupby('PARTY').apply(lambda x:x['WINNER'].sum()).reset_index(name='# Wins')\n",
    "part_win.sort_values(by='# Wins',ascending=False,inplace=True)\n",
    "top_part_win=part_win[0:15]\n",
    "fig = px.bar(top_part_win, x='PARTY', y='# Wins',\n",
    "                     color='# Wins',title='Win Counts by a Political Party in 2019')\n",
    "fig.update_layout(title_text='Win Counts by a Political Party in 2019')\n",
    "fig.show()"
   ]
  },
  {
   "cell_type": "markdown",
   "id": "b7e0fca6",
   "metadata": {},
   "source": [
    "#### What has been the general Win vs Loss relationship for the Parties in 2019?"
   ]
  },
  {
   "cell_type": "code",
   "execution_count": 18,
   "id": "4b0b55c5",
   "metadata": {},
   "outputs": [
    {
     "data": {
      "application/vnd.plotly.v1+json": {
       "config": {
        "plotlyServerURL": "https://plot.ly"
       },
       "data": [
        {
         "fillpattern": {
          "shape": ""
         },
         "hovertemplate": "Verdict=Wins<br>PARTY=%{x}<br>Counts=%{y}<extra></extra>",
         "legendgroup": "Wins",
         "line": {
          "color": "#0d0887"
         },
         "marker": {
          "symbol": "circle"
         },
         "mode": "lines",
         "name": "Wins",
         "orientation": "v",
         "showlegend": true,
         "stackgroup": "1",
         "type": "scatter",
         "x": [
          "BJP",
          "INC",
          "DMK",
          "AITC",
          "YSRCP",
          "SHS",
          "JD(U)",
          "BJD",
          "BSP",
          "TRS",
          "LJP",
          "SP",
          "NCP",
          "CPI(M)",
          "IND"
         ],
         "xaxis": "x",
         "y": {
          "bdata": "AAAAAADAckAAAAAAAABKQAAAAAAAADdAAAAAAAAANkAAAAAAAAA2QAAAAAAAADJAAAAAAAAAMEAAAAAAAAAmQAAAAAAAACZAAAAAAAAAIkAAAAAAAAAYQAAAAAAAABRAAAAAAAAAFEAAAAAAAAAUQAAAAAAAABBA",
          "dtype": "f8"
         },
         "yaxis": "y"
        },
        {
         "fillpattern": {
          "shape": ""
         },
         "hovertemplate": "Verdict=Losses<br>PARTY=%{x}<br>Counts=%{y}<extra></extra>",
         "legendgroup": "Losses",
         "line": {
          "color": "#46039f"
         },
         "marker": {
          "symbol": "circle"
         },
         "mode": "lines",
         "name": "Losses",
         "orientation": "v",
         "showlegend": true,
         "stackgroup": "1",
         "type": "scatter",
         "x": [
          "BJP",
          "INC",
          "DMK",
          "AITC",
          "YSRCP",
          "SHS",
          "JD(U)",
          "BJD",
          "BSP",
          "TRS",
          "LJP",
          "SP",
          "NCP",
          "CPI(M)",
          "IND"
         ],
         "xaxis": "x",
         "y": {
          "bdata": "AAAAAAAAXkAAAAAAAJB2QAAAAAAAAAAAAAAAAAAAOUAAAAAAAAAIQAAAAAAAACBAAAAAAAAAAEAAAAAAAAAkQAAAAAAAAGNAAAAAAAAAIEAAAAAAAAAAAAAAAAAAAEFAAAAAAAAAMEAAAAAAAMBXQAAAAAAAoGhA",
          "dtype": "f8"
         },
         "yaxis": "y"
        }
       ],
       "layout": {
        "legend": {
         "title": {
          "text": "Verdict"
         },
         "tracegroupgap": 0
        },
        "template": {
         "data": {
          "bar": [
           {
            "error_x": {
             "color": "#2a3f5f"
            },
            "error_y": {
             "color": "#2a3f5f"
            },
            "marker": {
             "line": {
              "color": "#E5ECF6",
              "width": 0.5
             },
             "pattern": {
              "fillmode": "overlay",
              "size": 10,
              "solidity": 0.2
             }
            },
            "type": "bar"
           }
          ],
          "barpolar": [
           {
            "marker": {
             "line": {
              "color": "#E5ECF6",
              "width": 0.5
             },
             "pattern": {
              "fillmode": "overlay",
              "size": 10,
              "solidity": 0.2
             }
            },
            "type": "barpolar"
           }
          ],
          "carpet": [
           {
            "aaxis": {
             "endlinecolor": "#2a3f5f",
             "gridcolor": "white",
             "linecolor": "white",
             "minorgridcolor": "white",
             "startlinecolor": "#2a3f5f"
            },
            "baxis": {
             "endlinecolor": "#2a3f5f",
             "gridcolor": "white",
             "linecolor": "white",
             "minorgridcolor": "white",
             "startlinecolor": "#2a3f5f"
            },
            "type": "carpet"
           }
          ],
          "choropleth": [
           {
            "colorbar": {
             "outlinewidth": 0,
             "ticks": ""
            },
            "type": "choropleth"
           }
          ],
          "contour": [
           {
            "colorbar": {
             "outlinewidth": 0,
             "ticks": ""
            },
            "colorscale": [
             [
              0,
              "#0d0887"
             ],
             [
              0.1111111111111111,
              "#46039f"
             ],
             [
              0.2222222222222222,
              "#7201a8"
             ],
             [
              0.3333333333333333,
              "#9c179e"
             ],
             [
              0.4444444444444444,
              "#bd3786"
             ],
             [
              0.5555555555555556,
              "#d8576b"
             ],
             [
              0.6666666666666666,
              "#ed7953"
             ],
             [
              0.7777777777777778,
              "#fb9f3a"
             ],
             [
              0.8888888888888888,
              "#fdca26"
             ],
             [
              1,
              "#f0f921"
             ]
            ],
            "type": "contour"
           }
          ],
          "contourcarpet": [
           {
            "colorbar": {
             "outlinewidth": 0,
             "ticks": ""
            },
            "type": "contourcarpet"
           }
          ],
          "heatmap": [
           {
            "colorbar": {
             "outlinewidth": 0,
             "ticks": ""
            },
            "colorscale": [
             [
              0,
              "#0d0887"
             ],
             [
              0.1111111111111111,
              "#46039f"
             ],
             [
              0.2222222222222222,
              "#7201a8"
             ],
             [
              0.3333333333333333,
              "#9c179e"
             ],
             [
              0.4444444444444444,
              "#bd3786"
             ],
             [
              0.5555555555555556,
              "#d8576b"
             ],
             [
              0.6666666666666666,
              "#ed7953"
             ],
             [
              0.7777777777777778,
              "#fb9f3a"
             ],
             [
              0.8888888888888888,
              "#fdca26"
             ],
             [
              1,
              "#f0f921"
             ]
            ],
            "type": "heatmap"
           }
          ],
          "histogram": [
           {
            "marker": {
             "pattern": {
              "fillmode": "overlay",
              "size": 10,
              "solidity": 0.2
             }
            },
            "type": "histogram"
           }
          ],
          "histogram2d": [
           {
            "colorbar": {
             "outlinewidth": 0,
             "ticks": ""
            },
            "colorscale": [
             [
              0,
              "#0d0887"
             ],
             [
              0.1111111111111111,
              "#46039f"
             ],
             [
              0.2222222222222222,
              "#7201a8"
             ],
             [
              0.3333333333333333,
              "#9c179e"
             ],
             [
              0.4444444444444444,
              "#bd3786"
             ],
             [
              0.5555555555555556,
              "#d8576b"
             ],
             [
              0.6666666666666666,
              "#ed7953"
             ],
             [
              0.7777777777777778,
              "#fb9f3a"
             ],
             [
              0.8888888888888888,
              "#fdca26"
             ],
             [
              1,
              "#f0f921"
             ]
            ],
            "type": "histogram2d"
           }
          ],
          "histogram2dcontour": [
           {
            "colorbar": {
             "outlinewidth": 0,
             "ticks": ""
            },
            "colorscale": [
             [
              0,
              "#0d0887"
             ],
             [
              0.1111111111111111,
              "#46039f"
             ],
             [
              0.2222222222222222,
              "#7201a8"
             ],
             [
              0.3333333333333333,
              "#9c179e"
             ],
             [
              0.4444444444444444,
              "#bd3786"
             ],
             [
              0.5555555555555556,
              "#d8576b"
             ],
             [
              0.6666666666666666,
              "#ed7953"
             ],
             [
              0.7777777777777778,
              "#fb9f3a"
             ],
             [
              0.8888888888888888,
              "#fdca26"
             ],
             [
              1,
              "#f0f921"
             ]
            ],
            "type": "histogram2dcontour"
           }
          ],
          "mesh3d": [
           {
            "colorbar": {
             "outlinewidth": 0,
             "ticks": ""
            },
            "type": "mesh3d"
           }
          ],
          "parcoords": [
           {
            "line": {
             "colorbar": {
              "outlinewidth": 0,
              "ticks": ""
             }
            },
            "type": "parcoords"
           }
          ],
          "pie": [
           {
            "automargin": true,
            "type": "pie"
           }
          ],
          "scatter": [
           {
            "fillpattern": {
             "fillmode": "overlay",
             "size": 10,
             "solidity": 0.2
            },
            "type": "scatter"
           }
          ],
          "scatter3d": [
           {
            "line": {
             "colorbar": {
              "outlinewidth": 0,
              "ticks": ""
             }
            },
            "marker": {
             "colorbar": {
              "outlinewidth": 0,
              "ticks": ""
             }
            },
            "type": "scatter3d"
           }
          ],
          "scattercarpet": [
           {
            "marker": {
             "colorbar": {
              "outlinewidth": 0,
              "ticks": ""
             }
            },
            "type": "scattercarpet"
           }
          ],
          "scattergeo": [
           {
            "marker": {
             "colorbar": {
              "outlinewidth": 0,
              "ticks": ""
             }
            },
            "type": "scattergeo"
           }
          ],
          "scattergl": [
           {
            "marker": {
             "colorbar": {
              "outlinewidth": 0,
              "ticks": ""
             }
            },
            "type": "scattergl"
           }
          ],
          "scattermap": [
           {
            "marker": {
             "colorbar": {
              "outlinewidth": 0,
              "ticks": ""
             }
            },
            "type": "scattermap"
           }
          ],
          "scattermapbox": [
           {
            "marker": {
             "colorbar": {
              "outlinewidth": 0,
              "ticks": ""
             }
            },
            "type": "scattermapbox"
           }
          ],
          "scatterpolar": [
           {
            "marker": {
             "colorbar": {
              "outlinewidth": 0,
              "ticks": ""
             }
            },
            "type": "scatterpolar"
           }
          ],
          "scatterpolargl": [
           {
            "marker": {
             "colorbar": {
              "outlinewidth": 0,
              "ticks": ""
             }
            },
            "type": "scatterpolargl"
           }
          ],
          "scatterternary": [
           {
            "marker": {
             "colorbar": {
              "outlinewidth": 0,
              "ticks": ""
             }
            },
            "type": "scatterternary"
           }
          ],
          "surface": [
           {
            "colorbar": {
             "outlinewidth": 0,
             "ticks": ""
            },
            "colorscale": [
             [
              0,
              "#0d0887"
             ],
             [
              0.1111111111111111,
              "#46039f"
             ],
             [
              0.2222222222222222,
              "#7201a8"
             ],
             [
              0.3333333333333333,
              "#9c179e"
             ],
             [
              0.4444444444444444,
              "#bd3786"
             ],
             [
              0.5555555555555556,
              "#d8576b"
             ],
             [
              0.6666666666666666,
              "#ed7953"
             ],
             [
              0.7777777777777778,
              "#fb9f3a"
             ],
             [
              0.8888888888888888,
              "#fdca26"
             ],
             [
              1,
              "#f0f921"
             ]
            ],
            "type": "surface"
           }
          ],
          "table": [
           {
            "cells": {
             "fill": {
              "color": "#EBF0F8"
             },
             "line": {
              "color": "white"
             }
            },
            "header": {
             "fill": {
              "color": "#C8D4E3"
             },
             "line": {
              "color": "white"
             }
            },
            "type": "table"
           }
          ]
         },
         "layout": {
          "annotationdefaults": {
           "arrowcolor": "#2a3f5f",
           "arrowhead": 0,
           "arrowwidth": 1
          },
          "autotypenumbers": "strict",
          "coloraxis": {
           "colorbar": {
            "outlinewidth": 0,
            "ticks": ""
           }
          },
          "colorscale": {
           "diverging": [
            [
             0,
             "#8e0152"
            ],
            [
             0.1,
             "#c51b7d"
            ],
            [
             0.2,
             "#de77ae"
            ],
            [
             0.3,
             "#f1b6da"
            ],
            [
             0.4,
             "#fde0ef"
            ],
            [
             0.5,
             "#f7f7f7"
            ],
            [
             0.6,
             "#e6f5d0"
            ],
            [
             0.7,
             "#b8e186"
            ],
            [
             0.8,
             "#7fbc41"
            ],
            [
             0.9,
             "#4d9221"
            ],
            [
             1,
             "#276419"
            ]
           ],
           "sequential": [
            [
             0,
             "#0d0887"
            ],
            [
             0.1111111111111111,
             "#46039f"
            ],
            [
             0.2222222222222222,
             "#7201a8"
            ],
            [
             0.3333333333333333,
             "#9c179e"
            ],
            [
             0.4444444444444444,
             "#bd3786"
            ],
            [
             0.5555555555555556,
             "#d8576b"
            ],
            [
             0.6666666666666666,
             "#ed7953"
            ],
            [
             0.7777777777777778,
             "#fb9f3a"
            ],
            [
             0.8888888888888888,
             "#fdca26"
            ],
            [
             1,
             "#f0f921"
            ]
           ],
           "sequentialminus": [
            [
             0,
             "#0d0887"
            ],
            [
             0.1111111111111111,
             "#46039f"
            ],
            [
             0.2222222222222222,
             "#7201a8"
            ],
            [
             0.3333333333333333,
             "#9c179e"
            ],
            [
             0.4444444444444444,
             "#bd3786"
            ],
            [
             0.5555555555555556,
             "#d8576b"
            ],
            [
             0.6666666666666666,
             "#ed7953"
            ],
            [
             0.7777777777777778,
             "#fb9f3a"
            ],
            [
             0.8888888888888888,
             "#fdca26"
            ],
            [
             1,
             "#f0f921"
            ]
           ]
          },
          "colorway": [
           "#636efa",
           "#EF553B",
           "#00cc96",
           "#ab63fa",
           "#FFA15A",
           "#19d3f3",
           "#FF6692",
           "#B6E880",
           "#FF97FF",
           "#FECB52"
          ],
          "font": {
           "color": "#2a3f5f"
          },
          "geo": {
           "bgcolor": "white",
           "lakecolor": "white",
           "landcolor": "#E5ECF6",
           "showlakes": true,
           "showland": true,
           "subunitcolor": "white"
          },
          "hoverlabel": {
           "align": "left"
          },
          "hovermode": "closest",
          "mapbox": {
           "style": "light"
          },
          "paper_bgcolor": "white",
          "plot_bgcolor": "#E5ECF6",
          "polar": {
           "angularaxis": {
            "gridcolor": "white",
            "linecolor": "white",
            "ticks": ""
           },
           "bgcolor": "#E5ECF6",
           "radialaxis": {
            "gridcolor": "white",
            "linecolor": "white",
            "ticks": ""
           }
          },
          "scene": {
           "xaxis": {
            "backgroundcolor": "#E5ECF6",
            "gridcolor": "white",
            "gridwidth": 2,
            "linecolor": "white",
            "showbackground": true,
            "ticks": "",
            "zerolinecolor": "white"
           },
           "yaxis": {
            "backgroundcolor": "#E5ECF6",
            "gridcolor": "white",
            "gridwidth": 2,
            "linecolor": "white",
            "showbackground": true,
            "ticks": "",
            "zerolinecolor": "white"
           },
           "zaxis": {
            "backgroundcolor": "#E5ECF6",
            "gridcolor": "white",
            "gridwidth": 2,
            "linecolor": "white",
            "showbackground": true,
            "ticks": "",
            "zerolinecolor": "white"
           }
          },
          "shapedefaults": {
           "line": {
            "color": "#2a3f5f"
           }
          },
          "ternary": {
           "aaxis": {
            "gridcolor": "white",
            "linecolor": "white",
            "ticks": ""
           },
           "baxis": {
            "gridcolor": "white",
            "linecolor": "white",
            "ticks": ""
           },
           "bgcolor": "#E5ECF6",
           "caxis": {
            "gridcolor": "white",
            "linecolor": "white",
            "ticks": ""
           }
          },
          "title": {
           "x": 0.05
          },
          "xaxis": {
           "automargin": true,
           "gridcolor": "white",
           "linecolor": "white",
           "ticks": "",
           "title": {
            "standoff": 15
           },
           "zerolinecolor": "white",
           "zerolinewidth": 2
          },
          "yaxis": {
           "automargin": true,
           "gridcolor": "white",
           "linecolor": "white",
           "ticks": "",
           "title": {
            "standoff": 15
           },
           "zerolinecolor": "white",
           "zerolinewidth": 2
          }
         }
        },
        "title": {
         "text": "Wins & Losses by Party"
        },
        "xaxis": {
         "anchor": "y",
         "domain": [
          0,
          1
         ],
         "title": {
          "text": "PARTY"
         }
        },
        "yaxis": {
         "anchor": "x",
         "domain": [
          0,
          1
         ],
         "title": {
          "text": "Counts"
         }
        }
       }
      },
      "text/html": [
       "<div>            <script src=\"https://cdnjs.cloudflare.com/ajax/libs/mathjax/2.7.5/MathJax.js?config=TeX-AMS-MML_SVG\"></script><script type=\"text/javascript\">if (window.MathJax && window.MathJax.Hub && window.MathJax.Hub.Config) {window.MathJax.Hub.Config({SVG: {font: \"STIX-Web\"}});}</script>                <script type=\"text/javascript\">window.PlotlyConfig = {MathJaxConfig: 'local'};</script>\n",
       "        <script charset=\"utf-8\" src=\"https://cdn.plot.ly/plotly-3.0.1.min.js\"></script>                <div id=\"e48dd8ac-3f43-4a84-8e7d-30b0fb2b3ef8\" class=\"plotly-graph-div\" style=\"height:525px; width:100%;\"></div>            <script type=\"text/javascript\">                window.PLOTLYENV=window.PLOTLYENV || {};                                if (document.getElementById(\"e48dd8ac-3f43-4a84-8e7d-30b0fb2b3ef8\")) {                    Plotly.newPlot(                        \"e48dd8ac-3f43-4a84-8e7d-30b0fb2b3ef8\",                        [{\"fillpattern\":{\"shape\":\"\"},\"hovertemplate\":\"Verdict=Wins\\u003cbr\\u003ePARTY=%{x}\\u003cbr\\u003eCounts=%{y}\\u003cextra\\u003e\\u003c\\u002fextra\\u003e\",\"legendgroup\":\"Wins\",\"line\":{\"color\":\"#0d0887\"},\"marker\":{\"symbol\":\"circle\"},\"mode\":\"lines\",\"name\":\"Wins\",\"orientation\":\"v\",\"showlegend\":true,\"stackgroup\":\"1\",\"x\":[\"BJP\",\"INC\",\"DMK\",\"AITC\",\"YSRCP\",\"SHS\",\"JD(U)\",\"BJD\",\"BSP\",\"TRS\",\"LJP\",\"SP\",\"NCP\",\"CPI(M)\",\"IND\"],\"xaxis\":\"x\",\"y\":{\"dtype\":\"f8\",\"bdata\":\"AAAAAADAckAAAAAAAABKQAAAAAAAADdAAAAAAAAANkAAAAAAAAA2QAAAAAAAADJAAAAAAAAAMEAAAAAAAAAmQAAAAAAAACZAAAAAAAAAIkAAAAAAAAAYQAAAAAAAABRAAAAAAAAAFEAAAAAAAAAUQAAAAAAAABBA\"},\"yaxis\":\"y\",\"type\":\"scatter\"},{\"fillpattern\":{\"shape\":\"\"},\"hovertemplate\":\"Verdict=Losses\\u003cbr\\u003ePARTY=%{x}\\u003cbr\\u003eCounts=%{y}\\u003cextra\\u003e\\u003c\\u002fextra\\u003e\",\"legendgroup\":\"Losses\",\"line\":{\"color\":\"#46039f\"},\"marker\":{\"symbol\":\"circle\"},\"mode\":\"lines\",\"name\":\"Losses\",\"orientation\":\"v\",\"showlegend\":true,\"stackgroup\":\"1\",\"x\":[\"BJP\",\"INC\",\"DMK\",\"AITC\",\"YSRCP\",\"SHS\",\"JD(U)\",\"BJD\",\"BSP\",\"TRS\",\"LJP\",\"SP\",\"NCP\",\"CPI(M)\",\"IND\"],\"xaxis\":\"x\",\"y\":{\"dtype\":\"f8\",\"bdata\":\"AAAAAAAAXkAAAAAAAJB2QAAAAAAAAAAAAAAAAAAAOUAAAAAAAAAIQAAAAAAAACBAAAAAAAAAAEAAAAAAAAAkQAAAAAAAAGNAAAAAAAAAIEAAAAAAAAAAAAAAAAAAAEFAAAAAAAAAMEAAAAAAAMBXQAAAAAAAoGhA\"},\"yaxis\":\"y\",\"type\":\"scatter\"}],                        {\"template\":{\"data\":{\"histogram2dcontour\":[{\"type\":\"histogram2dcontour\",\"colorbar\":{\"outlinewidth\":0,\"ticks\":\"\"},\"colorscale\":[[0.0,\"#0d0887\"],[0.1111111111111111,\"#46039f\"],[0.2222222222222222,\"#7201a8\"],[0.3333333333333333,\"#9c179e\"],[0.4444444444444444,\"#bd3786\"],[0.5555555555555556,\"#d8576b\"],[0.6666666666666666,\"#ed7953\"],[0.7777777777777778,\"#fb9f3a\"],[0.8888888888888888,\"#fdca26\"],[1.0,\"#f0f921\"]]}],\"choropleth\":[{\"type\":\"choropleth\",\"colorbar\":{\"outlinewidth\":0,\"ticks\":\"\"}}],\"histogram2d\":[{\"type\":\"histogram2d\",\"colorbar\":{\"outlinewidth\":0,\"ticks\":\"\"},\"colorscale\":[[0.0,\"#0d0887\"],[0.1111111111111111,\"#46039f\"],[0.2222222222222222,\"#7201a8\"],[0.3333333333333333,\"#9c179e\"],[0.4444444444444444,\"#bd3786\"],[0.5555555555555556,\"#d8576b\"],[0.6666666666666666,\"#ed7953\"],[0.7777777777777778,\"#fb9f3a\"],[0.8888888888888888,\"#fdca26\"],[1.0,\"#f0f921\"]]}],\"heatmap\":[{\"type\":\"heatmap\",\"colorbar\":{\"outlinewidth\":0,\"ticks\":\"\"},\"colorscale\":[[0.0,\"#0d0887\"],[0.1111111111111111,\"#46039f\"],[0.2222222222222222,\"#7201a8\"],[0.3333333333333333,\"#9c179e\"],[0.4444444444444444,\"#bd3786\"],[0.5555555555555556,\"#d8576b\"],[0.6666666666666666,\"#ed7953\"],[0.7777777777777778,\"#fb9f3a\"],[0.8888888888888888,\"#fdca26\"],[1.0,\"#f0f921\"]]}],\"contourcarpet\":[{\"type\":\"contourcarpet\",\"colorbar\":{\"outlinewidth\":0,\"ticks\":\"\"}}],\"contour\":[{\"type\":\"contour\",\"colorbar\":{\"outlinewidth\":0,\"ticks\":\"\"},\"colorscale\":[[0.0,\"#0d0887\"],[0.1111111111111111,\"#46039f\"],[0.2222222222222222,\"#7201a8\"],[0.3333333333333333,\"#9c179e\"],[0.4444444444444444,\"#bd3786\"],[0.5555555555555556,\"#d8576b\"],[0.6666666666666666,\"#ed7953\"],[0.7777777777777778,\"#fb9f3a\"],[0.8888888888888888,\"#fdca26\"],[1.0,\"#f0f921\"]]}],\"surface\":[{\"type\":\"surface\",\"colorbar\":{\"outlinewidth\":0,\"ticks\":\"\"},\"colorscale\":[[0.0,\"#0d0887\"],[0.1111111111111111,\"#46039f\"],[0.2222222222222222,\"#7201a8\"],[0.3333333333333333,\"#9c179e\"],[0.4444444444444444,\"#bd3786\"],[0.5555555555555556,\"#d8576b\"],[0.6666666666666666,\"#ed7953\"],[0.7777777777777778,\"#fb9f3a\"],[0.8888888888888888,\"#fdca26\"],[1.0,\"#f0f921\"]]}],\"mesh3d\":[{\"type\":\"mesh3d\",\"colorbar\":{\"outlinewidth\":0,\"ticks\":\"\"}}],\"scatter\":[{\"fillpattern\":{\"fillmode\":\"overlay\",\"size\":10,\"solidity\":0.2},\"type\":\"scatter\"}],\"parcoords\":[{\"type\":\"parcoords\",\"line\":{\"colorbar\":{\"outlinewidth\":0,\"ticks\":\"\"}}}],\"scatterpolargl\":[{\"type\":\"scatterpolargl\",\"marker\":{\"colorbar\":{\"outlinewidth\":0,\"ticks\":\"\"}}}],\"bar\":[{\"error_x\":{\"color\":\"#2a3f5f\"},\"error_y\":{\"color\":\"#2a3f5f\"},\"marker\":{\"line\":{\"color\":\"#E5ECF6\",\"width\":0.5},\"pattern\":{\"fillmode\":\"overlay\",\"size\":10,\"solidity\":0.2}},\"type\":\"bar\"}],\"scattergeo\":[{\"type\":\"scattergeo\",\"marker\":{\"colorbar\":{\"outlinewidth\":0,\"ticks\":\"\"}}}],\"scatterpolar\":[{\"type\":\"scatterpolar\",\"marker\":{\"colorbar\":{\"outlinewidth\":0,\"ticks\":\"\"}}}],\"histogram\":[{\"marker\":{\"pattern\":{\"fillmode\":\"overlay\",\"size\":10,\"solidity\":0.2}},\"type\":\"histogram\"}],\"scattergl\":[{\"type\":\"scattergl\",\"marker\":{\"colorbar\":{\"outlinewidth\":0,\"ticks\":\"\"}}}],\"scatter3d\":[{\"type\":\"scatter3d\",\"line\":{\"colorbar\":{\"outlinewidth\":0,\"ticks\":\"\"}},\"marker\":{\"colorbar\":{\"outlinewidth\":0,\"ticks\":\"\"}}}],\"scattermap\":[{\"type\":\"scattermap\",\"marker\":{\"colorbar\":{\"outlinewidth\":0,\"ticks\":\"\"}}}],\"scattermapbox\":[{\"type\":\"scattermapbox\",\"marker\":{\"colorbar\":{\"outlinewidth\":0,\"ticks\":\"\"}}}],\"scatterternary\":[{\"type\":\"scatterternary\",\"marker\":{\"colorbar\":{\"outlinewidth\":0,\"ticks\":\"\"}}}],\"scattercarpet\":[{\"type\":\"scattercarpet\",\"marker\":{\"colorbar\":{\"outlinewidth\":0,\"ticks\":\"\"}}}],\"carpet\":[{\"aaxis\":{\"endlinecolor\":\"#2a3f5f\",\"gridcolor\":\"white\",\"linecolor\":\"white\",\"minorgridcolor\":\"white\",\"startlinecolor\":\"#2a3f5f\"},\"baxis\":{\"endlinecolor\":\"#2a3f5f\",\"gridcolor\":\"white\",\"linecolor\":\"white\",\"minorgridcolor\":\"white\",\"startlinecolor\":\"#2a3f5f\"},\"type\":\"carpet\"}],\"table\":[{\"cells\":{\"fill\":{\"color\":\"#EBF0F8\"},\"line\":{\"color\":\"white\"}},\"header\":{\"fill\":{\"color\":\"#C8D4E3\"},\"line\":{\"color\":\"white\"}},\"type\":\"table\"}],\"barpolar\":[{\"marker\":{\"line\":{\"color\":\"#E5ECF6\",\"width\":0.5},\"pattern\":{\"fillmode\":\"overlay\",\"size\":10,\"solidity\":0.2}},\"type\":\"barpolar\"}],\"pie\":[{\"automargin\":true,\"type\":\"pie\"}]},\"layout\":{\"autotypenumbers\":\"strict\",\"colorway\":[\"#636efa\",\"#EF553B\",\"#00cc96\",\"#ab63fa\",\"#FFA15A\",\"#19d3f3\",\"#FF6692\",\"#B6E880\",\"#FF97FF\",\"#FECB52\"],\"font\":{\"color\":\"#2a3f5f\"},\"hovermode\":\"closest\",\"hoverlabel\":{\"align\":\"left\"},\"paper_bgcolor\":\"white\",\"plot_bgcolor\":\"#E5ECF6\",\"polar\":{\"bgcolor\":\"#E5ECF6\",\"angularaxis\":{\"gridcolor\":\"white\",\"linecolor\":\"white\",\"ticks\":\"\"},\"radialaxis\":{\"gridcolor\":\"white\",\"linecolor\":\"white\",\"ticks\":\"\"}},\"ternary\":{\"bgcolor\":\"#E5ECF6\",\"aaxis\":{\"gridcolor\":\"white\",\"linecolor\":\"white\",\"ticks\":\"\"},\"baxis\":{\"gridcolor\":\"white\",\"linecolor\":\"white\",\"ticks\":\"\"},\"caxis\":{\"gridcolor\":\"white\",\"linecolor\":\"white\",\"ticks\":\"\"}},\"coloraxis\":{\"colorbar\":{\"outlinewidth\":0,\"ticks\":\"\"}},\"colorscale\":{\"sequential\":[[0.0,\"#0d0887\"],[0.1111111111111111,\"#46039f\"],[0.2222222222222222,\"#7201a8\"],[0.3333333333333333,\"#9c179e\"],[0.4444444444444444,\"#bd3786\"],[0.5555555555555556,\"#d8576b\"],[0.6666666666666666,\"#ed7953\"],[0.7777777777777778,\"#fb9f3a\"],[0.8888888888888888,\"#fdca26\"],[1.0,\"#f0f921\"]],\"sequentialminus\":[[0.0,\"#0d0887\"],[0.1111111111111111,\"#46039f\"],[0.2222222222222222,\"#7201a8\"],[0.3333333333333333,\"#9c179e\"],[0.4444444444444444,\"#bd3786\"],[0.5555555555555556,\"#d8576b\"],[0.6666666666666666,\"#ed7953\"],[0.7777777777777778,\"#fb9f3a\"],[0.8888888888888888,\"#fdca26\"],[1.0,\"#f0f921\"]],\"diverging\":[[0,\"#8e0152\"],[0.1,\"#c51b7d\"],[0.2,\"#de77ae\"],[0.3,\"#f1b6da\"],[0.4,\"#fde0ef\"],[0.5,\"#f7f7f7\"],[0.6,\"#e6f5d0\"],[0.7,\"#b8e186\"],[0.8,\"#7fbc41\"],[0.9,\"#4d9221\"],[1,\"#276419\"]]},\"xaxis\":{\"gridcolor\":\"white\",\"linecolor\":\"white\",\"ticks\":\"\",\"title\":{\"standoff\":15},\"zerolinecolor\":\"white\",\"automargin\":true,\"zerolinewidth\":2},\"yaxis\":{\"gridcolor\":\"white\",\"linecolor\":\"white\",\"ticks\":\"\",\"title\":{\"standoff\":15},\"zerolinecolor\":\"white\",\"automargin\":true,\"zerolinewidth\":2},\"scene\":{\"xaxis\":{\"backgroundcolor\":\"#E5ECF6\",\"gridcolor\":\"white\",\"linecolor\":\"white\",\"showbackground\":true,\"ticks\":\"\",\"zerolinecolor\":\"white\",\"gridwidth\":2},\"yaxis\":{\"backgroundcolor\":\"#E5ECF6\",\"gridcolor\":\"white\",\"linecolor\":\"white\",\"showbackground\":true,\"ticks\":\"\",\"zerolinecolor\":\"white\",\"gridwidth\":2},\"zaxis\":{\"backgroundcolor\":\"#E5ECF6\",\"gridcolor\":\"white\",\"linecolor\":\"white\",\"showbackground\":true,\"ticks\":\"\",\"zerolinecolor\":\"white\",\"gridwidth\":2}},\"shapedefaults\":{\"line\":{\"color\":\"#2a3f5f\"}},\"annotationdefaults\":{\"arrowcolor\":\"#2a3f5f\",\"arrowhead\":0,\"arrowwidth\":1},\"geo\":{\"bgcolor\":\"white\",\"landcolor\":\"#E5ECF6\",\"subunitcolor\":\"white\",\"showland\":true,\"showlakes\":true,\"lakecolor\":\"white\"},\"title\":{\"x\":0.05},\"mapbox\":{\"style\":\"light\"}}},\"xaxis\":{\"anchor\":\"y\",\"domain\":[0.0,1.0],\"title\":{\"text\":\"PARTY\"}},\"yaxis\":{\"anchor\":\"x\",\"domain\":[0.0,1.0],\"title\":{\"text\":\"Counts\"}},\"legend\":{\"title\":{\"text\":\"Verdict\"},\"tracegroupgap\":0},\"title\":{\"text\":\"Wins & Losses by Party\"}},                        {\"responsive\": true}                    ).then(function(){\n",
       "                            \n",
       "var gd = document.getElementById('e48dd8ac-3f43-4a84-8e7d-30b0fb2b3ef8');\n",
       "var x = new MutationObserver(function (mutations, observer) {{\n",
       "        var display = window.getComputedStyle(gd).display;\n",
       "        if (!display || display === 'none') {{\n",
       "            console.log([gd, 'removed!']);\n",
       "            Plotly.purge(gd);\n",
       "            observer.disconnect();\n",
       "        }}\n",
       "}});\n",
       "\n",
       "// Listen for the removal of the full notebook cells\n",
       "var notebookContainer = gd.closest('#notebook-container');\n",
       "if (notebookContainer) {{\n",
       "    x.observe(notebookContainer, {childList: true});\n",
       "}}\n",
       "\n",
       "// Listen for the clearing of the current output cell\n",
       "var outputEl = gd.closest('.output');\n",
       "if (outputEl) {{\n",
       "    x.observe(outputEl, {childList: true});\n",
       "}}\n",
       "\n",
       "                        })                };            </script>        </div>"
      ]
     },
     "metadata": {},
     "output_type": "display_data"
    }
   ],
   "source": [
    "vote_party = vote[vote['PARTY'] != 'NOTA']\n",
    "party_constituencies = vote_party.groupby('PARTY')['CONSTITUENCY'].count().reset_index(name='Total Contested')\n",
    "party_wins = vote_party[vote_party['WINNER'] == 1].groupby('PARTY')['WINNER'].count().reset_index(name='Wins')\n",
    "party_summary = pd.merge(party_constituencies, party_wins, on='PARTY', how='left').fillna(0)\n",
    "party_summary['Losses'] = party_summary['Total Contested'] - party_summary['Wins']\n",
    "top15 = party_summary.sort_values(by='Wins', ascending=False).head(15)\n",
    "plot_df = top15.melt(id_vars='PARTY', value_vars=['Wins', 'Losses'], \n",
    "                     var_name='Verdict', value_name='Counts')\n",
    "fig = px.bar(\n",
    "    plot_df,\n",
    "    x='PARTY',\n",
    "    y='Counts',\n",
    "    color='Verdict',\n",
    "    title='Win vs Loss Breakdown for Top 15 Political Parties',\n",
    "    barmode='stack',\n",
    "    text='Counts'\n",
    ")\n",
    "fig.update_layout(\n",
    "    # xaxis_title='Political Party',\n",
    "    yaxis_title='Number of Constituencies',\n",
    "    xaxis_tickangle=-45\n",
    ")\n",
    "#\n",
    "# fig.show()\n",
    "fig = px.area(plot_df, x='PARTY', y='Counts', color='Verdict',\n",
    "              title='Wins & Losses by Party',\n",
    "            color_discrete_sequence=px.colors.sequential.Plasma)\n",
    "fig.show()\n",
    "\n"
   ]
  },
  {
   "cell_type": "markdown",
   "id": "35b55daf",
   "metadata": {},
   "source": [
    "#### What is the Gender Ratio of the Contestants? Also the Gender Ratio of the Winners?"
   ]
  },
  {
   "cell_type": "code",
   "execution_count": 19,
   "id": "55e36969",
   "metadata": {},
   "outputs": [
    {
     "name": "stderr",
     "output_type": "stream",
     "text": [
      "C:\\Users\\AbhiLoki\\AppData\\Local\\Temp\\ipykernel_1204\\2082579953.py:2: DeprecationWarning:\n",
      "\n",
      "DataFrameGroupBy.apply operated on the grouping columns. This behavior is deprecated, and in a future version of pandas the grouping columns will be excluded from the operation. Either pass `include_groups=False` to exclude the groupings or explicitly select the grouping columns after groupby to silence this warning.\n",
      "\n",
      "C:\\Users\\AbhiLoki\\AppData\\Local\\Temp\\ipykernel_1204\\2082579953.py:5: DeprecationWarning:\n",
      "\n",
      "DataFrameGroupBy.apply operated on the grouping columns. This behavior is deprecated, and in a future version of pandas the grouping columns will be excluded from the operation. Either pass `include_groups=False` to exclude the groupings or explicitly select the grouping columns after groupby to silence this warning.\n",
      "\n"
     ]
    },
    {
     "data": {
      "application/vnd.plotly.v1+json": {
       "config": {
        "plotlyServerURL": "https://plot.ly"
       },
       "data": [
        {
         "alignmentgroup": "True",
         "hovertemplate": "Category=Winning Gender Ratio<br>GENDER=%{x}<br>Counts=%{y}<extra></extra>",
         "legendgroup": "Winning Gender Ratio",
         "marker": {
          "color": "#636efa",
          "pattern": {
           "shape": ""
          }
         },
         "name": "Winning Gender Ratio",
         "offsetgroup": "Winning Gender Ratio",
         "orientation": "v",
         "showlegend": true,
         "textposition": "auto",
         "type": "bar",
         "x": [
          "FEMALE",
          "MALE"
         ],
         "xaxis": "x",
         "y": {
          "bdata": "TADPAQ==",
          "dtype": "i2"
         },
         "yaxis": "y"
        },
        {
         "alignmentgroup": "True",
         "hovertemplate": "Category=Overall Gender Ratio<br>GENDER=%{x}<br>Counts=%{y}<extra></extra>",
         "legendgroup": "Overall Gender Ratio",
         "marker": {
          "color": "#EF553B",
          "pattern": {
           "shape": ""
          }
         },
         "name": "Overall Gender Ratio",
         "offsetgroup": "Overall Gender Ratio",
         "orientation": "v",
         "showlegend": true,
         "textposition": "auto",
         "type": "bar",
         "x": [
          "FEMALE",
          "MALE"
         ],
         "xaxis": "x",
         "y": {
          "bdata": "AgHgBg==",
          "dtype": "i2"
         },
         "yaxis": "y"
        }
       ],
       "layout": {
        "barmode": "group",
        "legend": {
         "title": {
          "text": "Category"
         },
         "tracegroupgap": 0
        },
        "margin": {
         "t": 60
        },
        "template": {
         "data": {
          "bar": [
           {
            "error_x": {
             "color": "#2a3f5f"
            },
            "error_y": {
             "color": "#2a3f5f"
            },
            "marker": {
             "line": {
              "color": "#E5ECF6",
              "width": 0.5
             },
             "pattern": {
              "fillmode": "overlay",
              "size": 10,
              "solidity": 0.2
             }
            },
            "type": "bar"
           }
          ],
          "barpolar": [
           {
            "marker": {
             "line": {
              "color": "#E5ECF6",
              "width": 0.5
             },
             "pattern": {
              "fillmode": "overlay",
              "size": 10,
              "solidity": 0.2
             }
            },
            "type": "barpolar"
           }
          ],
          "carpet": [
           {
            "aaxis": {
             "endlinecolor": "#2a3f5f",
             "gridcolor": "white",
             "linecolor": "white",
             "minorgridcolor": "white",
             "startlinecolor": "#2a3f5f"
            },
            "baxis": {
             "endlinecolor": "#2a3f5f",
             "gridcolor": "white",
             "linecolor": "white",
             "minorgridcolor": "white",
             "startlinecolor": "#2a3f5f"
            },
            "type": "carpet"
           }
          ],
          "choropleth": [
           {
            "colorbar": {
             "outlinewidth": 0,
             "ticks": ""
            },
            "type": "choropleth"
           }
          ],
          "contour": [
           {
            "colorbar": {
             "outlinewidth": 0,
             "ticks": ""
            },
            "colorscale": [
             [
              0,
              "#0d0887"
             ],
             [
              0.1111111111111111,
              "#46039f"
             ],
             [
              0.2222222222222222,
              "#7201a8"
             ],
             [
              0.3333333333333333,
              "#9c179e"
             ],
             [
              0.4444444444444444,
              "#bd3786"
             ],
             [
              0.5555555555555556,
              "#d8576b"
             ],
             [
              0.6666666666666666,
              "#ed7953"
             ],
             [
              0.7777777777777778,
              "#fb9f3a"
             ],
             [
              0.8888888888888888,
              "#fdca26"
             ],
             [
              1,
              "#f0f921"
             ]
            ],
            "type": "contour"
           }
          ],
          "contourcarpet": [
           {
            "colorbar": {
             "outlinewidth": 0,
             "ticks": ""
            },
            "type": "contourcarpet"
           }
          ],
          "heatmap": [
           {
            "colorbar": {
             "outlinewidth": 0,
             "ticks": ""
            },
            "colorscale": [
             [
              0,
              "#0d0887"
             ],
             [
              0.1111111111111111,
              "#46039f"
             ],
             [
              0.2222222222222222,
              "#7201a8"
             ],
             [
              0.3333333333333333,
              "#9c179e"
             ],
             [
              0.4444444444444444,
              "#bd3786"
             ],
             [
              0.5555555555555556,
              "#d8576b"
             ],
             [
              0.6666666666666666,
              "#ed7953"
             ],
             [
              0.7777777777777778,
              "#fb9f3a"
             ],
             [
              0.8888888888888888,
              "#fdca26"
             ],
             [
              1,
              "#f0f921"
             ]
            ],
            "type": "heatmap"
           }
          ],
          "histogram": [
           {
            "marker": {
             "pattern": {
              "fillmode": "overlay",
              "size": 10,
              "solidity": 0.2
             }
            },
            "type": "histogram"
           }
          ],
          "histogram2d": [
           {
            "colorbar": {
             "outlinewidth": 0,
             "ticks": ""
            },
            "colorscale": [
             [
              0,
              "#0d0887"
             ],
             [
              0.1111111111111111,
              "#46039f"
             ],
             [
              0.2222222222222222,
              "#7201a8"
             ],
             [
              0.3333333333333333,
              "#9c179e"
             ],
             [
              0.4444444444444444,
              "#bd3786"
             ],
             [
              0.5555555555555556,
              "#d8576b"
             ],
             [
              0.6666666666666666,
              "#ed7953"
             ],
             [
              0.7777777777777778,
              "#fb9f3a"
             ],
             [
              0.8888888888888888,
              "#fdca26"
             ],
             [
              1,
              "#f0f921"
             ]
            ],
            "type": "histogram2d"
           }
          ],
          "histogram2dcontour": [
           {
            "colorbar": {
             "outlinewidth": 0,
             "ticks": ""
            },
            "colorscale": [
             [
              0,
              "#0d0887"
             ],
             [
              0.1111111111111111,
              "#46039f"
             ],
             [
              0.2222222222222222,
              "#7201a8"
             ],
             [
              0.3333333333333333,
              "#9c179e"
             ],
             [
              0.4444444444444444,
              "#bd3786"
             ],
             [
              0.5555555555555556,
              "#d8576b"
             ],
             [
              0.6666666666666666,
              "#ed7953"
             ],
             [
              0.7777777777777778,
              "#fb9f3a"
             ],
             [
              0.8888888888888888,
              "#fdca26"
             ],
             [
              1,
              "#f0f921"
             ]
            ],
            "type": "histogram2dcontour"
           }
          ],
          "mesh3d": [
           {
            "colorbar": {
             "outlinewidth": 0,
             "ticks": ""
            },
            "type": "mesh3d"
           }
          ],
          "parcoords": [
           {
            "line": {
             "colorbar": {
              "outlinewidth": 0,
              "ticks": ""
             }
            },
            "type": "parcoords"
           }
          ],
          "pie": [
           {
            "automargin": true,
            "type": "pie"
           }
          ],
          "scatter": [
           {
            "fillpattern": {
             "fillmode": "overlay",
             "size": 10,
             "solidity": 0.2
            },
            "type": "scatter"
           }
          ],
          "scatter3d": [
           {
            "line": {
             "colorbar": {
              "outlinewidth": 0,
              "ticks": ""
             }
            },
            "marker": {
             "colorbar": {
              "outlinewidth": 0,
              "ticks": ""
             }
            },
            "type": "scatter3d"
           }
          ],
          "scattercarpet": [
           {
            "marker": {
             "colorbar": {
              "outlinewidth": 0,
              "ticks": ""
             }
            },
            "type": "scattercarpet"
           }
          ],
          "scattergeo": [
           {
            "marker": {
             "colorbar": {
              "outlinewidth": 0,
              "ticks": ""
             }
            },
            "type": "scattergeo"
           }
          ],
          "scattergl": [
           {
            "marker": {
             "colorbar": {
              "outlinewidth": 0,
              "ticks": ""
             }
            },
            "type": "scattergl"
           }
          ],
          "scattermap": [
           {
            "marker": {
             "colorbar": {
              "outlinewidth": 0,
              "ticks": ""
             }
            },
            "type": "scattermap"
           }
          ],
          "scattermapbox": [
           {
            "marker": {
             "colorbar": {
              "outlinewidth": 0,
              "ticks": ""
             }
            },
            "type": "scattermapbox"
           }
          ],
          "scatterpolar": [
           {
            "marker": {
             "colorbar": {
              "outlinewidth": 0,
              "ticks": ""
             }
            },
            "type": "scatterpolar"
           }
          ],
          "scatterpolargl": [
           {
            "marker": {
             "colorbar": {
              "outlinewidth": 0,
              "ticks": ""
             }
            },
            "type": "scatterpolargl"
           }
          ],
          "scatterternary": [
           {
            "marker": {
             "colorbar": {
              "outlinewidth": 0,
              "ticks": ""
             }
            },
            "type": "scatterternary"
           }
          ],
          "surface": [
           {
            "colorbar": {
             "outlinewidth": 0,
             "ticks": ""
            },
            "colorscale": [
             [
              0,
              "#0d0887"
             ],
             [
              0.1111111111111111,
              "#46039f"
             ],
             [
              0.2222222222222222,
              "#7201a8"
             ],
             [
              0.3333333333333333,
              "#9c179e"
             ],
             [
              0.4444444444444444,
              "#bd3786"
             ],
             [
              0.5555555555555556,
              "#d8576b"
             ],
             [
              0.6666666666666666,
              "#ed7953"
             ],
             [
              0.7777777777777778,
              "#fb9f3a"
             ],
             [
              0.8888888888888888,
              "#fdca26"
             ],
             [
              1,
              "#f0f921"
             ]
            ],
            "type": "surface"
           }
          ],
          "table": [
           {
            "cells": {
             "fill": {
              "color": "#EBF0F8"
             },
             "line": {
              "color": "white"
             }
            },
            "header": {
             "fill": {
              "color": "#C8D4E3"
             },
             "line": {
              "color": "white"
             }
            },
            "type": "table"
           }
          ]
         },
         "layout": {
          "annotationdefaults": {
           "arrowcolor": "#2a3f5f",
           "arrowhead": 0,
           "arrowwidth": 1
          },
          "autotypenumbers": "strict",
          "coloraxis": {
           "colorbar": {
            "outlinewidth": 0,
            "ticks": ""
           }
          },
          "colorscale": {
           "diverging": [
            [
             0,
             "#8e0152"
            ],
            [
             0.1,
             "#c51b7d"
            ],
            [
             0.2,
             "#de77ae"
            ],
            [
             0.3,
             "#f1b6da"
            ],
            [
             0.4,
             "#fde0ef"
            ],
            [
             0.5,
             "#f7f7f7"
            ],
            [
             0.6,
             "#e6f5d0"
            ],
            [
             0.7,
             "#b8e186"
            ],
            [
             0.8,
             "#7fbc41"
            ],
            [
             0.9,
             "#4d9221"
            ],
            [
             1,
             "#276419"
            ]
           ],
           "sequential": [
            [
             0,
             "#0d0887"
            ],
            [
             0.1111111111111111,
             "#46039f"
            ],
            [
             0.2222222222222222,
             "#7201a8"
            ],
            [
             0.3333333333333333,
             "#9c179e"
            ],
            [
             0.4444444444444444,
             "#bd3786"
            ],
            [
             0.5555555555555556,
             "#d8576b"
            ],
            [
             0.6666666666666666,
             "#ed7953"
            ],
            [
             0.7777777777777778,
             "#fb9f3a"
            ],
            [
             0.8888888888888888,
             "#fdca26"
            ],
            [
             1,
             "#f0f921"
            ]
           ],
           "sequentialminus": [
            [
             0,
             "#0d0887"
            ],
            [
             0.1111111111111111,
             "#46039f"
            ],
            [
             0.2222222222222222,
             "#7201a8"
            ],
            [
             0.3333333333333333,
             "#9c179e"
            ],
            [
             0.4444444444444444,
             "#bd3786"
            ],
            [
             0.5555555555555556,
             "#d8576b"
            ],
            [
             0.6666666666666666,
             "#ed7953"
            ],
            [
             0.7777777777777778,
             "#fb9f3a"
            ],
            [
             0.8888888888888888,
             "#fdca26"
            ],
            [
             1,
             "#f0f921"
            ]
           ]
          },
          "colorway": [
           "#636efa",
           "#EF553B",
           "#00cc96",
           "#ab63fa",
           "#FFA15A",
           "#19d3f3",
           "#FF6692",
           "#B6E880",
           "#FF97FF",
           "#FECB52"
          ],
          "font": {
           "color": "#2a3f5f"
          },
          "geo": {
           "bgcolor": "white",
           "lakecolor": "white",
           "landcolor": "#E5ECF6",
           "showlakes": true,
           "showland": true,
           "subunitcolor": "white"
          },
          "hoverlabel": {
           "align": "left"
          },
          "hovermode": "closest",
          "mapbox": {
           "style": "light"
          },
          "paper_bgcolor": "white",
          "plot_bgcolor": "#E5ECF6",
          "polar": {
           "angularaxis": {
            "gridcolor": "white",
            "linecolor": "white",
            "ticks": ""
           },
           "bgcolor": "#E5ECF6",
           "radialaxis": {
            "gridcolor": "white",
            "linecolor": "white",
            "ticks": ""
           }
          },
          "scene": {
           "xaxis": {
            "backgroundcolor": "#E5ECF6",
            "gridcolor": "white",
            "gridwidth": 2,
            "linecolor": "white",
            "showbackground": true,
            "ticks": "",
            "zerolinecolor": "white"
           },
           "yaxis": {
            "backgroundcolor": "#E5ECF6",
            "gridcolor": "white",
            "gridwidth": 2,
            "linecolor": "white",
            "showbackground": true,
            "ticks": "",
            "zerolinecolor": "white"
           },
           "zaxis": {
            "backgroundcolor": "#E5ECF6",
            "gridcolor": "white",
            "gridwidth": 2,
            "linecolor": "white",
            "showbackground": true,
            "ticks": "",
            "zerolinecolor": "white"
           }
          },
          "shapedefaults": {
           "line": {
            "color": "#2a3f5f"
           }
          },
          "ternary": {
           "aaxis": {
            "gridcolor": "white",
            "linecolor": "white",
            "ticks": ""
           },
           "baxis": {
            "gridcolor": "white",
            "linecolor": "white",
            "ticks": ""
           },
           "bgcolor": "#E5ECF6",
           "caxis": {
            "gridcolor": "white",
            "linecolor": "white",
            "ticks": ""
           }
          },
          "title": {
           "x": 0.05
          },
          "xaxis": {
           "automargin": true,
           "gridcolor": "white",
           "linecolor": "white",
           "ticks": "",
           "title": {
            "standoff": 15
           },
           "zerolinecolor": "white",
           "zerolinewidth": 2
          },
          "yaxis": {
           "automargin": true,
           "gridcolor": "white",
           "linecolor": "white",
           "ticks": "",
           "title": {
            "standoff": 15
           },
           "zerolinecolor": "white",
           "zerolinewidth": 2
          }
         }
        },
        "title": {
         "text": "Participation vs Win Counts analysis for the Genders"
        },
        "xaxis": {
         "anchor": "y",
         "domain": [
          0,
          1
         ],
         "title": {
          "text": "GENDER"
         }
        },
        "yaxis": {
         "anchor": "x",
         "domain": [
          0,
          1
         ],
         "title": {
          "text": "Counts"
         }
        }
       }
      },
      "text/html": [
       "<div>            <script src=\"https://cdnjs.cloudflare.com/ajax/libs/mathjax/2.7.5/MathJax.js?config=TeX-AMS-MML_SVG\"></script><script type=\"text/javascript\">if (window.MathJax && window.MathJax.Hub && window.MathJax.Hub.Config) {window.MathJax.Hub.Config({SVG: {font: \"STIX-Web\"}});}</script>                <script type=\"text/javascript\">window.PlotlyConfig = {MathJaxConfig: 'local'};</script>\n",
       "        <script charset=\"utf-8\" src=\"https://cdn.plot.ly/plotly-3.0.1.min.js\"></script>                <div id=\"1dac732c-3d32-4bb1-b2d1-4a4917eae4ba\" class=\"plotly-graph-div\" style=\"height:525px; width:100%;\"></div>            <script type=\"text/javascript\">                window.PLOTLYENV=window.PLOTLYENV || {};                                if (document.getElementById(\"1dac732c-3d32-4bb1-b2d1-4a4917eae4ba\")) {                    Plotly.newPlot(                        \"1dac732c-3d32-4bb1-b2d1-4a4917eae4ba\",                        [{\"alignmentgroup\":\"True\",\"hovertemplate\":\"Category=Winning Gender Ratio\\u003cbr\\u003eGENDER=%{x}\\u003cbr\\u003eCounts=%{y}\\u003cextra\\u003e\\u003c\\u002fextra\\u003e\",\"legendgroup\":\"Winning Gender Ratio\",\"marker\":{\"color\":\"#636efa\",\"pattern\":{\"shape\":\"\"}},\"name\":\"Winning Gender Ratio\",\"offsetgroup\":\"Winning Gender Ratio\",\"orientation\":\"v\",\"showlegend\":true,\"textposition\":\"auto\",\"x\":[\"FEMALE\",\"MALE\"],\"xaxis\":\"x\",\"y\":{\"dtype\":\"i2\",\"bdata\":\"TADPAQ==\"},\"yaxis\":\"y\",\"type\":\"bar\"},{\"alignmentgroup\":\"True\",\"hovertemplate\":\"Category=Overall Gender Ratio\\u003cbr\\u003eGENDER=%{x}\\u003cbr\\u003eCounts=%{y}\\u003cextra\\u003e\\u003c\\u002fextra\\u003e\",\"legendgroup\":\"Overall Gender Ratio\",\"marker\":{\"color\":\"#EF553B\",\"pattern\":{\"shape\":\"\"}},\"name\":\"Overall Gender Ratio\",\"offsetgroup\":\"Overall Gender Ratio\",\"orientation\":\"v\",\"showlegend\":true,\"textposition\":\"auto\",\"x\":[\"FEMALE\",\"MALE\"],\"xaxis\":\"x\",\"y\":{\"dtype\":\"i2\",\"bdata\":\"AgHgBg==\"},\"yaxis\":\"y\",\"type\":\"bar\"}],                        {\"template\":{\"data\":{\"histogram2dcontour\":[{\"type\":\"histogram2dcontour\",\"colorbar\":{\"outlinewidth\":0,\"ticks\":\"\"},\"colorscale\":[[0.0,\"#0d0887\"],[0.1111111111111111,\"#46039f\"],[0.2222222222222222,\"#7201a8\"],[0.3333333333333333,\"#9c179e\"],[0.4444444444444444,\"#bd3786\"],[0.5555555555555556,\"#d8576b\"],[0.6666666666666666,\"#ed7953\"],[0.7777777777777778,\"#fb9f3a\"],[0.8888888888888888,\"#fdca26\"],[1.0,\"#f0f921\"]]}],\"choropleth\":[{\"type\":\"choropleth\",\"colorbar\":{\"outlinewidth\":0,\"ticks\":\"\"}}],\"histogram2d\":[{\"type\":\"histogram2d\",\"colorbar\":{\"outlinewidth\":0,\"ticks\":\"\"},\"colorscale\":[[0.0,\"#0d0887\"],[0.1111111111111111,\"#46039f\"],[0.2222222222222222,\"#7201a8\"],[0.3333333333333333,\"#9c179e\"],[0.4444444444444444,\"#bd3786\"],[0.5555555555555556,\"#d8576b\"],[0.6666666666666666,\"#ed7953\"],[0.7777777777777778,\"#fb9f3a\"],[0.8888888888888888,\"#fdca26\"],[1.0,\"#f0f921\"]]}],\"heatmap\":[{\"type\":\"heatmap\",\"colorbar\":{\"outlinewidth\":0,\"ticks\":\"\"},\"colorscale\":[[0.0,\"#0d0887\"],[0.1111111111111111,\"#46039f\"],[0.2222222222222222,\"#7201a8\"],[0.3333333333333333,\"#9c179e\"],[0.4444444444444444,\"#bd3786\"],[0.5555555555555556,\"#d8576b\"],[0.6666666666666666,\"#ed7953\"],[0.7777777777777778,\"#fb9f3a\"],[0.8888888888888888,\"#fdca26\"],[1.0,\"#f0f921\"]]}],\"contourcarpet\":[{\"type\":\"contourcarpet\",\"colorbar\":{\"outlinewidth\":0,\"ticks\":\"\"}}],\"contour\":[{\"type\":\"contour\",\"colorbar\":{\"outlinewidth\":0,\"ticks\":\"\"},\"colorscale\":[[0.0,\"#0d0887\"],[0.1111111111111111,\"#46039f\"],[0.2222222222222222,\"#7201a8\"],[0.3333333333333333,\"#9c179e\"],[0.4444444444444444,\"#bd3786\"],[0.5555555555555556,\"#d8576b\"],[0.6666666666666666,\"#ed7953\"],[0.7777777777777778,\"#fb9f3a\"],[0.8888888888888888,\"#fdca26\"],[1.0,\"#f0f921\"]]}],\"surface\":[{\"type\":\"surface\",\"colorbar\":{\"outlinewidth\":0,\"ticks\":\"\"},\"colorscale\":[[0.0,\"#0d0887\"],[0.1111111111111111,\"#46039f\"],[0.2222222222222222,\"#7201a8\"],[0.3333333333333333,\"#9c179e\"],[0.4444444444444444,\"#bd3786\"],[0.5555555555555556,\"#d8576b\"],[0.6666666666666666,\"#ed7953\"],[0.7777777777777778,\"#fb9f3a\"],[0.8888888888888888,\"#fdca26\"],[1.0,\"#f0f921\"]]}],\"mesh3d\":[{\"type\":\"mesh3d\",\"colorbar\":{\"outlinewidth\":0,\"ticks\":\"\"}}],\"scatter\":[{\"fillpattern\":{\"fillmode\":\"overlay\",\"size\":10,\"solidity\":0.2},\"type\":\"scatter\"}],\"parcoords\":[{\"type\":\"parcoords\",\"line\":{\"colorbar\":{\"outlinewidth\":0,\"ticks\":\"\"}}}],\"scatterpolargl\":[{\"type\":\"scatterpolargl\",\"marker\":{\"colorbar\":{\"outlinewidth\":0,\"ticks\":\"\"}}}],\"bar\":[{\"error_x\":{\"color\":\"#2a3f5f\"},\"error_y\":{\"color\":\"#2a3f5f\"},\"marker\":{\"line\":{\"color\":\"#E5ECF6\",\"width\":0.5},\"pattern\":{\"fillmode\":\"overlay\",\"size\":10,\"solidity\":0.2}},\"type\":\"bar\"}],\"scattergeo\":[{\"type\":\"scattergeo\",\"marker\":{\"colorbar\":{\"outlinewidth\":0,\"ticks\":\"\"}}}],\"scatterpolar\":[{\"type\":\"scatterpolar\",\"marker\":{\"colorbar\":{\"outlinewidth\":0,\"ticks\":\"\"}}}],\"histogram\":[{\"marker\":{\"pattern\":{\"fillmode\":\"overlay\",\"size\":10,\"solidity\":0.2}},\"type\":\"histogram\"}],\"scattergl\":[{\"type\":\"scattergl\",\"marker\":{\"colorbar\":{\"outlinewidth\":0,\"ticks\":\"\"}}}],\"scatter3d\":[{\"type\":\"scatter3d\",\"line\":{\"colorbar\":{\"outlinewidth\":0,\"ticks\":\"\"}},\"marker\":{\"colorbar\":{\"outlinewidth\":0,\"ticks\":\"\"}}}],\"scattermap\":[{\"type\":\"scattermap\",\"marker\":{\"colorbar\":{\"outlinewidth\":0,\"ticks\":\"\"}}}],\"scattermapbox\":[{\"type\":\"scattermapbox\",\"marker\":{\"colorbar\":{\"outlinewidth\":0,\"ticks\":\"\"}}}],\"scatterternary\":[{\"type\":\"scatterternary\",\"marker\":{\"colorbar\":{\"outlinewidth\":0,\"ticks\":\"\"}}}],\"scattercarpet\":[{\"type\":\"scattercarpet\",\"marker\":{\"colorbar\":{\"outlinewidth\":0,\"ticks\":\"\"}}}],\"carpet\":[{\"aaxis\":{\"endlinecolor\":\"#2a3f5f\",\"gridcolor\":\"white\",\"linecolor\":\"white\",\"minorgridcolor\":\"white\",\"startlinecolor\":\"#2a3f5f\"},\"baxis\":{\"endlinecolor\":\"#2a3f5f\",\"gridcolor\":\"white\",\"linecolor\":\"white\",\"minorgridcolor\":\"white\",\"startlinecolor\":\"#2a3f5f\"},\"type\":\"carpet\"}],\"table\":[{\"cells\":{\"fill\":{\"color\":\"#EBF0F8\"},\"line\":{\"color\":\"white\"}},\"header\":{\"fill\":{\"color\":\"#C8D4E3\"},\"line\":{\"color\":\"white\"}},\"type\":\"table\"}],\"barpolar\":[{\"marker\":{\"line\":{\"color\":\"#E5ECF6\",\"width\":0.5},\"pattern\":{\"fillmode\":\"overlay\",\"size\":10,\"solidity\":0.2}},\"type\":\"barpolar\"}],\"pie\":[{\"automargin\":true,\"type\":\"pie\"}]},\"layout\":{\"autotypenumbers\":\"strict\",\"colorway\":[\"#636efa\",\"#EF553B\",\"#00cc96\",\"#ab63fa\",\"#FFA15A\",\"#19d3f3\",\"#FF6692\",\"#B6E880\",\"#FF97FF\",\"#FECB52\"],\"font\":{\"color\":\"#2a3f5f\"},\"hovermode\":\"closest\",\"hoverlabel\":{\"align\":\"left\"},\"paper_bgcolor\":\"white\",\"plot_bgcolor\":\"#E5ECF6\",\"polar\":{\"bgcolor\":\"#E5ECF6\",\"angularaxis\":{\"gridcolor\":\"white\",\"linecolor\":\"white\",\"ticks\":\"\"},\"radialaxis\":{\"gridcolor\":\"white\",\"linecolor\":\"white\",\"ticks\":\"\"}},\"ternary\":{\"bgcolor\":\"#E5ECF6\",\"aaxis\":{\"gridcolor\":\"white\",\"linecolor\":\"white\",\"ticks\":\"\"},\"baxis\":{\"gridcolor\":\"white\",\"linecolor\":\"white\",\"ticks\":\"\"},\"caxis\":{\"gridcolor\":\"white\",\"linecolor\":\"white\",\"ticks\":\"\"}},\"coloraxis\":{\"colorbar\":{\"outlinewidth\":0,\"ticks\":\"\"}},\"colorscale\":{\"sequential\":[[0.0,\"#0d0887\"],[0.1111111111111111,\"#46039f\"],[0.2222222222222222,\"#7201a8\"],[0.3333333333333333,\"#9c179e\"],[0.4444444444444444,\"#bd3786\"],[0.5555555555555556,\"#d8576b\"],[0.6666666666666666,\"#ed7953\"],[0.7777777777777778,\"#fb9f3a\"],[0.8888888888888888,\"#fdca26\"],[1.0,\"#f0f921\"]],\"sequentialminus\":[[0.0,\"#0d0887\"],[0.1111111111111111,\"#46039f\"],[0.2222222222222222,\"#7201a8\"],[0.3333333333333333,\"#9c179e\"],[0.4444444444444444,\"#bd3786\"],[0.5555555555555556,\"#d8576b\"],[0.6666666666666666,\"#ed7953\"],[0.7777777777777778,\"#fb9f3a\"],[0.8888888888888888,\"#fdca26\"],[1.0,\"#f0f921\"]],\"diverging\":[[0,\"#8e0152\"],[0.1,\"#c51b7d\"],[0.2,\"#de77ae\"],[0.3,\"#f1b6da\"],[0.4,\"#fde0ef\"],[0.5,\"#f7f7f7\"],[0.6,\"#e6f5d0\"],[0.7,\"#b8e186\"],[0.8,\"#7fbc41\"],[0.9,\"#4d9221\"],[1,\"#276419\"]]},\"xaxis\":{\"gridcolor\":\"white\",\"linecolor\":\"white\",\"ticks\":\"\",\"title\":{\"standoff\":15},\"zerolinecolor\":\"white\",\"automargin\":true,\"zerolinewidth\":2},\"yaxis\":{\"gridcolor\":\"white\",\"linecolor\":\"white\",\"ticks\":\"\",\"title\":{\"standoff\":15},\"zerolinecolor\":\"white\",\"automargin\":true,\"zerolinewidth\":2},\"scene\":{\"xaxis\":{\"backgroundcolor\":\"#E5ECF6\",\"gridcolor\":\"white\",\"linecolor\":\"white\",\"showbackground\":true,\"ticks\":\"\",\"zerolinecolor\":\"white\",\"gridwidth\":2},\"yaxis\":{\"backgroundcolor\":\"#E5ECF6\",\"gridcolor\":\"white\",\"linecolor\":\"white\",\"showbackground\":true,\"ticks\":\"\",\"zerolinecolor\":\"white\",\"gridwidth\":2},\"zaxis\":{\"backgroundcolor\":\"#E5ECF6\",\"gridcolor\":\"white\",\"linecolor\":\"white\",\"showbackground\":true,\"ticks\":\"\",\"zerolinecolor\":\"white\",\"gridwidth\":2}},\"shapedefaults\":{\"line\":{\"color\":\"#2a3f5f\"}},\"annotationdefaults\":{\"arrowcolor\":\"#2a3f5f\",\"arrowhead\":0,\"arrowwidth\":1},\"geo\":{\"bgcolor\":\"white\",\"landcolor\":\"#E5ECF6\",\"subunitcolor\":\"white\",\"showland\":true,\"showlakes\":true,\"lakecolor\":\"white\"},\"title\":{\"x\":0.05},\"mapbox\":{\"style\":\"light\"}}},\"xaxis\":{\"anchor\":\"y\",\"domain\":[0.0,1.0],\"title\":{\"text\":\"GENDER\"}},\"yaxis\":{\"anchor\":\"x\",\"domain\":[0.0,1.0],\"title\":{\"text\":\"Counts\"}},\"legend\":{\"title\":{\"text\":\"Category\"},\"tracegroupgap\":0},\"margin\":{\"t\":60},\"barmode\":\"group\",\"title\":{\"text\":\"Participation vs Win Counts analysis for the Genders\"}},                        {\"responsive\": true}                    ).then(function(){\n",
       "                            \n",
       "var gd = document.getElementById('1dac732c-3d32-4bb1-b2d1-4a4917eae4ba');\n",
       "var x = new MutationObserver(function (mutations, observer) {{\n",
       "        var display = window.getComputedStyle(gd).display;\n",
       "        if (!display || display === 'none') {{\n",
       "            console.log([gd, 'removed!']);\n",
       "            Plotly.purge(gd);\n",
       "            observer.disconnect();\n",
       "        }}\n",
       "}});\n",
       "\n",
       "// Listen for the removal of the full notebook cells\n",
       "var notebookContainer = gd.closest('#notebook-container');\n",
       "if (notebookContainer) {{\n",
       "    x.observe(notebookContainer, {childList: true});\n",
       "}}\n",
       "\n",
       "// Listen for the clearing of the current output cell\n",
       "var outputEl = gd.closest('.output');\n",
       "if (outputEl) {{\n",
       "    x.observe(outputEl, {childList: true});\n",
       "}}\n",
       "\n",
       "                        })                };            </script>        </div>"
      ]
     },
     "metadata": {},
     "output_type": "display_data"
    }
   ],
   "source": [
    "vote_gndr=vote[vote['PARTY']!='NOTA']\n",
    "gndr_overall=vote_gndr.groupby('GENDER').apply(lambda x:x['NAME'].count()).reset_index(name='Counts')\n",
    "gndr_overall['Category']='Overall Gender Ratio'\n",
    "winners=vote_gndr[vote_gndr['WINNER']==1]\n",
    "gndr_winner=winners.groupby('GENDER').apply(lambda x:x['NAME'].count()).reset_index(name='Counts')\n",
    "gndr_winner['Category']='Winning Gender Ratio'\n",
    "gndr_overl_win=pd.concat([gndr_winner,gndr_overall])\n",
    "fig = px.bar(gndr_overl_win, x='GENDER', y='Counts',\n",
    "             color='Category', barmode='group')\n",
    "fig.update_layout(title_text='Participation vs Win Counts analysis for the Genders')\n",
    "fig.show()"
   ]
  },
  {
   "cell_type": "markdown",
   "id": "73223b28",
   "metadata": {},
   "source": [
    "#### What is the Educational Qualification of our politicians?"
   ]
  },
  {
   "cell_type": "code",
   "execution_count": 20,
   "id": "d34372f7",
   "metadata": {},
   "outputs": [
    {
     "name": "stderr",
     "output_type": "stream",
     "text": [
      "C:\\Users\\AbhiLoki\\AppData\\Local\\Temp\\ipykernel_1204\\827373411.py:2: DeprecationWarning:\n",
      "\n",
      "DataFrameGroupBy.apply operated on the grouping columns. This behavior is deprecated, and in a future version of pandas the grouping columns will be excluded from the operation. Either pass `include_groups=False` to exclude the groupings or explicitly select the grouping columns after groupby to silence this warning.\n",
      "\n"
     ]
    },
    {
     "data": {
      "application/vnd.plotly.v1+json": {
       "config": {
        "plotlyServerURL": "https://plot.ly"
       },
       "data": [
        {
         "labels": [
          "10th Pass",
          "12th Pass",
          "5th Pass",
          "8th Pass",
          "Doctorate",
          "Graduate",
          "Graduate Professional",
          "Illiterate",
          "Literate",
          "Not Available",
          "Others",
          "Post Graduate",
          "Post Graduate\n"
         ],
         "pull": [
          0.1,
          0.2,
          0,
          0.1,
          0.2,
          0,
          0.1,
          0.2,
          0,
          0.1,
          0.2,
          0.1
         ],
         "type": "pie",
         "values": {
          "bdata": "xAAAARwATgBJALkBUAEFAB4AFgAyAPYBAQA=",
          "dtype": "i2"
         }
        }
       ],
       "layout": {
        "template": {
         "data": {
          "bar": [
           {
            "error_x": {
             "color": "#2a3f5f"
            },
            "error_y": {
             "color": "#2a3f5f"
            },
            "marker": {
             "line": {
              "color": "#E5ECF6",
              "width": 0.5
             },
             "pattern": {
              "fillmode": "overlay",
              "size": 10,
              "solidity": 0.2
             }
            },
            "type": "bar"
           }
          ],
          "barpolar": [
           {
            "marker": {
             "line": {
              "color": "#E5ECF6",
              "width": 0.5
             },
             "pattern": {
              "fillmode": "overlay",
              "size": 10,
              "solidity": 0.2
             }
            },
            "type": "barpolar"
           }
          ],
          "carpet": [
           {
            "aaxis": {
             "endlinecolor": "#2a3f5f",
             "gridcolor": "white",
             "linecolor": "white",
             "minorgridcolor": "white",
             "startlinecolor": "#2a3f5f"
            },
            "baxis": {
             "endlinecolor": "#2a3f5f",
             "gridcolor": "white",
             "linecolor": "white",
             "minorgridcolor": "white",
             "startlinecolor": "#2a3f5f"
            },
            "type": "carpet"
           }
          ],
          "choropleth": [
           {
            "colorbar": {
             "outlinewidth": 0,
             "ticks": ""
            },
            "type": "choropleth"
           }
          ],
          "contour": [
           {
            "colorbar": {
             "outlinewidth": 0,
             "ticks": ""
            },
            "colorscale": [
             [
              0,
              "#0d0887"
             ],
             [
              0.1111111111111111,
              "#46039f"
             ],
             [
              0.2222222222222222,
              "#7201a8"
             ],
             [
              0.3333333333333333,
              "#9c179e"
             ],
             [
              0.4444444444444444,
              "#bd3786"
             ],
             [
              0.5555555555555556,
              "#d8576b"
             ],
             [
              0.6666666666666666,
              "#ed7953"
             ],
             [
              0.7777777777777778,
              "#fb9f3a"
             ],
             [
              0.8888888888888888,
              "#fdca26"
             ],
             [
              1,
              "#f0f921"
             ]
            ],
            "type": "contour"
           }
          ],
          "contourcarpet": [
           {
            "colorbar": {
             "outlinewidth": 0,
             "ticks": ""
            },
            "type": "contourcarpet"
           }
          ],
          "heatmap": [
           {
            "colorbar": {
             "outlinewidth": 0,
             "ticks": ""
            },
            "colorscale": [
             [
              0,
              "#0d0887"
             ],
             [
              0.1111111111111111,
              "#46039f"
             ],
             [
              0.2222222222222222,
              "#7201a8"
             ],
             [
              0.3333333333333333,
              "#9c179e"
             ],
             [
              0.4444444444444444,
              "#bd3786"
             ],
             [
              0.5555555555555556,
              "#d8576b"
             ],
             [
              0.6666666666666666,
              "#ed7953"
             ],
             [
              0.7777777777777778,
              "#fb9f3a"
             ],
             [
              0.8888888888888888,
              "#fdca26"
             ],
             [
              1,
              "#f0f921"
             ]
            ],
            "type": "heatmap"
           }
          ],
          "histogram": [
           {
            "marker": {
             "pattern": {
              "fillmode": "overlay",
              "size": 10,
              "solidity": 0.2
             }
            },
            "type": "histogram"
           }
          ],
          "histogram2d": [
           {
            "colorbar": {
             "outlinewidth": 0,
             "ticks": ""
            },
            "colorscale": [
             [
              0,
              "#0d0887"
             ],
             [
              0.1111111111111111,
              "#46039f"
             ],
             [
              0.2222222222222222,
              "#7201a8"
             ],
             [
              0.3333333333333333,
              "#9c179e"
             ],
             [
              0.4444444444444444,
              "#bd3786"
             ],
             [
              0.5555555555555556,
              "#d8576b"
             ],
             [
              0.6666666666666666,
              "#ed7953"
             ],
             [
              0.7777777777777778,
              "#fb9f3a"
             ],
             [
              0.8888888888888888,
              "#fdca26"
             ],
             [
              1,
              "#f0f921"
             ]
            ],
            "type": "histogram2d"
           }
          ],
          "histogram2dcontour": [
           {
            "colorbar": {
             "outlinewidth": 0,
             "ticks": ""
            },
            "colorscale": [
             [
              0,
              "#0d0887"
             ],
             [
              0.1111111111111111,
              "#46039f"
             ],
             [
              0.2222222222222222,
              "#7201a8"
             ],
             [
              0.3333333333333333,
              "#9c179e"
             ],
             [
              0.4444444444444444,
              "#bd3786"
             ],
             [
              0.5555555555555556,
              "#d8576b"
             ],
             [
              0.6666666666666666,
              "#ed7953"
             ],
             [
              0.7777777777777778,
              "#fb9f3a"
             ],
             [
              0.8888888888888888,
              "#fdca26"
             ],
             [
              1,
              "#f0f921"
             ]
            ],
            "type": "histogram2dcontour"
           }
          ],
          "mesh3d": [
           {
            "colorbar": {
             "outlinewidth": 0,
             "ticks": ""
            },
            "type": "mesh3d"
           }
          ],
          "parcoords": [
           {
            "line": {
             "colorbar": {
              "outlinewidth": 0,
              "ticks": ""
             }
            },
            "type": "parcoords"
           }
          ],
          "pie": [
           {
            "automargin": true,
            "type": "pie"
           }
          ],
          "scatter": [
           {
            "fillpattern": {
             "fillmode": "overlay",
             "size": 10,
             "solidity": 0.2
            },
            "type": "scatter"
           }
          ],
          "scatter3d": [
           {
            "line": {
             "colorbar": {
              "outlinewidth": 0,
              "ticks": ""
             }
            },
            "marker": {
             "colorbar": {
              "outlinewidth": 0,
              "ticks": ""
             }
            },
            "type": "scatter3d"
           }
          ],
          "scattercarpet": [
           {
            "marker": {
             "colorbar": {
              "outlinewidth": 0,
              "ticks": ""
             }
            },
            "type": "scattercarpet"
           }
          ],
          "scattergeo": [
           {
            "marker": {
             "colorbar": {
              "outlinewidth": 0,
              "ticks": ""
             }
            },
            "type": "scattergeo"
           }
          ],
          "scattergl": [
           {
            "marker": {
             "colorbar": {
              "outlinewidth": 0,
              "ticks": ""
             }
            },
            "type": "scattergl"
           }
          ],
          "scattermap": [
           {
            "marker": {
             "colorbar": {
              "outlinewidth": 0,
              "ticks": ""
             }
            },
            "type": "scattermap"
           }
          ],
          "scattermapbox": [
           {
            "marker": {
             "colorbar": {
              "outlinewidth": 0,
              "ticks": ""
             }
            },
            "type": "scattermapbox"
           }
          ],
          "scatterpolar": [
           {
            "marker": {
             "colorbar": {
              "outlinewidth": 0,
              "ticks": ""
             }
            },
            "type": "scatterpolar"
           }
          ],
          "scatterpolargl": [
           {
            "marker": {
             "colorbar": {
              "outlinewidth": 0,
              "ticks": ""
             }
            },
            "type": "scatterpolargl"
           }
          ],
          "scatterternary": [
           {
            "marker": {
             "colorbar": {
              "outlinewidth": 0,
              "ticks": ""
             }
            },
            "type": "scatterternary"
           }
          ],
          "surface": [
           {
            "colorbar": {
             "outlinewidth": 0,
             "ticks": ""
            },
            "colorscale": [
             [
              0,
              "#0d0887"
             ],
             [
              0.1111111111111111,
              "#46039f"
             ],
             [
              0.2222222222222222,
              "#7201a8"
             ],
             [
              0.3333333333333333,
              "#9c179e"
             ],
             [
              0.4444444444444444,
              "#bd3786"
             ],
             [
              0.5555555555555556,
              "#d8576b"
             ],
             [
              0.6666666666666666,
              "#ed7953"
             ],
             [
              0.7777777777777778,
              "#fb9f3a"
             ],
             [
              0.8888888888888888,
              "#fdca26"
             ],
             [
              1,
              "#f0f921"
             ]
            ],
            "type": "surface"
           }
          ],
          "table": [
           {
            "cells": {
             "fill": {
              "color": "#EBF0F8"
             },
             "line": {
              "color": "white"
             }
            },
            "header": {
             "fill": {
              "color": "#C8D4E3"
             },
             "line": {
              "color": "white"
             }
            },
            "type": "table"
           }
          ]
         },
         "layout": {
          "annotationdefaults": {
           "arrowcolor": "#2a3f5f",
           "arrowhead": 0,
           "arrowwidth": 1
          },
          "autotypenumbers": "strict",
          "coloraxis": {
           "colorbar": {
            "outlinewidth": 0,
            "ticks": ""
           }
          },
          "colorscale": {
           "diverging": [
            [
             0,
             "#8e0152"
            ],
            [
             0.1,
             "#c51b7d"
            ],
            [
             0.2,
             "#de77ae"
            ],
            [
             0.3,
             "#f1b6da"
            ],
            [
             0.4,
             "#fde0ef"
            ],
            [
             0.5,
             "#f7f7f7"
            ],
            [
             0.6,
             "#e6f5d0"
            ],
            [
             0.7,
             "#b8e186"
            ],
            [
             0.8,
             "#7fbc41"
            ],
            [
             0.9,
             "#4d9221"
            ],
            [
             1,
             "#276419"
            ]
           ],
           "sequential": [
            [
             0,
             "#0d0887"
            ],
            [
             0.1111111111111111,
             "#46039f"
            ],
            [
             0.2222222222222222,
             "#7201a8"
            ],
            [
             0.3333333333333333,
             "#9c179e"
            ],
            [
             0.4444444444444444,
             "#bd3786"
            ],
            [
             0.5555555555555556,
             "#d8576b"
            ],
            [
             0.6666666666666666,
             "#ed7953"
            ],
            [
             0.7777777777777778,
             "#fb9f3a"
            ],
            [
             0.8888888888888888,
             "#fdca26"
            ],
            [
             1,
             "#f0f921"
            ]
           ],
           "sequentialminus": [
            [
             0,
             "#0d0887"
            ],
            [
             0.1111111111111111,
             "#46039f"
            ],
            [
             0.2222222222222222,
             "#7201a8"
            ],
            [
             0.3333333333333333,
             "#9c179e"
            ],
            [
             0.4444444444444444,
             "#bd3786"
            ],
            [
             0.5555555555555556,
             "#d8576b"
            ],
            [
             0.6666666666666666,
             "#ed7953"
            ],
            [
             0.7777777777777778,
             "#fb9f3a"
            ],
            [
             0.8888888888888888,
             "#fdca26"
            ],
            [
             1,
             "#f0f921"
            ]
           ]
          },
          "colorway": [
           "#636efa",
           "#EF553B",
           "#00cc96",
           "#ab63fa",
           "#FFA15A",
           "#19d3f3",
           "#FF6692",
           "#B6E880",
           "#FF97FF",
           "#FECB52"
          ],
          "font": {
           "color": "#2a3f5f"
          },
          "geo": {
           "bgcolor": "white",
           "lakecolor": "white",
           "landcolor": "#E5ECF6",
           "showlakes": true,
           "showland": true,
           "subunitcolor": "white"
          },
          "hoverlabel": {
           "align": "left"
          },
          "hovermode": "closest",
          "mapbox": {
           "style": "light"
          },
          "paper_bgcolor": "white",
          "plot_bgcolor": "#E5ECF6",
          "polar": {
           "angularaxis": {
            "gridcolor": "white",
            "linecolor": "white",
            "ticks": ""
           },
           "bgcolor": "#E5ECF6",
           "radialaxis": {
            "gridcolor": "white",
            "linecolor": "white",
            "ticks": ""
           }
          },
          "scene": {
           "xaxis": {
            "backgroundcolor": "#E5ECF6",
            "gridcolor": "white",
            "gridwidth": 2,
            "linecolor": "white",
            "showbackground": true,
            "ticks": "",
            "zerolinecolor": "white"
           },
           "yaxis": {
            "backgroundcolor": "#E5ECF6",
            "gridcolor": "white",
            "gridwidth": 2,
            "linecolor": "white",
            "showbackground": true,
            "ticks": "",
            "zerolinecolor": "white"
           },
           "zaxis": {
            "backgroundcolor": "#E5ECF6",
            "gridcolor": "white",
            "gridwidth": 2,
            "linecolor": "white",
            "showbackground": true,
            "ticks": "",
            "zerolinecolor": "white"
           }
          },
          "shapedefaults": {
           "line": {
            "color": "#2a3f5f"
           }
          },
          "ternary": {
           "aaxis": {
            "gridcolor": "white",
            "linecolor": "white",
            "ticks": ""
           },
           "baxis": {
            "gridcolor": "white",
            "linecolor": "white",
            "ticks": ""
           },
           "bgcolor": "#E5ECF6",
           "caxis": {
            "gridcolor": "white",
            "linecolor": "white",
            "ticks": ""
           }
          },
          "title": {
           "x": 0.05
          },
          "xaxis": {
           "automargin": true,
           "gridcolor": "white",
           "linecolor": "white",
           "ticks": "",
           "title": {
            "standoff": 15
           },
           "zerolinecolor": "white",
           "zerolinewidth": 2
          },
          "yaxis": {
           "automargin": true,
           "gridcolor": "white",
           "linecolor": "white",
           "ticks": "",
           "title": {
            "standoff": 15
           },
           "zerolinecolor": "white",
           "zerolinewidth": 2
          }
         }
        },
        "title": {
         "text": "Overall Education Qualification of all the Nominees"
        }
       }
      },
      "text/html": [
       "<div>            <script src=\"https://cdnjs.cloudflare.com/ajax/libs/mathjax/2.7.5/MathJax.js?config=TeX-AMS-MML_SVG\"></script><script type=\"text/javascript\">if (window.MathJax && window.MathJax.Hub && window.MathJax.Hub.Config) {window.MathJax.Hub.Config({SVG: {font: \"STIX-Web\"}});}</script>                <script type=\"text/javascript\">window.PlotlyConfig = {MathJaxConfig: 'local'};</script>\n",
       "        <script charset=\"utf-8\" src=\"https://cdn.plot.ly/plotly-3.0.1.min.js\"></script>                <div id=\"96d3ee2b-945e-47fa-8c1a-85f33629295f\" class=\"plotly-graph-div\" style=\"height:525px; width:100%;\"></div>            <script type=\"text/javascript\">                window.PLOTLYENV=window.PLOTLYENV || {};                                if (document.getElementById(\"96d3ee2b-945e-47fa-8c1a-85f33629295f\")) {                    Plotly.newPlot(                        \"96d3ee2b-945e-47fa-8c1a-85f33629295f\",                        [{\"labels\":[\"10th Pass\",\"12th Pass\",\"5th Pass\",\"8th Pass\",\"Doctorate\",\"Graduate\",\"Graduate Professional\",\"Illiterate\",\"Literate\",\"Not Available\",\"Others\",\"Post Graduate\",\"Post Graduate\\n\"],\"pull\":[0.1,0.2,0,0.1,0.2,0,0.1,0.2,0,0.1,0.2,0.1],\"values\":{\"dtype\":\"i2\",\"bdata\":\"xAAAARwATgBJALkBUAEFAB4AFgAyAPYBAQA=\"},\"type\":\"pie\"}],                        {\"template\":{\"data\":{\"histogram2dcontour\":[{\"type\":\"histogram2dcontour\",\"colorbar\":{\"outlinewidth\":0,\"ticks\":\"\"},\"colorscale\":[[0.0,\"#0d0887\"],[0.1111111111111111,\"#46039f\"],[0.2222222222222222,\"#7201a8\"],[0.3333333333333333,\"#9c179e\"],[0.4444444444444444,\"#bd3786\"],[0.5555555555555556,\"#d8576b\"],[0.6666666666666666,\"#ed7953\"],[0.7777777777777778,\"#fb9f3a\"],[0.8888888888888888,\"#fdca26\"],[1.0,\"#f0f921\"]]}],\"choropleth\":[{\"type\":\"choropleth\",\"colorbar\":{\"outlinewidth\":0,\"ticks\":\"\"}}],\"histogram2d\":[{\"type\":\"histogram2d\",\"colorbar\":{\"outlinewidth\":0,\"ticks\":\"\"},\"colorscale\":[[0.0,\"#0d0887\"],[0.1111111111111111,\"#46039f\"],[0.2222222222222222,\"#7201a8\"],[0.3333333333333333,\"#9c179e\"],[0.4444444444444444,\"#bd3786\"],[0.5555555555555556,\"#d8576b\"],[0.6666666666666666,\"#ed7953\"],[0.7777777777777778,\"#fb9f3a\"],[0.8888888888888888,\"#fdca26\"],[1.0,\"#f0f921\"]]}],\"heatmap\":[{\"type\":\"heatmap\",\"colorbar\":{\"outlinewidth\":0,\"ticks\":\"\"},\"colorscale\":[[0.0,\"#0d0887\"],[0.1111111111111111,\"#46039f\"],[0.2222222222222222,\"#7201a8\"],[0.3333333333333333,\"#9c179e\"],[0.4444444444444444,\"#bd3786\"],[0.5555555555555556,\"#d8576b\"],[0.6666666666666666,\"#ed7953\"],[0.7777777777777778,\"#fb9f3a\"],[0.8888888888888888,\"#fdca26\"],[1.0,\"#f0f921\"]]}],\"contourcarpet\":[{\"type\":\"contourcarpet\",\"colorbar\":{\"outlinewidth\":0,\"ticks\":\"\"}}],\"contour\":[{\"type\":\"contour\",\"colorbar\":{\"outlinewidth\":0,\"ticks\":\"\"},\"colorscale\":[[0.0,\"#0d0887\"],[0.1111111111111111,\"#46039f\"],[0.2222222222222222,\"#7201a8\"],[0.3333333333333333,\"#9c179e\"],[0.4444444444444444,\"#bd3786\"],[0.5555555555555556,\"#d8576b\"],[0.6666666666666666,\"#ed7953\"],[0.7777777777777778,\"#fb9f3a\"],[0.8888888888888888,\"#fdca26\"],[1.0,\"#f0f921\"]]}],\"surface\":[{\"type\":\"surface\",\"colorbar\":{\"outlinewidth\":0,\"ticks\":\"\"},\"colorscale\":[[0.0,\"#0d0887\"],[0.1111111111111111,\"#46039f\"],[0.2222222222222222,\"#7201a8\"],[0.3333333333333333,\"#9c179e\"],[0.4444444444444444,\"#bd3786\"],[0.5555555555555556,\"#d8576b\"],[0.6666666666666666,\"#ed7953\"],[0.7777777777777778,\"#fb9f3a\"],[0.8888888888888888,\"#fdca26\"],[1.0,\"#f0f921\"]]}],\"mesh3d\":[{\"type\":\"mesh3d\",\"colorbar\":{\"outlinewidth\":0,\"ticks\":\"\"}}],\"scatter\":[{\"fillpattern\":{\"fillmode\":\"overlay\",\"size\":10,\"solidity\":0.2},\"type\":\"scatter\"}],\"parcoords\":[{\"type\":\"parcoords\",\"line\":{\"colorbar\":{\"outlinewidth\":0,\"ticks\":\"\"}}}],\"scatterpolargl\":[{\"type\":\"scatterpolargl\",\"marker\":{\"colorbar\":{\"outlinewidth\":0,\"ticks\":\"\"}}}],\"bar\":[{\"error_x\":{\"color\":\"#2a3f5f\"},\"error_y\":{\"color\":\"#2a3f5f\"},\"marker\":{\"line\":{\"color\":\"#E5ECF6\",\"width\":0.5},\"pattern\":{\"fillmode\":\"overlay\",\"size\":10,\"solidity\":0.2}},\"type\":\"bar\"}],\"scattergeo\":[{\"type\":\"scattergeo\",\"marker\":{\"colorbar\":{\"outlinewidth\":0,\"ticks\":\"\"}}}],\"scatterpolar\":[{\"type\":\"scatterpolar\",\"marker\":{\"colorbar\":{\"outlinewidth\":0,\"ticks\":\"\"}}}],\"histogram\":[{\"marker\":{\"pattern\":{\"fillmode\":\"overlay\",\"size\":10,\"solidity\":0.2}},\"type\":\"histogram\"}],\"scattergl\":[{\"type\":\"scattergl\",\"marker\":{\"colorbar\":{\"outlinewidth\":0,\"ticks\":\"\"}}}],\"scatter3d\":[{\"type\":\"scatter3d\",\"line\":{\"colorbar\":{\"outlinewidth\":0,\"ticks\":\"\"}},\"marker\":{\"colorbar\":{\"outlinewidth\":0,\"ticks\":\"\"}}}],\"scattermap\":[{\"type\":\"scattermap\",\"marker\":{\"colorbar\":{\"outlinewidth\":0,\"ticks\":\"\"}}}],\"scattermapbox\":[{\"type\":\"scattermapbox\",\"marker\":{\"colorbar\":{\"outlinewidth\":0,\"ticks\":\"\"}}}],\"scatterternary\":[{\"type\":\"scatterternary\",\"marker\":{\"colorbar\":{\"outlinewidth\":0,\"ticks\":\"\"}}}],\"scattercarpet\":[{\"type\":\"scattercarpet\",\"marker\":{\"colorbar\":{\"outlinewidth\":0,\"ticks\":\"\"}}}],\"carpet\":[{\"aaxis\":{\"endlinecolor\":\"#2a3f5f\",\"gridcolor\":\"white\",\"linecolor\":\"white\",\"minorgridcolor\":\"white\",\"startlinecolor\":\"#2a3f5f\"},\"baxis\":{\"endlinecolor\":\"#2a3f5f\",\"gridcolor\":\"white\",\"linecolor\":\"white\",\"minorgridcolor\":\"white\",\"startlinecolor\":\"#2a3f5f\"},\"type\":\"carpet\"}],\"table\":[{\"cells\":{\"fill\":{\"color\":\"#EBF0F8\"},\"line\":{\"color\":\"white\"}},\"header\":{\"fill\":{\"color\":\"#C8D4E3\"},\"line\":{\"color\":\"white\"}},\"type\":\"table\"}],\"barpolar\":[{\"marker\":{\"line\":{\"color\":\"#E5ECF6\",\"width\":0.5},\"pattern\":{\"fillmode\":\"overlay\",\"size\":10,\"solidity\":0.2}},\"type\":\"barpolar\"}],\"pie\":[{\"automargin\":true,\"type\":\"pie\"}]},\"layout\":{\"autotypenumbers\":\"strict\",\"colorway\":[\"#636efa\",\"#EF553B\",\"#00cc96\",\"#ab63fa\",\"#FFA15A\",\"#19d3f3\",\"#FF6692\",\"#B6E880\",\"#FF97FF\",\"#FECB52\"],\"font\":{\"color\":\"#2a3f5f\"},\"hovermode\":\"closest\",\"hoverlabel\":{\"align\":\"left\"},\"paper_bgcolor\":\"white\",\"plot_bgcolor\":\"#E5ECF6\",\"polar\":{\"bgcolor\":\"#E5ECF6\",\"angularaxis\":{\"gridcolor\":\"white\",\"linecolor\":\"white\",\"ticks\":\"\"},\"radialaxis\":{\"gridcolor\":\"white\",\"linecolor\":\"white\",\"ticks\":\"\"}},\"ternary\":{\"bgcolor\":\"#E5ECF6\",\"aaxis\":{\"gridcolor\":\"white\",\"linecolor\":\"white\",\"ticks\":\"\"},\"baxis\":{\"gridcolor\":\"white\",\"linecolor\":\"white\",\"ticks\":\"\"},\"caxis\":{\"gridcolor\":\"white\",\"linecolor\":\"white\",\"ticks\":\"\"}},\"coloraxis\":{\"colorbar\":{\"outlinewidth\":0,\"ticks\":\"\"}},\"colorscale\":{\"sequential\":[[0.0,\"#0d0887\"],[0.1111111111111111,\"#46039f\"],[0.2222222222222222,\"#7201a8\"],[0.3333333333333333,\"#9c179e\"],[0.4444444444444444,\"#bd3786\"],[0.5555555555555556,\"#d8576b\"],[0.6666666666666666,\"#ed7953\"],[0.7777777777777778,\"#fb9f3a\"],[0.8888888888888888,\"#fdca26\"],[1.0,\"#f0f921\"]],\"sequentialminus\":[[0.0,\"#0d0887\"],[0.1111111111111111,\"#46039f\"],[0.2222222222222222,\"#7201a8\"],[0.3333333333333333,\"#9c179e\"],[0.4444444444444444,\"#bd3786\"],[0.5555555555555556,\"#d8576b\"],[0.6666666666666666,\"#ed7953\"],[0.7777777777777778,\"#fb9f3a\"],[0.8888888888888888,\"#fdca26\"],[1.0,\"#f0f921\"]],\"diverging\":[[0,\"#8e0152\"],[0.1,\"#c51b7d\"],[0.2,\"#de77ae\"],[0.3,\"#f1b6da\"],[0.4,\"#fde0ef\"],[0.5,\"#f7f7f7\"],[0.6,\"#e6f5d0\"],[0.7,\"#b8e186\"],[0.8,\"#7fbc41\"],[0.9,\"#4d9221\"],[1,\"#276419\"]]},\"xaxis\":{\"gridcolor\":\"white\",\"linecolor\":\"white\",\"ticks\":\"\",\"title\":{\"standoff\":15},\"zerolinecolor\":\"white\",\"automargin\":true,\"zerolinewidth\":2},\"yaxis\":{\"gridcolor\":\"white\",\"linecolor\":\"white\",\"ticks\":\"\",\"title\":{\"standoff\":15},\"zerolinecolor\":\"white\",\"automargin\":true,\"zerolinewidth\":2},\"scene\":{\"xaxis\":{\"backgroundcolor\":\"#E5ECF6\",\"gridcolor\":\"white\",\"linecolor\":\"white\",\"showbackground\":true,\"ticks\":\"\",\"zerolinecolor\":\"white\",\"gridwidth\":2},\"yaxis\":{\"backgroundcolor\":\"#E5ECF6\",\"gridcolor\":\"white\",\"linecolor\":\"white\",\"showbackground\":true,\"ticks\":\"\",\"zerolinecolor\":\"white\",\"gridwidth\":2},\"zaxis\":{\"backgroundcolor\":\"#E5ECF6\",\"gridcolor\":\"white\",\"linecolor\":\"white\",\"showbackground\":true,\"ticks\":\"\",\"zerolinecolor\":\"white\",\"gridwidth\":2}},\"shapedefaults\":{\"line\":{\"color\":\"#2a3f5f\"}},\"annotationdefaults\":{\"arrowcolor\":\"#2a3f5f\",\"arrowhead\":0,\"arrowwidth\":1},\"geo\":{\"bgcolor\":\"white\",\"landcolor\":\"#E5ECF6\",\"subunitcolor\":\"white\",\"showland\":true,\"showlakes\":true,\"lakecolor\":\"white\"},\"title\":{\"x\":0.05},\"mapbox\":{\"style\":\"light\"}}},\"title\":{\"text\":\"Overall Education Qualification of all the Nominees\"}},                        {\"responsive\": true}                    ).then(function(){\n",
       "                            \n",
       "var gd = document.getElementById('96d3ee2b-945e-47fa-8c1a-85f33629295f');\n",
       "var x = new MutationObserver(function (mutations, observer) {{\n",
       "        var display = window.getComputedStyle(gd).display;\n",
       "        if (!display || display === 'none') {{\n",
       "            console.log([gd, 'removed!']);\n",
       "            Plotly.purge(gd);\n",
       "            observer.disconnect();\n",
       "        }}\n",
       "}});\n",
       "\n",
       "// Listen for the removal of the full notebook cells\n",
       "var notebookContainer = gd.closest('#notebook-container');\n",
       "if (notebookContainer) {{\n",
       "    x.observe(notebookContainer, {childList: true});\n",
       "}}\n",
       "\n",
       "// Listen for the clearing of the current output cell\n",
       "var outputEl = gd.closest('.output');\n",
       "if (outputEl) {{\n",
       "    x.observe(outputEl, {childList: true});\n",
       "}}\n",
       "\n",
       "                        })                };            </script>        </div>"
      ]
     },
     "metadata": {},
     "output_type": "display_data"
    },
    {
     "name": "stderr",
     "output_type": "stream",
     "text": [
      "C:\\Users\\AbhiLoki\\AppData\\Local\\Temp\\ipykernel_1204\\827373411.py:7: DeprecationWarning:\n",
      "\n",
      "DataFrameGroupBy.apply operated on the grouping columns. This behavior is deprecated, and in a future version of pandas the grouping columns will be excluded from the operation. Either pass `include_groups=False` to exclude the groupings or explicitly select the grouping columns after groupby to silence this warning.\n",
      "\n"
     ]
    },
    {
     "data": {
      "application/vnd.plotly.v1+json": {
       "config": {
        "plotlyServerURL": "https://plot.ly"
       },
       "data": [
        {
         "labels": [
          "10th Pass",
          "12th Pass",
          "5th Pass",
          "8th Pass",
          "Doctorate",
          "Graduate",
          "Graduate Professional",
          "Illiterate",
          "Literate",
          "Others",
          "Post Graduate",
          "Post Graduate\n"
         ],
         "pull": [
          0.1,
          0.2,
          0,
          0.1,
          0.2,
          0,
          0.1,
          0.1,
          0.2,
          0,
          0.1,
          0.2
         ],
         "title": {
          "text": "Education Qualification of the Winners"
         },
         "type": "pie",
         "values": {
          "bdata": "LQBFAAQADAAXAIQAYwABAAIAEQCGAAEA",
          "dtype": "i2"
         }
        }
       ],
       "layout": {
        "template": {
         "data": {
          "bar": [
           {
            "error_x": {
             "color": "#2a3f5f"
            },
            "error_y": {
             "color": "#2a3f5f"
            },
            "marker": {
             "line": {
              "color": "#E5ECF6",
              "width": 0.5
             },
             "pattern": {
              "fillmode": "overlay",
              "size": 10,
              "solidity": 0.2
             }
            },
            "type": "bar"
           }
          ],
          "barpolar": [
           {
            "marker": {
             "line": {
              "color": "#E5ECF6",
              "width": 0.5
             },
             "pattern": {
              "fillmode": "overlay",
              "size": 10,
              "solidity": 0.2
             }
            },
            "type": "barpolar"
           }
          ],
          "carpet": [
           {
            "aaxis": {
             "endlinecolor": "#2a3f5f",
             "gridcolor": "white",
             "linecolor": "white",
             "minorgridcolor": "white",
             "startlinecolor": "#2a3f5f"
            },
            "baxis": {
             "endlinecolor": "#2a3f5f",
             "gridcolor": "white",
             "linecolor": "white",
             "minorgridcolor": "white",
             "startlinecolor": "#2a3f5f"
            },
            "type": "carpet"
           }
          ],
          "choropleth": [
           {
            "colorbar": {
             "outlinewidth": 0,
             "ticks": ""
            },
            "type": "choropleth"
           }
          ],
          "contour": [
           {
            "colorbar": {
             "outlinewidth": 0,
             "ticks": ""
            },
            "colorscale": [
             [
              0,
              "#0d0887"
             ],
             [
              0.1111111111111111,
              "#46039f"
             ],
             [
              0.2222222222222222,
              "#7201a8"
             ],
             [
              0.3333333333333333,
              "#9c179e"
             ],
             [
              0.4444444444444444,
              "#bd3786"
             ],
             [
              0.5555555555555556,
              "#d8576b"
             ],
             [
              0.6666666666666666,
              "#ed7953"
             ],
             [
              0.7777777777777778,
              "#fb9f3a"
             ],
             [
              0.8888888888888888,
              "#fdca26"
             ],
             [
              1,
              "#f0f921"
             ]
            ],
            "type": "contour"
           }
          ],
          "contourcarpet": [
           {
            "colorbar": {
             "outlinewidth": 0,
             "ticks": ""
            },
            "type": "contourcarpet"
           }
          ],
          "heatmap": [
           {
            "colorbar": {
             "outlinewidth": 0,
             "ticks": ""
            },
            "colorscale": [
             [
              0,
              "#0d0887"
             ],
             [
              0.1111111111111111,
              "#46039f"
             ],
             [
              0.2222222222222222,
              "#7201a8"
             ],
             [
              0.3333333333333333,
              "#9c179e"
             ],
             [
              0.4444444444444444,
              "#bd3786"
             ],
             [
              0.5555555555555556,
              "#d8576b"
             ],
             [
              0.6666666666666666,
              "#ed7953"
             ],
             [
              0.7777777777777778,
              "#fb9f3a"
             ],
             [
              0.8888888888888888,
              "#fdca26"
             ],
             [
              1,
              "#f0f921"
             ]
            ],
            "type": "heatmap"
           }
          ],
          "histogram": [
           {
            "marker": {
             "pattern": {
              "fillmode": "overlay",
              "size": 10,
              "solidity": 0.2
             }
            },
            "type": "histogram"
           }
          ],
          "histogram2d": [
           {
            "colorbar": {
             "outlinewidth": 0,
             "ticks": ""
            },
            "colorscale": [
             [
              0,
              "#0d0887"
             ],
             [
              0.1111111111111111,
              "#46039f"
             ],
             [
              0.2222222222222222,
              "#7201a8"
             ],
             [
              0.3333333333333333,
              "#9c179e"
             ],
             [
              0.4444444444444444,
              "#bd3786"
             ],
             [
              0.5555555555555556,
              "#d8576b"
             ],
             [
              0.6666666666666666,
              "#ed7953"
             ],
             [
              0.7777777777777778,
              "#fb9f3a"
             ],
             [
              0.8888888888888888,
              "#fdca26"
             ],
             [
              1,
              "#f0f921"
             ]
            ],
            "type": "histogram2d"
           }
          ],
          "histogram2dcontour": [
           {
            "colorbar": {
             "outlinewidth": 0,
             "ticks": ""
            },
            "colorscale": [
             [
              0,
              "#0d0887"
             ],
             [
              0.1111111111111111,
              "#46039f"
             ],
             [
              0.2222222222222222,
              "#7201a8"
             ],
             [
              0.3333333333333333,
              "#9c179e"
             ],
             [
              0.4444444444444444,
              "#bd3786"
             ],
             [
              0.5555555555555556,
              "#d8576b"
             ],
             [
              0.6666666666666666,
              "#ed7953"
             ],
             [
              0.7777777777777778,
              "#fb9f3a"
             ],
             [
              0.8888888888888888,
              "#fdca26"
             ],
             [
              1,
              "#f0f921"
             ]
            ],
            "type": "histogram2dcontour"
           }
          ],
          "mesh3d": [
           {
            "colorbar": {
             "outlinewidth": 0,
             "ticks": ""
            },
            "type": "mesh3d"
           }
          ],
          "parcoords": [
           {
            "line": {
             "colorbar": {
              "outlinewidth": 0,
              "ticks": ""
             }
            },
            "type": "parcoords"
           }
          ],
          "pie": [
           {
            "automargin": true,
            "type": "pie"
           }
          ],
          "scatter": [
           {
            "fillpattern": {
             "fillmode": "overlay",
             "size": 10,
             "solidity": 0.2
            },
            "type": "scatter"
           }
          ],
          "scatter3d": [
           {
            "line": {
             "colorbar": {
              "outlinewidth": 0,
              "ticks": ""
             }
            },
            "marker": {
             "colorbar": {
              "outlinewidth": 0,
              "ticks": ""
             }
            },
            "type": "scatter3d"
           }
          ],
          "scattercarpet": [
           {
            "marker": {
             "colorbar": {
              "outlinewidth": 0,
              "ticks": ""
             }
            },
            "type": "scattercarpet"
           }
          ],
          "scattergeo": [
           {
            "marker": {
             "colorbar": {
              "outlinewidth": 0,
              "ticks": ""
             }
            },
            "type": "scattergeo"
           }
          ],
          "scattergl": [
           {
            "marker": {
             "colorbar": {
              "outlinewidth": 0,
              "ticks": ""
             }
            },
            "type": "scattergl"
           }
          ],
          "scattermap": [
           {
            "marker": {
             "colorbar": {
              "outlinewidth": 0,
              "ticks": ""
             }
            },
            "type": "scattermap"
           }
          ],
          "scattermapbox": [
           {
            "marker": {
             "colorbar": {
              "outlinewidth": 0,
              "ticks": ""
             }
            },
            "type": "scattermapbox"
           }
          ],
          "scatterpolar": [
           {
            "marker": {
             "colorbar": {
              "outlinewidth": 0,
              "ticks": ""
             }
            },
            "type": "scatterpolar"
           }
          ],
          "scatterpolargl": [
           {
            "marker": {
             "colorbar": {
              "outlinewidth": 0,
              "ticks": ""
             }
            },
            "type": "scatterpolargl"
           }
          ],
          "scatterternary": [
           {
            "marker": {
             "colorbar": {
              "outlinewidth": 0,
              "ticks": ""
             }
            },
            "type": "scatterternary"
           }
          ],
          "surface": [
           {
            "colorbar": {
             "outlinewidth": 0,
             "ticks": ""
            },
            "colorscale": [
             [
              0,
              "#0d0887"
             ],
             [
              0.1111111111111111,
              "#46039f"
             ],
             [
              0.2222222222222222,
              "#7201a8"
             ],
             [
              0.3333333333333333,
              "#9c179e"
             ],
             [
              0.4444444444444444,
              "#bd3786"
             ],
             [
              0.5555555555555556,
              "#d8576b"
             ],
             [
              0.6666666666666666,
              "#ed7953"
             ],
             [
              0.7777777777777778,
              "#fb9f3a"
             ],
             [
              0.8888888888888888,
              "#fdca26"
             ],
             [
              1,
              "#f0f921"
             ]
            ],
            "type": "surface"
           }
          ],
          "table": [
           {
            "cells": {
             "fill": {
              "color": "#EBF0F8"
             },
             "line": {
              "color": "white"
             }
            },
            "header": {
             "fill": {
              "color": "#C8D4E3"
             },
             "line": {
              "color": "white"
             }
            },
            "type": "table"
           }
          ]
         },
         "layout": {
          "annotationdefaults": {
           "arrowcolor": "#2a3f5f",
           "arrowhead": 0,
           "arrowwidth": 1
          },
          "autotypenumbers": "strict",
          "coloraxis": {
           "colorbar": {
            "outlinewidth": 0,
            "ticks": ""
           }
          },
          "colorscale": {
           "diverging": [
            [
             0,
             "#8e0152"
            ],
            [
             0.1,
             "#c51b7d"
            ],
            [
             0.2,
             "#de77ae"
            ],
            [
             0.3,
             "#f1b6da"
            ],
            [
             0.4,
             "#fde0ef"
            ],
            [
             0.5,
             "#f7f7f7"
            ],
            [
             0.6,
             "#e6f5d0"
            ],
            [
             0.7,
             "#b8e186"
            ],
            [
             0.8,
             "#7fbc41"
            ],
            [
             0.9,
             "#4d9221"
            ],
            [
             1,
             "#276419"
            ]
           ],
           "sequential": [
            [
             0,
             "#0d0887"
            ],
            [
             0.1111111111111111,
             "#46039f"
            ],
            [
             0.2222222222222222,
             "#7201a8"
            ],
            [
             0.3333333333333333,
             "#9c179e"
            ],
            [
             0.4444444444444444,
             "#bd3786"
            ],
            [
             0.5555555555555556,
             "#d8576b"
            ],
            [
             0.6666666666666666,
             "#ed7953"
            ],
            [
             0.7777777777777778,
             "#fb9f3a"
            ],
            [
             0.8888888888888888,
             "#fdca26"
            ],
            [
             1,
             "#f0f921"
            ]
           ],
           "sequentialminus": [
            [
             0,
             "#0d0887"
            ],
            [
             0.1111111111111111,
             "#46039f"
            ],
            [
             0.2222222222222222,
             "#7201a8"
            ],
            [
             0.3333333333333333,
             "#9c179e"
            ],
            [
             0.4444444444444444,
             "#bd3786"
            ],
            [
             0.5555555555555556,
             "#d8576b"
            ],
            [
             0.6666666666666666,
             "#ed7953"
            ],
            [
             0.7777777777777778,
             "#fb9f3a"
            ],
            [
             0.8888888888888888,
             "#fdca26"
            ],
            [
             1,
             "#f0f921"
            ]
           ]
          },
          "colorway": [
           "#636efa",
           "#EF553B",
           "#00cc96",
           "#ab63fa",
           "#FFA15A",
           "#19d3f3",
           "#FF6692",
           "#B6E880",
           "#FF97FF",
           "#FECB52"
          ],
          "font": {
           "color": "#2a3f5f"
          },
          "geo": {
           "bgcolor": "white",
           "lakecolor": "white",
           "landcolor": "#E5ECF6",
           "showlakes": true,
           "showland": true,
           "subunitcolor": "white"
          },
          "hoverlabel": {
           "align": "left"
          },
          "hovermode": "closest",
          "mapbox": {
           "style": "light"
          },
          "paper_bgcolor": "white",
          "plot_bgcolor": "#E5ECF6",
          "polar": {
           "angularaxis": {
            "gridcolor": "white",
            "linecolor": "white",
            "ticks": ""
           },
           "bgcolor": "#E5ECF6",
           "radialaxis": {
            "gridcolor": "white",
            "linecolor": "white",
            "ticks": ""
           }
          },
          "scene": {
           "xaxis": {
            "backgroundcolor": "#E5ECF6",
            "gridcolor": "white",
            "gridwidth": 2,
            "linecolor": "white",
            "showbackground": true,
            "ticks": "",
            "zerolinecolor": "white"
           },
           "yaxis": {
            "backgroundcolor": "#E5ECF6",
            "gridcolor": "white",
            "gridwidth": 2,
            "linecolor": "white",
            "showbackground": true,
            "ticks": "",
            "zerolinecolor": "white"
           },
           "zaxis": {
            "backgroundcolor": "#E5ECF6",
            "gridcolor": "white",
            "gridwidth": 2,
            "linecolor": "white",
            "showbackground": true,
            "ticks": "",
            "zerolinecolor": "white"
           }
          },
          "shapedefaults": {
           "line": {
            "color": "#2a3f5f"
           }
          },
          "ternary": {
           "aaxis": {
            "gridcolor": "white",
            "linecolor": "white",
            "ticks": ""
           },
           "baxis": {
            "gridcolor": "white",
            "linecolor": "white",
            "ticks": ""
           },
           "bgcolor": "#E5ECF6",
           "caxis": {
            "gridcolor": "white",
            "linecolor": "white",
            "ticks": ""
           }
          },
          "title": {
           "x": 0.05
          },
          "xaxis": {
           "automargin": true,
           "gridcolor": "white",
           "linecolor": "white",
           "ticks": "",
           "title": {
            "standoff": 15
           },
           "zerolinecolor": "white",
           "zerolinewidth": 2
          },
          "yaxis": {
           "automargin": true,
           "gridcolor": "white",
           "linecolor": "white",
           "ticks": "",
           "title": {
            "standoff": 15
           },
           "zerolinecolor": "white",
           "zerolinewidth": 2
          }
         }
        },
        "title": {
         "text": "Education Qualification of the Winners"
        }
       }
      },
      "text/html": [
       "<div>            <script src=\"https://cdnjs.cloudflare.com/ajax/libs/mathjax/2.7.5/MathJax.js?config=TeX-AMS-MML_SVG\"></script><script type=\"text/javascript\">if (window.MathJax && window.MathJax.Hub && window.MathJax.Hub.Config) {window.MathJax.Hub.Config({SVG: {font: \"STIX-Web\"}});}</script>                <script type=\"text/javascript\">window.PlotlyConfig = {MathJaxConfig: 'local'};</script>\n",
       "        <script charset=\"utf-8\" src=\"https://cdn.plot.ly/plotly-3.0.1.min.js\"></script>                <div id=\"2d331b84-def3-4631-8f76-e47e7f390429\" class=\"plotly-graph-div\" style=\"height:525px; width:100%;\"></div>            <script type=\"text/javascript\">                window.PLOTLYENV=window.PLOTLYENV || {};                                if (document.getElementById(\"2d331b84-def3-4631-8f76-e47e7f390429\")) {                    Plotly.newPlot(                        \"2d331b84-def3-4631-8f76-e47e7f390429\",                        [{\"labels\":[\"10th Pass\",\"12th Pass\",\"5th Pass\",\"8th Pass\",\"Doctorate\",\"Graduate\",\"Graduate Professional\",\"Illiterate\",\"Literate\",\"Others\",\"Post Graduate\",\"Post Graduate\\n\"],\"pull\":[0.1,0.2,0,0.1,0.2,0,0.1,0.1,0.2,0,0.1,0.2],\"title\":{\"text\":\"Education Qualification of the Winners\"},\"values\":{\"dtype\":\"i2\",\"bdata\":\"LQBFAAQADAAXAIQAYwABAAIAEQCGAAEA\"},\"type\":\"pie\"}],                        {\"template\":{\"data\":{\"histogram2dcontour\":[{\"type\":\"histogram2dcontour\",\"colorbar\":{\"outlinewidth\":0,\"ticks\":\"\"},\"colorscale\":[[0.0,\"#0d0887\"],[0.1111111111111111,\"#46039f\"],[0.2222222222222222,\"#7201a8\"],[0.3333333333333333,\"#9c179e\"],[0.4444444444444444,\"#bd3786\"],[0.5555555555555556,\"#d8576b\"],[0.6666666666666666,\"#ed7953\"],[0.7777777777777778,\"#fb9f3a\"],[0.8888888888888888,\"#fdca26\"],[1.0,\"#f0f921\"]]}],\"choropleth\":[{\"type\":\"choropleth\",\"colorbar\":{\"outlinewidth\":0,\"ticks\":\"\"}}],\"histogram2d\":[{\"type\":\"histogram2d\",\"colorbar\":{\"outlinewidth\":0,\"ticks\":\"\"},\"colorscale\":[[0.0,\"#0d0887\"],[0.1111111111111111,\"#46039f\"],[0.2222222222222222,\"#7201a8\"],[0.3333333333333333,\"#9c179e\"],[0.4444444444444444,\"#bd3786\"],[0.5555555555555556,\"#d8576b\"],[0.6666666666666666,\"#ed7953\"],[0.7777777777777778,\"#fb9f3a\"],[0.8888888888888888,\"#fdca26\"],[1.0,\"#f0f921\"]]}],\"heatmap\":[{\"type\":\"heatmap\",\"colorbar\":{\"outlinewidth\":0,\"ticks\":\"\"},\"colorscale\":[[0.0,\"#0d0887\"],[0.1111111111111111,\"#46039f\"],[0.2222222222222222,\"#7201a8\"],[0.3333333333333333,\"#9c179e\"],[0.4444444444444444,\"#bd3786\"],[0.5555555555555556,\"#d8576b\"],[0.6666666666666666,\"#ed7953\"],[0.7777777777777778,\"#fb9f3a\"],[0.8888888888888888,\"#fdca26\"],[1.0,\"#f0f921\"]]}],\"contourcarpet\":[{\"type\":\"contourcarpet\",\"colorbar\":{\"outlinewidth\":0,\"ticks\":\"\"}}],\"contour\":[{\"type\":\"contour\",\"colorbar\":{\"outlinewidth\":0,\"ticks\":\"\"},\"colorscale\":[[0.0,\"#0d0887\"],[0.1111111111111111,\"#46039f\"],[0.2222222222222222,\"#7201a8\"],[0.3333333333333333,\"#9c179e\"],[0.4444444444444444,\"#bd3786\"],[0.5555555555555556,\"#d8576b\"],[0.6666666666666666,\"#ed7953\"],[0.7777777777777778,\"#fb9f3a\"],[0.8888888888888888,\"#fdca26\"],[1.0,\"#f0f921\"]]}],\"surface\":[{\"type\":\"surface\",\"colorbar\":{\"outlinewidth\":0,\"ticks\":\"\"},\"colorscale\":[[0.0,\"#0d0887\"],[0.1111111111111111,\"#46039f\"],[0.2222222222222222,\"#7201a8\"],[0.3333333333333333,\"#9c179e\"],[0.4444444444444444,\"#bd3786\"],[0.5555555555555556,\"#d8576b\"],[0.6666666666666666,\"#ed7953\"],[0.7777777777777778,\"#fb9f3a\"],[0.8888888888888888,\"#fdca26\"],[1.0,\"#f0f921\"]]}],\"mesh3d\":[{\"type\":\"mesh3d\",\"colorbar\":{\"outlinewidth\":0,\"ticks\":\"\"}}],\"scatter\":[{\"fillpattern\":{\"fillmode\":\"overlay\",\"size\":10,\"solidity\":0.2},\"type\":\"scatter\"}],\"parcoords\":[{\"type\":\"parcoords\",\"line\":{\"colorbar\":{\"outlinewidth\":0,\"ticks\":\"\"}}}],\"scatterpolargl\":[{\"type\":\"scatterpolargl\",\"marker\":{\"colorbar\":{\"outlinewidth\":0,\"ticks\":\"\"}}}],\"bar\":[{\"error_x\":{\"color\":\"#2a3f5f\"},\"error_y\":{\"color\":\"#2a3f5f\"},\"marker\":{\"line\":{\"color\":\"#E5ECF6\",\"width\":0.5},\"pattern\":{\"fillmode\":\"overlay\",\"size\":10,\"solidity\":0.2}},\"type\":\"bar\"}],\"scattergeo\":[{\"type\":\"scattergeo\",\"marker\":{\"colorbar\":{\"outlinewidth\":0,\"ticks\":\"\"}}}],\"scatterpolar\":[{\"type\":\"scatterpolar\",\"marker\":{\"colorbar\":{\"outlinewidth\":0,\"ticks\":\"\"}}}],\"histogram\":[{\"marker\":{\"pattern\":{\"fillmode\":\"overlay\",\"size\":10,\"solidity\":0.2}},\"type\":\"histogram\"}],\"scattergl\":[{\"type\":\"scattergl\",\"marker\":{\"colorbar\":{\"outlinewidth\":0,\"ticks\":\"\"}}}],\"scatter3d\":[{\"type\":\"scatter3d\",\"line\":{\"colorbar\":{\"outlinewidth\":0,\"ticks\":\"\"}},\"marker\":{\"colorbar\":{\"outlinewidth\":0,\"ticks\":\"\"}}}],\"scattermap\":[{\"type\":\"scattermap\",\"marker\":{\"colorbar\":{\"outlinewidth\":0,\"ticks\":\"\"}}}],\"scattermapbox\":[{\"type\":\"scattermapbox\",\"marker\":{\"colorbar\":{\"outlinewidth\":0,\"ticks\":\"\"}}}],\"scatterternary\":[{\"type\":\"scatterternary\",\"marker\":{\"colorbar\":{\"outlinewidth\":0,\"ticks\":\"\"}}}],\"scattercarpet\":[{\"type\":\"scattercarpet\",\"marker\":{\"colorbar\":{\"outlinewidth\":0,\"ticks\":\"\"}}}],\"carpet\":[{\"aaxis\":{\"endlinecolor\":\"#2a3f5f\",\"gridcolor\":\"white\",\"linecolor\":\"white\",\"minorgridcolor\":\"white\",\"startlinecolor\":\"#2a3f5f\"},\"baxis\":{\"endlinecolor\":\"#2a3f5f\",\"gridcolor\":\"white\",\"linecolor\":\"white\",\"minorgridcolor\":\"white\",\"startlinecolor\":\"#2a3f5f\"},\"type\":\"carpet\"}],\"table\":[{\"cells\":{\"fill\":{\"color\":\"#EBF0F8\"},\"line\":{\"color\":\"white\"}},\"header\":{\"fill\":{\"color\":\"#C8D4E3\"},\"line\":{\"color\":\"white\"}},\"type\":\"table\"}],\"barpolar\":[{\"marker\":{\"line\":{\"color\":\"#E5ECF6\",\"width\":0.5},\"pattern\":{\"fillmode\":\"overlay\",\"size\":10,\"solidity\":0.2}},\"type\":\"barpolar\"}],\"pie\":[{\"automargin\":true,\"type\":\"pie\"}]},\"layout\":{\"autotypenumbers\":\"strict\",\"colorway\":[\"#636efa\",\"#EF553B\",\"#00cc96\",\"#ab63fa\",\"#FFA15A\",\"#19d3f3\",\"#FF6692\",\"#B6E880\",\"#FF97FF\",\"#FECB52\"],\"font\":{\"color\":\"#2a3f5f\"},\"hovermode\":\"closest\",\"hoverlabel\":{\"align\":\"left\"},\"paper_bgcolor\":\"white\",\"plot_bgcolor\":\"#E5ECF6\",\"polar\":{\"bgcolor\":\"#E5ECF6\",\"angularaxis\":{\"gridcolor\":\"white\",\"linecolor\":\"white\",\"ticks\":\"\"},\"radialaxis\":{\"gridcolor\":\"white\",\"linecolor\":\"white\",\"ticks\":\"\"}},\"ternary\":{\"bgcolor\":\"#E5ECF6\",\"aaxis\":{\"gridcolor\":\"white\",\"linecolor\":\"white\",\"ticks\":\"\"},\"baxis\":{\"gridcolor\":\"white\",\"linecolor\":\"white\",\"ticks\":\"\"},\"caxis\":{\"gridcolor\":\"white\",\"linecolor\":\"white\",\"ticks\":\"\"}},\"coloraxis\":{\"colorbar\":{\"outlinewidth\":0,\"ticks\":\"\"}},\"colorscale\":{\"sequential\":[[0.0,\"#0d0887\"],[0.1111111111111111,\"#46039f\"],[0.2222222222222222,\"#7201a8\"],[0.3333333333333333,\"#9c179e\"],[0.4444444444444444,\"#bd3786\"],[0.5555555555555556,\"#d8576b\"],[0.6666666666666666,\"#ed7953\"],[0.7777777777777778,\"#fb9f3a\"],[0.8888888888888888,\"#fdca26\"],[1.0,\"#f0f921\"]],\"sequentialminus\":[[0.0,\"#0d0887\"],[0.1111111111111111,\"#46039f\"],[0.2222222222222222,\"#7201a8\"],[0.3333333333333333,\"#9c179e\"],[0.4444444444444444,\"#bd3786\"],[0.5555555555555556,\"#d8576b\"],[0.6666666666666666,\"#ed7953\"],[0.7777777777777778,\"#fb9f3a\"],[0.8888888888888888,\"#fdca26\"],[1.0,\"#f0f921\"]],\"diverging\":[[0,\"#8e0152\"],[0.1,\"#c51b7d\"],[0.2,\"#de77ae\"],[0.3,\"#f1b6da\"],[0.4,\"#fde0ef\"],[0.5,\"#f7f7f7\"],[0.6,\"#e6f5d0\"],[0.7,\"#b8e186\"],[0.8,\"#7fbc41\"],[0.9,\"#4d9221\"],[1,\"#276419\"]]},\"xaxis\":{\"gridcolor\":\"white\",\"linecolor\":\"white\",\"ticks\":\"\",\"title\":{\"standoff\":15},\"zerolinecolor\":\"white\",\"automargin\":true,\"zerolinewidth\":2},\"yaxis\":{\"gridcolor\":\"white\",\"linecolor\":\"white\",\"ticks\":\"\",\"title\":{\"standoff\":15},\"zerolinecolor\":\"white\",\"automargin\":true,\"zerolinewidth\":2},\"scene\":{\"xaxis\":{\"backgroundcolor\":\"#E5ECF6\",\"gridcolor\":\"white\",\"linecolor\":\"white\",\"showbackground\":true,\"ticks\":\"\",\"zerolinecolor\":\"white\",\"gridwidth\":2},\"yaxis\":{\"backgroundcolor\":\"#E5ECF6\",\"gridcolor\":\"white\",\"linecolor\":\"white\",\"showbackground\":true,\"ticks\":\"\",\"zerolinecolor\":\"white\",\"gridwidth\":2},\"zaxis\":{\"backgroundcolor\":\"#E5ECF6\",\"gridcolor\":\"white\",\"linecolor\":\"white\",\"showbackground\":true,\"ticks\":\"\",\"zerolinecolor\":\"white\",\"gridwidth\":2}},\"shapedefaults\":{\"line\":{\"color\":\"#2a3f5f\"}},\"annotationdefaults\":{\"arrowcolor\":\"#2a3f5f\",\"arrowhead\":0,\"arrowwidth\":1},\"geo\":{\"bgcolor\":\"white\",\"landcolor\":\"#E5ECF6\",\"subunitcolor\":\"white\",\"showland\":true,\"showlakes\":true,\"lakecolor\":\"white\"},\"title\":{\"x\":0.05},\"mapbox\":{\"style\":\"light\"}}},\"title\":{\"text\":\"Education Qualification of the Winners\"}},                        {\"responsive\": true}                    ).then(function(){\n",
       "                            \n",
       "var gd = document.getElementById('2d331b84-def3-4631-8f76-e47e7f390429');\n",
       "var x = new MutationObserver(function (mutations, observer) {{\n",
       "        var display = window.getComputedStyle(gd).display;\n",
       "        if (!display || display === 'none') {{\n",
       "            console.log([gd, 'removed!']);\n",
       "            Plotly.purge(gd);\n",
       "            observer.disconnect();\n",
       "        }}\n",
       "}});\n",
       "\n",
       "// Listen for the removal of the full notebook cells\n",
       "var notebookContainer = gd.closest('#notebook-container');\n",
       "if (notebookContainer) {{\n",
       "    x.observe(notebookContainer, {childList: true});\n",
       "}}\n",
       "\n",
       "// Listen for the clearing of the current output cell\n",
       "var outputEl = gd.closest('.output');\n",
       "if (outputEl) {{\n",
       "    x.observe(outputEl, {childList: true});\n",
       "}}\n",
       "\n",
       "                        })                };            </script>        </div>"
      ]
     },
     "metadata": {},
     "output_type": "display_data"
    }
   ],
   "source": [
    "ed_valid=vote[vote['PARTY']!=\"NOTA\"]\n",
    "ed_cnt=ed_valid.groupby('EDUCATION').apply(lambda x:x['PARTY'].count()).reset_index(name='Counts')\n",
    "fig = go.Figure(data=[go.Pie(labels=ed_cnt['EDUCATION'], values=ed_cnt['Counts'], pull=[0.1, 0.2, 0, 0.1, 0.2, 0,0.1, 0.2, 0,0.1, 0.2, 0.1])])\n",
    "fig.update_layout(title_text='Overall Education Qualification of all the Nominees')\n",
    "fig.show()\n",
    "ed_won=ed_valid[ed_valid['WINNER']==1]\n",
    "ed_win_cnt=ed_won.groupby('EDUCATION').apply(lambda x:x['PARTY'].count()).reset_index(name='Counts')\n",
    "fig2 = go.Figure(data=[go.Pie(labels=ed_win_cnt['EDUCATION'], values=ed_win_cnt['Counts'], pull=[0.1, 0.2, 0, 0.1, 0.2, 0,0.1, 0.1, 0.2,0, 0.1, 0.2],title='Education Qualification of the Winners')])\n",
    "fig2.update_layout(title_text='Education Qualification of the Winners')\n",
    "fig2.show()"
   ]
  },
  {
   "cell_type": "markdown",
   "id": "23b20bdb",
   "metadata": {},
   "source": [
    "#### Have the politicians been involved with criminal activities?"
   ]
  },
  {
   "cell_type": "code",
   "execution_count": 21,
   "id": "94d373dc",
   "metadata": {},
   "outputs": [
    {
     "name": "stdout",
     "output_type": "stream",
     "text": [
      "\n",
      "Number of Parties Selected: 14\n",
      "Selected Parties:\n",
      "      PARTY  Total_Criminal_Cases  Candidate_Count\n",
      "26      BJP                   898              420\n",
      "46      INC                   734              413\n",
      "35      BSP                   175              163\n",
      "38   CPI(M)                   168              100\n",
      "47      IND                   131              201\n",
      "112      SP                    74               39\n",
      "109     SHS                    62               26\n",
      "78      NCP                    54               21\n",
      "95      RJD                    52               21\n",
      "123     VBA                    44               47\n",
      "13     AITC                    41               47\n",
      "131   YSRCP                    41               25\n",
      "54    JD(U)                    35               18\n",
      "120     TRS                    32               17\n"
     ]
    },
    {
     "data": {
      "application/vnd.plotly.v1+json": {
       "config": {
        "plotlyServerURL": "https://plot.ly"
       },
       "data": [
        {
         "arrangement": "snap",
         "link": {
          "color": [
           "rgba(0, 204, 204, 0.6)",
           "rgba(144, 238, 144, 0.6)",
           "rgba(135, 206, 250, 0.6)",
           "rgba(221, 160, 221, 0.6)",
           "rgba(64, 224, 208, 0.6)",
           "rgba(173, 216, 230, 0.6)",
           "rgba(50, 205, 50, 0.6)",
           "rgba(240, 230, 140, 0.6)",
           "rgba(100, 149, 237, 0.6)",
           "rgba(152, 251, 152, 0.6)",
           "rgba(70, 130, 180, 0.6)",
           "rgba(245, 245, 220, 0.6)",
           "rgba(176, 224, 230, 0.6)",
           "rgba(154, 205, 50, 0.6)"
          ],
          "source": [
           0,
           1,
           2,
           3,
           4,
           5,
           6,
           7,
           8,
           9,
           10,
           11,
           12,
           13
          ],
          "target": [
           14,
           14,
           14,
           14,
           14,
           14,
           14,
           14,
           14,
           14,
           14,
           14,
           14,
           14
          ],
          "value": [
           898,
           734,
           175,
           168,
           131,
           74,
           62,
           54,
           52,
           44,
           41,
           41,
           35,
           32
          ]
         },
         "node": {
          "color": [
           "rgb(0, 204, 204)",
           "rgb(144, 238, 144)",
           "rgb(135, 206, 250)",
           "rgb(221, 160, 221)",
           "rgb(64, 224, 208)",
           "rgb(173, 216, 230)",
           "rgb(50, 205, 50)",
           "rgb(240, 230, 140)",
           "rgb(100, 149, 237)",
           "rgb(152, 251, 152)",
           "rgb(70, 130, 180)",
           "rgb(245, 245, 220)",
           "rgb(176, 224, 230)",
           "rgb(154, 205, 50)",
           "rgb(105, 105, 105)"
          ],
          "label": [
           "BJP\n(898 cases)",
           "INC\n(734 cases)",
           "BSP\n(175 cases)",
           "CPI(M)\n(168 cases)",
           "IND\n(131 cases)",
           "SP\n(74 cases)",
           "SHS\n(62 cases)",
           "NCP\n(54 cases)",
           "RJD\n(52 cases)",
           "VBA\n(44 cases)",
           "AITC\n(41 cases)",
           "YSRCP\n(41 cases)",
           "JD(U)\n(35 cases)",
           "TRS\n(32 cases)",
           "Criminal Cases"
          ],
          "line": {
           "color": "black",
           "width": 0.5
          },
          "pad": 15,
          "thickness": 20
         },
         "type": "sankey"
        }
       ],
       "layout": {
        "annotations": [
         {
          "font": {
           "color": "white",
           "size": 12
          },
          "showarrow": false,
          "text": "BJP: 898 cases",
          "x": 0.01,
          "xanchor": "left",
          "y": -0.8571428571428572
         },
         {
          "font": {
           "color": "white",
           "size": 12
          },
          "showarrow": false,
          "text": "INC: 734 cases",
          "x": 0.01,
          "xanchor": "left",
          "y": -2.2857142857142856
         },
         {
          "font": {
           "color": "white",
           "size": 12
          },
          "showarrow": false,
          "text": "BSP: 175 cases",
          "x": 0.01,
          "xanchor": "left",
          "y": -1.5
         },
         {
          "font": {
           "color": "white",
           "size": 12
          },
          "showarrow": false,
          "text": "CPI(M): 168 cases",
          "x": 0.01,
          "xanchor": "left",
          "y": -1.7142857142857144
         },
         {
          "font": {
           "color": "white",
           "size": 12
          },
          "showarrow": false,
          "text": "IND: 131 cases",
          "x": 0.01,
          "xanchor": "left",
          "y": -2.357142857142857
         },
         {
          "font": {
           "color": "white",
           "size": 12
          },
          "showarrow": false,
          "text": "SP: 74 cases",
          "x": 0.01,
          "xanchor": "left",
          "y": -7
         },
         {
          "font": {
           "color": "white",
           "size": 12
          },
          "showarrow": false,
          "text": "SHS: 62 cases",
          "x": 0.01,
          "xanchor": "left",
          "y": -6.785714285714286
         },
         {
          "font": {
           "color": "white",
           "size": 12
          },
          "showarrow": false,
          "text": "NCP: 54 cases",
          "x": 0.01,
          "xanchor": "left",
          "y": -4.571428571428571
         },
         {
          "font": {
           "color": "white",
           "size": 12
          },
          "showarrow": false,
          "text": "RJD: 52 cases",
          "x": 0.01,
          "xanchor": "left",
          "y": -5.785714285714286
         },
         {
          "font": {
           "color": "white",
           "size": 12
          },
          "showarrow": false,
          "text": "VBA: 44 cases",
          "x": 0.01,
          "xanchor": "left",
          "y": -7.7857142857142865
         },
         {
          "font": {
           "color": "white",
           "size": 12
          },
          "showarrow": false,
          "text": "AITC: 41 cases",
          "x": 0.01,
          "xanchor": "left",
          "y": 0.0714285714285714
         },
         {
          "font": {
           "color": "white",
           "size": 12
          },
          "showarrow": false,
          "text": "YSRCP: 41 cases",
          "x": 0.01,
          "xanchor": "left",
          "y": -8.357142857142858
         },
         {
          "font": {
           "color": "white",
           "size": 12
          },
          "showarrow": false,
          "text": "JD(U): 35 cases",
          "x": 0.01,
          "xanchor": "left",
          "y": -2.857142857142857
         },
         {
          "font": {
           "color": "white",
           "size": 12
          },
          "showarrow": false,
          "text": "TRS: 32 cases",
          "x": 0.01,
          "xanchor": "left",
          "y": -7.571428571428571
         }
        ],
        "height": 800,
        "margin": {
         "b": 50,
         "l": 50,
         "r": 50,
         "t": 100
        },
        "showlegend": false,
        "template": {
         "data": {
          "bar": [
           {
            "error_x": {
             "color": "#2a3f5f"
            },
            "error_y": {
             "color": "#2a3f5f"
            },
            "marker": {
             "line": {
              "color": "#E5ECF6",
              "width": 0.5
             },
             "pattern": {
              "fillmode": "overlay",
              "size": 10,
              "solidity": 0.2
             }
            },
            "type": "bar"
           }
          ],
          "barpolar": [
           {
            "marker": {
             "line": {
              "color": "#E5ECF6",
              "width": 0.5
             },
             "pattern": {
              "fillmode": "overlay",
              "size": 10,
              "solidity": 0.2
             }
            },
            "type": "barpolar"
           }
          ],
          "carpet": [
           {
            "aaxis": {
             "endlinecolor": "#2a3f5f",
             "gridcolor": "white",
             "linecolor": "white",
             "minorgridcolor": "white",
             "startlinecolor": "#2a3f5f"
            },
            "baxis": {
             "endlinecolor": "#2a3f5f",
             "gridcolor": "white",
             "linecolor": "white",
             "minorgridcolor": "white",
             "startlinecolor": "#2a3f5f"
            },
            "type": "carpet"
           }
          ],
          "choropleth": [
           {
            "colorbar": {
             "outlinewidth": 0,
             "ticks": ""
            },
            "type": "choropleth"
           }
          ],
          "contour": [
           {
            "colorbar": {
             "outlinewidth": 0,
             "ticks": ""
            },
            "colorscale": [
             [
              0,
              "#0d0887"
             ],
             [
              0.1111111111111111,
              "#46039f"
             ],
             [
              0.2222222222222222,
              "#7201a8"
             ],
             [
              0.3333333333333333,
              "#9c179e"
             ],
             [
              0.4444444444444444,
              "#bd3786"
             ],
             [
              0.5555555555555556,
              "#d8576b"
             ],
             [
              0.6666666666666666,
              "#ed7953"
             ],
             [
              0.7777777777777778,
              "#fb9f3a"
             ],
             [
              0.8888888888888888,
              "#fdca26"
             ],
             [
              1,
              "#f0f921"
             ]
            ],
            "type": "contour"
           }
          ],
          "contourcarpet": [
           {
            "colorbar": {
             "outlinewidth": 0,
             "ticks": ""
            },
            "type": "contourcarpet"
           }
          ],
          "heatmap": [
           {
            "colorbar": {
             "outlinewidth": 0,
             "ticks": ""
            },
            "colorscale": [
             [
              0,
              "#0d0887"
             ],
             [
              0.1111111111111111,
              "#46039f"
             ],
             [
              0.2222222222222222,
              "#7201a8"
             ],
             [
              0.3333333333333333,
              "#9c179e"
             ],
             [
              0.4444444444444444,
              "#bd3786"
             ],
             [
              0.5555555555555556,
              "#d8576b"
             ],
             [
              0.6666666666666666,
              "#ed7953"
             ],
             [
              0.7777777777777778,
              "#fb9f3a"
             ],
             [
              0.8888888888888888,
              "#fdca26"
             ],
             [
              1,
              "#f0f921"
             ]
            ],
            "type": "heatmap"
           }
          ],
          "histogram": [
           {
            "marker": {
             "pattern": {
              "fillmode": "overlay",
              "size": 10,
              "solidity": 0.2
             }
            },
            "type": "histogram"
           }
          ],
          "histogram2d": [
           {
            "colorbar": {
             "outlinewidth": 0,
             "ticks": ""
            },
            "colorscale": [
             [
              0,
              "#0d0887"
             ],
             [
              0.1111111111111111,
              "#46039f"
             ],
             [
              0.2222222222222222,
              "#7201a8"
             ],
             [
              0.3333333333333333,
              "#9c179e"
             ],
             [
              0.4444444444444444,
              "#bd3786"
             ],
             [
              0.5555555555555556,
              "#d8576b"
             ],
             [
              0.6666666666666666,
              "#ed7953"
             ],
             [
              0.7777777777777778,
              "#fb9f3a"
             ],
             [
              0.8888888888888888,
              "#fdca26"
             ],
             [
              1,
              "#f0f921"
             ]
            ],
            "type": "histogram2d"
           }
          ],
          "histogram2dcontour": [
           {
            "colorbar": {
             "outlinewidth": 0,
             "ticks": ""
            },
            "colorscale": [
             [
              0,
              "#0d0887"
             ],
             [
              0.1111111111111111,
              "#46039f"
             ],
             [
              0.2222222222222222,
              "#7201a8"
             ],
             [
              0.3333333333333333,
              "#9c179e"
             ],
             [
              0.4444444444444444,
              "#bd3786"
             ],
             [
              0.5555555555555556,
              "#d8576b"
             ],
             [
              0.6666666666666666,
              "#ed7953"
             ],
             [
              0.7777777777777778,
              "#fb9f3a"
             ],
             [
              0.8888888888888888,
              "#fdca26"
             ],
             [
              1,
              "#f0f921"
             ]
            ],
            "type": "histogram2dcontour"
           }
          ],
          "mesh3d": [
           {
            "colorbar": {
             "outlinewidth": 0,
             "ticks": ""
            },
            "type": "mesh3d"
           }
          ],
          "parcoords": [
           {
            "line": {
             "colorbar": {
              "outlinewidth": 0,
              "ticks": ""
             }
            },
            "type": "parcoords"
           }
          ],
          "pie": [
           {
            "automargin": true,
            "type": "pie"
           }
          ],
          "scatter": [
           {
            "fillpattern": {
             "fillmode": "overlay",
             "size": 10,
             "solidity": 0.2
            },
            "type": "scatter"
           }
          ],
          "scatter3d": [
           {
            "line": {
             "colorbar": {
              "outlinewidth": 0,
              "ticks": ""
             }
            },
            "marker": {
             "colorbar": {
              "outlinewidth": 0,
              "ticks": ""
             }
            },
            "type": "scatter3d"
           }
          ],
          "scattercarpet": [
           {
            "marker": {
             "colorbar": {
              "outlinewidth": 0,
              "ticks": ""
             }
            },
            "type": "scattercarpet"
           }
          ],
          "scattergeo": [
           {
            "marker": {
             "colorbar": {
              "outlinewidth": 0,
              "ticks": ""
             }
            },
            "type": "scattergeo"
           }
          ],
          "scattergl": [
           {
            "marker": {
             "colorbar": {
              "outlinewidth": 0,
              "ticks": ""
             }
            },
            "type": "scattergl"
           }
          ],
          "scattermap": [
           {
            "marker": {
             "colorbar": {
              "outlinewidth": 0,
              "ticks": ""
             }
            },
            "type": "scattermap"
           }
          ],
          "scattermapbox": [
           {
            "marker": {
             "colorbar": {
              "outlinewidth": 0,
              "ticks": ""
             }
            },
            "type": "scattermapbox"
           }
          ],
          "scatterpolar": [
           {
            "marker": {
             "colorbar": {
              "outlinewidth": 0,
              "ticks": ""
             }
            },
            "type": "scatterpolar"
           }
          ],
          "scatterpolargl": [
           {
            "marker": {
             "colorbar": {
              "outlinewidth": 0,
              "ticks": ""
             }
            },
            "type": "scatterpolargl"
           }
          ],
          "scatterternary": [
           {
            "marker": {
             "colorbar": {
              "outlinewidth": 0,
              "ticks": ""
             }
            },
            "type": "scatterternary"
           }
          ],
          "surface": [
           {
            "colorbar": {
             "outlinewidth": 0,
             "ticks": ""
            },
            "colorscale": [
             [
              0,
              "#0d0887"
             ],
             [
              0.1111111111111111,
              "#46039f"
             ],
             [
              0.2222222222222222,
              "#7201a8"
             ],
             [
              0.3333333333333333,
              "#9c179e"
             ],
             [
              0.4444444444444444,
              "#bd3786"
             ],
             [
              0.5555555555555556,
              "#d8576b"
             ],
             [
              0.6666666666666666,
              "#ed7953"
             ],
             [
              0.7777777777777778,
              "#fb9f3a"
             ],
             [
              0.8888888888888888,
              "#fdca26"
             ],
             [
              1,
              "#f0f921"
             ]
            ],
            "type": "surface"
           }
          ],
          "table": [
           {
            "cells": {
             "fill": {
              "color": "#EBF0F8"
             },
             "line": {
              "color": "white"
             }
            },
            "header": {
             "fill": {
              "color": "#C8D4E3"
             },
             "line": {
              "color": "white"
             }
            },
            "type": "table"
           }
          ]
         },
         "layout": {
          "annotationdefaults": {
           "arrowcolor": "#2a3f5f",
           "arrowhead": 0,
           "arrowwidth": 1
          },
          "autotypenumbers": "strict",
          "coloraxis": {
           "colorbar": {
            "outlinewidth": 0,
            "ticks": ""
           }
          },
          "colorscale": {
           "diverging": [
            [
             0,
             "#8e0152"
            ],
            [
             0.1,
             "#c51b7d"
            ],
            [
             0.2,
             "#de77ae"
            ],
            [
             0.3,
             "#f1b6da"
            ],
            [
             0.4,
             "#fde0ef"
            ],
            [
             0.5,
             "#f7f7f7"
            ],
            [
             0.6,
             "#e6f5d0"
            ],
            [
             0.7,
             "#b8e186"
            ],
            [
             0.8,
             "#7fbc41"
            ],
            [
             0.9,
             "#4d9221"
            ],
            [
             1,
             "#276419"
            ]
           ],
           "sequential": [
            [
             0,
             "#0d0887"
            ],
            [
             0.1111111111111111,
             "#46039f"
            ],
            [
             0.2222222222222222,
             "#7201a8"
            ],
            [
             0.3333333333333333,
             "#9c179e"
            ],
            [
             0.4444444444444444,
             "#bd3786"
            ],
            [
             0.5555555555555556,
             "#d8576b"
            ],
            [
             0.6666666666666666,
             "#ed7953"
            ],
            [
             0.7777777777777778,
             "#fb9f3a"
            ],
            [
             0.8888888888888888,
             "#fdca26"
            ],
            [
             1,
             "#f0f921"
            ]
           ],
           "sequentialminus": [
            [
             0,
             "#0d0887"
            ],
            [
             0.1111111111111111,
             "#46039f"
            ],
            [
             0.2222222222222222,
             "#7201a8"
            ],
            [
             0.3333333333333333,
             "#9c179e"
            ],
            [
             0.4444444444444444,
             "#bd3786"
            ],
            [
             0.5555555555555556,
             "#d8576b"
            ],
            [
             0.6666666666666666,
             "#ed7953"
            ],
            [
             0.7777777777777778,
             "#fb9f3a"
            ],
            [
             0.8888888888888888,
             "#fdca26"
            ],
            [
             1,
             "#f0f921"
            ]
           ]
          },
          "colorway": [
           "#636efa",
           "#EF553B",
           "#00cc96",
           "#ab63fa",
           "#FFA15A",
           "#19d3f3",
           "#FF6692",
           "#B6E880",
           "#FF97FF",
           "#FECB52"
          ],
          "font": {
           "color": "#2a3f5f"
          },
          "geo": {
           "bgcolor": "white",
           "lakecolor": "white",
           "landcolor": "#E5ECF6",
           "showlakes": true,
           "showland": true,
           "subunitcolor": "white"
          },
          "hoverlabel": {
           "align": "left"
          },
          "hovermode": "closest",
          "mapbox": {
           "style": "light"
          },
          "paper_bgcolor": "white",
          "plot_bgcolor": "#E5ECF6",
          "polar": {
           "angularaxis": {
            "gridcolor": "white",
            "linecolor": "white",
            "ticks": ""
           },
           "bgcolor": "#E5ECF6",
           "radialaxis": {
            "gridcolor": "white",
            "linecolor": "white",
            "ticks": ""
           }
          },
          "scene": {
           "xaxis": {
            "backgroundcolor": "#E5ECF6",
            "gridcolor": "white",
            "gridwidth": 2,
            "linecolor": "white",
            "showbackground": true,
            "ticks": "",
            "zerolinecolor": "white"
           },
           "yaxis": {
            "backgroundcolor": "#E5ECF6",
            "gridcolor": "white",
            "gridwidth": 2,
            "linecolor": "white",
            "showbackground": true,
            "ticks": "",
            "zerolinecolor": "white"
           },
           "zaxis": {
            "backgroundcolor": "#E5ECF6",
            "gridcolor": "white",
            "gridwidth": 2,
            "linecolor": "white",
            "showbackground": true,
            "ticks": "",
            "zerolinecolor": "white"
           }
          },
          "shapedefaults": {
           "line": {
            "color": "#2a3f5f"
           }
          },
          "ternary": {
           "aaxis": {
            "gridcolor": "white",
            "linecolor": "white",
            "ticks": ""
           },
           "baxis": {
            "gridcolor": "white",
            "linecolor": "white",
            "ticks": ""
           },
           "bgcolor": "#E5ECF6",
           "caxis": {
            "gridcolor": "white",
            "linecolor": "white",
            "ticks": ""
           }
          },
          "title": {
           "x": 0.05
          },
          "xaxis": {
           "automargin": true,
           "gridcolor": "white",
           "linecolor": "white",
           "ticks": "",
           "title": {
            "standoff": 15
           },
           "zerolinecolor": "white",
           "zerolinewidth": 2
          },
          "yaxis": {
           "automargin": true,
           "gridcolor": "white",
           "linecolor": "white",
           "ticks": "",
           "title": {
            "standoff": 15
           },
           "zerolinecolor": "white",
           "zerolinewidth": 2
          }
         }
        },
        "title": {
         "text": "Criminal Cases per Party (15+ Parties, 2019 Elections)"
        },
        "width": 1000
       }
      },
      "text/html": [
       "<div>            <script src=\"https://cdnjs.cloudflare.com/ajax/libs/mathjax/2.7.5/MathJax.js?config=TeX-AMS-MML_SVG\"></script><script type=\"text/javascript\">if (window.MathJax && window.MathJax.Hub && window.MathJax.Hub.Config) {window.MathJax.Hub.Config({SVG: {font: \"STIX-Web\"}});}</script>                <script type=\"text/javascript\">window.PlotlyConfig = {MathJaxConfig: 'local'};</script>\n",
       "        <script charset=\"utf-8\" src=\"https://cdn.plot.ly/plotly-3.0.1.min.js\"></script>                <div id=\"f39cea90-3f7c-4f28-ae2c-fd4a76d3a120\" class=\"plotly-graph-div\" style=\"height:800px; width:1000px;\"></div>            <script type=\"text/javascript\">                window.PLOTLYENV=window.PLOTLYENV || {};                                if (document.getElementById(\"f39cea90-3f7c-4f28-ae2c-fd4a76d3a120\")) {                    Plotly.newPlot(                        \"f39cea90-3f7c-4f28-ae2c-fd4a76d3a120\",                        [{\"arrangement\":\"snap\",\"link\":{\"color\":[\"rgba(0, 204, 204, 0.6)\",\"rgba(144, 238, 144, 0.6)\",\"rgba(135, 206, 250, 0.6)\",\"rgba(221, 160, 221, 0.6)\",\"rgba(64, 224, 208, 0.6)\",\"rgba(173, 216, 230, 0.6)\",\"rgba(50, 205, 50, 0.6)\",\"rgba(240, 230, 140, 0.6)\",\"rgba(100, 149, 237, 0.6)\",\"rgba(152, 251, 152, 0.6)\",\"rgba(70, 130, 180, 0.6)\",\"rgba(245, 245, 220, 0.6)\",\"rgba(176, 224, 230, 0.6)\",\"rgba(154, 205, 50, 0.6)\"],\"source\":[0,1,2,3,4,5,6,7,8,9,10,11,12,13],\"target\":[14,14,14,14,14,14,14,14,14,14,14,14,14,14],\"value\":[898,734,175,168,131,74,62,54,52,44,41,41,35,32]},\"node\":{\"color\":[\"rgb(0, 204, 204)\",\"rgb(144, 238, 144)\",\"rgb(135, 206, 250)\",\"rgb(221, 160, 221)\",\"rgb(64, 224, 208)\",\"rgb(173, 216, 230)\",\"rgb(50, 205, 50)\",\"rgb(240, 230, 140)\",\"rgb(100, 149, 237)\",\"rgb(152, 251, 152)\",\"rgb(70, 130, 180)\",\"rgb(245, 245, 220)\",\"rgb(176, 224, 230)\",\"rgb(154, 205, 50)\",\"rgb(105, 105, 105)\"],\"label\":[\"BJP\\n(898 cases)\",\"INC\\n(734 cases)\",\"BSP\\n(175 cases)\",\"CPI(M)\\n(168 cases)\",\"IND\\n(131 cases)\",\"SP\\n(74 cases)\",\"SHS\\n(62 cases)\",\"NCP\\n(54 cases)\",\"RJD\\n(52 cases)\",\"VBA\\n(44 cases)\",\"AITC\\n(41 cases)\",\"YSRCP\\n(41 cases)\",\"JD(U)\\n(35 cases)\",\"TRS\\n(32 cases)\",\"Criminal Cases\"],\"line\":{\"color\":\"black\",\"width\":0.5},\"pad\":15,\"thickness\":20},\"type\":\"sankey\"}],                        {\"template\":{\"data\":{\"histogram2dcontour\":[{\"type\":\"histogram2dcontour\",\"colorbar\":{\"outlinewidth\":0,\"ticks\":\"\"},\"colorscale\":[[0.0,\"#0d0887\"],[0.1111111111111111,\"#46039f\"],[0.2222222222222222,\"#7201a8\"],[0.3333333333333333,\"#9c179e\"],[0.4444444444444444,\"#bd3786\"],[0.5555555555555556,\"#d8576b\"],[0.6666666666666666,\"#ed7953\"],[0.7777777777777778,\"#fb9f3a\"],[0.8888888888888888,\"#fdca26\"],[1.0,\"#f0f921\"]]}],\"choropleth\":[{\"type\":\"choropleth\",\"colorbar\":{\"outlinewidth\":0,\"ticks\":\"\"}}],\"histogram2d\":[{\"type\":\"histogram2d\",\"colorbar\":{\"outlinewidth\":0,\"ticks\":\"\"},\"colorscale\":[[0.0,\"#0d0887\"],[0.1111111111111111,\"#46039f\"],[0.2222222222222222,\"#7201a8\"],[0.3333333333333333,\"#9c179e\"],[0.4444444444444444,\"#bd3786\"],[0.5555555555555556,\"#d8576b\"],[0.6666666666666666,\"#ed7953\"],[0.7777777777777778,\"#fb9f3a\"],[0.8888888888888888,\"#fdca26\"],[1.0,\"#f0f921\"]]}],\"heatmap\":[{\"type\":\"heatmap\",\"colorbar\":{\"outlinewidth\":0,\"ticks\":\"\"},\"colorscale\":[[0.0,\"#0d0887\"],[0.1111111111111111,\"#46039f\"],[0.2222222222222222,\"#7201a8\"],[0.3333333333333333,\"#9c179e\"],[0.4444444444444444,\"#bd3786\"],[0.5555555555555556,\"#d8576b\"],[0.6666666666666666,\"#ed7953\"],[0.7777777777777778,\"#fb9f3a\"],[0.8888888888888888,\"#fdca26\"],[1.0,\"#f0f921\"]]}],\"contourcarpet\":[{\"type\":\"contourcarpet\",\"colorbar\":{\"outlinewidth\":0,\"ticks\":\"\"}}],\"contour\":[{\"type\":\"contour\",\"colorbar\":{\"outlinewidth\":0,\"ticks\":\"\"},\"colorscale\":[[0.0,\"#0d0887\"],[0.1111111111111111,\"#46039f\"],[0.2222222222222222,\"#7201a8\"],[0.3333333333333333,\"#9c179e\"],[0.4444444444444444,\"#bd3786\"],[0.5555555555555556,\"#d8576b\"],[0.6666666666666666,\"#ed7953\"],[0.7777777777777778,\"#fb9f3a\"],[0.8888888888888888,\"#fdca26\"],[1.0,\"#f0f921\"]]}],\"surface\":[{\"type\":\"surface\",\"colorbar\":{\"outlinewidth\":0,\"ticks\":\"\"},\"colorscale\":[[0.0,\"#0d0887\"],[0.1111111111111111,\"#46039f\"],[0.2222222222222222,\"#7201a8\"],[0.3333333333333333,\"#9c179e\"],[0.4444444444444444,\"#bd3786\"],[0.5555555555555556,\"#d8576b\"],[0.6666666666666666,\"#ed7953\"],[0.7777777777777778,\"#fb9f3a\"],[0.8888888888888888,\"#fdca26\"],[1.0,\"#f0f921\"]]}],\"mesh3d\":[{\"type\":\"mesh3d\",\"colorbar\":{\"outlinewidth\":0,\"ticks\":\"\"}}],\"scatter\":[{\"fillpattern\":{\"fillmode\":\"overlay\",\"size\":10,\"solidity\":0.2},\"type\":\"scatter\"}],\"parcoords\":[{\"type\":\"parcoords\",\"line\":{\"colorbar\":{\"outlinewidth\":0,\"ticks\":\"\"}}}],\"scatterpolargl\":[{\"type\":\"scatterpolargl\",\"marker\":{\"colorbar\":{\"outlinewidth\":0,\"ticks\":\"\"}}}],\"bar\":[{\"error_x\":{\"color\":\"#2a3f5f\"},\"error_y\":{\"color\":\"#2a3f5f\"},\"marker\":{\"line\":{\"color\":\"#E5ECF6\",\"width\":0.5},\"pattern\":{\"fillmode\":\"overlay\",\"size\":10,\"solidity\":0.2}},\"type\":\"bar\"}],\"scattergeo\":[{\"type\":\"scattergeo\",\"marker\":{\"colorbar\":{\"outlinewidth\":0,\"ticks\":\"\"}}}],\"scatterpolar\":[{\"type\":\"scatterpolar\",\"marker\":{\"colorbar\":{\"outlinewidth\":0,\"ticks\":\"\"}}}],\"histogram\":[{\"marker\":{\"pattern\":{\"fillmode\":\"overlay\",\"size\":10,\"solidity\":0.2}},\"type\":\"histogram\"}],\"scattergl\":[{\"type\":\"scattergl\",\"marker\":{\"colorbar\":{\"outlinewidth\":0,\"ticks\":\"\"}}}],\"scatter3d\":[{\"type\":\"scatter3d\",\"line\":{\"colorbar\":{\"outlinewidth\":0,\"ticks\":\"\"}},\"marker\":{\"colorbar\":{\"outlinewidth\":0,\"ticks\":\"\"}}}],\"scattermap\":[{\"type\":\"scattermap\",\"marker\":{\"colorbar\":{\"outlinewidth\":0,\"ticks\":\"\"}}}],\"scattermapbox\":[{\"type\":\"scattermapbox\",\"marker\":{\"colorbar\":{\"outlinewidth\":0,\"ticks\":\"\"}}}],\"scatterternary\":[{\"type\":\"scatterternary\",\"marker\":{\"colorbar\":{\"outlinewidth\":0,\"ticks\":\"\"}}}],\"scattercarpet\":[{\"type\":\"scattercarpet\",\"marker\":{\"colorbar\":{\"outlinewidth\":0,\"ticks\":\"\"}}}],\"carpet\":[{\"aaxis\":{\"endlinecolor\":\"#2a3f5f\",\"gridcolor\":\"white\",\"linecolor\":\"white\",\"minorgridcolor\":\"white\",\"startlinecolor\":\"#2a3f5f\"},\"baxis\":{\"endlinecolor\":\"#2a3f5f\",\"gridcolor\":\"white\",\"linecolor\":\"white\",\"minorgridcolor\":\"white\",\"startlinecolor\":\"#2a3f5f\"},\"type\":\"carpet\"}],\"table\":[{\"cells\":{\"fill\":{\"color\":\"#EBF0F8\"},\"line\":{\"color\":\"white\"}},\"header\":{\"fill\":{\"color\":\"#C8D4E3\"},\"line\":{\"color\":\"white\"}},\"type\":\"table\"}],\"barpolar\":[{\"marker\":{\"line\":{\"color\":\"#E5ECF6\",\"width\":0.5},\"pattern\":{\"fillmode\":\"overlay\",\"size\":10,\"solidity\":0.2}},\"type\":\"barpolar\"}],\"pie\":[{\"automargin\":true,\"type\":\"pie\"}]},\"layout\":{\"autotypenumbers\":\"strict\",\"colorway\":[\"#636efa\",\"#EF553B\",\"#00cc96\",\"#ab63fa\",\"#FFA15A\",\"#19d3f3\",\"#FF6692\",\"#B6E880\",\"#FF97FF\",\"#FECB52\"],\"font\":{\"color\":\"#2a3f5f\"},\"hovermode\":\"closest\",\"hoverlabel\":{\"align\":\"left\"},\"paper_bgcolor\":\"white\",\"plot_bgcolor\":\"#E5ECF6\",\"polar\":{\"bgcolor\":\"#E5ECF6\",\"angularaxis\":{\"gridcolor\":\"white\",\"linecolor\":\"white\",\"ticks\":\"\"},\"radialaxis\":{\"gridcolor\":\"white\",\"linecolor\":\"white\",\"ticks\":\"\"}},\"ternary\":{\"bgcolor\":\"#E5ECF6\",\"aaxis\":{\"gridcolor\":\"white\",\"linecolor\":\"white\",\"ticks\":\"\"},\"baxis\":{\"gridcolor\":\"white\",\"linecolor\":\"white\",\"ticks\":\"\"},\"caxis\":{\"gridcolor\":\"white\",\"linecolor\":\"white\",\"ticks\":\"\"}},\"coloraxis\":{\"colorbar\":{\"outlinewidth\":0,\"ticks\":\"\"}},\"colorscale\":{\"sequential\":[[0.0,\"#0d0887\"],[0.1111111111111111,\"#46039f\"],[0.2222222222222222,\"#7201a8\"],[0.3333333333333333,\"#9c179e\"],[0.4444444444444444,\"#bd3786\"],[0.5555555555555556,\"#d8576b\"],[0.6666666666666666,\"#ed7953\"],[0.7777777777777778,\"#fb9f3a\"],[0.8888888888888888,\"#fdca26\"],[1.0,\"#f0f921\"]],\"sequentialminus\":[[0.0,\"#0d0887\"],[0.1111111111111111,\"#46039f\"],[0.2222222222222222,\"#7201a8\"],[0.3333333333333333,\"#9c179e\"],[0.4444444444444444,\"#bd3786\"],[0.5555555555555556,\"#d8576b\"],[0.6666666666666666,\"#ed7953\"],[0.7777777777777778,\"#fb9f3a\"],[0.8888888888888888,\"#fdca26\"],[1.0,\"#f0f921\"]],\"diverging\":[[0,\"#8e0152\"],[0.1,\"#c51b7d\"],[0.2,\"#de77ae\"],[0.3,\"#f1b6da\"],[0.4,\"#fde0ef\"],[0.5,\"#f7f7f7\"],[0.6,\"#e6f5d0\"],[0.7,\"#b8e186\"],[0.8,\"#7fbc41\"],[0.9,\"#4d9221\"],[1,\"#276419\"]]},\"xaxis\":{\"gridcolor\":\"white\",\"linecolor\":\"white\",\"ticks\":\"\",\"title\":{\"standoff\":15},\"zerolinecolor\":\"white\",\"automargin\":true,\"zerolinewidth\":2},\"yaxis\":{\"gridcolor\":\"white\",\"linecolor\":\"white\",\"ticks\":\"\",\"title\":{\"standoff\":15},\"zerolinecolor\":\"white\",\"automargin\":true,\"zerolinewidth\":2},\"scene\":{\"xaxis\":{\"backgroundcolor\":\"#E5ECF6\",\"gridcolor\":\"white\",\"linecolor\":\"white\",\"showbackground\":true,\"ticks\":\"\",\"zerolinecolor\":\"white\",\"gridwidth\":2},\"yaxis\":{\"backgroundcolor\":\"#E5ECF6\",\"gridcolor\":\"white\",\"linecolor\":\"white\",\"showbackground\":true,\"ticks\":\"\",\"zerolinecolor\":\"white\",\"gridwidth\":2},\"zaxis\":{\"backgroundcolor\":\"#E5ECF6\",\"gridcolor\":\"white\",\"linecolor\":\"white\",\"showbackground\":true,\"ticks\":\"\",\"zerolinecolor\":\"white\",\"gridwidth\":2}},\"shapedefaults\":{\"line\":{\"color\":\"#2a3f5f\"}},\"annotationdefaults\":{\"arrowcolor\":\"#2a3f5f\",\"arrowhead\":0,\"arrowwidth\":1},\"geo\":{\"bgcolor\":\"white\",\"landcolor\":\"#E5ECF6\",\"subunitcolor\":\"white\",\"showland\":true,\"showlakes\":true,\"lakecolor\":\"white\"},\"title\":{\"x\":0.05},\"mapbox\":{\"style\":\"light\"}}},\"annotations\":[{\"font\":{\"color\":\"white\",\"size\":12},\"showarrow\":false,\"text\":\"BJP: 898 cases\",\"x\":0.01,\"xanchor\":\"left\",\"y\":-0.8571428571428572},{\"font\":{\"color\":\"white\",\"size\":12},\"showarrow\":false,\"text\":\"INC: 734 cases\",\"x\":0.01,\"xanchor\":\"left\",\"y\":-2.2857142857142856},{\"font\":{\"color\":\"white\",\"size\":12},\"showarrow\":false,\"text\":\"BSP: 175 cases\",\"x\":0.01,\"xanchor\":\"left\",\"y\":-1.5},{\"font\":{\"color\":\"white\",\"size\":12},\"showarrow\":false,\"text\":\"CPI(M): 168 cases\",\"x\":0.01,\"xanchor\":\"left\",\"y\":-1.7142857142857144},{\"font\":{\"color\":\"white\",\"size\":12},\"showarrow\":false,\"text\":\"IND: 131 cases\",\"x\":0.01,\"xanchor\":\"left\",\"y\":-2.357142857142857},{\"font\":{\"color\":\"white\",\"size\":12},\"showarrow\":false,\"text\":\"SP: 74 cases\",\"x\":0.01,\"xanchor\":\"left\",\"y\":-7.0},{\"font\":{\"color\":\"white\",\"size\":12},\"showarrow\":false,\"text\":\"SHS: 62 cases\",\"x\":0.01,\"xanchor\":\"left\",\"y\":-6.785714285714286},{\"font\":{\"color\":\"white\",\"size\":12},\"showarrow\":false,\"text\":\"NCP: 54 cases\",\"x\":0.01,\"xanchor\":\"left\",\"y\":-4.571428571428571},{\"font\":{\"color\":\"white\",\"size\":12},\"showarrow\":false,\"text\":\"RJD: 52 cases\",\"x\":0.01,\"xanchor\":\"left\",\"y\":-5.785714285714286},{\"font\":{\"color\":\"white\",\"size\":12},\"showarrow\":false,\"text\":\"VBA: 44 cases\",\"x\":0.01,\"xanchor\":\"left\",\"y\":-7.7857142857142865},{\"font\":{\"color\":\"white\",\"size\":12},\"showarrow\":false,\"text\":\"AITC: 41 cases\",\"x\":0.01,\"xanchor\":\"left\",\"y\":0.0714285714285714},{\"font\":{\"color\":\"white\",\"size\":12},\"showarrow\":false,\"text\":\"YSRCP: 41 cases\",\"x\":0.01,\"xanchor\":\"left\",\"y\":-8.357142857142858},{\"font\":{\"color\":\"white\",\"size\":12},\"showarrow\":false,\"text\":\"JD(U): 35 cases\",\"x\":0.01,\"xanchor\":\"left\",\"y\":-2.857142857142857},{\"font\":{\"color\":\"white\",\"size\":12},\"showarrow\":false,\"text\":\"TRS: 32 cases\",\"x\":0.01,\"xanchor\":\"left\",\"y\":-7.571428571428571}],\"margin\":{\"t\":100,\"l\":50,\"r\":50,\"b\":50},\"title\":{\"text\":\"Criminal Cases per Party (15+ Parties, 2019 Elections)\"},\"showlegend\":false,\"width\":1000,\"height\":800},                        {\"responsive\": true}                    ).then(function(){\n",
       "                            \n",
       "var gd = document.getElementById('f39cea90-3f7c-4f28-ae2c-fd4a76d3a120');\n",
       "var x = new MutationObserver(function (mutations, observer) {{\n",
       "        var display = window.getComputedStyle(gd).display;\n",
       "        if (!display || display === 'none') {{\n",
       "            console.log([gd, 'removed!']);\n",
       "            Plotly.purge(gd);\n",
       "            observer.disconnect();\n",
       "        }}\n",
       "}});\n",
       "\n",
       "// Listen for the removal of the full notebook cells\n",
       "var notebookContainer = gd.closest('#notebook-container');\n",
       "if (notebookContainer) {{\n",
       "    x.observe(notebookContainer, {childList: true});\n",
       "}}\n",
       "\n",
       "// Listen for the clearing of the current output cell\n",
       "var outputEl = gd.closest('.output');\n",
       "if (outputEl) {{\n",
       "    x.observe(outputEl, {childList: true});\n",
       "}}\n",
       "\n",
       "                        })                };            </script>        </div>"
      ]
     },
     "metadata": {},
     "output_type": "display_data"
    }
   ],
   "source": [
    "# Aggregate criminal cases and candidate counts by party\n",
    "import plotly.graph_objects as go\n",
    "\n",
    "# Aggregate criminal cases by party\n",
    "party_stats = vote.groupby('PARTY').agg({'CRIMINAL CASES': 'sum', 'NAME': 'count'}).reset_index()\n",
    "party_stats.rename(columns={'CRIMINAL CASES': 'Total_Criminal_Cases', 'NAME': 'Candidate_Count'}, inplace=True)\n",
    "party_stats = party_stats[party_stats['Total_Criminal_Cases'] > 0].sort_values('Total_Criminal_Cases', ascending=False).head(14)\n",
    "\n",
    "# Filter parties with non-zero criminal cases and select top 15 (or all if fewer)\n",
    "party_stats = party_stats[party_stats['Total_Criminal_Cases'] > 0]\n",
    "party_stats = party_stats.sort_values('Total_Criminal_Cases', ascending=False).head(15)\n",
    "\n",
    "# Verify number of parties\n",
    "print(f\"\\nNumber of Parties Selected: {len(party_stats)}\")\n",
    "print(\"Selected Parties:\")\n",
    "print(party_stats[['PARTY', 'Total_Criminal_Cases', 'Candidate_Count']])\n",
    "\n",
    "# Normalize data for visualization\n",
    "party_stats['Criminal_Cases_Norm'] = (\n",
    "    party_stats['Total_Criminal_Cases'] - party_stats['Total_Criminal_Cases'].min()\n",
    ") / (party_stats['Total_Criminal_Cases'].max() - party_stats['Total_Criminal_Cases'].min() + 1e-6)\n",
    "party_stats['Candidate_Count_Norm'] = (\n",
    "    party_stats['Candidate_Count'] - party_stats['Candidate_Count'].min()\n",
    ") / (party_stats['Candidate_Count'].max() - party_stats['Candidate_Count'].min() + 1e-6)\n",
    "\n",
    "# Create chord wheel using Sankey with circular layout\n",
    "fig = go.Figure()\n",
    "\n",
    "# Nodes: Parties + a central \"Criminal Cases\" node\n",
    "# Nodes: Parties + a central \"Criminal Cases\" node, with case counts in label\n",
    "# Label format: \"Party Name\\n(Criminal Cases)\"\n",
    "node_labels = [f\"{row['PARTY']}\\n({row['Total_Criminal_Cases']} cases)\" for _, row in party_stats.iterrows()]\n",
    "nodes = node_labels + ['Criminal Cases']\n",
    "\n",
    "# Mapping from PARTY name to label string\n",
    "label_map = {row['PARTY']: f\"{row['PARTY']}\\n({row['Total_Criminal_Cases']} cases)\" for _, row in party_stats.iterrows()}\n",
    "node_indices = {label: i for i, label in enumerate(nodes)}\n",
    "\n",
    "# Use updated label_map to get indices\n",
    "source = [node_indices[label_map[party]] for party in party_stats['PARTY']]\n",
    "\n",
    "target = [node_indices['Criminal Cases']] * len(party_stats)\n",
    "value = party_stats['Total_Criminal_Cases'].tolist()\n",
    "\n",
    "# Define a custom cool and refreshing color palette for chords and nodes\n",
    "refreshing_colors = [\n",
    "    'rgb(0, 204, 204)',  # Aqua\n",
    "    'rgb(144, 238, 144)', # Mint Green\n",
    "    'rgb(135, 206, 250)', # Sky Blue\n",
    "    'rgb(221, 160, 221)', # Lavender\n",
    "    'rgb(64, 224, 208)', # Turquoise\n",
    "    'rgb(173, 216, 230)', # Light Blue\n",
    "    'rgb(50, 205, 50)',  # Lime Green\n",
    "    'rgb(240, 230, 140)', # Khaki\n",
    "    'rgb(100, 149, 237)', # Cornflower Blue\n",
    "    'rgb(152, 251, 152)', # Pale Green\n",
    "    'rgb(70, 130, 180)', # Steel Blue\n",
    "    'rgb(245, 245, 220)', # Beige\n",
    "    'rgb(176, 224, 230)', # Powder Blue\n",
    "    'rgb(154, 205, 50)', # Yellow Green\n",
    "    'rgb(95, 158, 160)'  # Cadet Blue\n",
    "]\n",
    "chord_colors = [f'rgba{tuple(int(c.strip('rgb()').split(',')[i]) for i in range(3)) + (0.6,)}' \n",
    "                for c in refreshing_colors[:len(party_stats)]]\n",
    "node_colors = refreshing_colors[:len(party_stats)] + ['rgb(105, 105, 105)']  # Refreshing for parties, dark gray for central node\n",
    "\n",
    "# Add annotations for criminal case counts\n",
    "for i, row in party_stats.iterrows():\n",
    "    fig.add_annotation(\n",
    "        x=0.01,  # This places the annotation close to the left side of the graph\n",
    "        y=1 - (i / len(party_stats)),  # Spread them vertically\n",
    "        text=f\"{row['PARTY']}: {row['Total_Criminal_Cases']} cases\",\n",
    "        showarrow=False,\n",
    "        font=dict(size=12, color='white'),\n",
    "        xanchor='left'\n",
    "    )\n",
    "\n",
    "# Add Sankey trace\n",
    "fig.add_trace(go.Sankey(\n",
    "    node=dict(\n",
    "        pad=15,\n",
    "        thickness=20,\n",
    "        line=dict(color='black', width=0.5),\n",
    "        label=nodes,\n",
    "        color=node_colors\n",
    "    ),\n",
    "    link=dict(\n",
    "        source=source,\n",
    "        target=target,\n",
    "        value=value,\n",
    "        color=chord_colors\n",
    "    ),\n",
    "    arrangement='snap'  # Circular layout for chord wheel effect\n",
    "))\n",
    "\n",
    "# Customize layout\n",
    "fig.update_layout(\n",
    "    title='Criminal Cases per Party (15+ Parties, 2019 Elections)',\n",
    "\n",
    "    showlegend=False,\n",
    "    margin=dict(t=100, l=50, r=50, b=50),\n",
    "    width=1000, height=800  # Larger canvas for more parties\n",
    ")\n",
    "fig.show()"
   ]
  },
  {
   "cell_type": "markdown",
   "id": "a6ec84a4",
   "metadata": {},
   "source": [
    "### Predicting If the Candidate Wins the Election"
   ]
  },
  {
   "cell_type": "code",
   "execution_count": 22,
   "metadata": {},
   "outputs": [],
   "source": [
    "import pandas as pd\n",
    "from sklearn.ensemble import RandomForestClassifier\n",
    "from sklearn.preprocessing import StandardScaler, OneHotEncoder\n",
    "from sklearn.compose import ColumnTransformer\n",
    "from sklearn.pipeline import Pipeline\n",
    "from sklearn.model_selection import train_test_split, cross_val_score\n",
    "from sklearn.metrics import accuracy_score, classification_report, confusion_matrix\n",
    "import seaborn as sns\n",
    "import matplotlib.pyplot as plt\n",
    "import joblib\n"
   ]
  },
  {
   "cell_type": "code",
   "execution_count": 23,
   "id": "2d8cf67f",
   "metadata": {},
   "outputs": [
    {
     "data": {
      "text/html": [
       "<div>\n",
       "<style scoped>\n",
       "    .dataframe tbody tr th:only-of-type {\n",
       "        vertical-align: middle;\n",
       "    }\n",
       "\n",
       "    .dataframe tbody tr th {\n",
       "        vertical-align: top;\n",
       "    }\n",
       "\n",
       "    .dataframe thead th {\n",
       "        text-align: right;\n",
       "    }\n",
       "</style>\n",
       "<table border=\"1\" class=\"dataframe\">\n",
       "  <thead>\n",
       "    <tr style=\"text-align: right;\">\n",
       "      <th></th>\n",
       "      <th>STATE</th>\n",
       "      <th>CONSTITUENCY</th>\n",
       "      <th>NAME</th>\n",
       "      <th>WINNER</th>\n",
       "      <th>PARTY</th>\n",
       "      <th>SYMBOL</th>\n",
       "      <th>GENDER</th>\n",
       "      <th>CRIMINAL\\nCASES</th>\n",
       "      <th>AGE</th>\n",
       "      <th>CATEGORY</th>\n",
       "      <th>EDUCATION</th>\n",
       "      <th>ASSETS</th>\n",
       "      <th>LIABILITIES</th>\n",
       "      <th>GENERAL\\nVOTES</th>\n",
       "      <th>POSTAL\\nVOTES</th>\n",
       "      <th>TOTAL\\nVOTES</th>\n",
       "      <th>OVER TOTAL ELECTORS \\nIN CONSTITUENCY</th>\n",
       "      <th>OVER TOTAL VOTES POLLED \\nIN CONSTITUENCY</th>\n",
       "      <th>TOTAL ELECTORS</th>\n",
       "    </tr>\n",
       "  </thead>\n",
       "  <tbody>\n",
       "    <tr>\n",
       "      <th>0</th>\n",
       "      <td>Telangana</td>\n",
       "      <td>ADILABAD</td>\n",
       "      <td>SOYAM BAPU RAO</td>\n",
       "      <td>1</td>\n",
       "      <td>BJP</td>\n",
       "      <td>Lotus</td>\n",
       "      <td>MALE</td>\n",
       "      <td>52</td>\n",
       "      <td>52.0</td>\n",
       "      <td>ST</td>\n",
       "      <td>12th Pass</td>\n",
       "      <td>Rs 30,99,414\\n ~ 30 Lacs+</td>\n",
       "      <td>Rs 2,31,450\\n ~ 2 Lacs+</td>\n",
       "      <td>376892</td>\n",
       "      <td>482</td>\n",
       "      <td>377374</td>\n",
       "      <td>25.330684</td>\n",
       "      <td>35.468248</td>\n",
       "      <td>1489790</td>\n",
       "    </tr>\n",
       "    <tr>\n",
       "      <th>1</th>\n",
       "      <td>Telangana</td>\n",
       "      <td>ADILABAD</td>\n",
       "      <td>Godam Nagesh</td>\n",
       "      <td>0</td>\n",
       "      <td>TRS</td>\n",
       "      <td>Car</td>\n",
       "      <td>MALE</td>\n",
       "      <td>0</td>\n",
       "      <td>54.0</td>\n",
       "      <td>ST</td>\n",
       "      <td>Post Graduate</td>\n",
       "      <td>Rs 1,84,77,888\\n ~ 1 Crore+</td>\n",
       "      <td>Rs 8,47,000\\n ~ 8 Lacs+</td>\n",
       "      <td>318665</td>\n",
       "      <td>149</td>\n",
       "      <td>318814</td>\n",
       "      <td>21.399929</td>\n",
       "      <td>29.964370</td>\n",
       "      <td>1489790</td>\n",
       "    </tr>\n",
       "    <tr>\n",
       "      <th>2</th>\n",
       "      <td>Telangana</td>\n",
       "      <td>ADILABAD</td>\n",
       "      <td>RATHOD RAMESH</td>\n",
       "      <td>0</td>\n",
       "      <td>INC</td>\n",
       "      <td>Hand</td>\n",
       "      <td>MALE</td>\n",
       "      <td>3</td>\n",
       "      <td>52.0</td>\n",
       "      <td>ST</td>\n",
       "      <td>12th Pass</td>\n",
       "      <td>Rs 3,64,91,000\\n ~ 3 Crore+</td>\n",
       "      <td>Rs 1,53,00,000\\n ~ 1 Crore+</td>\n",
       "      <td>314057</td>\n",
       "      <td>181</td>\n",
       "      <td>314238</td>\n",
       "      <td>21.092771</td>\n",
       "      <td>29.534285</td>\n",
       "      <td>1489790</td>\n",
       "    </tr>\n",
       "    <tr>\n",
       "      <th>3</th>\n",
       "      <td>Telangana</td>\n",
       "      <td>ADILABAD</td>\n",
       "      <td>NOTA</td>\n",
       "      <td>0</td>\n",
       "      <td>NOTA</td>\n",
       "      <td>NaN</td>\n",
       "      <td>NaN</td>\n",
       "      <td>NaN</td>\n",
       "      <td>NaN</td>\n",
       "      <td>NaN</td>\n",
       "      <td>NaN</td>\n",
       "      <td>NaN</td>\n",
       "      <td>NaN</td>\n",
       "      <td>13030</td>\n",
       "      <td>6</td>\n",
       "      <td>13036</td>\n",
       "      <td>0.875023</td>\n",
       "      <td>1.225214</td>\n",
       "      <td>1489790</td>\n",
       "    </tr>\n",
       "    <tr>\n",
       "      <th>4</th>\n",
       "      <td>Uttar Pradesh</td>\n",
       "      <td>AGRA</td>\n",
       "      <td>Satyapal Singh Baghel</td>\n",
       "      <td>1</td>\n",
       "      <td>BJP</td>\n",
       "      <td>Lotus</td>\n",
       "      <td>MALE</td>\n",
       "      <td>5</td>\n",
       "      <td>58.0</td>\n",
       "      <td>SC</td>\n",
       "      <td>Doctorate</td>\n",
       "      <td>Rs 7,42,74,036\\n ~ 7 Crore+</td>\n",
       "      <td>Rs 86,06,522\\n ~ 86 Lacs+</td>\n",
       "      <td>644459</td>\n",
       "      <td>2416</td>\n",
       "      <td>646875</td>\n",
       "      <td>33.383823</td>\n",
       "      <td>56.464615</td>\n",
       "      <td>1937690</td>\n",
       "    </tr>\n",
       "  </tbody>\n",
       "</table>\n",
       "</div>"
      ],
      "text/plain": [
       "           STATE CONSTITUENCY                   NAME  WINNER PARTY SYMBOL  \\\n",
       "0      Telangana     ADILABAD         SOYAM BAPU RAO       1   BJP  Lotus   \n",
       "1      Telangana     ADILABAD           Godam Nagesh       0   TRS    Car   \n",
       "2      Telangana     ADILABAD          RATHOD RAMESH       0   INC   Hand   \n",
       "3      Telangana     ADILABAD                   NOTA       0  NOTA    NaN   \n",
       "4  Uttar Pradesh         AGRA  Satyapal Singh Baghel       1   BJP  Lotus   \n",
       "\n",
       "  GENDER CRIMINAL\\nCASES   AGE CATEGORY      EDUCATION  \\\n",
       "0   MALE              52  52.0       ST      12th Pass   \n",
       "1   MALE               0  54.0       ST  Post Graduate   \n",
       "2   MALE               3  52.0       ST      12th Pass   \n",
       "3    NaN             NaN   NaN      NaN            NaN   \n",
       "4   MALE               5  58.0       SC      Doctorate   \n",
       "\n",
       "                        ASSETS                  LIABILITIES  GENERAL\\nVOTES  \\\n",
       "0    Rs 30,99,414\\n ~ 30 Lacs+      Rs 2,31,450\\n ~ 2 Lacs+          376892   \n",
       "1  Rs 1,84,77,888\\n ~ 1 Crore+      Rs 8,47,000\\n ~ 8 Lacs+          318665   \n",
       "2  Rs 3,64,91,000\\n ~ 3 Crore+  Rs 1,53,00,000\\n ~ 1 Crore+          314057   \n",
       "3                          NaN                          NaN           13030   \n",
       "4  Rs 7,42,74,036\\n ~ 7 Crore+    Rs 86,06,522\\n ~ 86 Lacs+          644459   \n",
       "\n",
       "   POSTAL\\nVOTES  TOTAL\\nVOTES  OVER TOTAL ELECTORS \\nIN CONSTITUENCY  \\\n",
       "0            482        377374                              25.330684   \n",
       "1            149        318814                              21.399929   \n",
       "2            181        314238                              21.092771   \n",
       "3              6         13036                               0.875023   \n",
       "4           2416        646875                              33.383823   \n",
       "\n",
       "   OVER TOTAL VOTES POLLED \\nIN CONSTITUENCY  TOTAL ELECTORS  \n",
       "0                                  35.468248         1489790  \n",
       "1                                  29.964370         1489790  \n",
       "2                                  29.534285         1489790  \n",
       "3                                   1.225214         1489790  \n",
       "4                                  56.464615         1937690  "
      ]
     },
     "execution_count": 23,
     "metadata": {},
     "output_type": "execute_result"
    }
   ],
   "source": [
    "# --- STEP 1: Load data ---\n",
    "data_path = 'datasets/Indian Candidates for General Election 2019/LS_2.0.csv'\n",
    "vote_df = pd.read_csv(data_path)\n",
    "vote_df.head()"
   ]
  },
  {
   "cell_type": "code",
   "execution_count": 24,
   "id": "5afc56cd",
   "metadata": {},
   "outputs": [],
   "source": [
    "# --- STEP 2: Clean column names ---\n",
    "vote_df.columns = [col.strip().replace('\\n', ' ').replace('  ', ' ') for col in vote_df.columns]"
   ]
  },
  {
   "cell_type": "code",
   "execution_count": 28,
   "metadata": {},
   "outputs": [],
   "source": [
    "# --- STEP 3: Handle missing or bad values ---\n",
    "vote_df['CRIMINAL CASES'] = pd.to_numeric(vote_df['CRIMINAL CASES'], errors='coerce').fillna(0)\n",
    "vote_df['AGE'] = pd.to_numeric(vote_df['AGE'], errors='coerce').fillna(vote_df['AGE'].median())"
   ]
  },
  {
   "cell_type": "code",
   "execution_count": 31,
   "id": "34d3a123",
   "metadata": {},
   "outputs": [],
   "source": [
    "def parse_numeric(value):\n",
    "    try:\n",
    "        # Remove commas and dollar signs, then convert to float\n",
    "        return float(str(value).replace(',', '').replace('$', ''))\n",
    "    except:\n",
    "        return None\n"
   ]
  },
  {
   "cell_type": "code",
   "execution_count": 32,
   "id": "0456c862",
   "metadata": {},
   "outputs": [],
   "source": [
    "vote_df['ASSETS'] = vote_df['ASSETS'].apply(parse_numeric).fillna(0)\n",
    "vote_df['LIABILITIES'] = vote_df['LIABILITIES'].apply(parse_numeric).fillna(0)\n",
    "vote_df['TOTAL VOTES'] = pd.to_numeric(vote_df['TOTAL VOTES'], errors='coerce').fillna(0)\n",
    "vote_df['TOTAL ELECTORS'] = pd.to_numeric(vote_df['TOTAL ELECTORS'], errors='coerce').fillna(0)"
   ]
  },
  {
   "cell_type": "code",
   "execution_count": 33,
   "id": "a0b2a669",
   "metadata": {},
   "outputs": [],
   "source": [
    "# Fill categorical columns\n",
    "for col in ['PARTY', 'EDUCATION', 'GENDER', 'CATEGORY']:\n",
    "    vote_df[col] = vote_df[col].fillna('Unknown')\n",
    "\n",
    "vote_df['WINNER'] = vote_df['WINNER'].astype(int)"
   ]
  },
  {
   "cell_type": "code",
   "execution_count": 34,
   "id": "b7e77d28",
   "metadata": {},
   "outputs": [],
   "source": [
    "# --- STEP 4: Select features & target ---\n",
    "features = ['PARTY', 'EDUCATION', 'GENDER', 'CATEGORY', 'CRIMINAL CASES', 'AGE',\n",
    "            'TOTAL VOTES', 'TOTAL ELECTORS', 'ASSETS', 'LIABILITIES']\n",
    "X = vote_df[features]\n",
    "y = vote_df['WINNER']"
   ]
  },
  {
   "cell_type": "code",
   "execution_count": 35,
   "id": "d9b48be0",
   "metadata": {},
   "outputs": [],
   "source": [
    "# --- STEP 5: Preprocessing ---\n",
    "cat_features = ['PARTY', 'EDUCATION', 'GENDER', 'CATEGORY']\n",
    "num_features = ['CRIMINAL CASES', 'AGE', 'TOTAL VOTES', 'TOTAL ELECTORS', 'ASSETS', 'LIABILITIES']\n",
    "\n",
    "preprocessor = ColumnTransformer([\n",
    "    ('num', StandardScaler(), num_features),\n",
    "    ('cat', OneHotEncoder(handle_unknown='ignore'), cat_features)\n",
    "])"
   ]
  },
  {
   "cell_type": "code",
   "execution_count": 36,
   "id": "ed1678b8",
   "metadata": {},
   "outputs": [],
   "source": [
    "# --- STEP 6: Train-test split ---\n",
    "X_train, X_test, y_train, y_test = train_test_split(X, y, test_size=0.2, random_state=42)"
   ]
  },
  {
   "cell_type": "code",
   "execution_count": 37,
   "id": "d07890e6",
   "metadata": {},
   "outputs": [
    {
     "data": {
      "text/html": [
       "<style>#sk-container-id-1 {\n",
       "  /* Definition of color scheme common for light and dark mode */\n",
       "  --sklearn-color-text: #000;\n",
       "  --sklearn-color-text-muted: #666;\n",
       "  --sklearn-color-line: gray;\n",
       "  /* Definition of color scheme for unfitted estimators */\n",
       "  --sklearn-color-unfitted-level-0: #fff5e6;\n",
       "  --sklearn-color-unfitted-level-1: #f6e4d2;\n",
       "  --sklearn-color-unfitted-level-2: #ffe0b3;\n",
       "  --sklearn-color-unfitted-level-3: chocolate;\n",
       "  /* Definition of color scheme for fitted estimators */\n",
       "  --sklearn-color-fitted-level-0: #f0f8ff;\n",
       "  --sklearn-color-fitted-level-1: #d4ebff;\n",
       "  --sklearn-color-fitted-level-2: #b3dbfd;\n",
       "  --sklearn-color-fitted-level-3: cornflowerblue;\n",
       "\n",
       "  /* Specific color for light theme */\n",
       "  --sklearn-color-text-on-default-background: var(--sg-text-color, var(--theme-code-foreground, var(--jp-content-font-color1, black)));\n",
       "  --sklearn-color-background: var(--sg-background-color, var(--theme-background, var(--jp-layout-color0, white)));\n",
       "  --sklearn-color-border-box: var(--sg-text-color, var(--theme-code-foreground, var(--jp-content-font-color1, black)));\n",
       "  --sklearn-color-icon: #696969;\n",
       "\n",
       "  @media (prefers-color-scheme: dark) {\n",
       "    /* Redefinition of color scheme for dark theme */\n",
       "    --sklearn-color-text-on-default-background: var(--sg-text-color, var(--theme-code-foreground, var(--jp-content-font-color1, white)));\n",
       "    --sklearn-color-background: var(--sg-background-color, var(--theme-background, var(--jp-layout-color0, #111)));\n",
       "    --sklearn-color-border-box: var(--sg-text-color, var(--theme-code-foreground, var(--jp-content-font-color1, white)));\n",
       "    --sklearn-color-icon: #878787;\n",
       "  }\n",
       "}\n",
       "\n",
       "#sk-container-id-1 {\n",
       "  color: var(--sklearn-color-text);\n",
       "}\n",
       "\n",
       "#sk-container-id-1 pre {\n",
       "  padding: 0;\n",
       "}\n",
       "\n",
       "#sk-container-id-1 input.sk-hidden--visually {\n",
       "  border: 0;\n",
       "  clip: rect(1px 1px 1px 1px);\n",
       "  clip: rect(1px, 1px, 1px, 1px);\n",
       "  height: 1px;\n",
       "  margin: -1px;\n",
       "  overflow: hidden;\n",
       "  padding: 0;\n",
       "  position: absolute;\n",
       "  width: 1px;\n",
       "}\n",
       "\n",
       "#sk-container-id-1 div.sk-dashed-wrapped {\n",
       "  border: 1px dashed var(--sklearn-color-line);\n",
       "  margin: 0 0.4em 0.5em 0.4em;\n",
       "  box-sizing: border-box;\n",
       "  padding-bottom: 0.4em;\n",
       "  background-color: var(--sklearn-color-background);\n",
       "}\n",
       "\n",
       "#sk-container-id-1 div.sk-container {\n",
       "  /* jupyter's `normalize.less` sets `[hidden] { display: none; }`\n",
       "     but bootstrap.min.css set `[hidden] { display: none !important; }`\n",
       "     so we also need the `!important` here to be able to override the\n",
       "     default hidden behavior on the sphinx rendered scikit-learn.org.\n",
       "     See: https://github.com/scikit-learn/scikit-learn/issues/21755 */\n",
       "  display: inline-block !important;\n",
       "  position: relative;\n",
       "}\n",
       "\n",
       "#sk-container-id-1 div.sk-text-repr-fallback {\n",
       "  display: none;\n",
       "}\n",
       "\n",
       "div.sk-parallel-item,\n",
       "div.sk-serial,\n",
       "div.sk-item {\n",
       "  /* draw centered vertical line to link estimators */\n",
       "  background-image: linear-gradient(var(--sklearn-color-text-on-default-background), var(--sklearn-color-text-on-default-background));\n",
       "  background-size: 2px 100%;\n",
       "  background-repeat: no-repeat;\n",
       "  background-position: center center;\n",
       "}\n",
       "\n",
       "/* Parallel-specific style estimator block */\n",
       "\n",
       "#sk-container-id-1 div.sk-parallel-item::after {\n",
       "  content: \"\";\n",
       "  width: 100%;\n",
       "  border-bottom: 2px solid var(--sklearn-color-text-on-default-background);\n",
       "  flex-grow: 1;\n",
       "}\n",
       "\n",
       "#sk-container-id-1 div.sk-parallel {\n",
       "  display: flex;\n",
       "  align-items: stretch;\n",
       "  justify-content: center;\n",
       "  background-color: var(--sklearn-color-background);\n",
       "  position: relative;\n",
       "}\n",
       "\n",
       "#sk-container-id-1 div.sk-parallel-item {\n",
       "  display: flex;\n",
       "  flex-direction: column;\n",
       "}\n",
       "\n",
       "#sk-container-id-1 div.sk-parallel-item:first-child::after {\n",
       "  align-self: flex-end;\n",
       "  width: 50%;\n",
       "}\n",
       "\n",
       "#sk-container-id-1 div.sk-parallel-item:last-child::after {\n",
       "  align-self: flex-start;\n",
       "  width: 50%;\n",
       "}\n",
       "\n",
       "#sk-container-id-1 div.sk-parallel-item:only-child::after {\n",
       "  width: 0;\n",
       "}\n",
       "\n",
       "/* Serial-specific style estimator block */\n",
       "\n",
       "#sk-container-id-1 div.sk-serial {\n",
       "  display: flex;\n",
       "  flex-direction: column;\n",
       "  align-items: center;\n",
       "  background-color: var(--sklearn-color-background);\n",
       "  padding-right: 1em;\n",
       "  padding-left: 1em;\n",
       "}\n",
       "\n",
       "\n",
       "/* Toggleable style: style used for estimator/Pipeline/ColumnTransformer box that is\n",
       "clickable and can be expanded/collapsed.\n",
       "- Pipeline and ColumnTransformer use this feature and define the default style\n",
       "- Estimators will overwrite some part of the style using the `sk-estimator` class\n",
       "*/\n",
       "\n",
       "/* Pipeline and ColumnTransformer style (default) */\n",
       "\n",
       "#sk-container-id-1 div.sk-toggleable {\n",
       "  /* Default theme specific background. It is overwritten whether we have a\n",
       "  specific estimator or a Pipeline/ColumnTransformer */\n",
       "  background-color: var(--sklearn-color-background);\n",
       "}\n",
       "\n",
       "/* Toggleable label */\n",
       "#sk-container-id-1 label.sk-toggleable__label {\n",
       "  cursor: pointer;\n",
       "  display: flex;\n",
       "  width: 100%;\n",
       "  margin-bottom: 0;\n",
       "  padding: 0.5em;\n",
       "  box-sizing: border-box;\n",
       "  text-align: center;\n",
       "  align-items: start;\n",
       "  justify-content: space-between;\n",
       "  gap: 0.5em;\n",
       "}\n",
       "\n",
       "#sk-container-id-1 label.sk-toggleable__label .caption {\n",
       "  font-size: 0.6rem;\n",
       "  font-weight: lighter;\n",
       "  color: var(--sklearn-color-text-muted);\n",
       "}\n",
       "\n",
       "#sk-container-id-1 label.sk-toggleable__label-arrow:before {\n",
       "  /* Arrow on the left of the label */\n",
       "  content: \"▸\";\n",
       "  float: left;\n",
       "  margin-right: 0.25em;\n",
       "  color: var(--sklearn-color-icon);\n",
       "}\n",
       "\n",
       "#sk-container-id-1 label.sk-toggleable__label-arrow:hover:before {\n",
       "  color: var(--sklearn-color-text);\n",
       "}\n",
       "\n",
       "/* Toggleable content - dropdown */\n",
       "\n",
       "#sk-container-id-1 div.sk-toggleable__content {\n",
       "  max-height: 0;\n",
       "  max-width: 0;\n",
       "  overflow: hidden;\n",
       "  text-align: left;\n",
       "  /* unfitted */\n",
       "  background-color: var(--sklearn-color-unfitted-level-0);\n",
       "}\n",
       "\n",
       "#sk-container-id-1 div.sk-toggleable__content.fitted {\n",
       "  /* fitted */\n",
       "  background-color: var(--sklearn-color-fitted-level-0);\n",
       "}\n",
       "\n",
       "#sk-container-id-1 div.sk-toggleable__content pre {\n",
       "  margin: 0.2em;\n",
       "  border-radius: 0.25em;\n",
       "  color: var(--sklearn-color-text);\n",
       "  /* unfitted */\n",
       "  background-color: var(--sklearn-color-unfitted-level-0);\n",
       "}\n",
       "\n",
       "#sk-container-id-1 div.sk-toggleable__content.fitted pre {\n",
       "  /* unfitted */\n",
       "  background-color: var(--sklearn-color-fitted-level-0);\n",
       "}\n",
       "\n",
       "#sk-container-id-1 input.sk-toggleable__control:checked~div.sk-toggleable__content {\n",
       "  /* Expand drop-down */\n",
       "  max-height: 200px;\n",
       "  max-width: 100%;\n",
       "  overflow: auto;\n",
       "}\n",
       "\n",
       "#sk-container-id-1 input.sk-toggleable__control:checked~label.sk-toggleable__label-arrow:before {\n",
       "  content: \"▾\";\n",
       "}\n",
       "\n",
       "/* Pipeline/ColumnTransformer-specific style */\n",
       "\n",
       "#sk-container-id-1 div.sk-label input.sk-toggleable__control:checked~label.sk-toggleable__label {\n",
       "  color: var(--sklearn-color-text);\n",
       "  background-color: var(--sklearn-color-unfitted-level-2);\n",
       "}\n",
       "\n",
       "#sk-container-id-1 div.sk-label.fitted input.sk-toggleable__control:checked~label.sk-toggleable__label {\n",
       "  background-color: var(--sklearn-color-fitted-level-2);\n",
       "}\n",
       "\n",
       "/* Estimator-specific style */\n",
       "\n",
       "/* Colorize estimator box */\n",
       "#sk-container-id-1 div.sk-estimator input.sk-toggleable__control:checked~label.sk-toggleable__label {\n",
       "  /* unfitted */\n",
       "  background-color: var(--sklearn-color-unfitted-level-2);\n",
       "}\n",
       "\n",
       "#sk-container-id-1 div.sk-estimator.fitted input.sk-toggleable__control:checked~label.sk-toggleable__label {\n",
       "  /* fitted */\n",
       "  background-color: var(--sklearn-color-fitted-level-2);\n",
       "}\n",
       "\n",
       "#sk-container-id-1 div.sk-label label.sk-toggleable__label,\n",
       "#sk-container-id-1 div.sk-label label {\n",
       "  /* The background is the default theme color */\n",
       "  color: var(--sklearn-color-text-on-default-background);\n",
       "}\n",
       "\n",
       "/* On hover, darken the color of the background */\n",
       "#sk-container-id-1 div.sk-label:hover label.sk-toggleable__label {\n",
       "  color: var(--sklearn-color-text);\n",
       "  background-color: var(--sklearn-color-unfitted-level-2);\n",
       "}\n",
       "\n",
       "/* Label box, darken color on hover, fitted */\n",
       "#sk-container-id-1 div.sk-label.fitted:hover label.sk-toggleable__label.fitted {\n",
       "  color: var(--sklearn-color-text);\n",
       "  background-color: var(--sklearn-color-fitted-level-2);\n",
       "}\n",
       "\n",
       "/* Estimator label */\n",
       "\n",
       "#sk-container-id-1 div.sk-label label {\n",
       "  font-family: monospace;\n",
       "  font-weight: bold;\n",
       "  display: inline-block;\n",
       "  line-height: 1.2em;\n",
       "}\n",
       "\n",
       "#sk-container-id-1 div.sk-label-container {\n",
       "  text-align: center;\n",
       "}\n",
       "\n",
       "/* Estimator-specific */\n",
       "#sk-container-id-1 div.sk-estimator {\n",
       "  font-family: monospace;\n",
       "  border: 1px dotted var(--sklearn-color-border-box);\n",
       "  border-radius: 0.25em;\n",
       "  box-sizing: border-box;\n",
       "  margin-bottom: 0.5em;\n",
       "  /* unfitted */\n",
       "  background-color: var(--sklearn-color-unfitted-level-0);\n",
       "}\n",
       "\n",
       "#sk-container-id-1 div.sk-estimator.fitted {\n",
       "  /* fitted */\n",
       "  background-color: var(--sklearn-color-fitted-level-0);\n",
       "}\n",
       "\n",
       "/* on hover */\n",
       "#sk-container-id-1 div.sk-estimator:hover {\n",
       "  /* unfitted */\n",
       "  background-color: var(--sklearn-color-unfitted-level-2);\n",
       "}\n",
       "\n",
       "#sk-container-id-1 div.sk-estimator.fitted:hover {\n",
       "  /* fitted */\n",
       "  background-color: var(--sklearn-color-fitted-level-2);\n",
       "}\n",
       "\n",
       "/* Specification for estimator info (e.g. \"i\" and \"?\") */\n",
       "\n",
       "/* Common style for \"i\" and \"?\" */\n",
       "\n",
       ".sk-estimator-doc-link,\n",
       "a:link.sk-estimator-doc-link,\n",
       "a:visited.sk-estimator-doc-link {\n",
       "  float: right;\n",
       "  font-size: smaller;\n",
       "  line-height: 1em;\n",
       "  font-family: monospace;\n",
       "  background-color: var(--sklearn-color-background);\n",
       "  border-radius: 1em;\n",
       "  height: 1em;\n",
       "  width: 1em;\n",
       "  text-decoration: none !important;\n",
       "  margin-left: 0.5em;\n",
       "  text-align: center;\n",
       "  /* unfitted */\n",
       "  border: var(--sklearn-color-unfitted-level-1) 1pt solid;\n",
       "  color: var(--sklearn-color-unfitted-level-1);\n",
       "}\n",
       "\n",
       ".sk-estimator-doc-link.fitted,\n",
       "a:link.sk-estimator-doc-link.fitted,\n",
       "a:visited.sk-estimator-doc-link.fitted {\n",
       "  /* fitted */\n",
       "  border: var(--sklearn-color-fitted-level-1) 1pt solid;\n",
       "  color: var(--sklearn-color-fitted-level-1);\n",
       "}\n",
       "\n",
       "/* On hover */\n",
       "div.sk-estimator:hover .sk-estimator-doc-link:hover,\n",
       ".sk-estimator-doc-link:hover,\n",
       "div.sk-label-container:hover .sk-estimator-doc-link:hover,\n",
       ".sk-estimator-doc-link:hover {\n",
       "  /* unfitted */\n",
       "  background-color: var(--sklearn-color-unfitted-level-3);\n",
       "  color: var(--sklearn-color-background);\n",
       "  text-decoration: none;\n",
       "}\n",
       "\n",
       "div.sk-estimator.fitted:hover .sk-estimator-doc-link.fitted:hover,\n",
       ".sk-estimator-doc-link.fitted:hover,\n",
       "div.sk-label-container:hover .sk-estimator-doc-link.fitted:hover,\n",
       ".sk-estimator-doc-link.fitted:hover {\n",
       "  /* fitted */\n",
       "  background-color: var(--sklearn-color-fitted-level-3);\n",
       "  color: var(--sklearn-color-background);\n",
       "  text-decoration: none;\n",
       "}\n",
       "\n",
       "/* Span, style for the box shown on hovering the info icon */\n",
       ".sk-estimator-doc-link span {\n",
       "  display: none;\n",
       "  z-index: 9999;\n",
       "  position: relative;\n",
       "  font-weight: normal;\n",
       "  right: .2ex;\n",
       "  padding: .5ex;\n",
       "  margin: .5ex;\n",
       "  width: min-content;\n",
       "  min-width: 20ex;\n",
       "  max-width: 50ex;\n",
       "  color: var(--sklearn-color-text);\n",
       "  box-shadow: 2pt 2pt 4pt #999;\n",
       "  /* unfitted */\n",
       "  background: var(--sklearn-color-unfitted-level-0);\n",
       "  border: .5pt solid var(--sklearn-color-unfitted-level-3);\n",
       "}\n",
       "\n",
       ".sk-estimator-doc-link.fitted span {\n",
       "  /* fitted */\n",
       "  background: var(--sklearn-color-fitted-level-0);\n",
       "  border: var(--sklearn-color-fitted-level-3);\n",
       "}\n",
       "\n",
       ".sk-estimator-doc-link:hover span {\n",
       "  display: block;\n",
       "}\n",
       "\n",
       "/* \"?\"-specific style due to the `<a>` HTML tag */\n",
       "\n",
       "#sk-container-id-1 a.estimator_doc_link {\n",
       "  float: right;\n",
       "  font-size: 1rem;\n",
       "  line-height: 1em;\n",
       "  font-family: monospace;\n",
       "  background-color: var(--sklearn-color-background);\n",
       "  border-radius: 1rem;\n",
       "  height: 1rem;\n",
       "  width: 1rem;\n",
       "  text-decoration: none;\n",
       "  /* unfitted */\n",
       "  color: var(--sklearn-color-unfitted-level-1);\n",
       "  border: var(--sklearn-color-unfitted-level-1) 1pt solid;\n",
       "}\n",
       "\n",
       "#sk-container-id-1 a.estimator_doc_link.fitted {\n",
       "  /* fitted */\n",
       "  border: var(--sklearn-color-fitted-level-1) 1pt solid;\n",
       "  color: var(--sklearn-color-fitted-level-1);\n",
       "}\n",
       "\n",
       "/* On hover */\n",
       "#sk-container-id-1 a.estimator_doc_link:hover {\n",
       "  /* unfitted */\n",
       "  background-color: var(--sklearn-color-unfitted-level-3);\n",
       "  color: var(--sklearn-color-background);\n",
       "  text-decoration: none;\n",
       "}\n",
       "\n",
       "#sk-container-id-1 a.estimator_doc_link.fitted:hover {\n",
       "  /* fitted */\n",
       "  background-color: var(--sklearn-color-fitted-level-3);\n",
       "}\n",
       "</style><div id=\"sk-container-id-1\" class=\"sk-top-container\"><div class=\"sk-text-repr-fallback\"><pre>Pipeline(steps=[(&#x27;preprocessor&#x27;,\n",
       "                 ColumnTransformer(transformers=[(&#x27;num&#x27;, StandardScaler(),\n",
       "                                                  [&#x27;CRIMINAL CASES&#x27;, &#x27;AGE&#x27;,\n",
       "                                                   &#x27;TOTAL VOTES&#x27;,\n",
       "                                                   &#x27;TOTAL ELECTORS&#x27;, &#x27;ASSETS&#x27;,\n",
       "                                                   &#x27;LIABILITIES&#x27;]),\n",
       "                                                 (&#x27;cat&#x27;,\n",
       "                                                  OneHotEncoder(handle_unknown=&#x27;ignore&#x27;),\n",
       "                                                  [&#x27;PARTY&#x27;, &#x27;EDUCATION&#x27;,\n",
       "                                                   &#x27;GENDER&#x27;, &#x27;CATEGORY&#x27;])])),\n",
       "                (&#x27;classifier&#x27;, RandomForestClassifier(random_state=42))])</pre><b>In a Jupyter environment, please rerun this cell to show the HTML representation or trust the notebook. <br />On GitHub, the HTML representation is unable to render, please try loading this page with nbviewer.org.</b></div><div class=\"sk-container\" hidden><div class=\"sk-item sk-dashed-wrapped\"><div class=\"sk-label-container\"><div class=\"sk-label fitted sk-toggleable\"><input class=\"sk-toggleable__control sk-hidden--visually\" id=\"sk-estimator-id-1\" type=\"checkbox\" ><label for=\"sk-estimator-id-1\" class=\"sk-toggleable__label fitted sk-toggleable__label-arrow\"><div><div>Pipeline</div></div><div><a class=\"sk-estimator-doc-link fitted\" rel=\"noreferrer\" target=\"_blank\" href=\"https://scikit-learn.org/1.6/modules/generated/sklearn.pipeline.Pipeline.html\">?<span>Documentation for Pipeline</span></a><span class=\"sk-estimator-doc-link fitted\">i<span>Fitted</span></span></div></label><div class=\"sk-toggleable__content fitted\"><pre>Pipeline(steps=[(&#x27;preprocessor&#x27;,\n",
       "                 ColumnTransformer(transformers=[(&#x27;num&#x27;, StandardScaler(),\n",
       "                                                  [&#x27;CRIMINAL CASES&#x27;, &#x27;AGE&#x27;,\n",
       "                                                   &#x27;TOTAL VOTES&#x27;,\n",
       "                                                   &#x27;TOTAL ELECTORS&#x27;, &#x27;ASSETS&#x27;,\n",
       "                                                   &#x27;LIABILITIES&#x27;]),\n",
       "                                                 (&#x27;cat&#x27;,\n",
       "                                                  OneHotEncoder(handle_unknown=&#x27;ignore&#x27;),\n",
       "                                                  [&#x27;PARTY&#x27;, &#x27;EDUCATION&#x27;,\n",
       "                                                   &#x27;GENDER&#x27;, &#x27;CATEGORY&#x27;])])),\n",
       "                (&#x27;classifier&#x27;, RandomForestClassifier(random_state=42))])</pre></div> </div></div><div class=\"sk-serial\"><div class=\"sk-item sk-dashed-wrapped\"><div class=\"sk-label-container\"><div class=\"sk-label fitted sk-toggleable\"><input class=\"sk-toggleable__control sk-hidden--visually\" id=\"sk-estimator-id-2\" type=\"checkbox\" ><label for=\"sk-estimator-id-2\" class=\"sk-toggleable__label fitted sk-toggleable__label-arrow\"><div><div>preprocessor: ColumnTransformer</div></div><div><a class=\"sk-estimator-doc-link fitted\" rel=\"noreferrer\" target=\"_blank\" href=\"https://scikit-learn.org/1.6/modules/generated/sklearn.compose.ColumnTransformer.html\">?<span>Documentation for preprocessor: ColumnTransformer</span></a></div></label><div class=\"sk-toggleable__content fitted\"><pre>ColumnTransformer(transformers=[(&#x27;num&#x27;, StandardScaler(),\n",
       "                                 [&#x27;CRIMINAL CASES&#x27;, &#x27;AGE&#x27;, &#x27;TOTAL VOTES&#x27;,\n",
       "                                  &#x27;TOTAL ELECTORS&#x27;, &#x27;ASSETS&#x27;, &#x27;LIABILITIES&#x27;]),\n",
       "                                (&#x27;cat&#x27;, OneHotEncoder(handle_unknown=&#x27;ignore&#x27;),\n",
       "                                 [&#x27;PARTY&#x27;, &#x27;EDUCATION&#x27;, &#x27;GENDER&#x27;, &#x27;CATEGORY&#x27;])])</pre></div> </div></div><div class=\"sk-parallel\"><div class=\"sk-parallel-item\"><div class=\"sk-item\"><div class=\"sk-label-container\"><div class=\"sk-label fitted sk-toggleable\"><input class=\"sk-toggleable__control sk-hidden--visually\" id=\"sk-estimator-id-3\" type=\"checkbox\" ><label for=\"sk-estimator-id-3\" class=\"sk-toggleable__label fitted sk-toggleable__label-arrow\"><div><div>num</div></div></label><div class=\"sk-toggleable__content fitted\"><pre>[&#x27;CRIMINAL CASES&#x27;, &#x27;AGE&#x27;, &#x27;TOTAL VOTES&#x27;, &#x27;TOTAL ELECTORS&#x27;, &#x27;ASSETS&#x27;, &#x27;LIABILITIES&#x27;]</pre></div> </div></div><div class=\"sk-serial\"><div class=\"sk-item\"><div class=\"sk-estimator fitted sk-toggleable\"><input class=\"sk-toggleable__control sk-hidden--visually\" id=\"sk-estimator-id-4\" type=\"checkbox\" ><label for=\"sk-estimator-id-4\" class=\"sk-toggleable__label fitted sk-toggleable__label-arrow\"><div><div>StandardScaler</div></div><div><a class=\"sk-estimator-doc-link fitted\" rel=\"noreferrer\" target=\"_blank\" href=\"https://scikit-learn.org/1.6/modules/generated/sklearn.preprocessing.StandardScaler.html\">?<span>Documentation for StandardScaler</span></a></div></label><div class=\"sk-toggleable__content fitted\"><pre>StandardScaler()</pre></div> </div></div></div></div></div><div class=\"sk-parallel-item\"><div class=\"sk-item\"><div class=\"sk-label-container\"><div class=\"sk-label fitted sk-toggleable\"><input class=\"sk-toggleable__control sk-hidden--visually\" id=\"sk-estimator-id-5\" type=\"checkbox\" ><label for=\"sk-estimator-id-5\" class=\"sk-toggleable__label fitted sk-toggleable__label-arrow\"><div><div>cat</div></div></label><div class=\"sk-toggleable__content fitted\"><pre>[&#x27;PARTY&#x27;, &#x27;EDUCATION&#x27;, &#x27;GENDER&#x27;, &#x27;CATEGORY&#x27;]</pre></div> </div></div><div class=\"sk-serial\"><div class=\"sk-item\"><div class=\"sk-estimator fitted sk-toggleable\"><input class=\"sk-toggleable__control sk-hidden--visually\" id=\"sk-estimator-id-6\" type=\"checkbox\" ><label for=\"sk-estimator-id-6\" class=\"sk-toggleable__label fitted sk-toggleable__label-arrow\"><div><div>OneHotEncoder</div></div><div><a class=\"sk-estimator-doc-link fitted\" rel=\"noreferrer\" target=\"_blank\" href=\"https://scikit-learn.org/1.6/modules/generated/sklearn.preprocessing.OneHotEncoder.html\">?<span>Documentation for OneHotEncoder</span></a></div></label><div class=\"sk-toggleable__content fitted\"><pre>OneHotEncoder(handle_unknown=&#x27;ignore&#x27;)</pre></div> </div></div></div></div></div></div></div><div class=\"sk-item\"><div class=\"sk-estimator fitted sk-toggleable\"><input class=\"sk-toggleable__control sk-hidden--visually\" id=\"sk-estimator-id-7\" type=\"checkbox\" ><label for=\"sk-estimator-id-7\" class=\"sk-toggleable__label fitted sk-toggleable__label-arrow\"><div><div>RandomForestClassifier</div></div><div><a class=\"sk-estimator-doc-link fitted\" rel=\"noreferrer\" target=\"_blank\" href=\"https://scikit-learn.org/1.6/modules/generated/sklearn.ensemble.RandomForestClassifier.html\">?<span>Documentation for RandomForestClassifier</span></a></div></label><div class=\"sk-toggleable__content fitted\"><pre>RandomForestClassifier(random_state=42)</pre></div> </div></div></div></div></div></div>"
      ],
      "text/plain": [
       "Pipeline(steps=[('preprocessor',\n",
       "                 ColumnTransformer(transformers=[('num', StandardScaler(),\n",
       "                                                  ['CRIMINAL CASES', 'AGE',\n",
       "                                                   'TOTAL VOTES',\n",
       "                                                   'TOTAL ELECTORS', 'ASSETS',\n",
       "                                                   'LIABILITIES']),\n",
       "                                                 ('cat',\n",
       "                                                  OneHotEncoder(handle_unknown='ignore'),\n",
       "                                                  ['PARTY', 'EDUCATION',\n",
       "                                                   'GENDER', 'CATEGORY'])])),\n",
       "                ('classifier', RandomForestClassifier(random_state=42))])"
      ]
     },
     "execution_count": 37,
     "metadata": {},
     "output_type": "execute_result"
    }
   ],
   "source": [
    "# --- STEP 7: Build and train model ---\n",
    "clf = Pipeline([\n",
    "    ('preprocessor', preprocessor),\n",
    "    ('classifier', RandomForestClassifier(random_state=42))\n",
    "])\n",
    "clf.fit(X_train, y_train)"
   ]
  },
  {
   "cell_type": "code",
   "execution_count": 38,
   "id": "34e5c8ff",
   "metadata": {},
   "outputs": [
    {
     "name": "stdout",
     "output_type": "stream",
     "text": [
      "\n",
      " Test Set Accuracy: 90.51%\n",
      "\n",
      " Classification Report:\n",
      "              precision    recall  f1-score   support\n",
      "\n",
      "           0       0.92      0.95      0.94       331\n",
      "           1       0.86      0.77      0.81       122\n",
      "\n",
      "    accuracy                           0.91       453\n",
      "   macro avg       0.89      0.86      0.88       453\n",
      "weighted avg       0.90      0.91      0.90       453\n",
      "\n"
     ]
    }
   ],
   "source": [
    "# --- STEP 8: Evaluation ---\n",
    "y_pred = clf.predict(X_test)\n",
    "accuracy = accuracy_score(y_test, y_pred)\n",
    "print(f\"\\n Test Set Accuracy: {accuracy * 100:.2f}%\")\n",
    "print(\"\\n Classification Report:\")\n",
    "print(classification_report(y_test, y_pred))"
   ]
  },
  {
   "cell_type": "code",
   "execution_count": 39,
   "id": "5f70abc9",
   "metadata": {},
   "outputs": [
    {
     "data": {
      "image/png": "[encoded data removed]",
      "text/plain": [
       "<Figure size 640x480 with 2 Axes>"
      ]
     },
     "metadata": {},
     "output_type": "display_data"
    }
   ],
   "source": [
    "cm = confusion_matrix(y_test, y_pred)\n",
    "sns.heatmap(cm, annot=True, fmt='d', cmap='Blues', xticklabels=['Not Win', 'Win'], yticklabels=['Not Win', 'Win'])\n",
    "plt.xlabel('Predicted')\n",
    "plt.ylabel('Actual')\n",
    "plt.title('Confusion Matrix')\n",
    "plt.show()\n"
   ]
  },
  {
   "cell_type": "code",
   "execution_count": 40,
   "id": "c56baabc",
   "metadata": {},
   "outputs": [
    {
     "name": "stdout",
     "output_type": "stream",
     "text": [
      " Model pipeline saved!\n"
     ]
    }
   ],
   "source": [
    "# --- STEP 9: Save model ---\n",
    "joblib.dump(clf, 'rf_politician_model_pipeline.pkl')\n",
    "print(\" Model pipeline saved!\")"
   ]
  },
  {
   "cell_type": "markdown",
   "id": "fed317db",
   "metadata": {},
   "source": [
    "##  Sample input data from the dataset to test the model"
   ]
  },
  {
   "cell_type": "code",
   "execution_count": 41,
   "id": "ff939d0c",
   "metadata": {},
   "outputs": [],
   "source": [
    "# Sample input data from the dataset\n",
    "\n",
    "# Convert comma-based assets/liabilities to float\n",
    "def parse_numeric(s):\n",
    "    try:\n",
    "        return float(str(s).replace(',', '').strip())\n",
    "    except:\n",
    "        return 0\n",
    "\n",
    "def get_sample_input():\n",
    "    sample_data = {\n",
    "        'PARTY': 'BJP',\n",
    "        'EDUCATION': 'Graduate Professional',\n",
    "        'GENDER': 'MALE',\n",
    "        'CATEGORY': 'GENERAL',\n",
    "        'CRIMINAL CASES': 0,\n",
    "        'AGE': 28,\n",
    "        'TOTAL VOTES': 739229,\n",
    "        'TOTAL ELECTORS': 33.36640353,\n",
    "        'ASSETS': parse_numeric('13,46,593'),       # parsed from string with commas\n",
    "        'LIABILITIES': parse_numeric('7,36,605')     # parsed from string with commas\n",
    "    }\n",
    "    return pd.DataFrame([sample_data])\n",
    "\n",
    "\n"
   ]
  },
  {
   "cell_type": "code",
   "execution_count": 42,
   "id": "20d7dd89",
   "metadata": {},
   "outputs": [],
   "source": [
    "def predict():\n",
    "    model = joblib.load('rf_politician_model_pipeline.pkl')\n",
    "    user_df = get_sample_input()\n",
    "    prediction = model.predict(user_df)[0]\n",
    "    result = \"WIN \" if prediction == 1 else \"NOT WIN \"\n",
    "    print(\"\\nCandidate Details for Prediction:\")\n",
    "    print(user_df.to_string(index=False))\n",
    "    print(f\"\\nPrediction result: The candidate is predicted to {result} the election.\")\n"
   ]
  },
  {
   "cell_type": "code",
   "execution_count": 43,
   "id": "01b1c149",
   "metadata": {},
   "outputs": [
    {
     "name": "stdout",
     "output_type": "stream",
     "text": [
      "\n",
      "Candidate Details for Prediction:\n",
      "PARTY             EDUCATION GENDER CATEGORY  CRIMINAL CASES  AGE  TOTAL VOTES  TOTAL ELECTORS    ASSETS  LIABILITIES\n",
      "  BJP Graduate Professional   MALE  GENERAL               0   28       739229       33.366404 1346593.0     736605.0\n",
      "\n",
      "Prediction result: The candidate is predicted to WIN  the election.\n"
     ]
    }
   ],
   "source": [
    "if __name__ == \"__main__\":\n",
    "    predict()"
   ]
  }
 ],
 "metadata": {
  "kernelspec": {
   "display_name": "Python 3",
   "language": "python",
   "name": "python3"
  },
  "language_info": {
   "codemirror_mode": {
    "name": "ipython",
    "version": 3
   },
   "file_extension": ".py",
   "mimetype": "text/x-python",
   "name": "python",
   "nbconvert_exporter": "python",
   "pygments_lexer": "ipython3",
   "version": "3.13.2"
  }
 },
 "nbformat": 4,
 "nbformat_minor": 5
}
